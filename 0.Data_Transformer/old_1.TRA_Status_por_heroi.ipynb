{
 "cells": [
  {
   "cell_type": "markdown",
   "id": "a6d7e6ba",
   "metadata": {
    "toc": true
   },
   "source": [
    "<h1>Table of Contents<span class=\"tocSkip\"></span></h1>\n",
    "<div class=\"toc\"><ul class=\"toc-item\"><li><span><a href=\"#Hero-Stats-Transformer\" data-toc-modified-id=\"Hero-Stats-Transformer-1\"><span class=\"toc-item-num\">1&nbsp;&nbsp;</span>Hero Stats Transformer</a></span></li><li><span><a href=\"#Partidas-Dota-2---Transfomador\" data-toc-modified-id=\"Partidas-Dota-2---Transfomador-2\"><span class=\"toc-item-num\">2&nbsp;&nbsp;</span>Partidas Dota 2 - Transfomador</a></span></li><li><span><a href=\"#Join-entre-dataframes\" data-toc-modified-id=\"Join-entre-dataframes-3\"><span class=\"toc-item-num\">3&nbsp;&nbsp;</span>Join entre dataframes</a></span><ul class=\"toc-item\"><li><span><a href=\"#Filtrando-game_mode-e-lobby_type\" data-toc-modified-id=\"Filtrando-game_mode-e-lobby_type-3.1\"><span class=\"toc-item-num\">3.1&nbsp;&nbsp;</span>Filtrando game_mode e lobby_type</a></span></li><li><span><a href=\"#Unificando-datastes\" data-toc-modified-id=\"Unificando-datastes-3.2\"><span class=\"toc-item-num\">3.2&nbsp;&nbsp;</span>Unificando datastes</a></span></li></ul></li><li><span><a href=\"#Salvando-dataset\" data-toc-modified-id=\"Salvando-dataset-4\"><span class=\"toc-item-num\">4&nbsp;&nbsp;</span>Salvando dataset</a></span></li></ul></div>"
   ]
  },
  {
   "cell_type": "markdown",
   "id": "40a8e573",
   "metadata": {},
   "source": [
    "---\n",
    "# Transformador 1: Anexar os status de herói aos dados disponíveis\n",
    "\n",
    "**Objetivo do experimento:** Anexar os status de cada herói ao dataset de treinamento. Ao final o dataset deve possuir mais de 500 features. Abaixo a *Ordem de procedimentos:*\n",
    "\n",
    "**Arquivo Hero_stats**\n",
    "1. Carregar o arquivo hero_stats\n",
    "2. Aplicar a transformação nos dados de hero_stats\n",
    "\n",
    "**Arquivos de partidas**\n",
    "1. Procurar por todos os dados disponíveis na pasta 'raw_data'\n",
    "2. Concatenar todos em um único dataframe\n",
    "3. Remover valores nulos\n",
    "4. Remover colunas duplicadas\n",
    "5. Adicionar uma coluna para um herói de cada time\n",
    "\n",
    "**União de dados**\n",
    "1. Filtrar apenas por partidas rankeadas e game_mode = 'game_mode_all_draft'\n",
    "2. Fazer um join entre os datasets"
   ]
  },
  {
   "cell_type": "markdown",
   "id": "b5c515bf",
   "metadata": {},
   "source": [
    "**Loading libraries and ``hero_stats`` JSON**"
   ]
  },
  {
   "cell_type": "code",
   "execution_count": 1,
   "id": "63a5be1e",
   "metadata": {},
   "outputs": [],
   "source": [
    "data_path = '../data/raw_data'\n",
    "\n",
    "import pandas as pd\n",
    "from datetime import datetime\n",
    "import os\n",
    "\n",
    "import sys\n",
    "sys.path.append('../utils')\n",
    "import transformer_utils"
   ]
  },
  {
   "cell_type": "markdown",
   "id": "99325fd6",
   "metadata": {},
   "source": [
    "## Hero Stats Transformer"
   ]
  },
  {
   "cell_type": "code",
   "execution_count": 2,
   "id": "cd6276ea",
   "metadata": {},
   "outputs": [
    {
     "data": {
      "text/html": [
       "<div>\n",
       "<style scoped>\n",
       "    .dataframe tbody tr th:only-of-type {\n",
       "        vertical-align: middle;\n",
       "    }\n",
       "\n",
       "    .dataframe tbody tr th {\n",
       "        vertical-align: top;\n",
       "    }\n",
       "\n",
       "    .dataframe thead th {\n",
       "        text-align: right;\n",
       "    }\n",
       "</style>\n",
       "<table border=\"1\" class=\"dataframe\">\n",
       "  <thead>\n",
       "    <tr style=\"text-align: right;\">\n",
       "      <th></th>\n",
       "      <th>localized_name</th>\n",
       "      <th>is_Melle</th>\n",
       "      <th>base_mana_regen</th>\n",
       "      <th>base_armor</th>\n",
       "      <th>base_attack_min</th>\n",
       "      <th>base_attack_max</th>\n",
       "      <th>base_str</th>\n",
       "      <th>base_agi</th>\n",
       "      <th>base_int</th>\n",
       "      <th>str_gain</th>\n",
       "      <th>...</th>\n",
       "      <th>primary_attr_str</th>\n",
       "      <th>Nuker</th>\n",
       "      <th>Disabler</th>\n",
       "      <th>Initiator</th>\n",
       "      <th>Durable</th>\n",
       "      <th>Support</th>\n",
       "      <th>Jungler</th>\n",
       "      <th>Carry</th>\n",
       "      <th>Pusher</th>\n",
       "      <th>Escape</th>\n",
       "    </tr>\n",
       "  </thead>\n",
       "  <tbody>\n",
       "    <tr>\n",
       "      <th>0</th>\n",
       "      <td>Anti-Mage</td>\n",
       "      <td>1</td>\n",
       "      <td>0.0</td>\n",
       "      <td>0.0</td>\n",
       "      <td>29</td>\n",
       "      <td>33</td>\n",
       "      <td>23</td>\n",
       "      <td>24</td>\n",
       "      <td>12</td>\n",
       "      <td>1.3</td>\n",
       "      <td>...</td>\n",
       "      <td>0</td>\n",
       "      <td>1.0</td>\n",
       "      <td>0.0</td>\n",
       "      <td>0.0</td>\n",
       "      <td>0.0</td>\n",
       "      <td>0.0</td>\n",
       "      <td>0.0</td>\n",
       "      <td>1.0</td>\n",
       "      <td>0.0</td>\n",
       "      <td>1.0</td>\n",
       "    </tr>\n",
       "    <tr>\n",
       "      <th>1</th>\n",
       "      <td>Axe</td>\n",
       "      <td>1</td>\n",
       "      <td>0.0</td>\n",
       "      <td>-1.0</td>\n",
       "      <td>27</td>\n",
       "      <td>31</td>\n",
       "      <td>25</td>\n",
       "      <td>20</td>\n",
       "      <td>18</td>\n",
       "      <td>3.4</td>\n",
       "      <td>...</td>\n",
       "      <td>1</td>\n",
       "      <td>0.0</td>\n",
       "      <td>1.0</td>\n",
       "      <td>1.0</td>\n",
       "      <td>1.0</td>\n",
       "      <td>0.0</td>\n",
       "      <td>1.0</td>\n",
       "      <td>1.0</td>\n",
       "      <td>0.0</td>\n",
       "      <td>0.0</td>\n",
       "    </tr>\n",
       "    <tr>\n",
       "      <th>2</th>\n",
       "      <td>Bane</td>\n",
       "      <td>0</td>\n",
       "      <td>0.0</td>\n",
       "      <td>1.0</td>\n",
       "      <td>35</td>\n",
       "      <td>41</td>\n",
       "      <td>22</td>\n",
       "      <td>22</td>\n",
       "      <td>22</td>\n",
       "      <td>2.6</td>\n",
       "      <td>...</td>\n",
       "      <td>0</td>\n",
       "      <td>1.0</td>\n",
       "      <td>1.0</td>\n",
       "      <td>0.0</td>\n",
       "      <td>1.0</td>\n",
       "      <td>1.0</td>\n",
       "      <td>0.0</td>\n",
       "      <td>0.0</td>\n",
       "      <td>0.0</td>\n",
       "      <td>0.0</td>\n",
       "    </tr>\n",
       "    <tr>\n",
       "      <th>3</th>\n",
       "      <td>Bloodseeker</td>\n",
       "      <td>1</td>\n",
       "      <td>0.0</td>\n",
       "      <td>2.0</td>\n",
       "      <td>35</td>\n",
       "      <td>41</td>\n",
       "      <td>24</td>\n",
       "      <td>22</td>\n",
       "      <td>17</td>\n",
       "      <td>2.7</td>\n",
       "      <td>...</td>\n",
       "      <td>0</td>\n",
       "      <td>1.0</td>\n",
       "      <td>1.0</td>\n",
       "      <td>1.0</td>\n",
       "      <td>0.0</td>\n",
       "      <td>0.0</td>\n",
       "      <td>1.0</td>\n",
       "      <td>1.0</td>\n",
       "      <td>0.0</td>\n",
       "      <td>0.0</td>\n",
       "    </tr>\n",
       "    <tr>\n",
       "      <th>4</th>\n",
       "      <td>Crystal Maiden</td>\n",
       "      <td>0</td>\n",
       "      <td>1.0</td>\n",
       "      <td>-1.0</td>\n",
       "      <td>28</td>\n",
       "      <td>34</td>\n",
       "      <td>18</td>\n",
       "      <td>16</td>\n",
       "      <td>16</td>\n",
       "      <td>2.2</td>\n",
       "      <td>...</td>\n",
       "      <td>0</td>\n",
       "      <td>1.0</td>\n",
       "      <td>1.0</td>\n",
       "      <td>0.0</td>\n",
       "      <td>0.0</td>\n",
       "      <td>1.0</td>\n",
       "      <td>1.0</td>\n",
       "      <td>0.0</td>\n",
       "      <td>0.0</td>\n",
       "      <td>0.0</td>\n",
       "    </tr>\n",
       "  </tbody>\n",
       "</table>\n",
       "<p>5 rows × 52 columns</p>\n",
       "</div>"
      ],
      "text/plain": [
       "   localized_name  is_Melle  base_mana_regen  base_armor  base_attack_min  \\\n",
       "0       Anti-Mage         1              0.0         0.0               29   \n",
       "1             Axe         1              0.0        -1.0               27   \n",
       "2            Bane         0              0.0         1.0               35   \n",
       "3     Bloodseeker         1              0.0         2.0               35   \n",
       "4  Crystal Maiden         0              1.0        -1.0               28   \n",
       "\n",
       "   base_attack_max  base_str  base_agi  base_int  str_gain  ...  \\\n",
       "0               33        23        24        12       1.3  ...   \n",
       "1               31        25        20        18       3.4  ...   \n",
       "2               41        22        22        22       2.6  ...   \n",
       "3               41        24        22        17       2.7  ...   \n",
       "4               34        18        16        16       2.2  ...   \n",
       "\n",
       "   primary_attr_str  Nuker  Disabler  Initiator  Durable  Support  Jungler  \\\n",
       "0                 0    1.0       0.0        0.0      0.0      0.0      0.0   \n",
       "1                 1    0.0       1.0        1.0      1.0      0.0      1.0   \n",
       "2                 0    1.0       1.0        0.0      1.0      1.0      0.0   \n",
       "3                 0    1.0       1.0        1.0      0.0      0.0      1.0   \n",
       "4                 0    1.0       1.0        0.0      0.0      1.0      1.0   \n",
       "\n",
       "   Carry  Pusher  Escape  \n",
       "0    1.0     0.0     1.0  \n",
       "1    1.0     0.0     0.0  \n",
       "2    0.0     0.0     0.0  \n",
       "3    1.0     0.0     0.0  \n",
       "4    0.0     0.0     0.0  \n",
       "\n",
       "[5 rows x 52 columns]"
      ]
     },
     "execution_count": 2,
     "metadata": {},
     "output_type": "execute_result"
    }
   ],
   "source": [
    "hero_stats_raw = pd.read_json(data_path+'/hero_stats.json')\n",
    "hero_stats_df = transformer_utils.hero_stats_tranformer(hero_stats_raw)\n",
    "hero_stats_df.head()"
   ]
  },
  {
   "cell_type": "code",
   "execution_count": 3,
   "id": "588ff7ee",
   "metadata": {},
   "outputs": [],
   "source": [
    "# Removing hero name\n",
    "hero_stats_df.drop(columns=['localized_name'], inplace=True)"
   ]
  },
  {
   "cell_type": "code",
   "execution_count": 4,
   "id": "cb9963ad",
   "metadata": {},
   "outputs": [
    {
     "data": {
      "text/plain": [
       "Index(['is_Melle', 'base_mana_regen', 'base_armor', 'base_attack_min',\n",
       "       'base_attack_max', 'base_str', 'base_agi', 'base_int', 'str_gain',\n",
       "       'agi_gain', 'int_gain', 'attack_range', 'projectile_speed',\n",
       "       'attack_rate', 'move_speed', 'legs', 'hero_id', 'turbo_picks',\n",
       "       'turbo_wins', 'pro_win', 'pro_pick', 'pro_ban', '1_pick', '1_win',\n",
       "       '2_pick', '2_win', '3_pick', '3_win', '4_pick', '4_win', '5_pick',\n",
       "       '5_win', '6_pick', '6_win', '7_pick', '7_win', '8_pick', '8_win',\n",
       "       'null_pick', 'primary_attr_agi', 'primary_attr_int', 'primary_attr_str',\n",
       "       'Nuker', 'Disabler', 'Initiator', 'Durable', 'Support', 'Jungler',\n",
       "       'Carry', 'Pusher', 'Escape'],\n",
       "      dtype='object')"
      ]
     },
     "execution_count": 4,
     "metadata": {},
     "output_type": "execute_result"
    }
   ],
   "source": [
    "hero_stats_df.columns"
   ]
  },
  {
   "cell_type": "markdown",
   "id": "108b4ebf",
   "metadata": {},
   "source": [
    "## Partidas Dota 2 - Transfomador "
   ]
  },
  {
   "cell_type": "markdown",
   "id": "235fdc9f",
   "metadata": {},
   "source": [
    "**Searching for each .csv file in the 'raw_data' folder**"
   ]
  },
  {
   "cell_type": "code",
   "execution_count": 5,
   "id": "337a4feb",
   "metadata": {},
   "outputs": [
    {
     "name": "stdout",
     "output_type": "stream",
     "text": [
      ".csv file found:\n",
      "\n",
      "21-04-24 16h14m31s.csv\n",
      ".csv file found:\n",
      "\n",
      ".csv file found:\n",
      "\n",
      ".csv file found:\n",
      "\n"
     ]
    }
   ],
   "source": [
    "lst_df = []\n",
    "for root, dirs, files in os.walk(data_path):\n",
    "    for filename in files:\n",
    "        xlsx_file, file_extension = os.path.splitext(filename)\n",
    "        print('.csv file found:\\n')\n",
    "        if(file_extension == '.csv'):\n",
    "            print(filename)\n",
    "            file_path = root +'\\\\' + filename\n",
    "            lst_df.append(pd.read_csv(file_path))  "
   ]
  },
  {
   "cell_type": "markdown",
   "id": "10893e5a",
   "metadata": {},
   "source": [
    "**Drop NA**"
   ]
  },
  {
   "cell_type": "code",
   "execution_count": 6,
   "id": "db34e109",
   "metadata": {},
   "outputs": [
    {
     "name": "stdout",
     "output_type": "stream",
     "text": [
      "Dataframe shape: (46000, 9)\n",
      "Total nan: \n",
      "\n",
      " Unnamed: 0      0\n",
      "match_id        0\n",
      "radiant_win     0\n",
      "avg_mmr         0\n",
      "duration        0\n",
      "lobby_type      0\n",
      "game_mode       0\n",
      "radiant_team    0\n",
      "dire_team       0\n",
      "dtype: int64\n",
      "\n",
      "Dataframe shape: (46000, 9)\n"
     ]
    }
   ],
   "source": [
    "final_df = pd.concat(lst_df)\n",
    "\n",
    "print('Dataframe shape:', final_df.shape)\n",
    "print('Total nan: \\n\\n', final_df.isna().sum())\n",
    "\n",
    "final_df.dropna(inplace=True)\n",
    "print('\\nDataframe shape:', final_df.shape)"
   ]
  },
  {
   "cell_type": "markdown",
   "id": "b1cecba5",
   "metadata": {},
   "source": [
    "**Remove duplicated rows**"
   ]
  },
  {
   "cell_type": "code",
   "execution_count": 7,
   "id": "a7d7b1ac",
   "metadata": {},
   "outputs": [
    {
     "name": "stdout",
     "output_type": "stream",
     "text": [
      "\n",
      "Dataframe shape: (46000, 9)\n"
     ]
    }
   ],
   "source": [
    "final_df.drop_duplicates(subset=['match_id'])\n",
    "print('\\nDataframe shape:', final_df.shape)"
   ]
  },
  {
   "cell_type": "code",
   "execution_count": null,
   "id": "7e7b0e6c",
   "metadata": {},
   "outputs": [],
   "source": [
    "final_df"
   ]
  },
  {
   "cell_type": "markdown",
   "id": "552e9e1b",
   "metadata": {},
   "source": [
    "**Adding column for each hero on radiant and dire team**"
   ]
  },
  {
   "cell_type": "code",
   "execution_count": null,
   "id": "660fb4f7",
   "metadata": {},
   "outputs": [],
   "source": [
    "radiant_columns = ['Radiant 1','Radiant 2', 'Radiant 3', 'Radiant 4', 'Radiant 5']\n",
    "dire_columns = ['Dire 1','Dire 2', 'Dire 3', 'Dire 4', 'Dire 5']\n",
    "\n",
    "final_df[radiant_columns] = final_df.radiant_team.str.split(\",\",expand=True,)\n",
    "final_df[dire_columns] = final_df.dire_team.str.split(\",\",expand=True,)\n",
    "print('\\nDataframe shape:', final_df.shape)"
   ]
  },
  {
   "cell_type": "code",
   "execution_count": null,
   "id": "ed240a44",
   "metadata": {},
   "outputs": [],
   "source": [
    "final_df"
   ]
  },
  {
   "cell_type": "markdown",
   "id": "613fb38c",
   "metadata": {},
   "source": [
    "**Removing Unnamed and dire_team and radiant_team column**"
   ]
  },
  {
   "cell_type": "code",
   "execution_count": null,
   "id": "66a7b398",
   "metadata": {},
   "outputs": [],
   "source": [
    "final_df.drop(columns=['Unnamed: 0', 'dire_team', 'radiant_team', 'match_id'], inplace=True)\n",
    "print('\\nDataframe shape:', final_df.shape)"
   ]
  },
  {
   "cell_type": "markdown",
   "id": "2269744b",
   "metadata": {},
   "source": [
    "**Converting string to numerical**"
   ]
  },
  {
   "cell_type": "code",
   "execution_count": null,
   "id": "440f70f5",
   "metadata": {},
   "outputs": [],
   "source": [
    "final_df['radiant_win'] = final_df['radiant_win'].astype(int)\n",
    "final_df = final_df.apply(pd.to_numeric)\n",
    "final_df.head()"
   ]
  },
  {
   "cell_type": "markdown",
   "id": "a3b7d743",
   "metadata": {},
   "source": [
    "## Join entre dataframes"
   ]
  },
  {
   "cell_type": "markdown",
   "id": "2903dcfe",
   "metadata": {},
   "source": [
    "### Filtrando game_mode e lobby_type"
   ]
  },
  {
   "cell_type": "code",
   "execution_count": null,
   "id": "ea4c1c79",
   "metadata": {},
   "outputs": [],
   "source": [
    "game_mode_df = pd.read_json(data_path+'/game_mode.json').T\n",
    "lobby_type_df = pd.read_json(data_path+'/lobby_type.json').T\n",
    "\n",
    "dict_game_mode = dict(zip(game_mode_df['id'], game_mode_df['name']))\n",
    "dict_lobby_type = dict(zip(lobby_type_df['id'], lobby_type_df['name']))\n",
    "\n",
    "df = final_df\n",
    "\n",
    "df['game_mode'].replace(dict_game_mode, inplace=True)\n",
    "df['lobby_type'].replace(dict_lobby_type, inplace=True)\n",
    "\n",
    "\n",
    "print('Formato do dataframe:', df.shape)\n",
    "df = df[df['game_mode'] == 'game_mode_all_draft']\n",
    "df = df[df['lobby_type'] == 'lobby_type_ranked']\n",
    "\n",
    "\n",
    "df.drop(columns=['game_mode','lobby_type'], inplace=True)\n",
    "print('Formato do dataframe após remoção:', df.shape)\n",
    "final_df = df"
   ]
  },
  {
   "cell_type": "code",
   "execution_count": null,
   "id": "fc53e5c9",
   "metadata": {},
   "outputs": [],
   "source": [
    "print(final_df.shape)\n",
    "print(hero_stats_df.shape)"
   ]
  },
  {
   "cell_type": "markdown",
   "id": "c3ea82ce",
   "metadata": {},
   "source": [
    "### Unificando datastes"
   ]
  },
  {
   "cell_type": "code",
   "execution_count": null,
   "id": "75351679",
   "metadata": {},
   "outputs": [],
   "source": [
    "team_hero_names = ['Radiant 1','Radiant 2', 'Radiant 3', 'Radiant 4', 'Radiant 5',\n",
    "                  'Dire 1','Dire 2', 'Dire 3', 'Dire 4', 'Dire 5']\n",
    "\n",
    "team_prexis_names = ['Rdt_1_','Rdt_2_', 'Rdt_3_', 'Rdt_4_', 'Rdt_5_',\n",
    "                  'Dire_1_','Dire_2_', 'Dire_3_', 'Dire_4_', 'Dire_5_']\n",
    "\n",
    "result = pd.DataFrame()\n",
    "for i,prefix in enumerate(team_prexis_names):\n",
    "    aux_hero_stats = hero_stats_df\n",
    "    aux_hero_stats = aux_hero_stats.add_prefix(prefix)\n",
    "\n",
    "    pre_result = pd.merge(final_df, aux_hero_stats, left_on=team_hero_names[i], right_on= prefix+'hero_id')\n",
    "    result = pd.concat([result, pre_result], axis=1)"
   ]
  },
  {
   "cell_type": "code",
   "execution_count": null,
   "id": "df0abdc7",
   "metadata": {},
   "outputs": [],
   "source": [
    "result"
   ]
  },
  {
   "cell_type": "code",
   "execution_count": null,
   "id": "311eca11",
   "metadata": {},
   "outputs": [],
   "source": [
    "# Removing id columns\n",
    "print(result.shape)\n",
    "\n",
    "for i,prefix in enumerate(team_prexis_names):\n",
    "    result.drop(columns=[prefix+'hero_id', team_hero_names[i]], inplace=True)\n",
    "    \n",
    "print(result.shape)"
   ]
  },
  {
   "cell_type": "code",
   "execution_count": null,
   "id": "7f2cc9bb",
   "metadata": {},
   "outputs": [],
   "source": [
    "result.head()"
   ]
  },
  {
   "cell_type": "code",
   "execution_count": null,
   "id": "65f71cd2",
   "metadata": {},
   "outputs": [],
   "source": [
    "result"
   ]
  },
  {
   "cell_type": "code",
   "execution_count": null,
   "id": "3ee24e66",
   "metadata": {},
   "outputs": [],
   "source": [
    "result.describe().loc['std',:].plot(ylim=0,100)"
   ]
  },
  {
   "cell_type": "markdown",
   "id": "edf23cdb",
   "metadata": {},
   "source": [
    "## Salvando dataset\n",
    "**Saving data frame on 'working data' folder**"
   ]
  },
  {
   "cell_type": "code",
   "execution_count": null,
   "id": "c27fd0e9",
   "metadata": {},
   "outputs": [],
   "source": [
    "working_data_path = '../data/working_data/1_TRA_'\n",
    "start_file = datetime.now().strftime(\"%Y-%m-%d\")\n",
    "output_file = working_data_path + start_file + '_working_data.csv'\n",
    "\n",
    "result.to_csv(output_file, index=False)"
   ]
  }
 ],
 "metadata": {
  "kernelspec": {
   "display_name": "Python 3",
   "language": "python",
   "name": "python3"
  },
  "language_info": {
   "codemirror_mode": {
    "name": "ipython",
    "version": 3
   },
   "file_extension": ".py",
   "mimetype": "text/x-python",
   "name": "python",
   "nbconvert_exporter": "python",
   "pygments_lexer": "ipython3",
   "version": "3.8.8"
  },
  "latex_envs": {
   "LaTeX_envs_menu_present": true,
   "autoclose": false,
   "autocomplete": true,
   "bibliofile": "biblio.bib",
   "cite_by": "apalike",
   "current_citInitial": 1,
   "eqLabelWithNumbers": true,
   "eqNumInitial": 1,
   "hotkeys": {
    "equation": "Ctrl-E",
    "itemize": "Ctrl-I"
   },
   "labels_anchors": false,
   "latex_user_defs": false,
   "report_style_numbering": false,
   "user_envs_cfg": false
  },
  "toc": {
   "base_numbering": 1,
   "nav_menu": {},
   "number_sections": true,
   "sideBar": true,
   "skip_h1_title": true,
   "title_cell": "Table of Contents",
   "title_sidebar": "Contents",
   "toc_cell": true,
   "toc_position": {},
   "toc_section_display": true,
   "toc_window_display": true
  }
 },
 "nbformat": 4,
 "nbformat_minor": 5
}
