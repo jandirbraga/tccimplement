{
 "cells": [
  {
   "cell_type": "markdown",
   "id": "a6d7e6ba",
   "metadata": {
    "toc": true
   },
   "source": [
    "<h1>Table of Contents<span class=\"tocSkip\"></span></h1>\n",
    "<div class=\"toc\"><ul class=\"toc-item\"><li><span><a href=\"#Hero-Stats-Transformer\" data-toc-modified-id=\"Hero-Stats-Transformer-1\"><span class=\"toc-item-num\">1&nbsp;&nbsp;</span>Hero Stats Transformer</a></span></li><li><span><a href=\"#Partidas-Dota-2---Transfomador\" data-toc-modified-id=\"Partidas-Dota-2---Transfomador-2\"><span class=\"toc-item-num\">2&nbsp;&nbsp;</span>Partidas Dota 2 - Transfomador</a></span></li><li><span><a href=\"#Join-entre-dataframes\" data-toc-modified-id=\"Join-entre-dataframes-3\"><span class=\"toc-item-num\">3&nbsp;&nbsp;</span>Join entre dataframes</a></span><ul class=\"toc-item\"><li><span><a href=\"#Filtrando-game_mode-e-lobby_type\" data-toc-modified-id=\"Filtrando-game_mode-e-lobby_type-3.1\"><span class=\"toc-item-num\">3.1&nbsp;&nbsp;</span>Filtrando game_mode e lobby_type</a></span></li><li><span><a href=\"#Unificando-datastes\" data-toc-modified-id=\"Unificando-datastes-3.2\"><span class=\"toc-item-num\">3.2&nbsp;&nbsp;</span>Unificando datastes</a></span></li></ul></li><li><span><a href=\"#Salvando-dataset\" data-toc-modified-id=\"Salvando-dataset-4\"><span class=\"toc-item-num\">4&nbsp;&nbsp;</span>Salvando dataset</a></span></li></ul></div>"
   ]
  },
  {
   "cell_type": "markdown",
   "id": "40a8e573",
   "metadata": {},
   "source": [
    "---\n",
    "# Transformador 2: Anexar os status dos 10 heróis para cada um dos dois times\n",
    "\n",
    "**Objetivo do experimento:** Anexar os status de cada time ao dataset de treinamento. As seguintes soma features de features por herói serão adicionadas:\n",
    "\n",
    "- Is_Melle (quantidade de heróis de curto e longo alcance)\n",
    "- Roles (Número total de roles por time)\n",
    "- Quantidade de heróis por atributo principal: str, int, agi\n",
    "\n",
    "\n",
    "Abaixo a *Ordem de procedimentos:*\n",
    "\n",
    "**Arquivo Hero_stats**\n",
    "1. Carregar o arquivo hero_stats\n",
    "2. Filtrar as colunas desejadas\n",
    "3. Aplicar a transformação nos dados de hero_stats\n",
    "\n",
    "**Arquivos de partidas**\n",
    "1. Procurar por todos os dados disponíveis na pasta 'raw_data'\n",
    "2. Concatenar todos em um único dataframe\n",
    "3. Remover valores nulos\n",
    "4. Remover colunas duplicadas\n",
    "5. Adicionar uma coluna para um herói de cada time\n",
    "\n",
    "**União de dados**\n",
    "1. Filtrar apenas por partidas rankeadas e game_mode = 'game_mode_all_draft'\n",
    "2. Fazer um join entre os datasets\n",
    "3. Tratar para somar as colunas desejadas de cada time"
   ]
  },
  {
   "cell_type": "markdown",
   "id": "b5c515bf",
   "metadata": {},
   "source": [
    "**Loading libraries and ``hero_stats`` JSON**"
   ]
  },
  {
   "cell_type": "code",
   "execution_count": 1,
   "id": "63a5be1e",
   "metadata": {},
   "outputs": [],
   "source": [
    "data_path = '../data/raw_data'\n",
    "\n",
    "import pandas as pd\n",
    "import numpy as np\n",
    "from datetime import datetime\n",
    "import os\n",
    "\n",
    "import sys\n",
    "sys.path.append('../utils')\n",
    "import transformer_utils"
   ]
  },
  {
   "cell_type": "markdown",
   "id": "99325fd6",
   "metadata": {},
   "source": [
    "## Hero Stats Transformer"
   ]
  },
  {
   "cell_type": "code",
   "execution_count": 2,
   "id": "720b34c0",
   "metadata": {},
   "outputs": [],
   "source": [
    "hero_status_columns =['hero_id', 'is_Melle', 'primary_attr_agi', 'primary_attr_int',\n",
    "       'primary_attr_str', 'Nuker', 'Disabler', 'Initiator', 'Durable',\n",
    "       'Support', 'Jungler', 'Carry', 'Pusher', 'Escape']"
   ]
  },
  {
   "cell_type": "code",
   "execution_count": 3,
   "id": "cd6276ea",
   "metadata": {},
   "outputs": [
    {
     "data": {
      "text/html": [
       "<div>\n",
       "<style scoped>\n",
       "    .dataframe tbody tr th:only-of-type {\n",
       "        vertical-align: middle;\n",
       "    }\n",
       "\n",
       "    .dataframe tbody tr th {\n",
       "        vertical-align: top;\n",
       "    }\n",
       "\n",
       "    .dataframe thead th {\n",
       "        text-align: right;\n",
       "    }\n",
       "</style>\n",
       "<table border=\"1\" class=\"dataframe\">\n",
       "  <thead>\n",
       "    <tr style=\"text-align: right;\">\n",
       "      <th></th>\n",
       "      <th>hero_id</th>\n",
       "      <th>is_Melle</th>\n",
       "      <th>primary_attr_agi</th>\n",
       "      <th>primary_attr_int</th>\n",
       "      <th>primary_attr_str</th>\n",
       "      <th>Nuker</th>\n",
       "      <th>Disabler</th>\n",
       "      <th>Initiator</th>\n",
       "      <th>Durable</th>\n",
       "      <th>Support</th>\n",
       "      <th>Jungler</th>\n",
       "      <th>Carry</th>\n",
       "      <th>Pusher</th>\n",
       "      <th>Escape</th>\n",
       "    </tr>\n",
       "  </thead>\n",
       "  <tbody>\n",
       "    <tr>\n",
       "      <th>0</th>\n",
       "      <td>1</td>\n",
       "      <td>1</td>\n",
       "      <td>1</td>\n",
       "      <td>0</td>\n",
       "      <td>0</td>\n",
       "      <td>1.0</td>\n",
       "      <td>0.0</td>\n",
       "      <td>0.0</td>\n",
       "      <td>0.0</td>\n",
       "      <td>0.0</td>\n",
       "      <td>0.0</td>\n",
       "      <td>1.0</td>\n",
       "      <td>0.0</td>\n",
       "      <td>1.0</td>\n",
       "    </tr>\n",
       "    <tr>\n",
       "      <th>1</th>\n",
       "      <td>2</td>\n",
       "      <td>1</td>\n",
       "      <td>0</td>\n",
       "      <td>0</td>\n",
       "      <td>1</td>\n",
       "      <td>0.0</td>\n",
       "      <td>1.0</td>\n",
       "      <td>1.0</td>\n",
       "      <td>1.0</td>\n",
       "      <td>0.0</td>\n",
       "      <td>1.0</td>\n",
       "      <td>1.0</td>\n",
       "      <td>0.0</td>\n",
       "      <td>0.0</td>\n",
       "    </tr>\n",
       "    <tr>\n",
       "      <th>2</th>\n",
       "      <td>3</td>\n",
       "      <td>0</td>\n",
       "      <td>0</td>\n",
       "      <td>1</td>\n",
       "      <td>0</td>\n",
       "      <td>1.0</td>\n",
       "      <td>1.0</td>\n",
       "      <td>0.0</td>\n",
       "      <td>1.0</td>\n",
       "      <td>1.0</td>\n",
       "      <td>0.0</td>\n",
       "      <td>0.0</td>\n",
       "      <td>0.0</td>\n",
       "      <td>0.0</td>\n",
       "    </tr>\n",
       "    <tr>\n",
       "      <th>3</th>\n",
       "      <td>4</td>\n",
       "      <td>1</td>\n",
       "      <td>1</td>\n",
       "      <td>0</td>\n",
       "      <td>0</td>\n",
       "      <td>1.0</td>\n",
       "      <td>1.0</td>\n",
       "      <td>1.0</td>\n",
       "      <td>0.0</td>\n",
       "      <td>0.0</td>\n",
       "      <td>1.0</td>\n",
       "      <td>1.0</td>\n",
       "      <td>0.0</td>\n",
       "      <td>0.0</td>\n",
       "    </tr>\n",
       "    <tr>\n",
       "      <th>4</th>\n",
       "      <td>5</td>\n",
       "      <td>0</td>\n",
       "      <td>0</td>\n",
       "      <td>1</td>\n",
       "      <td>0</td>\n",
       "      <td>1.0</td>\n",
       "      <td>1.0</td>\n",
       "      <td>0.0</td>\n",
       "      <td>0.0</td>\n",
       "      <td>1.0</td>\n",
       "      <td>1.0</td>\n",
       "      <td>0.0</td>\n",
       "      <td>0.0</td>\n",
       "      <td>0.0</td>\n",
       "    </tr>\n",
       "  </tbody>\n",
       "</table>\n",
       "</div>"
      ],
      "text/plain": [
       "   hero_id  is_Melle  primary_attr_agi  primary_attr_int  primary_attr_str  \\\n",
       "0        1         1                 1                 0                 0   \n",
       "1        2         1                 0                 0                 1   \n",
       "2        3         0                 0                 1                 0   \n",
       "3        4         1                 1                 0                 0   \n",
       "4        5         0                 0                 1                 0   \n",
       "\n",
       "   Nuker  Disabler  Initiator  Durable  Support  Jungler  Carry  Pusher  \\\n",
       "0    1.0       0.0        0.0      0.0      0.0      0.0    1.0     0.0   \n",
       "1    0.0       1.0        1.0      1.0      0.0      1.0    1.0     0.0   \n",
       "2    1.0       1.0        0.0      1.0      1.0      0.0    0.0     0.0   \n",
       "3    1.0       1.0        1.0      0.0      0.0      1.0    1.0     0.0   \n",
       "4    1.0       1.0        0.0      0.0      1.0      1.0    0.0     0.0   \n",
       "\n",
       "   Escape  \n",
       "0     1.0  \n",
       "1     0.0  \n",
       "2     0.0  \n",
       "3     0.0  \n",
       "4     0.0  "
      ]
     },
     "execution_count": 3,
     "metadata": {},
     "output_type": "execute_result"
    }
   ],
   "source": [
    "hero_stats_raw = pd.read_json(data_path+'/hero_stats.json')\n",
    "hero_stats_df = transformer_utils.hero_stats_tranformer(hero_stats_raw)\n",
    "hero_stats_df = hero_stats_df.loc[:, hero_status_columns]\n",
    "hero_stats_df.head()"
   ]
  },
  {
   "cell_type": "markdown",
   "id": "108b4ebf",
   "metadata": {},
   "source": [
    "---\n",
    "## Partidas Dota 2 - Transfomador "
   ]
  },
  {
   "cell_type": "markdown",
   "id": "235fdc9f",
   "metadata": {},
   "source": [
    "**Searching for each .csv file in the 'raw_data' folder**"
   ]
  },
  {
   "cell_type": "code",
   "execution_count": 4,
   "id": "337a4feb",
   "metadata": {},
   "outputs": [
    {
     "name": "stdout",
     "output_type": "stream",
     "text": [
      ".csv file found:\n",
      "\n",
      "21-04-24 16h14m31s.csv\n",
      ".csv file found:\n",
      "\n",
      ".csv file found:\n",
      "\n",
      ".csv file found:\n",
      "\n"
     ]
    }
   ],
   "source": [
    "lst_df = []\n",
    "for root, dirs, files in os.walk(data_path):\n",
    "    for filename in files:\n",
    "        xlsx_file, file_extension = os.path.splitext(filename)\n",
    "        print('.csv file found:\\n')\n",
    "        if(file_extension == '.csv'):\n",
    "            print(filename)\n",
    "            file_path = root +'\\\\' + filename\n",
    "            lst_df.append(pd.read_csv(file_path))  "
   ]
  },
  {
   "cell_type": "markdown",
   "id": "10893e5a",
   "metadata": {},
   "source": [
    "**Drop NA**"
   ]
  },
  {
   "cell_type": "code",
   "execution_count": 5,
   "id": "db34e109",
   "metadata": {},
   "outputs": [
    {
     "name": "stdout",
     "output_type": "stream",
     "text": [
      "Dataframe shape: (46000, 9)\n",
      "Total nan: \n",
      "\n",
      " Unnamed: 0      0\n",
      "match_id        0\n",
      "radiant_win     0\n",
      "avg_mmr         0\n",
      "duration        0\n",
      "lobby_type      0\n",
      "game_mode       0\n",
      "radiant_team    0\n",
      "dire_team       0\n",
      "dtype: int64\n",
      "\n",
      "Dataframe shape: (46000, 9)\n"
     ]
    }
   ],
   "source": [
    "match_df = pd.concat(lst_df)\n",
    "\n",
    "print('Dataframe shape:', match_df.shape)\n",
    "print('Total nan: \\n\\n', match_df.isna().sum())\n",
    "\n",
    "match_df.dropna(inplace=True)\n",
    "print('\\nDataframe shape:', match_df.shape)"
   ]
  },
  {
   "cell_type": "markdown",
   "id": "b1cecba5",
   "metadata": {},
   "source": [
    "**Remove duplicated rows**"
   ]
  },
  {
   "cell_type": "code",
   "execution_count": 6,
   "id": "a7d7b1ac",
   "metadata": {},
   "outputs": [
    {
     "name": "stdout",
     "output_type": "stream",
     "text": [
      "\n",
      "Dataframe shape: (46000, 9)\n"
     ]
    }
   ],
   "source": [
    "match_df.drop_duplicates(subset=['match_id'])\n",
    "print('\\nDataframe shape:', match_df.shape)"
   ]
  },
  {
   "cell_type": "markdown",
   "id": "552e9e1b",
   "metadata": {},
   "source": [
    "**Adding column for each hero on radiant and dire team**"
   ]
  },
  {
   "cell_type": "code",
   "execution_count": 7,
   "id": "660fb4f7",
   "metadata": {},
   "outputs": [
    {
     "name": "stdout",
     "output_type": "stream",
     "text": [
      "\n",
      "Dataframe shape: (46000, 19)\n"
     ]
    }
   ],
   "source": [
    "radiant_columns = ['Radiant 1','Radiant 2', 'Radiant 3', 'Radiant 4', 'Radiant 5']\n",
    "dire_columns = ['Dire 1','Dire 2', 'Dire 3', 'Dire 4', 'Dire 5']\n",
    "\n",
    "match_df[radiant_columns] = match_df.radiant_team.str.split(\",\",expand=True,)\n",
    "match_df[dire_columns] = match_df.dire_team.str.split(\",\",expand=True,)\n",
    "print('\\nDataframe shape:', match_df.shape)"
   ]
  },
  {
   "cell_type": "markdown",
   "id": "613fb38c",
   "metadata": {},
   "source": [
    "**Removing Unnamed and dire_team and radiant_team column**"
   ]
  },
  {
   "cell_type": "code",
   "execution_count": 8,
   "id": "66a7b398",
   "metadata": {},
   "outputs": [
    {
     "name": "stdout",
     "output_type": "stream",
     "text": [
      "\n",
      "Dataframe shape: (46000, 15)\n"
     ]
    }
   ],
   "source": [
    "match_df.drop(columns=['Unnamed: 0', 'dire_team', 'radiant_team', 'match_id'], inplace=True)\n",
    "print('\\nDataframe shape:', match_df.shape)"
   ]
  },
  {
   "cell_type": "markdown",
   "id": "2269744b",
   "metadata": {},
   "source": [
    "**Converting string to numerical**"
   ]
  },
  {
   "cell_type": "code",
   "execution_count": 9,
   "id": "440f70f5",
   "metadata": {},
   "outputs": [
    {
     "data": {
      "text/html": [
       "<div>\n",
       "<style scoped>\n",
       "    .dataframe tbody tr th:only-of-type {\n",
       "        vertical-align: middle;\n",
       "    }\n",
       "\n",
       "    .dataframe tbody tr th {\n",
       "        vertical-align: top;\n",
       "    }\n",
       "\n",
       "    .dataframe thead th {\n",
       "        text-align: right;\n",
       "    }\n",
       "</style>\n",
       "<table border=\"1\" class=\"dataframe\">\n",
       "  <thead>\n",
       "    <tr style=\"text-align: right;\">\n",
       "      <th></th>\n",
       "      <th>radiant_win</th>\n",
       "      <th>avg_mmr</th>\n",
       "      <th>duration</th>\n",
       "      <th>lobby_type</th>\n",
       "      <th>game_mode</th>\n",
       "      <th>Radiant 1</th>\n",
       "      <th>Radiant 2</th>\n",
       "      <th>Radiant 3</th>\n",
       "      <th>Radiant 4</th>\n",
       "      <th>Radiant 5</th>\n",
       "      <th>Dire 1</th>\n",
       "      <th>Dire 2</th>\n",
       "      <th>Dire 3</th>\n",
       "      <th>Dire 4</th>\n",
       "      <th>Dire 5</th>\n",
       "    </tr>\n",
       "  </thead>\n",
       "  <tbody>\n",
       "    <tr>\n",
       "      <th>0</th>\n",
       "      <td>1</td>\n",
       "      <td>3439</td>\n",
       "      <td>1649</td>\n",
       "      <td>7</td>\n",
       "      <td>22</td>\n",
       "      <td>121</td>\n",
       "      <td>119</td>\n",
       "      <td>2</td>\n",
       "      <td>13</td>\n",
       "      <td>70</td>\n",
       "      <td>129</td>\n",
       "      <td>83</td>\n",
       "      <td>80</td>\n",
       "      <td>63</td>\n",
       "      <td>30</td>\n",
       "    </tr>\n",
       "    <tr>\n",
       "      <th>1</th>\n",
       "      <td>1</td>\n",
       "      <td>3774</td>\n",
       "      <td>1848</td>\n",
       "      <td>0</td>\n",
       "      <td>22</td>\n",
       "      <td>109</td>\n",
       "      <td>10</td>\n",
       "      <td>108</td>\n",
       "      <td>128</td>\n",
       "      <td>84</td>\n",
       "      <td>123</td>\n",
       "      <td>69</td>\n",
       "      <td>67</td>\n",
       "      <td>73</td>\n",
       "      <td>71</td>\n",
       "    </tr>\n",
       "    <tr>\n",
       "      <th>2</th>\n",
       "      <td>1</td>\n",
       "      <td>3311</td>\n",
       "      <td>1951</td>\n",
       "      <td>7</td>\n",
       "      <td>22</td>\n",
       "      <td>129</td>\n",
       "      <td>81</td>\n",
       "      <td>35</td>\n",
       "      <td>88</td>\n",
       "      <td>5</td>\n",
       "      <td>32</td>\n",
       "      <td>135</td>\n",
       "      <td>37</td>\n",
       "      <td>121</td>\n",
       "      <td>126</td>\n",
       "    </tr>\n",
       "    <tr>\n",
       "      <th>3</th>\n",
       "      <td>1</td>\n",
       "      <td>3408</td>\n",
       "      <td>995</td>\n",
       "      <td>0</td>\n",
       "      <td>22</td>\n",
       "      <td>83</td>\n",
       "      <td>56</td>\n",
       "      <td>17</td>\n",
       "      <td>62</td>\n",
       "      <td>9</td>\n",
       "      <td>26</td>\n",
       "      <td>32</td>\n",
       "      <td>51</td>\n",
       "      <td>6</td>\n",
       "      <td>135</td>\n",
       "    </tr>\n",
       "    <tr>\n",
       "      <th>4</th>\n",
       "      <td>0</td>\n",
       "      <td>4621</td>\n",
       "      <td>1818</td>\n",
       "      <td>7</td>\n",
       "      <td>22</td>\n",
       "      <td>11</td>\n",
       "      <td>100</td>\n",
       "      <td>26</td>\n",
       "      <td>44</td>\n",
       "      <td>2</td>\n",
       "      <td>135</td>\n",
       "      <td>42</td>\n",
       "      <td>25</td>\n",
       "      <td>30</td>\n",
       "      <td>74</td>\n",
       "    </tr>\n",
       "  </tbody>\n",
       "</table>\n",
       "</div>"
      ],
      "text/plain": [
       "   radiant_win  avg_mmr  duration  lobby_type  game_mode  Radiant 1  \\\n",
       "0            1     3439      1649           7         22        121   \n",
       "1            1     3774      1848           0         22        109   \n",
       "2            1     3311      1951           7         22        129   \n",
       "3            1     3408       995           0         22         83   \n",
       "4            0     4621      1818           7         22         11   \n",
       "\n",
       "   Radiant 2  Radiant 3  Radiant 4  Radiant 5  Dire 1  Dire 2  Dire 3  Dire 4  \\\n",
       "0        119          2         13         70     129      83      80      63   \n",
       "1         10        108        128         84     123      69      67      73   \n",
       "2         81         35         88          5      32     135      37     121   \n",
       "3         56         17         62          9      26      32      51       6   \n",
       "4        100         26         44          2     135      42      25      30   \n",
       "\n",
       "   Dire 5  \n",
       "0      30  \n",
       "1      71  \n",
       "2     126  \n",
       "3     135  \n",
       "4      74  "
      ]
     },
     "execution_count": 9,
     "metadata": {},
     "output_type": "execute_result"
    }
   ],
   "source": [
    "match_df['radiant_win'] = match_df['radiant_win'].astype(int)\n",
    "match_df = match_df.apply(pd.to_numeric)\n",
    "match_df.head()"
   ]
  },
  {
   "cell_type": "markdown",
   "id": "a3b7d743",
   "metadata": {},
   "source": [
    "## Join entre dataframes"
   ]
  },
  {
   "cell_type": "markdown",
   "id": "2903dcfe",
   "metadata": {},
   "source": [
    "### Filtrando game_mode e lobby_type"
   ]
  },
  {
   "cell_type": "code",
   "execution_count": 10,
   "id": "ea4c1c79",
   "metadata": {},
   "outputs": [
    {
     "name": "stdout",
     "output_type": "stream",
     "text": [
      "Formato do dataframe: (46000, 15)\n",
      "Formato do dataframe após remoção: (32293, 13)\n"
     ]
    }
   ],
   "source": [
    "game_mode_df = pd.read_json(data_path+'/game_mode.json').T\n",
    "lobby_type_df = pd.read_json(data_path+'/lobby_type.json').T\n",
    "\n",
    "dict_game_mode = dict(zip(game_mode_df['id'], game_mode_df['name']))\n",
    "dict_lobby_type = dict(zip(lobby_type_df['id'], lobby_type_df['name']))\n",
    "\n",
    "df = match_df\n",
    "\n",
    "df['game_mode'].replace(dict_game_mode, inplace=True)\n",
    "df['lobby_type'].replace(dict_lobby_type, inplace=True)\n",
    "\n",
    "\n",
    "print('Formato do dataframe:', df.shape)\n",
    "df = df[df['game_mode'] == 'game_mode_all_draft']\n",
    "df = df[df['lobby_type'] == 'lobby_type_ranked']\n",
    "\n",
    "\n",
    "df.drop(columns=['game_mode','lobby_type'], inplace=True)\n",
    "print('Formato do dataframe após remoção:', df.shape)\n",
    "match_df = df\n",
    "match_df.reset_index(inplace=True, drop=True)"
   ]
  },
  {
   "cell_type": "code",
   "execution_count": 11,
   "id": "fc53e5c9",
   "metadata": {},
   "outputs": [
    {
     "name": "stdout",
     "output_type": "stream",
     "text": [
      "(32293, 13)\n",
      "(121, 14)\n"
     ]
    }
   ],
   "source": [
    "print(match_df.shape)\n",
    "print(hero_stats_df.shape)"
   ]
  },
  {
   "cell_type": "markdown",
   "id": "c3ea82ce",
   "metadata": {},
   "source": [
    "### Unificando datastes"
   ]
  },
  {
   "cell_type": "code",
   "execution_count": 12,
   "id": "1419c365",
   "metadata": {},
   "outputs": [],
   "source": [
    "def join_and_summarize(left_df, left_key_columns, right_df, right_key, columns_to_summarize):\n",
    "    \"\"\"Apply a join on two dataframes and summarize it's columns \"\"\"\n",
    "\n",
    "    shape_summarized = [left_df.shape[0], len(columns_to_summarize)]\n",
    "    df_summarized = pd.DataFrame(np.zeros(shape_summarized), columns = columns_to_summarize)\n",
    "    \n",
    "    for i, left_key in enumerate(left_key_columns):\n",
    "        join_df = pd.merge(left_df, right_df, left_on=left_key, right_on=right_key)\n",
    "        df_summarized += join_df.loc[:,columns_to_summarize]\n",
    "        \n",
    "    return df_summarized"
   ]
  },
  {
   "cell_type": "code",
   "execution_count": 13,
   "id": "690fcf1d",
   "metadata": {},
   "outputs": [],
   "source": [
    "def create_features_by_team(match_df, hero_stats_df, columns_to_summarize):\n",
    "    \"\"\"Concatenade data from dota 2 matches and hero stats to create a dataframe summarized by team\"\"\"\n",
    "    \n",
    "    radiant_key_columns = ['Radiant 1','Radiant 2', 'Radiant 3', 'Radiant 4', 'Radiant 5']\n",
    "    dire_key_columns = ['Dire 1','Dire 2', 'Dire 3', 'Dire 4', 'Dire 5']\n",
    "    right_key = ['hero_id']\n",
    "    \n",
    "    # Radiant - Join and Summarize\n",
    "    radiant_df_summarized = join_and_summarize(match_df, radiant_key_columns, hero_stats_df, right_key, columns_to_summarize)\n",
    "    radiant_df_summarized = radiant_df_summarized.add_prefix('Radiant_')\n",
    "\n",
    "    # Dire - Join and Summarize\n",
    "    dire_df_summarized = join_and_summarize(match_df, dire_key_columns, hero_stats_df, right_key, columns_to_summarize)\n",
    "    dire_df_summarized = dire_df_summarized.add_prefix('Dire_')\n",
    "    \n",
    "    # Concatenate dataframes and remove key columns\n",
    "    match_df.drop(columns=(dire_key_columns + radiant_key_columns), inplace=True)\n",
    "    result_df = pd.concat([match_df, radiant_df_summarized, dire_df_summarized], axis=1)\n",
    "    \n",
    "    return result_df"
   ]
  },
  {
   "cell_type": "code",
   "execution_count": 14,
   "id": "30077227",
   "metadata": {},
   "outputs": [],
   "source": [
    "columns_to_summarize = columns_to_summarize = ['is_Melle', 'primary_attr_agi', 'primary_attr_int',\n",
    "                                               'primary_attr_str', 'Nuker', 'Disabler', 'Initiator',\n",
    "                                                'Durable', 'Support', 'Jungler', 'Carry', 'Pusher', 'Escape']\n",
    "result_df = create_features_by_team(match_df, hero_stats_df, columns_to_summarize)"
   ]
  },
  {
   "cell_type": "code",
   "execution_count": 15,
   "id": "7f2cc9bb",
   "metadata": {},
   "outputs": [
    {
     "data": {
      "text/html": [
       "<div>\n",
       "<style scoped>\n",
       "    .dataframe tbody tr th:only-of-type {\n",
       "        vertical-align: middle;\n",
       "    }\n",
       "\n",
       "    .dataframe tbody tr th {\n",
       "        vertical-align: top;\n",
       "    }\n",
       "\n",
       "    .dataframe thead th {\n",
       "        text-align: right;\n",
       "    }\n",
       "</style>\n",
       "<table border=\"1\" class=\"dataframe\">\n",
       "  <thead>\n",
       "    <tr style=\"text-align: right;\">\n",
       "      <th></th>\n",
       "      <th>radiant_win</th>\n",
       "      <th>avg_mmr</th>\n",
       "      <th>duration</th>\n",
       "      <th>Radiant_is_Melle</th>\n",
       "      <th>Radiant_primary_attr_agi</th>\n",
       "      <th>Radiant_primary_attr_int</th>\n",
       "      <th>Radiant_primary_attr_str</th>\n",
       "      <th>Radiant_Nuker</th>\n",
       "      <th>Radiant_Disabler</th>\n",
       "      <th>Radiant_Initiator</th>\n",
       "      <th>...</th>\n",
       "      <th>Dire_primary_attr_str</th>\n",
       "      <th>Dire_Nuker</th>\n",
       "      <th>Dire_Disabler</th>\n",
       "      <th>Dire_Initiator</th>\n",
       "      <th>Dire_Durable</th>\n",
       "      <th>Dire_Support</th>\n",
       "      <th>Dire_Jungler</th>\n",
       "      <th>Dire_Carry</th>\n",
       "      <th>Dire_Pusher</th>\n",
       "      <th>Dire_Escape</th>\n",
       "    </tr>\n",
       "  </thead>\n",
       "  <tbody>\n",
       "    <tr>\n",
       "      <th>0</th>\n",
       "      <td>1</td>\n",
       "      <td>3439</td>\n",
       "      <td>1649</td>\n",
       "      <td>2.0</td>\n",
       "      <td>1.0</td>\n",
       "      <td>3.0</td>\n",
       "      <td>1.0</td>\n",
       "      <td>3.0</td>\n",
       "      <td>5.0</td>\n",
       "      <td>2.0</td>\n",
       "      <td>...</td>\n",
       "      <td>2.0</td>\n",
       "      <td>1.0</td>\n",
       "      <td>3.0</td>\n",
       "      <td>2.0</td>\n",
       "      <td>3.0</td>\n",
       "      <td>2.0</td>\n",
       "      <td>1.0</td>\n",
       "      <td>3.0</td>\n",
       "      <td>1.0</td>\n",
       "      <td>2.0</td>\n",
       "    </tr>\n",
       "    <tr>\n",
       "      <th>1</th>\n",
       "      <td>1</td>\n",
       "      <td>3311</td>\n",
       "      <td>1951</td>\n",
       "      <td>2.0</td>\n",
       "      <td>1.0</td>\n",
       "      <td>3.0</td>\n",
       "      <td>1.0</td>\n",
       "      <td>3.0</td>\n",
       "      <td>5.0</td>\n",
       "      <td>2.0</td>\n",
       "      <td>...</td>\n",
       "      <td>2.0</td>\n",
       "      <td>1.0</td>\n",
       "      <td>3.0</td>\n",
       "      <td>2.0</td>\n",
       "      <td>3.0</td>\n",
       "      <td>2.0</td>\n",
       "      <td>1.0</td>\n",
       "      <td>3.0</td>\n",
       "      <td>1.0</td>\n",
       "      <td>2.0</td>\n",
       "    </tr>\n",
       "    <tr>\n",
       "      <th>2</th>\n",
       "      <td>0</td>\n",
       "      <td>4621</td>\n",
       "      <td>1818</td>\n",
       "      <td>2.0</td>\n",
       "      <td>1.0</td>\n",
       "      <td>3.0</td>\n",
       "      <td>1.0</td>\n",
       "      <td>3.0</td>\n",
       "      <td>5.0</td>\n",
       "      <td>2.0</td>\n",
       "      <td>...</td>\n",
       "      <td>2.0</td>\n",
       "      <td>1.0</td>\n",
       "      <td>3.0</td>\n",
       "      <td>2.0</td>\n",
       "      <td>3.0</td>\n",
       "      <td>2.0</td>\n",
       "      <td>1.0</td>\n",
       "      <td>3.0</td>\n",
       "      <td>1.0</td>\n",
       "      <td>2.0</td>\n",
       "    </tr>\n",
       "    <tr>\n",
       "      <th>3</th>\n",
       "      <td>0</td>\n",
       "      <td>3750</td>\n",
       "      <td>1808</td>\n",
       "      <td>2.0</td>\n",
       "      <td>1.0</td>\n",
       "      <td>3.0</td>\n",
       "      <td>1.0</td>\n",
       "      <td>3.0</td>\n",
       "      <td>5.0</td>\n",
       "      <td>2.0</td>\n",
       "      <td>...</td>\n",
       "      <td>2.0</td>\n",
       "      <td>1.0</td>\n",
       "      <td>3.0</td>\n",
       "      <td>2.0</td>\n",
       "      <td>3.0</td>\n",
       "      <td>2.0</td>\n",
       "      <td>1.0</td>\n",
       "      <td>3.0</td>\n",
       "      <td>1.0</td>\n",
       "      <td>2.0</td>\n",
       "    </tr>\n",
       "    <tr>\n",
       "      <th>4</th>\n",
       "      <td>0</td>\n",
       "      <td>3871</td>\n",
       "      <td>1770</td>\n",
       "      <td>2.0</td>\n",
       "      <td>1.0</td>\n",
       "      <td>3.0</td>\n",
       "      <td>1.0</td>\n",
       "      <td>3.0</td>\n",
       "      <td>5.0</td>\n",
       "      <td>2.0</td>\n",
       "      <td>...</td>\n",
       "      <td>2.0</td>\n",
       "      <td>1.0</td>\n",
       "      <td>3.0</td>\n",
       "      <td>2.0</td>\n",
       "      <td>3.0</td>\n",
       "      <td>2.0</td>\n",
       "      <td>1.0</td>\n",
       "      <td>3.0</td>\n",
       "      <td>1.0</td>\n",
       "      <td>2.0</td>\n",
       "    </tr>\n",
       "  </tbody>\n",
       "</table>\n",
       "<p>5 rows × 29 columns</p>\n",
       "</div>"
      ],
      "text/plain": [
       "   radiant_win  avg_mmr  duration  Radiant_is_Melle  Radiant_primary_attr_agi  \\\n",
       "0            1     3439      1649               2.0                       1.0   \n",
       "1            1     3311      1951               2.0                       1.0   \n",
       "2            0     4621      1818               2.0                       1.0   \n",
       "3            0     3750      1808               2.0                       1.0   \n",
       "4            0     3871      1770               2.0                       1.0   \n",
       "\n",
       "   Radiant_primary_attr_int  Radiant_primary_attr_str  Radiant_Nuker  \\\n",
       "0                       3.0                       1.0            3.0   \n",
       "1                       3.0                       1.0            3.0   \n",
       "2                       3.0                       1.0            3.0   \n",
       "3                       3.0                       1.0            3.0   \n",
       "4                       3.0                       1.0            3.0   \n",
       "\n",
       "   Radiant_Disabler  Radiant_Initiator  ...  Dire_primary_attr_str  \\\n",
       "0               5.0                2.0  ...                    2.0   \n",
       "1               5.0                2.0  ...                    2.0   \n",
       "2               5.0                2.0  ...                    2.0   \n",
       "3               5.0                2.0  ...                    2.0   \n",
       "4               5.0                2.0  ...                    2.0   \n",
       "\n",
       "   Dire_Nuker  Dire_Disabler  Dire_Initiator  Dire_Durable  Dire_Support  \\\n",
       "0         1.0            3.0             2.0           3.0           2.0   \n",
       "1         1.0            3.0             2.0           3.0           2.0   \n",
       "2         1.0            3.0             2.0           3.0           2.0   \n",
       "3         1.0            3.0             2.0           3.0           2.0   \n",
       "4         1.0            3.0             2.0           3.0           2.0   \n",
       "\n",
       "   Dire_Jungler  Dire_Carry  Dire_Pusher  Dire_Escape  \n",
       "0           1.0         3.0          1.0          2.0  \n",
       "1           1.0         3.0          1.0          2.0  \n",
       "2           1.0         3.0          1.0          2.0  \n",
       "3           1.0         3.0          1.0          2.0  \n",
       "4           1.0         3.0          1.0          2.0  \n",
       "\n",
       "[5 rows x 29 columns]"
      ]
     },
     "execution_count": 15,
     "metadata": {},
     "output_type": "execute_result"
    }
   ],
   "source": [
    "result_df.head()"
   ]
  },
  {
   "cell_type": "markdown",
   "id": "edf23cdb",
   "metadata": {},
   "source": [
    "## Salvando dataset\n",
    "**Saving data frame on 'working data' folder**"
   ]
  },
  {
   "cell_type": "code",
   "execution_count": 16,
   "id": "58bb87f0",
   "metadata": {},
   "outputs": [],
   "source": [
    "working_data_path = '../data/working_data/2_TRA_'\n",
    "start_file = datetime.now().strftime(\"%Y-%m-%d\")\n",
    "output_file = working_data_path + start_file + '_working_data.csv'\n",
    "\n",
    "result_df.to_csv(output_file, index=False)"
   ]
  }
 ],
 "metadata": {
  "kernelspec": {
   "display_name": "Python 3",
   "language": "python",
   "name": "python3"
  },
  "language_info": {
   "codemirror_mode": {
    "name": "ipython",
    "version": 3
   },
   "file_extension": ".py",
   "mimetype": "text/x-python",
   "name": "python",
   "nbconvert_exporter": "python",
   "pygments_lexer": "ipython3",
   "version": "3.7.10"
  },
  "latex_envs": {
   "LaTeX_envs_menu_present": true,
   "autoclose": false,
   "autocomplete": true,
   "bibliofile": "biblio.bib",
   "cite_by": "apalike",
   "current_citInitial": 1,
   "eqLabelWithNumbers": true,
   "eqNumInitial": 1,
   "hotkeys": {
    "equation": "Ctrl-E",
    "itemize": "Ctrl-I"
   },
   "labels_anchors": false,
   "latex_user_defs": false,
   "report_style_numbering": false,
   "user_envs_cfg": false
  },
  "toc": {
   "base_numbering": 1,
   "nav_menu": {},
   "number_sections": true,
   "sideBar": true,
   "skip_h1_title": true,
   "title_cell": "Table of Contents",
   "title_sidebar": "Contents",
   "toc_cell": true,
   "toc_position": {},
   "toc_section_display": true,
   "toc_window_display": true
  }
 },
 "nbformat": 4,
 "nbformat_minor": 5
}
