{
 "cells": [
  {
   "cell_type": "markdown",
   "id": "a6d7e6ba",
   "metadata": {
    "toc": true
   },
   "source": [
    "<h1>Table of Contents<span class=\"tocSkip\"></span></h1>\n",
    "<div class=\"toc\"><ul class=\"toc-item\"><li><span><a href=\"#Hero-Stats-Transformer\" data-toc-modified-id=\"Hero-Stats-Transformer-1\"><span class=\"toc-item-num\">1&nbsp;&nbsp;</span>Hero Stats Transformer</a></span></li><li><span><a href=\"#Partidas-Dota-2---Transfomador\" data-toc-modified-id=\"Partidas-Dota-2---Transfomador-2\"><span class=\"toc-item-num\">2&nbsp;&nbsp;</span>Partidas Dota 2 - Transfomador</a></span></li><li><span><a href=\"#Join-entre-dataframes\" data-toc-modified-id=\"Join-entre-dataframes-3\"><span class=\"toc-item-num\">3&nbsp;&nbsp;</span>Join entre dataframes</a></span><ul class=\"toc-item\"><li><span><a href=\"#Filtrando-game_mode-e-lobby_type\" data-toc-modified-id=\"Filtrando-game_mode-e-lobby_type-3.1\"><span class=\"toc-item-num\">3.1&nbsp;&nbsp;</span>Filtrando game_mode e lobby_type</a></span></li><li><span><a href=\"#Unificando-datastes\" data-toc-modified-id=\"Unificando-datastes-3.2\"><span class=\"toc-item-num\">3.2&nbsp;&nbsp;</span>Unificando datastes</a></span></li></ul></li><li><span><a href=\"#Salvando-dataset\" data-toc-modified-id=\"Salvando-dataset-4\"><span class=\"toc-item-num\">4&nbsp;&nbsp;</span>Salvando dataset</a></span></li></ul></div>"
   ]
  },
  {
   "cell_type": "markdown",
   "id": "40a8e573",
   "metadata": {},
   "source": [
    "---\n",
    "# Transformador 1: Anexar os status de herói aos dados disponíveis\n",
    "\n",
    "**Objetivo do experimento:** Anexar os status de cada herói ao dataset de treinamento. Ao final o dataset deve possuir mais de 500 features. Abaixo a *Ordem de procedimentos:*\n",
    "\n",
    "**Arquivo Hero_stats**\n",
    "1. Carregar o arquivo hero_stats\n",
    "2. Aplicar a transformação nos dados de hero_stats\n",
    "\n",
    "**Arquivos de partidas**\n",
    "1. Procurar por todos os dados disponíveis na pasta 'raw_data'\n",
    "2. Concatenar todos em um único dataframe\n",
    "3. Remover valores nulos\n",
    "4. Remover colunas duplicadas\n",
    "5. Adicionar uma coluna para um herói de cada time\n",
    "\n",
    "**União de dados**\n",
    "1. Filtrar apenas por partidas rankeadas e game_mode = 'game_mode_all_draft'\n",
    "2. Fazer um join entre os datasets"
   ]
  },
  {
   "cell_type": "markdown",
   "id": "b5c515bf",
   "metadata": {},
   "source": [
    "**Loading libraries and ``hero_stats`` JSON**"
   ]
  },
  {
   "cell_type": "code",
   "execution_count": 1,
   "id": "63a5be1e",
   "metadata": {},
   "outputs": [],
   "source": [
    "data_path = '../data/raw_data'\n",
    "\n",
    "import pandas as pd\n",
    "import numpy as np\n",
    "from datetime import datetime\n",
    "import os\n",
    "\n",
    "import sys\n",
    "sys.path.append('../utils')\n",
    "import transformer_utils"
   ]
  },
  {
   "cell_type": "markdown",
   "id": "99325fd6",
   "metadata": {},
   "source": [
    "## Hero Stats Transformer"
   ]
  },
  {
   "cell_type": "code",
   "execution_count": 2,
   "id": "92c4c242",
   "metadata": {},
   "outputs": [],
   "source": [
    "hero_cols = [\n",
    "        'hero_id','is_Melle', 'base_mana_regen', 'base_armor', 'base_attack_min',\n",
    "       'base_attack_max', 'base_str', 'base_agi', 'base_int', 'str_gain',\n",
    "       'agi_gain', 'int_gain', 'attack_range', 'projectile_speed',\n",
    "       'attack_rate', 'move_speed', 'legs', 'turbo_picks',\n",
    "       'turbo_wins', 'pro_win', 'pro_pick', 'pro_ban', '1_pick', '1_win',\n",
    "       '2_pick', '2_win', '3_pick', '3_win', '4_pick', '4_win', '5_pick',\n",
    "       '5_win', '6_pick', '6_win', '7_pick', '7_win', '8_pick', '8_win',\n",
    "       'null_pick', 'primary_attr_agi', 'primary_attr_int', 'primary_attr_str',\n",
    "       'Nuker', 'Disabler', 'Initiator', 'Durable', 'Support', 'Jungler',\n",
    "       'Carry', 'Pusher', 'Escape'\n",
    "        ]"
   ]
  },
  {
   "cell_type": "code",
   "execution_count": 3,
   "id": "cd6276ea",
   "metadata": {},
   "outputs": [
    {
     "data": {
      "text/html": [
       "<div>\n",
       "<style scoped>\n",
       "    .dataframe tbody tr th:only-of-type {\n",
       "        vertical-align: middle;\n",
       "    }\n",
       "\n",
       "    .dataframe tbody tr th {\n",
       "        vertical-align: top;\n",
       "    }\n",
       "\n",
       "    .dataframe thead th {\n",
       "        text-align: right;\n",
       "    }\n",
       "</style>\n",
       "<table border=\"1\" class=\"dataframe\">\n",
       "  <thead>\n",
       "    <tr style=\"text-align: right;\">\n",
       "      <th></th>\n",
       "      <th>hero_id</th>\n",
       "      <th>is_Melle</th>\n",
       "      <th>base_mana_regen</th>\n",
       "      <th>base_armor</th>\n",
       "      <th>base_attack_min</th>\n",
       "      <th>base_attack_max</th>\n",
       "      <th>base_str</th>\n",
       "      <th>base_agi</th>\n",
       "      <th>base_int</th>\n",
       "      <th>str_gain</th>\n",
       "      <th>...</th>\n",
       "      <th>primary_attr_str</th>\n",
       "      <th>Nuker</th>\n",
       "      <th>Disabler</th>\n",
       "      <th>Initiator</th>\n",
       "      <th>Durable</th>\n",
       "      <th>Support</th>\n",
       "      <th>Jungler</th>\n",
       "      <th>Carry</th>\n",
       "      <th>Pusher</th>\n",
       "      <th>Escape</th>\n",
       "    </tr>\n",
       "  </thead>\n",
       "  <tbody>\n",
       "    <tr>\n",
       "      <th>0</th>\n",
       "      <td>1</td>\n",
       "      <td>1</td>\n",
       "      <td>0.0</td>\n",
       "      <td>0.0</td>\n",
       "      <td>29</td>\n",
       "      <td>33</td>\n",
       "      <td>23</td>\n",
       "      <td>24</td>\n",
       "      <td>12</td>\n",
       "      <td>1.3</td>\n",
       "      <td>...</td>\n",
       "      <td>0</td>\n",
       "      <td>1.0</td>\n",
       "      <td>0.0</td>\n",
       "      <td>0.0</td>\n",
       "      <td>0.0</td>\n",
       "      <td>0.0</td>\n",
       "      <td>0.0</td>\n",
       "      <td>1.0</td>\n",
       "      <td>0.0</td>\n",
       "      <td>1.0</td>\n",
       "    </tr>\n",
       "    <tr>\n",
       "      <th>1</th>\n",
       "      <td>2</td>\n",
       "      <td>1</td>\n",
       "      <td>0.0</td>\n",
       "      <td>-1.0</td>\n",
       "      <td>27</td>\n",
       "      <td>31</td>\n",
       "      <td>25</td>\n",
       "      <td>20</td>\n",
       "      <td>18</td>\n",
       "      <td>3.4</td>\n",
       "      <td>...</td>\n",
       "      <td>1</td>\n",
       "      <td>0.0</td>\n",
       "      <td>1.0</td>\n",
       "      <td>1.0</td>\n",
       "      <td>1.0</td>\n",
       "      <td>0.0</td>\n",
       "      <td>1.0</td>\n",
       "      <td>1.0</td>\n",
       "      <td>0.0</td>\n",
       "      <td>0.0</td>\n",
       "    </tr>\n",
       "    <tr>\n",
       "      <th>2</th>\n",
       "      <td>3</td>\n",
       "      <td>0</td>\n",
       "      <td>0.0</td>\n",
       "      <td>1.0</td>\n",
       "      <td>35</td>\n",
       "      <td>41</td>\n",
       "      <td>22</td>\n",
       "      <td>22</td>\n",
       "      <td>22</td>\n",
       "      <td>2.6</td>\n",
       "      <td>...</td>\n",
       "      <td>0</td>\n",
       "      <td>1.0</td>\n",
       "      <td>1.0</td>\n",
       "      <td>0.0</td>\n",
       "      <td>1.0</td>\n",
       "      <td>1.0</td>\n",
       "      <td>0.0</td>\n",
       "      <td>0.0</td>\n",
       "      <td>0.0</td>\n",
       "      <td>0.0</td>\n",
       "    </tr>\n",
       "    <tr>\n",
       "      <th>3</th>\n",
       "      <td>4</td>\n",
       "      <td>1</td>\n",
       "      <td>0.0</td>\n",
       "      <td>2.0</td>\n",
       "      <td>35</td>\n",
       "      <td>41</td>\n",
       "      <td>24</td>\n",
       "      <td>22</td>\n",
       "      <td>17</td>\n",
       "      <td>2.7</td>\n",
       "      <td>...</td>\n",
       "      <td>0</td>\n",
       "      <td>1.0</td>\n",
       "      <td>1.0</td>\n",
       "      <td>1.0</td>\n",
       "      <td>0.0</td>\n",
       "      <td>0.0</td>\n",
       "      <td>1.0</td>\n",
       "      <td>1.0</td>\n",
       "      <td>0.0</td>\n",
       "      <td>0.0</td>\n",
       "    </tr>\n",
       "    <tr>\n",
       "      <th>4</th>\n",
       "      <td>5</td>\n",
       "      <td>0</td>\n",
       "      <td>1.0</td>\n",
       "      <td>-1.0</td>\n",
       "      <td>28</td>\n",
       "      <td>34</td>\n",
       "      <td>18</td>\n",
       "      <td>16</td>\n",
       "      <td>16</td>\n",
       "      <td>2.2</td>\n",
       "      <td>...</td>\n",
       "      <td>0</td>\n",
       "      <td>1.0</td>\n",
       "      <td>1.0</td>\n",
       "      <td>0.0</td>\n",
       "      <td>0.0</td>\n",
       "      <td>1.0</td>\n",
       "      <td>1.0</td>\n",
       "      <td>0.0</td>\n",
       "      <td>0.0</td>\n",
       "      <td>0.0</td>\n",
       "    </tr>\n",
       "  </tbody>\n",
       "</table>\n",
       "<p>5 rows × 51 columns</p>\n",
       "</div>"
      ],
      "text/plain": [
       "   hero_id  is_Melle  base_mana_regen  base_armor  base_attack_min  \\\n",
       "0        1         1              0.0         0.0               29   \n",
       "1        2         1              0.0        -1.0               27   \n",
       "2        3         0              0.0         1.0               35   \n",
       "3        4         1              0.0         2.0               35   \n",
       "4        5         0              1.0        -1.0               28   \n",
       "\n",
       "   base_attack_max  base_str  base_agi  base_int  str_gain  ...  \\\n",
       "0               33        23        24        12       1.3  ...   \n",
       "1               31        25        20        18       3.4  ...   \n",
       "2               41        22        22        22       2.6  ...   \n",
       "3               41        24        22        17       2.7  ...   \n",
       "4               34        18        16        16       2.2  ...   \n",
       "\n",
       "   primary_attr_str  Nuker  Disabler  Initiator  Durable  Support  Jungler  \\\n",
       "0                 0    1.0       0.0        0.0      0.0      0.0      0.0   \n",
       "1                 1    0.0       1.0        1.0      1.0      0.0      1.0   \n",
       "2                 0    1.0       1.0        0.0      1.0      1.0      0.0   \n",
       "3                 0    1.0       1.0        1.0      0.0      0.0      1.0   \n",
       "4                 0    1.0       1.0        0.0      0.0      1.0      1.0   \n",
       "\n",
       "   Carry  Pusher  Escape  \n",
       "0    1.0     0.0     1.0  \n",
       "1    1.0     0.0     0.0  \n",
       "2    0.0     0.0     0.0  \n",
       "3    1.0     0.0     0.0  \n",
       "4    0.0     0.0     0.0  \n",
       "\n",
       "[5 rows x 51 columns]"
      ]
     },
     "execution_count": 3,
     "metadata": {},
     "output_type": "execute_result"
    }
   ],
   "source": [
    "hero_stats_raw = pd.read_json(data_path+'/hero_stats.json')\n",
    "hero_stats_df = transformer_utils.hero_stats_tranformer(hero_stats_raw)\n",
    "\n",
    "# Removing hero name\n",
    "hero_stats_df = hero_stats_df.loc[:, hero_cols]\n",
    "\n",
    "hero_stats_df.head()"
   ]
  },
  {
   "cell_type": "markdown",
   "id": "108b4ebf",
   "metadata": {},
   "source": [
    "---\n",
    "## Partidas Dota 2 - Transfomador "
   ]
  },
  {
   "cell_type": "markdown",
   "id": "235fdc9f",
   "metadata": {},
   "source": [
    "**Searching for each .csv file in the 'raw_data' folder**"
   ]
  },
  {
   "cell_type": "code",
   "execution_count": 4,
   "id": "337a4feb",
   "metadata": {},
   "outputs": [
    {
     "name": "stdout",
     "output_type": "stream",
     "text": [
      ".csv file found:\n",
      "\n",
      "data.csv\n",
      ".csv file found:\n",
      "\n",
      ".csv file found:\n",
      "\n",
      ".csv file found:\n",
      "\n"
     ]
    }
   ],
   "source": [
    "lst_df = []\n",
    "for root, dirs, files in os.walk(data_path):\n",
    "    for filename in files:\n",
    "        xlsx_file, file_extension = os.path.splitext(filename)\n",
    "        print('.csv file found:\\n')\n",
    "        if(file_extension == '.csv'):\n",
    "            print(filename)\n",
    "            file_path = root +'\\\\' + filename\n",
    "            lst_df.append(pd.read_csv(file_path))  "
   ]
  },
  {
   "cell_type": "markdown",
   "id": "10893e5a",
   "metadata": {},
   "source": [
    "**Drop NA**"
   ]
  },
  {
   "cell_type": "code",
   "execution_count": 5,
   "id": "db34e109",
   "metadata": {},
   "outputs": [
    {
     "name": "stdout",
     "output_type": "stream",
     "text": [
      "Dataframe shape: (113400, 9)\n",
      "Total nan: \n",
      "\n",
      " Unnamed: 0      0\n",
      "match_id        0\n",
      "radiant_win     0\n",
      "avg_mmr         0\n",
      "duration        0\n",
      "lobby_type      0\n",
      "game_mode       0\n",
      "radiant_team    0\n",
      "dire_team       0\n",
      "dtype: int64\n",
      "\n",
      "Dataframe shape: (113400, 9)\n"
     ]
    }
   ],
   "source": [
    "match_df = pd.concat(lst_df)\n",
    "\n",
    "print('Dataframe shape:', match_df.shape)\n",
    "print('Total nan: \\n\\n', match_df.isna().sum())\n",
    "\n",
    "match_df.dropna(inplace=True)\n",
    "print('\\nDataframe shape:', match_df.shape)"
   ]
  },
  {
   "cell_type": "markdown",
   "id": "b1cecba5",
   "metadata": {},
   "source": [
    "**Remove duplicated rows**"
   ]
  },
  {
   "cell_type": "code",
   "execution_count": 6,
   "id": "a7d7b1ac",
   "metadata": {},
   "outputs": [
    {
     "name": "stdout",
     "output_type": "stream",
     "text": [
      "\n",
      "Dataframe shape: (113400, 9)\n"
     ]
    }
   ],
   "source": [
    "match_df.drop_duplicates(subset=['match_id'])\n",
    "print('\\nDataframe shape:', match_df.shape)"
   ]
  },
  {
   "cell_type": "code",
   "execution_count": 7,
   "id": "5f685f3f",
   "metadata": {},
   "outputs": [
    {
     "data": {
      "text/html": [
       "<div>\n",
       "<style scoped>\n",
       "    .dataframe tbody tr th:only-of-type {\n",
       "        vertical-align: middle;\n",
       "    }\n",
       "\n",
       "    .dataframe tbody tr th {\n",
       "        vertical-align: top;\n",
       "    }\n",
       "\n",
       "    .dataframe thead th {\n",
       "        text-align: right;\n",
       "    }\n",
       "</style>\n",
       "<table border=\"1\" class=\"dataframe\">\n",
       "  <thead>\n",
       "    <tr style=\"text-align: right;\">\n",
       "      <th></th>\n",
       "      <th>hero_id</th>\n",
       "      <th>is_Melle</th>\n",
       "      <th>base_mana_regen</th>\n",
       "      <th>base_armor</th>\n",
       "      <th>base_attack_min</th>\n",
       "    </tr>\n",
       "  </thead>\n",
       "  <tbody>\n",
       "    <tr>\n",
       "      <th>1</th>\n",
       "      <td>2</td>\n",
       "      <td>1</td>\n",
       "      <td>0.0</td>\n",
       "      <td>-1.0</td>\n",
       "      <td>27</td>\n",
       "    </tr>\n",
       "    <tr>\n",
       "      <th>12</th>\n",
       "      <td>13</td>\n",
       "      <td>0</td>\n",
       "      <td>0.0</td>\n",
       "      <td>-3.0</td>\n",
       "      <td>23</td>\n",
       "    </tr>\n",
       "    <tr>\n",
       "      <th>68</th>\n",
       "      <td>70</td>\n",
       "      <td>1</td>\n",
       "      <td>0.0</td>\n",
       "      <td>1.0</td>\n",
       "      <td>24</td>\n",
       "    </tr>\n",
       "    <tr>\n",
       "      <th>113</th>\n",
       "      <td>119</td>\n",
       "      <td>0</td>\n",
       "      <td>0.0</td>\n",
       "      <td>-1.0</td>\n",
       "      <td>27</td>\n",
       "    </tr>\n",
       "    <tr>\n",
       "      <th>115</th>\n",
       "      <td>121</td>\n",
       "      <td>0</td>\n",
       "      <td>0.0</td>\n",
       "      <td>0.0</td>\n",
       "      <td>21</td>\n",
       "    </tr>\n",
       "  </tbody>\n",
       "</table>\n",
       "</div>"
      ],
      "text/plain": [
       "     hero_id  is_Melle  base_mana_regen  base_armor  base_attack_min\n",
       "1          2         1              0.0        -1.0               27\n",
       "12        13         0              0.0        -3.0               23\n",
       "68        70         1              0.0         1.0               24\n",
       "113      119         0              0.0        -1.0               27\n",
       "115      121         0              0.0         0.0               21"
      ]
     },
     "execution_count": 7,
     "metadata": {},
     "output_type": "execute_result"
    }
   ],
   "source": [
    "team_id = [121,119,2,13,70]\n",
    "aux = hero_stats_df.query(\"hero_id in @team_id\") \\\n",
    "                        .loc[:,['hero_id', 'is_Melle', \n",
    "                               'base_mana_regen', 'base_armor',\n",
    "                                'base_attack_min']]\n",
    "aux"
   ]
  },
  {
   "cell_type": "code",
   "execution_count": 8,
   "id": "6b18a92a",
   "metadata": {},
   "outputs": [
    {
     "data": {
      "text/plain": [
       "array([[  2.,   1.,   0.,  -1.,  27.],\n",
       "       [ 13.,   0.,   0.,  -3.,  23.],\n",
       "       [ 70.,   1.,   0.,   1.,  24.],\n",
       "       [119.,   0.,   0.,  -1.,  27.],\n",
       "       [121.,   0.,   0.,   0.,  21.]])"
      ]
     },
     "execution_count": 8,
     "metadata": {},
     "output_type": "execute_result"
    }
   ],
   "source": [
    "aux.values"
   ]
  },
  {
   "cell_type": "code",
   "execution_count": 9,
   "id": "1b864531",
   "metadata": {},
   "outputs": [
    {
     "data": {
      "text/plain": [
       "array([  2.,   1.,   0.,  -1.,  27.,  13.,   0.,   0.,  -3.,  23.,  70.,\n",
       "         1.,   0.,   1.,  24., 119.,   0.,   0.,  -1.,  27., 121.,   0.,\n",
       "         0.,   0.,  21.])"
      ]
     },
     "execution_count": 9,
     "metadata": {},
     "output_type": "execute_result"
    }
   ],
   "source": [
    "aux.values.ravel()"
   ]
  },
  {
   "cell_type": "code",
   "execution_count": 10,
   "id": "939c687d",
   "metadata": {},
   "outputs": [
    {
     "data": {
      "text/html": [
       "<div>\n",
       "<style scoped>\n",
       "    .dataframe tbody tr th:only-of-type {\n",
       "        vertical-align: middle;\n",
       "    }\n",
       "\n",
       "    .dataframe tbody tr th {\n",
       "        vertical-align: top;\n",
       "    }\n",
       "\n",
       "    .dataframe thead th {\n",
       "        text-align: right;\n",
       "    }\n",
       "</style>\n",
       "<table border=\"1\" class=\"dataframe\">\n",
       "  <thead>\n",
       "    <tr style=\"text-align: right;\">\n",
       "      <th></th>\n",
       "      <th>Unnamed: 0</th>\n",
       "      <th>match_id</th>\n",
       "      <th>radiant_win</th>\n",
       "      <th>avg_mmr</th>\n",
       "      <th>duration</th>\n",
       "      <th>lobby_type</th>\n",
       "      <th>game_mode</th>\n",
       "      <th>radiant_team</th>\n",
       "      <th>dire_team</th>\n",
       "    </tr>\n",
       "  </thead>\n",
       "  <tbody>\n",
       "    <tr>\n",
       "      <th>0</th>\n",
       "      <td>0</td>\n",
       "      <td>6079635415</td>\n",
       "      <td>False</td>\n",
       "      <td>4104</td>\n",
       "      <td>2147</td>\n",
       "      <td>7</td>\n",
       "      <td>22</td>\n",
       "      <td>94,67,112,5,16</td>\n",
       "      <td>14,90,52,1,121</td>\n",
       "    </tr>\n",
       "    <tr>\n",
       "      <th>1</th>\n",
       "      <td>1</td>\n",
       "      <td>6079635417</td>\n",
       "      <td>False</td>\n",
       "      <td>6421</td>\n",
       "      <td>1526</td>\n",
       "      <td>7</td>\n",
       "      <td>22</td>\n",
       "      <td>72,9,58,89,16</td>\n",
       "      <td>79,25,12,119,120</td>\n",
       "    </tr>\n",
       "    <tr>\n",
       "      <th>2</th>\n",
       "      <td>2</td>\n",
       "      <td>6079635700</td>\n",
       "      <td>True</td>\n",
       "      <td>5062</td>\n",
       "      <td>1323</td>\n",
       "      <td>7</td>\n",
       "      <td>22</td>\n",
       "      <td>111,48,53,101,26</td>\n",
       "      <td>31,41,10,88,62</td>\n",
       "    </tr>\n",
       "    <tr>\n",
       "      <th>3</th>\n",
       "      <td>3</td>\n",
       "      <td>6079635704</td>\n",
       "      <td>True</td>\n",
       "      <td>3943</td>\n",
       "      <td>1956</td>\n",
       "      <td>7</td>\n",
       "      <td>22</td>\n",
       "      <td>41,83,74,123,114</td>\n",
       "      <td>109,22,98,107,30</td>\n",
       "    </tr>\n",
       "    <tr>\n",
       "      <th>4</th>\n",
       "      <td>4</td>\n",
       "      <td>6079635813</td>\n",
       "      <td>False</td>\n",
       "      <td>3515</td>\n",
       "      <td>2087</td>\n",
       "      <td>7</td>\n",
       "      <td>3</td>\n",
       "      <td>59,112,4,41,31</td>\n",
       "      <td>88,11,96,110,10</td>\n",
       "    </tr>\n",
       "  </tbody>\n",
       "</table>\n",
       "</div>"
      ],
      "text/plain": [
       "   Unnamed: 0    match_id  radiant_win  avg_mmr  duration  lobby_type  \\\n",
       "0           0  6079635415        False     4104      2147           7   \n",
       "1           1  6079635417        False     6421      1526           7   \n",
       "2           2  6079635700         True     5062      1323           7   \n",
       "3           3  6079635704         True     3943      1956           7   \n",
       "4           4  6079635813        False     3515      2087           7   \n",
       "\n",
       "   game_mode      radiant_team         dire_team  \n",
       "0         22    94,67,112,5,16    14,90,52,1,121  \n",
       "1         22     72,9,58,89,16  79,25,12,119,120  \n",
       "2         22  111,48,53,101,26    31,41,10,88,62  \n",
       "3         22  41,83,74,123,114  109,22,98,107,30  \n",
       "4          3    59,112,4,41,31   88,11,96,110,10  "
      ]
     },
     "execution_count": 10,
     "metadata": {},
     "output_type": "execute_result"
    }
   ],
   "source": [
    "match_df.head()"
   ]
  },
  {
   "cell_type": "markdown",
   "id": "0e269db5",
   "metadata": {},
   "source": [
    "---\n",
    "## Concatenar informações de cada herói\n",
    "1. **``create_features_df``**: cria um dataframe para os dados serem sumarizados; \n",
    "2. **``ravel_feature_by_team``:** para cada linha, faz uma busca do status do time dentro do dataframe de hero_status e trazer a informação completa por herói;\n",
    "3. **``populate_feature_df``**: adiciona o resultado agregado ao dataframe final."
   ]
  },
  {
   "cell_type": "code",
   "execution_count": 11,
   "id": "691c056d",
   "metadata": {},
   "outputs": [],
   "source": [
    "def create_features_df(match_df, hero_stats_df):\n",
    "    # Creating dataframe for features\n",
    "    hero_stats_feature_cols = hero_stats_df.columns[1:]\n",
    "    \n",
    "    feature_cols = []\n",
    "    for i in range(5):\n",
    "        feature_cols += list('Radiant_'+str(i+1)+'_'+hero_stats_feature_cols) \\\n",
    "                        + list('Dire_'+str(i+1)+'_'+hero_stats_feature_cols)\n",
    "\n",
    "\n",
    "    zero_mtx = np.zeros([match_df.shape[0], len(feature_cols)])\n",
    "    feature_df = pd.DataFrame(zero_mtx, columns=feature_cols)\n",
    "    \n",
    "    return feature_df"
   ]
  },
  {
   "cell_type": "code",
   "execution_count": 12,
   "id": "985746cd",
   "metadata": {},
   "outputs": [],
   "source": [
    "def ravel_feature_by_team(team_heros_id, hero_stats_df):\n",
    "    \n",
    "    intermediate_df = hero_stats_df.query(\"hero_id in @team_heros_id\") \\\n",
    "                                .loc[:, hero_stats_df.columns != 'hero_id']\n",
    "    \n",
    "    ravel_row = intermediate_df.values.ravel()\n",
    "    \n",
    "    return ravel_row"
   ]
  },
  {
   "cell_type": "code",
   "execution_count": 13,
   "id": "cc80a6b0",
   "metadata": {},
   "outputs": [],
   "source": [
    "def populate_feature_df(match_df, agg_function = 'sum'):\n",
    "\n",
    "    cols_by_team = int(feature_df.shape[1] / 2)\n",
    "    \n",
    "    for i in np.arange(match_df.shape[0]):\n",
    "        row = match_df.iloc[i,:]\n",
    "\n",
    "        radiant_team_str = map(int, row['radiant_team'].split(\",\"))\n",
    "        radiant_team = list(radiant_team_str)\n",
    "\n",
    "        dire_team_str = map(int, row['dire_team'].split(\",\"))\n",
    "        dire_team = list(dire_team_str)\n",
    "\n",
    "        agg_row_radiant = ravel_feature_by_team(radiant_team, hero_stats_df) \n",
    "\n",
    "        agg_row_dire = ravel_feature_by_team(dire_team, hero_stats_df) \n",
    "        \n",
    "        feature_df.iloc[i, 0:cols_by_team] = agg_row_radiant\n",
    "        feature_df.iloc[i, cols_by_team:] = agg_row_dire\n",
    "    \n",
    "    return feature_df"
   ]
  },
  {
   "cell_type": "code",
   "execution_count": 14,
   "id": "537563b7",
   "metadata": {
    "scrolled": true
   },
   "outputs": [
    {
     "ename": "ValueError",
     "evalue": "could not broadcast input array from shape (200,) into shape (250,)",
     "output_type": "error",
     "traceback": [
      "\u001b[1;31m---------------------------------------------------------------------------\u001b[0m",
      "\u001b[1;31mValueError\u001b[0m                                Traceback (most recent call last)",
      "\u001b[1;32m<ipython-input-14-92ca1cbf676c>\u001b[0m in \u001b[0;36m<module>\u001b[1;34m\u001b[0m\n\u001b[0;32m      1\u001b[0m \u001b[0mfeature_df\u001b[0m \u001b[1;33m=\u001b[0m \u001b[0mcreate_features_df\u001b[0m\u001b[1;33m(\u001b[0m\u001b[0mmatch_df\u001b[0m\u001b[1;33m,\u001b[0m \u001b[0mhero_stats_df\u001b[0m\u001b[1;33m)\u001b[0m\u001b[1;33m\u001b[0m\u001b[1;33m\u001b[0m\u001b[0m\n\u001b[1;32m----> 2\u001b[1;33m \u001b[0mfeature_df\u001b[0m \u001b[1;33m=\u001b[0m \u001b[0mpopulate_feature_df\u001b[0m\u001b[1;33m(\u001b[0m\u001b[0mmatch_df\u001b[0m\u001b[1;33m,\u001b[0m \u001b[0magg_function\u001b[0m \u001b[1;33m=\u001b[0m \u001b[1;34m'sum'\u001b[0m\u001b[1;33m)\u001b[0m\u001b[1;33m\u001b[0m\u001b[1;33m\u001b[0m\u001b[0m\n\u001b[0m\u001b[0;32m      3\u001b[0m \u001b[0mfeature_df\u001b[0m\u001b[1;33m.\u001b[0m\u001b[0mhead\u001b[0m\u001b[1;33m(\u001b[0m\u001b[1;33m)\u001b[0m\u001b[1;33m\u001b[0m\u001b[1;33m\u001b[0m\u001b[0m\n",
      "\u001b[1;32m<ipython-input-13-f38ad9ad83ed>\u001b[0m in \u001b[0;36mpopulate_feature_df\u001b[1;34m(match_df, agg_function)\u001b[0m\n\u001b[0;32m     16\u001b[0m         \u001b[0magg_row_dire\u001b[0m \u001b[1;33m=\u001b[0m \u001b[0mravel_feature_by_team\u001b[0m\u001b[1;33m(\u001b[0m\u001b[0mdire_team\u001b[0m\u001b[1;33m,\u001b[0m \u001b[0mhero_stats_df\u001b[0m\u001b[1;33m)\u001b[0m\u001b[1;33m\u001b[0m\u001b[1;33m\u001b[0m\u001b[0m\n\u001b[0;32m     17\u001b[0m \u001b[1;33m\u001b[0m\u001b[0m\n\u001b[1;32m---> 18\u001b[1;33m         \u001b[0mfeature_df\u001b[0m\u001b[1;33m.\u001b[0m\u001b[0miloc\u001b[0m\u001b[1;33m[\u001b[0m\u001b[0mi\u001b[0m\u001b[1;33m,\u001b[0m \u001b[1;36m0\u001b[0m\u001b[1;33m:\u001b[0m\u001b[0mcols_by_team\u001b[0m\u001b[1;33m]\u001b[0m \u001b[1;33m=\u001b[0m \u001b[0magg_row_radiant\u001b[0m\u001b[1;33m\u001b[0m\u001b[1;33m\u001b[0m\u001b[0m\n\u001b[0m\u001b[0;32m     19\u001b[0m         \u001b[0mfeature_df\u001b[0m\u001b[1;33m.\u001b[0m\u001b[0miloc\u001b[0m\u001b[1;33m[\u001b[0m\u001b[0mi\u001b[0m\u001b[1;33m,\u001b[0m \u001b[0mcols_by_team\u001b[0m\u001b[1;33m:\u001b[0m\u001b[1;33m]\u001b[0m \u001b[1;33m=\u001b[0m \u001b[0magg_row_dire\u001b[0m\u001b[1;33m\u001b[0m\u001b[1;33m\u001b[0m\u001b[0m\n\u001b[0;32m     20\u001b[0m \u001b[1;33m\u001b[0m\u001b[0m\n",
      "\u001b[1;32m~\\anaconda3\\lib\\site-packages\\pandas\\core\\indexing.py\u001b[0m in \u001b[0;36m__setitem__\u001b[1;34m(self, key, value)\u001b[0m\n\u001b[0;32m    690\u001b[0m \u001b[1;33m\u001b[0m\u001b[0m\n\u001b[0;32m    691\u001b[0m         \u001b[0miloc\u001b[0m \u001b[1;33m=\u001b[0m \u001b[0mself\u001b[0m \u001b[1;32mif\u001b[0m \u001b[0mself\u001b[0m\u001b[1;33m.\u001b[0m\u001b[0mname\u001b[0m \u001b[1;33m==\u001b[0m \u001b[1;34m\"iloc\"\u001b[0m \u001b[1;32melse\u001b[0m \u001b[0mself\u001b[0m\u001b[1;33m.\u001b[0m\u001b[0mobj\u001b[0m\u001b[1;33m.\u001b[0m\u001b[0miloc\u001b[0m\u001b[1;33m\u001b[0m\u001b[1;33m\u001b[0m\u001b[0m\n\u001b[1;32m--> 692\u001b[1;33m         \u001b[0miloc\u001b[0m\u001b[1;33m.\u001b[0m\u001b[0m_setitem_with_indexer\u001b[0m\u001b[1;33m(\u001b[0m\u001b[0mindexer\u001b[0m\u001b[1;33m,\u001b[0m \u001b[0mvalue\u001b[0m\u001b[1;33m,\u001b[0m \u001b[0mself\u001b[0m\u001b[1;33m.\u001b[0m\u001b[0mname\u001b[0m\u001b[1;33m)\u001b[0m\u001b[1;33m\u001b[0m\u001b[1;33m\u001b[0m\u001b[0m\n\u001b[0m\u001b[0;32m    693\u001b[0m \u001b[1;33m\u001b[0m\u001b[0m\n\u001b[0;32m    694\u001b[0m     \u001b[1;32mdef\u001b[0m \u001b[0m_validate_key\u001b[0m\u001b[1;33m(\u001b[0m\u001b[0mself\u001b[0m\u001b[1;33m,\u001b[0m \u001b[0mkey\u001b[0m\u001b[1;33m,\u001b[0m \u001b[0maxis\u001b[0m\u001b[1;33m:\u001b[0m \u001b[0mint\u001b[0m\u001b[1;33m)\u001b[0m\u001b[1;33m:\u001b[0m\u001b[1;33m\u001b[0m\u001b[1;33m\u001b[0m\u001b[0m\n",
      "\u001b[1;32m~\\anaconda3\\lib\\site-packages\\pandas\\core\\indexing.py\u001b[0m in \u001b[0;36m_setitem_with_indexer\u001b[1;34m(self, indexer, value, name)\u001b[0m\n\u001b[0;32m   1635\u001b[0m             \u001b[0mself\u001b[0m\u001b[1;33m.\u001b[0m\u001b[0m_setitem_with_indexer_split_path\u001b[0m\u001b[1;33m(\u001b[0m\u001b[0mindexer\u001b[0m\u001b[1;33m,\u001b[0m \u001b[0mvalue\u001b[0m\u001b[1;33m,\u001b[0m \u001b[0mname\u001b[0m\u001b[1;33m)\u001b[0m\u001b[1;33m\u001b[0m\u001b[1;33m\u001b[0m\u001b[0m\n\u001b[0;32m   1636\u001b[0m         \u001b[1;32melse\u001b[0m\u001b[1;33m:\u001b[0m\u001b[1;33m\u001b[0m\u001b[1;33m\u001b[0m\u001b[0m\n\u001b[1;32m-> 1637\u001b[1;33m             \u001b[0mself\u001b[0m\u001b[1;33m.\u001b[0m\u001b[0m_setitem_single_block\u001b[0m\u001b[1;33m(\u001b[0m\u001b[0mindexer\u001b[0m\u001b[1;33m,\u001b[0m \u001b[0mvalue\u001b[0m\u001b[1;33m,\u001b[0m \u001b[0mname\u001b[0m\u001b[1;33m)\u001b[0m\u001b[1;33m\u001b[0m\u001b[1;33m\u001b[0m\u001b[0m\n\u001b[0m\u001b[0;32m   1638\u001b[0m \u001b[1;33m\u001b[0m\u001b[0m\n\u001b[0;32m   1639\u001b[0m     \u001b[1;32mdef\u001b[0m \u001b[0m_setitem_with_indexer_split_path\u001b[0m\u001b[1;33m(\u001b[0m\u001b[0mself\u001b[0m\u001b[1;33m,\u001b[0m \u001b[0mindexer\u001b[0m\u001b[1;33m,\u001b[0m \u001b[0mvalue\u001b[0m\u001b[1;33m,\u001b[0m \u001b[0mname\u001b[0m\u001b[1;33m:\u001b[0m \u001b[0mstr\u001b[0m\u001b[1;33m)\u001b[0m\u001b[1;33m:\u001b[0m\u001b[1;33m\u001b[0m\u001b[1;33m\u001b[0m\u001b[0m\n",
      "\u001b[1;32m~\\anaconda3\\lib\\site-packages\\pandas\\core\\indexing.py\u001b[0m in \u001b[0;36m_setitem_single_block\u001b[1;34m(self, indexer, value, name)\u001b[0m\n\u001b[0;32m   1859\u001b[0m         \u001b[1;31m# actually do the set\u001b[0m\u001b[1;33m\u001b[0m\u001b[1;33m\u001b[0m\u001b[1;33m\u001b[0m\u001b[0m\n\u001b[0;32m   1860\u001b[0m         \u001b[0mself\u001b[0m\u001b[1;33m.\u001b[0m\u001b[0mobj\u001b[0m\u001b[1;33m.\u001b[0m\u001b[0m_consolidate_inplace\u001b[0m\u001b[1;33m(\u001b[0m\u001b[1;33m)\u001b[0m\u001b[1;33m\u001b[0m\u001b[1;33m\u001b[0m\u001b[0m\n\u001b[1;32m-> 1861\u001b[1;33m         \u001b[0mself\u001b[0m\u001b[1;33m.\u001b[0m\u001b[0mobj\u001b[0m\u001b[1;33m.\u001b[0m\u001b[0m_mgr\u001b[0m \u001b[1;33m=\u001b[0m \u001b[0mself\u001b[0m\u001b[1;33m.\u001b[0m\u001b[0mobj\u001b[0m\u001b[1;33m.\u001b[0m\u001b[0m_mgr\u001b[0m\u001b[1;33m.\u001b[0m\u001b[0msetitem\u001b[0m\u001b[1;33m(\u001b[0m\u001b[0mindexer\u001b[0m\u001b[1;33m=\u001b[0m\u001b[0mindexer\u001b[0m\u001b[1;33m,\u001b[0m \u001b[0mvalue\u001b[0m\u001b[1;33m=\u001b[0m\u001b[0mvalue\u001b[0m\u001b[1;33m)\u001b[0m\u001b[1;33m\u001b[0m\u001b[1;33m\u001b[0m\u001b[0m\n\u001b[0m\u001b[0;32m   1862\u001b[0m         \u001b[0mself\u001b[0m\u001b[1;33m.\u001b[0m\u001b[0mobj\u001b[0m\u001b[1;33m.\u001b[0m\u001b[0m_maybe_update_cacher\u001b[0m\u001b[1;33m(\u001b[0m\u001b[0mclear\u001b[0m\u001b[1;33m=\u001b[0m\u001b[1;32mTrue\u001b[0m\u001b[1;33m)\u001b[0m\u001b[1;33m\u001b[0m\u001b[1;33m\u001b[0m\u001b[0m\n\u001b[0;32m   1863\u001b[0m \u001b[1;33m\u001b[0m\u001b[0m\n",
      "\u001b[1;32m~\\anaconda3\\lib\\site-packages\\pandas\\core\\internals\\managers.py\u001b[0m in \u001b[0;36msetitem\u001b[1;34m(self, indexer, value)\u001b[0m\n\u001b[0;32m    566\u001b[0m \u001b[1;33m\u001b[0m\u001b[0m\n\u001b[0;32m    567\u001b[0m     \u001b[1;32mdef\u001b[0m \u001b[0msetitem\u001b[0m\u001b[1;33m(\u001b[0m\u001b[0mself\u001b[0m\u001b[1;33m,\u001b[0m \u001b[0mindexer\u001b[0m\u001b[1;33m,\u001b[0m \u001b[0mvalue\u001b[0m\u001b[1;33m)\u001b[0m \u001b[1;33m->\u001b[0m \u001b[1;34m\"BlockManager\"\u001b[0m\u001b[1;33m:\u001b[0m\u001b[1;33m\u001b[0m\u001b[1;33m\u001b[0m\u001b[0m\n\u001b[1;32m--> 568\u001b[1;33m         \u001b[1;32mreturn\u001b[0m \u001b[0mself\u001b[0m\u001b[1;33m.\u001b[0m\u001b[0mapply\u001b[0m\u001b[1;33m(\u001b[0m\u001b[1;34m\"setitem\"\u001b[0m\u001b[1;33m,\u001b[0m \u001b[0mindexer\u001b[0m\u001b[1;33m=\u001b[0m\u001b[0mindexer\u001b[0m\u001b[1;33m,\u001b[0m \u001b[0mvalue\u001b[0m\u001b[1;33m=\u001b[0m\u001b[0mvalue\u001b[0m\u001b[1;33m)\u001b[0m\u001b[1;33m\u001b[0m\u001b[1;33m\u001b[0m\u001b[0m\n\u001b[0m\u001b[0;32m    569\u001b[0m \u001b[1;33m\u001b[0m\u001b[0m\n\u001b[0;32m    570\u001b[0m     \u001b[1;32mdef\u001b[0m \u001b[0mputmask\u001b[0m\u001b[1;33m(\u001b[0m\u001b[0mself\u001b[0m\u001b[1;33m,\u001b[0m \u001b[0mmask\u001b[0m\u001b[1;33m,\u001b[0m \u001b[0mnew\u001b[0m\u001b[1;33m,\u001b[0m \u001b[0malign\u001b[0m\u001b[1;33m:\u001b[0m \u001b[0mbool\u001b[0m \u001b[1;33m=\u001b[0m \u001b[1;32mTrue\u001b[0m\u001b[1;33m,\u001b[0m \u001b[0maxis\u001b[0m\u001b[1;33m:\u001b[0m \u001b[0mint\u001b[0m \u001b[1;33m=\u001b[0m \u001b[1;36m0\u001b[0m\u001b[1;33m)\u001b[0m\u001b[1;33m:\u001b[0m\u001b[1;33m\u001b[0m\u001b[1;33m\u001b[0m\u001b[0m\n",
      "\u001b[1;32m~\\anaconda3\\lib\\site-packages\\pandas\\core\\internals\\managers.py\u001b[0m in \u001b[0;36mapply\u001b[1;34m(self, f, align_keys, ignore_failures, **kwargs)\u001b[0m\n\u001b[0;32m    425\u001b[0m                     \u001b[0mapplied\u001b[0m \u001b[1;33m=\u001b[0m \u001b[0mb\u001b[0m\u001b[1;33m.\u001b[0m\u001b[0mapply\u001b[0m\u001b[1;33m(\u001b[0m\u001b[0mf\u001b[0m\u001b[1;33m,\u001b[0m \u001b[1;33m**\u001b[0m\u001b[0mkwargs\u001b[0m\u001b[1;33m)\u001b[0m\u001b[1;33m\u001b[0m\u001b[1;33m\u001b[0m\u001b[0m\n\u001b[0;32m    426\u001b[0m                 \u001b[1;32melse\u001b[0m\u001b[1;33m:\u001b[0m\u001b[1;33m\u001b[0m\u001b[1;33m\u001b[0m\u001b[0m\n\u001b[1;32m--> 427\u001b[1;33m                     \u001b[0mapplied\u001b[0m \u001b[1;33m=\u001b[0m \u001b[0mgetattr\u001b[0m\u001b[1;33m(\u001b[0m\u001b[0mb\u001b[0m\u001b[1;33m,\u001b[0m \u001b[0mf\u001b[0m\u001b[1;33m)\u001b[0m\u001b[1;33m(\u001b[0m\u001b[1;33m**\u001b[0m\u001b[0mkwargs\u001b[0m\u001b[1;33m)\u001b[0m\u001b[1;33m\u001b[0m\u001b[1;33m\u001b[0m\u001b[0m\n\u001b[0m\u001b[0;32m    428\u001b[0m             \u001b[1;32mexcept\u001b[0m \u001b[1;33m(\u001b[0m\u001b[0mTypeError\u001b[0m\u001b[1;33m,\u001b[0m \u001b[0mNotImplementedError\u001b[0m\u001b[1;33m)\u001b[0m\u001b[1;33m:\u001b[0m\u001b[1;33m\u001b[0m\u001b[1;33m\u001b[0m\u001b[0m\n\u001b[0;32m    429\u001b[0m                 \u001b[1;32mif\u001b[0m \u001b[1;32mnot\u001b[0m \u001b[0mignore_failures\u001b[0m\u001b[1;33m:\u001b[0m\u001b[1;33m\u001b[0m\u001b[1;33m\u001b[0m\u001b[0m\n",
      "\u001b[1;32m~\\anaconda3\\lib\\site-packages\\pandas\\core\\internals\\blocks.py\u001b[0m in \u001b[0;36msetitem\u001b[1;34m(self, indexer, value)\u001b[0m\n\u001b[0;32m   1033\u001b[0m         \u001b[1;31m# set\u001b[0m\u001b[1;33m\u001b[0m\u001b[1;33m\u001b[0m\u001b[1;33m\u001b[0m\u001b[0m\n\u001b[0;32m   1034\u001b[0m         \u001b[1;32melse\u001b[0m\u001b[1;33m:\u001b[0m\u001b[1;33m\u001b[0m\u001b[1;33m\u001b[0m\u001b[0m\n\u001b[1;32m-> 1035\u001b[1;33m             \u001b[0mvalues\u001b[0m\u001b[1;33m[\u001b[0m\u001b[0mindexer\u001b[0m\u001b[1;33m]\u001b[0m \u001b[1;33m=\u001b[0m \u001b[0mvalue\u001b[0m\u001b[1;33m\u001b[0m\u001b[1;33m\u001b[0m\u001b[0m\n\u001b[0m\u001b[0;32m   1036\u001b[0m \u001b[1;33m\u001b[0m\u001b[0m\n\u001b[0;32m   1037\u001b[0m         \u001b[1;32mif\u001b[0m \u001b[0mtranspose\u001b[0m\u001b[1;33m:\u001b[0m\u001b[1;33m\u001b[0m\u001b[1;33m\u001b[0m\u001b[0m\n",
      "\u001b[1;31mValueError\u001b[0m: could not broadcast input array from shape (200,) into shape (250,)"
     ]
    }
   ],
   "source": [
    "feature_df = create_features_df(match_df, hero_stats_df)\n",
    "feature_df = populate_feature_df(match_df, agg_function = 'sum')\n",
    "feature_df.head()"
   ]
  },
  {
   "cell_type": "code",
   "execution_count": null,
   "id": "db1a99a7",
   "metadata": {},
   "outputs": [],
   "source": []
  },
  {
   "cell_type": "markdown",
   "id": "f3b7cd33",
   "metadata": {},
   "source": [
    "## Incluir dados restantes\n"
   ]
  },
  {
   "cell_type": "code",
   "execution_count": null,
   "id": "469435bf",
   "metadata": {},
   "outputs": [],
   "source": [
    "cols_to_include = ['match_id', 'radiant_win', 'avg_mmr',\n",
    "                   'duration', 'lobby_type', 'game_mode']\n",
    "\n",
    "feature_df[cols_to_include] = match_df[cols_to_include]"
   ]
  },
  {
   "cell_type": "code",
   "execution_count": null,
   "id": "bff1e135",
   "metadata": {},
   "outputs": [],
   "source": [
    "feature_df.head()"
   ]
  },
  {
   "cell_type": "markdown",
   "id": "2269744b",
   "metadata": {},
   "source": [
    "**Converting string to numerical**"
   ]
  },
  {
   "cell_type": "code",
   "execution_count": null,
   "id": "440f70f5",
   "metadata": {},
   "outputs": [],
   "source": [
    "feature_df['radiant_win'] = feature_df['radiant_win'].astype(int)\n",
    "feature_df = feature_df.apply(pd.to_numeric)\n",
    "feature_df"
   ]
  },
  {
   "cell_type": "markdown",
   "id": "edf23cdb",
   "metadata": {},
   "source": [
    "## Salvando dataset\n",
    "**Saving data frame on 'working data' folder**"
   ]
  },
  {
   "cell_type": "code",
   "execution_count": null,
   "id": "79509c15",
   "metadata": {},
   "outputs": [],
   "source": [
    "working_data_path = '../data/working_data/1_TRA_v2_'\n",
    "start_file = datetime.now().strftime(\"%Y-%m-%d\")\n",
    "output_file = working_data_path + start_file + '_working_data.csv'\n",
    "\n",
    "feature_df.to_csv(output_file, index=False)"
   ]
  }
 ],
 "metadata": {
  "kernelspec": {
   "display_name": "Python 3",
   "language": "python",
   "name": "python3"
  },
  "language_info": {
   "codemirror_mode": {
    "name": "ipython",
    "version": 3
   },
   "file_extension": ".py",
   "mimetype": "text/x-python",
   "name": "python",
   "nbconvert_exporter": "python",
   "pygments_lexer": "ipython3",
   "version": "3.8.8"
  },
  "latex_envs": {
   "LaTeX_envs_menu_present": true,
   "autoclose": false,
   "autocomplete": true,
   "bibliofile": "biblio.bib",
   "cite_by": "apalike",
   "current_citInitial": 1,
   "eqLabelWithNumbers": true,
   "eqNumInitial": 1,
   "hotkeys": {
    "equation": "Ctrl-E",
    "itemize": "Ctrl-I"
   },
   "labels_anchors": false,
   "latex_user_defs": false,
   "report_style_numbering": false,
   "user_envs_cfg": false
  },
  "toc": {
   "base_numbering": 1,
   "nav_menu": {},
   "number_sections": true,
   "sideBar": true,
   "skip_h1_title": true,
   "title_cell": "Table of Contents",
   "title_sidebar": "Contents",
   "toc_cell": true,
   "toc_position": {},
   "toc_section_display": true,
   "toc_window_display": true
  }
 },
 "nbformat": 4,
 "nbformat_minor": 5
}
