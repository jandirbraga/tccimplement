{
 "cells": [
  {
   "cell_type": "code",
   "execution_count": 1,
   "id": "63a5be1e",
   "metadata": {},
   "outputs": [],
   "source": [
    "import pandas as pd\n",
    "from datetime import datetime\n",
    "import os"
   ]
  },
  {
   "cell_type": "markdown",
   "id": "235fdc9f",
   "metadata": {},
   "source": [
    "**Searching for each .csv file in the 'raw_data' folder**"
   ]
  },
  {
   "cell_type": "code",
   "execution_count": 2,
   "id": "337a4feb",
   "metadata": {},
   "outputs": [
    {
     "name": "stdout",
     "output_type": "stream",
     "text": [
      ".csv file found:\n",
      "\n",
      "21-04-24 16h14m31s.csv\n"
     ]
    }
   ],
   "source": [
    "data_path = '../data/raw_data'\n",
    "lst_df = []\n",
    "for root, dirs, files in os.walk(data_path):\n",
    "    for filename in files:\n",
    "        xlsx_file, file_extension = os.path.splitext(filename)\n",
    "        print('.csv file found:\\n')\n",
    "        if(file_extension == '.csv'):\n",
    "            print(filename)\n",
    "            file_path = root +'\\\\' + filename\n",
    "            lst_df.append(pd.read_csv(file_path))  "
   ]
  },
  {
   "cell_type": "markdown",
   "id": "10893e5a",
   "metadata": {},
   "source": [
    "**Drop NA**"
   ]
  },
  {
   "cell_type": "code",
   "execution_count": 3,
   "id": "db34e109",
   "metadata": {},
   "outputs": [
    {
     "name": "stdout",
     "output_type": "stream",
     "text": [
      "Dataframe shape: (46000, 9)\n",
      "Total nan: \n",
      "\n",
      " Unnamed: 0      0\n",
      "match_id        0\n",
      "radiant_win     0\n",
      "avg_mmr         0\n",
      "duration        0\n",
      "lobby_type      0\n",
      "game_mode       0\n",
      "radiant_team    0\n",
      "dire_team       0\n",
      "dtype: int64\n",
      "\n",
      "Dataframe shape: (46000, 9)\n"
     ]
    }
   ],
   "source": [
    "final_df = pd.concat(lst_df)\n",
    "\n",
    "print('Dataframe shape:', final_df.shape)\n",
    "print('Total nan: \\n\\n', final_df.isna().sum())\n",
    "\n",
    "final_df.dropna(inplace=True)\n",
    "print('\\nDataframe shape:', final_df.shape)"
   ]
  },
  {
   "cell_type": "markdown",
   "id": "b1cecba5",
   "metadata": {},
   "source": [
    "**Remove duplicated rows**"
   ]
  },
  {
   "cell_type": "code",
   "execution_count": 4,
   "id": "a7d7b1ac",
   "metadata": {},
   "outputs": [
    {
     "name": "stdout",
     "output_type": "stream",
     "text": [
      "\n",
      "Dataframe shape: (46000, 9)\n"
     ]
    }
   ],
   "source": [
    "final_df.drop_duplicates(subset=['match_id'])\n",
    "print('\\nDataframe shape:', final_df.shape)"
   ]
  },
  {
   "cell_type": "markdown",
   "id": "552e9e1b",
   "metadata": {},
   "source": [
    "**Adding column for each hero on radiant and dire team**"
   ]
  },
  {
   "cell_type": "code",
   "execution_count": 5,
   "id": "660fb4f7",
   "metadata": {},
   "outputs": [
    {
     "name": "stdout",
     "output_type": "stream",
     "text": [
      "\n",
      "Dataframe shape: (46000, 19)\n"
     ]
    }
   ],
   "source": [
    "radiant_columns = ['Radiant 1','Radiant 2', 'Radiant 3', 'Radiant 4', 'Radiant 5']\n",
    "dire_columns = ['Dire 1','Dire 2', 'Dire 3', 'Dire 4', 'Dire 5']\n",
    "\n",
    "final_df[radiant_columns] = final_df.radiant_team.str.split(\",\",expand=True,)\n",
    "final_df[dire_columns] = final_df.dire_team.str.split(\",\",expand=True,)\n",
    "print('\\nDataframe shape:', final_df.shape)"
   ]
  },
  {
   "cell_type": "markdown",
   "id": "613fb38c",
   "metadata": {},
   "source": [
    "**Removing Unnamed and dire_team and radiant_team column**"
   ]
  },
  {
   "cell_type": "code",
   "execution_count": 6,
   "id": "66a7b398",
   "metadata": {},
   "outputs": [
    {
     "name": "stdout",
     "output_type": "stream",
     "text": [
      "\n",
      "Dataframe shape: (46000, 15)\n"
     ]
    }
   ],
   "source": [
    "final_df.drop(columns=['Unnamed: 0', 'dire_team', 'radiant_team', 'match_id'], inplace=True)\n",
    "print('\\nDataframe shape:', final_df.shape)"
   ]
  },
  {
   "cell_type": "markdown",
   "id": "2269744b",
   "metadata": {},
   "source": [
    "**Converting string to numerical**"
   ]
  },
  {
   "cell_type": "code",
   "execution_count": 7,
   "id": "440f70f5",
   "metadata": {},
   "outputs": [],
   "source": [
    "final_df['radiant_win'] = final_df['radiant_win'].astype(int)\n",
    "final_df = final_df.apply(pd.to_numeric)"
   ]
  },
  {
   "cell_type": "code",
   "execution_count": 9,
   "id": "521251a0",
   "metadata": {},
   "outputs": [
    {
     "data": {
      "text/html": [
       "<div>\n",
       "<style scoped>\n",
       "    .dataframe tbody tr th:only-of-type {\n",
       "        vertical-align: middle;\n",
       "    }\n",
       "\n",
       "    .dataframe tbody tr th {\n",
       "        vertical-align: top;\n",
       "    }\n",
       "\n",
       "    .dataframe thead th {\n",
       "        text-align: right;\n",
       "    }\n",
       "</style>\n",
       "<table border=\"1\" class=\"dataframe\">\n",
       "  <thead>\n",
       "    <tr style=\"text-align: right;\">\n",
       "      <th></th>\n",
       "      <th>radiant_win</th>\n",
       "      <th>avg_mmr</th>\n",
       "      <th>duration</th>\n",
       "      <th>lobby_type</th>\n",
       "      <th>game_mode</th>\n",
       "      <th>Radiant 1</th>\n",
       "      <th>Radiant 2</th>\n",
       "      <th>Radiant 3</th>\n",
       "      <th>Radiant 4</th>\n",
       "      <th>Radiant 5</th>\n",
       "      <th>Dire 1</th>\n",
       "      <th>Dire 2</th>\n",
       "      <th>Dire 3</th>\n",
       "      <th>Dire 4</th>\n",
       "      <th>Dire 5</th>\n",
       "    </tr>\n",
       "  </thead>\n",
       "  <tbody>\n",
       "    <tr>\n",
       "      <th>0</th>\n",
       "      <td>1</td>\n",
       "      <td>3439</td>\n",
       "      <td>1649</td>\n",
       "      <td>7</td>\n",
       "      <td>22</td>\n",
       "      <td>121</td>\n",
       "      <td>119</td>\n",
       "      <td>2</td>\n",
       "      <td>13</td>\n",
       "      <td>70</td>\n",
       "      <td>129</td>\n",
       "      <td>83</td>\n",
       "      <td>80</td>\n",
       "      <td>63</td>\n",
       "      <td>30</td>\n",
       "    </tr>\n",
       "    <tr>\n",
       "      <th>1</th>\n",
       "      <td>1</td>\n",
       "      <td>3774</td>\n",
       "      <td>1848</td>\n",
       "      <td>0</td>\n",
       "      <td>22</td>\n",
       "      <td>109</td>\n",
       "      <td>10</td>\n",
       "      <td>108</td>\n",
       "      <td>128</td>\n",
       "      <td>84</td>\n",
       "      <td>123</td>\n",
       "      <td>69</td>\n",
       "      <td>67</td>\n",
       "      <td>73</td>\n",
       "      <td>71</td>\n",
       "    </tr>\n",
       "    <tr>\n",
       "      <th>2</th>\n",
       "      <td>1</td>\n",
       "      <td>3311</td>\n",
       "      <td>1951</td>\n",
       "      <td>7</td>\n",
       "      <td>22</td>\n",
       "      <td>129</td>\n",
       "      <td>81</td>\n",
       "      <td>35</td>\n",
       "      <td>88</td>\n",
       "      <td>5</td>\n",
       "      <td>32</td>\n",
       "      <td>135</td>\n",
       "      <td>37</td>\n",
       "      <td>121</td>\n",
       "      <td>126</td>\n",
       "    </tr>\n",
       "    <tr>\n",
       "      <th>3</th>\n",
       "      <td>1</td>\n",
       "      <td>3408</td>\n",
       "      <td>995</td>\n",
       "      <td>0</td>\n",
       "      <td>22</td>\n",
       "      <td>83</td>\n",
       "      <td>56</td>\n",
       "      <td>17</td>\n",
       "      <td>62</td>\n",
       "      <td>9</td>\n",
       "      <td>26</td>\n",
       "      <td>32</td>\n",
       "      <td>51</td>\n",
       "      <td>6</td>\n",
       "      <td>135</td>\n",
       "    </tr>\n",
       "    <tr>\n",
       "      <th>4</th>\n",
       "      <td>0</td>\n",
       "      <td>4621</td>\n",
       "      <td>1818</td>\n",
       "      <td>7</td>\n",
       "      <td>22</td>\n",
       "      <td>11</td>\n",
       "      <td>100</td>\n",
       "      <td>26</td>\n",
       "      <td>44</td>\n",
       "      <td>2</td>\n",
       "      <td>135</td>\n",
       "      <td>42</td>\n",
       "      <td>25</td>\n",
       "      <td>30</td>\n",
       "      <td>74</td>\n",
       "    </tr>\n",
       "    <tr>\n",
       "      <th>...</th>\n",
       "      <td>...</td>\n",
       "      <td>...</td>\n",
       "      <td>...</td>\n",
       "      <td>...</td>\n",
       "      <td>...</td>\n",
       "      <td>...</td>\n",
       "      <td>...</td>\n",
       "      <td>...</td>\n",
       "      <td>...</td>\n",
       "      <td>...</td>\n",
       "      <td>...</td>\n",
       "      <td>...</td>\n",
       "      <td>...</td>\n",
       "      <td>...</td>\n",
       "      <td>...</td>\n",
       "    </tr>\n",
       "    <tr>\n",
       "      <th>45995</th>\n",
       "      <td>0</td>\n",
       "      <td>3414</td>\n",
       "      <td>2507</td>\n",
       "      <td>7</td>\n",
       "      <td>22</td>\n",
       "      <td>62</td>\n",
       "      <td>70</td>\n",
       "      <td>35</td>\n",
       "      <td>33</td>\n",
       "      <td>26</td>\n",
       "      <td>84</td>\n",
       "      <td>109</td>\n",
       "      <td>99</td>\n",
       "      <td>81</td>\n",
       "      <td>36</td>\n",
       "    </tr>\n",
       "    <tr>\n",
       "      <th>45996</th>\n",
       "      <td>1</td>\n",
       "      <td>3349</td>\n",
       "      <td>2156</td>\n",
       "      <td>7</td>\n",
       "      <td>22</td>\n",
       "      <td>26</td>\n",
       "      <td>121</td>\n",
       "      <td>22</td>\n",
       "      <td>102</td>\n",
       "      <td>70</td>\n",
       "      <td>43</td>\n",
       "      <td>8</td>\n",
       "      <td>30</td>\n",
       "      <td>38</td>\n",
       "      <td>75</td>\n",
       "    </tr>\n",
       "    <tr>\n",
       "      <th>45997</th>\n",
       "      <td>0</td>\n",
       "      <td>3448</td>\n",
       "      <td>2534</td>\n",
       "      <td>7</td>\n",
       "      <td>22</td>\n",
       "      <td>113</td>\n",
       "      <td>26</td>\n",
       "      <td>76</td>\n",
       "      <td>121</td>\n",
       "      <td>99</td>\n",
       "      <td>41</td>\n",
       "      <td>7</td>\n",
       "      <td>9</td>\n",
       "      <td>17</td>\n",
       "      <td>47</td>\n",
       "    </tr>\n",
       "    <tr>\n",
       "      <th>45998</th>\n",
       "      <td>1</td>\n",
       "      <td>3702</td>\n",
       "      <td>1650</td>\n",
       "      <td>7</td>\n",
       "      <td>3</td>\n",
       "      <td>123</td>\n",
       "      <td>11</td>\n",
       "      <td>57</td>\n",
       "      <td>18</td>\n",
       "      <td>88</td>\n",
       "      <td>109</td>\n",
       "      <td>112</td>\n",
       "      <td>37</td>\n",
       "      <td>97</td>\n",
       "      <td>96</td>\n",
       "    </tr>\n",
       "    <tr>\n",
       "      <th>45999</th>\n",
       "      <td>0</td>\n",
       "      <td>3492</td>\n",
       "      <td>1776</td>\n",
       "      <td>7</td>\n",
       "      <td>3</td>\n",
       "      <td>129</td>\n",
       "      <td>42</td>\n",
       "      <td>101</td>\n",
       "      <td>27</td>\n",
       "      <td>13</td>\n",
       "      <td>1</td>\n",
       "      <td>26</td>\n",
       "      <td>76</td>\n",
       "      <td>85</td>\n",
       "      <td>60</td>\n",
       "    </tr>\n",
       "  </tbody>\n",
       "</table>\n",
       "<p>46000 rows × 15 columns</p>\n",
       "</div>"
      ],
      "text/plain": [
       "       radiant_win  avg_mmr  duration  lobby_type  game_mode  Radiant 1  \\\n",
       "0                1     3439      1649           7         22        121   \n",
       "1                1     3774      1848           0         22        109   \n",
       "2                1     3311      1951           7         22        129   \n",
       "3                1     3408       995           0         22         83   \n",
       "4                0     4621      1818           7         22         11   \n",
       "...            ...      ...       ...         ...        ...        ...   \n",
       "45995            0     3414      2507           7         22         62   \n",
       "45996            1     3349      2156           7         22         26   \n",
       "45997            0     3448      2534           7         22        113   \n",
       "45998            1     3702      1650           7          3        123   \n",
       "45999            0     3492      1776           7          3        129   \n",
       "\n",
       "       Radiant 2  Radiant 3  Radiant 4  Radiant 5  Dire 1  Dire 2  Dire 3  \\\n",
       "0            119          2         13         70     129      83      80   \n",
       "1             10        108        128         84     123      69      67   \n",
       "2             81         35         88          5      32     135      37   \n",
       "3             56         17         62          9      26      32      51   \n",
       "4            100         26         44          2     135      42      25   \n",
       "...          ...        ...        ...        ...     ...     ...     ...   \n",
       "45995         70         35         33         26      84     109      99   \n",
       "45996        121         22        102         70      43       8      30   \n",
       "45997         26         76        121         99      41       7       9   \n",
       "45998         11         57         18         88     109     112      37   \n",
       "45999         42        101         27         13       1      26      76   \n",
       "\n",
       "       Dire 4  Dire 5  \n",
       "0          63      30  \n",
       "1          73      71  \n",
       "2         121     126  \n",
       "3           6     135  \n",
       "4          30      74  \n",
       "...       ...     ...  \n",
       "45995      81      36  \n",
       "45996      38      75  \n",
       "45997      17      47  \n",
       "45998      97      96  \n",
       "45999      85      60  \n",
       "\n",
       "[46000 rows x 15 columns]"
      ]
     },
     "execution_count": 9,
     "metadata": {},
     "output_type": "execute_result"
    }
   ],
   "source": [
    "final_df"
   ]
  },
  {
   "cell_type": "markdown",
   "id": "f6a59952",
   "metadata": {},
   "source": [
    "**Saving data frame on 'working data' folder**"
   ]
  },
  {
   "cell_type": "code",
   "execution_count": 10,
   "id": "7d29c413",
   "metadata": {},
   "outputs": [],
   "source": [
    "working_data_path = '../data/working_data/'\n",
    "start_file = datetime.now().strftime(\"%Y-%m-%d\")\n",
    "output_file = working_data_path + start_file + '_working_data.csv'\n",
    "\n",
    "final_df.to_csv(output_file, index=False)"
   ]
  }
 ],
 "metadata": {
  "kernelspec": {
   "display_name": "Python 3",
   "language": "python",
   "name": "python3"
  },
  "language_info": {
   "codemirror_mode": {
    "name": "ipython",
    "version": 3
   },
   "file_extension": ".py",
   "mimetype": "text/x-python",
   "name": "python",
   "nbconvert_exporter": "python",
   "pygments_lexer": "ipython3",
   "version": "3.7.10"
  },
  "latex_envs": {
   "LaTeX_envs_menu_present": true,
   "autoclose": false,
   "autocomplete": true,
   "bibliofile": "biblio.bib",
   "cite_by": "apalike",
   "current_citInitial": 1,
   "eqLabelWithNumbers": true,
   "eqNumInitial": 1,
   "hotkeys": {
    "equation": "Ctrl-E",
    "itemize": "Ctrl-I"
   },
   "labels_anchors": false,
   "latex_user_defs": false,
   "report_style_numbering": false,
   "user_envs_cfg": false
  },
  "toc": {
   "base_numbering": 1,
   "nav_menu": {},
   "number_sections": true,
   "sideBar": true,
   "skip_h1_title": false,
   "title_cell": "Table of Contents",
   "title_sidebar": "Contents",
   "toc_cell": false,
   "toc_position": {},
   "toc_section_display": true,
   "toc_window_display": false
  }
 },
 "nbformat": 4,
 "nbformat_minor": 5
}
