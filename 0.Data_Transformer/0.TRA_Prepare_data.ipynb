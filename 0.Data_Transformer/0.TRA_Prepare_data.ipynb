{
 "cells": [
  {
   "cell_type": "code",
   "execution_count": 1,
   "id": "63a5be1e",
   "metadata": {},
   "outputs": [],
   "source": [
    "import pandas as pd\n",
    "from datetime import datetime\n",
    "import os"
   ]
  },
  {
   "cell_type": "markdown",
   "id": "235fdc9f",
   "metadata": {},
   "source": [
    "**Searching for each .csv file in the 'raw_data' folder**"
   ]
  },
  {
   "cell_type": "code",
   "execution_count": 2,
   "id": "337a4feb",
   "metadata": {},
   "outputs": [
    {
     "name": "stdout",
     "output_type": "stream",
     "text": [
      ".csv file found:\n",
      "\n",
      "data.csv\n",
      ".csv file found:\n",
      "\n",
      ".csv file found:\n",
      "\n",
      ".csv file found:\n",
      "\n"
     ]
    }
   ],
   "source": [
    "data_path = '../data/raw_data'\n",
    "lst_df = []\n",
    "for root, dirs, files in os.walk(data_path):\n",
    "    for filename in files:\n",
    "        xlsx_file, file_extension = os.path.splitext(filename)\n",
    "        print('.csv file found:\\n')\n",
    "        if(file_extension == '.csv'):\n",
    "            print(filename)\n",
    "            file_path = root +'\\\\' + filename\n",
    "            lst_df.append(pd.read_csv(file_path))  "
   ]
  },
  {
   "cell_type": "markdown",
   "id": "10893e5a",
   "metadata": {},
   "source": [
    "**Drop NA**"
   ]
  },
  {
   "cell_type": "code",
   "execution_count": 3,
   "id": "db34e109",
   "metadata": {},
   "outputs": [
    {
     "name": "stdout",
     "output_type": "stream",
     "text": [
      "Dataframe shape: (113400, 9)\n",
      "Total nan: \n",
      "\n",
      " Unnamed: 0      0\n",
      "match_id        0\n",
      "radiant_win     0\n",
      "avg_mmr         0\n",
      "duration        0\n",
      "lobby_type      0\n",
      "game_mode       0\n",
      "radiant_team    0\n",
      "dire_team       0\n",
      "dtype: int64\n",
      "\n",
      "Dataframe shape: (113400, 9)\n"
     ]
    }
   ],
   "source": [
    "final_df = pd.concat(lst_df)\n",
    "\n",
    "print('Dataframe shape:', final_df.shape)\n",
    "print('Total nan: \\n\\n', final_df.isna().sum())\n",
    "\n",
    "final_df.dropna(inplace=True)\n",
    "print('\\nDataframe shape:', final_df.shape)"
   ]
  },
  {
   "cell_type": "markdown",
   "id": "b1cecba5",
   "metadata": {},
   "source": [
    "**Remove duplicated rows**"
   ]
  },
  {
   "cell_type": "code",
   "execution_count": 4,
   "id": "a7d7b1ac",
   "metadata": {},
   "outputs": [
    {
     "name": "stdout",
     "output_type": "stream",
     "text": [
      "\n",
      "Dataframe shape: (113400, 9)\n"
     ]
    }
   ],
   "source": [
    "final_df.drop_duplicates(subset=['match_id'])\n",
    "print('\\nDataframe shape:', final_df.shape)"
   ]
  },
  {
   "cell_type": "markdown",
   "id": "552e9e1b",
   "metadata": {},
   "source": [
    "**Adding column for each hero on radiant and dire team**"
   ]
  },
  {
   "cell_type": "code",
   "execution_count": 5,
   "id": "660fb4f7",
   "metadata": {},
   "outputs": [
    {
     "name": "stdout",
     "output_type": "stream",
     "text": [
      "\n",
      "Dataframe shape: (113400, 19)\n"
     ]
    }
   ],
   "source": [
    "radiant_columns = ['Radiant 1','Radiant 2', 'Radiant 3', 'Radiant 4', 'Radiant 5']\n",
    "dire_columns = ['Dire 1','Dire 2', 'Dire 3', 'Dire 4', 'Dire 5']\n",
    "\n",
    "final_df[radiant_columns] = final_df.radiant_team.str.split(\",\",expand=True,)\n",
    "final_df[dire_columns] = final_df.dire_team.str.split(\",\",expand=True,)\n",
    "print('\\nDataframe shape:', final_df.shape)"
   ]
  },
  {
   "cell_type": "markdown",
   "id": "613fb38c",
   "metadata": {},
   "source": [
    "**Removing Unnamed and dire_team and radiant_team column**"
   ]
  },
  {
   "cell_type": "code",
   "execution_count": 6,
   "id": "66a7b398",
   "metadata": {},
   "outputs": [
    {
     "name": "stdout",
     "output_type": "stream",
     "text": [
      "\n",
      "Dataframe shape: (113400, 15)\n"
     ]
    }
   ],
   "source": [
    "final_df.drop(columns=['Unnamed: 0', 'dire_team', 'radiant_team', 'match_id'], inplace=True)\n",
    "print('\\nDataframe shape:', final_df.shape)"
   ]
  },
  {
   "cell_type": "markdown",
   "id": "2269744b",
   "metadata": {},
   "source": [
    "**Converting string to numerical**"
   ]
  },
  {
   "cell_type": "code",
   "execution_count": 7,
   "id": "440f70f5",
   "metadata": {},
   "outputs": [],
   "source": [
    "final_df['radiant_win'] = final_df['radiant_win'].astype(int)\n",
    "final_df = final_df.apply(pd.to_numeric)"
   ]
  },
  {
   "cell_type": "code",
   "execution_count": 8,
   "id": "521251a0",
   "metadata": {},
   "outputs": [
    {
     "data": {
      "text/html": [
       "<div>\n",
       "<style scoped>\n",
       "    .dataframe tbody tr th:only-of-type {\n",
       "        vertical-align: middle;\n",
       "    }\n",
       "\n",
       "    .dataframe tbody tr th {\n",
       "        vertical-align: top;\n",
       "    }\n",
       "\n",
       "    .dataframe thead th {\n",
       "        text-align: right;\n",
       "    }\n",
       "</style>\n",
       "<table border=\"1\" class=\"dataframe\">\n",
       "  <thead>\n",
       "    <tr style=\"text-align: right;\">\n",
       "      <th></th>\n",
       "      <th>radiant_win</th>\n",
       "      <th>avg_mmr</th>\n",
       "      <th>duration</th>\n",
       "      <th>lobby_type</th>\n",
       "      <th>game_mode</th>\n",
       "      <th>Radiant 1</th>\n",
       "      <th>Radiant 2</th>\n",
       "      <th>Radiant 3</th>\n",
       "      <th>Radiant 4</th>\n",
       "      <th>Radiant 5</th>\n",
       "      <th>Dire 1</th>\n",
       "      <th>Dire 2</th>\n",
       "      <th>Dire 3</th>\n",
       "      <th>Dire 4</th>\n",
       "      <th>Dire 5</th>\n",
       "    </tr>\n",
       "  </thead>\n",
       "  <tbody>\n",
       "    <tr>\n",
       "      <th>0</th>\n",
       "      <td>0</td>\n",
       "      <td>4104</td>\n",
       "      <td>2147</td>\n",
       "      <td>7</td>\n",
       "      <td>22</td>\n",
       "      <td>94</td>\n",
       "      <td>67</td>\n",
       "      <td>112</td>\n",
       "      <td>5</td>\n",
       "      <td>16.0</td>\n",
       "      <td>14</td>\n",
       "      <td>90</td>\n",
       "      <td>52</td>\n",
       "      <td>1</td>\n",
       "      <td>121</td>\n",
       "    </tr>\n",
       "    <tr>\n",
       "      <th>1</th>\n",
       "      <td>0</td>\n",
       "      <td>6421</td>\n",
       "      <td>1526</td>\n",
       "      <td>7</td>\n",
       "      <td>22</td>\n",
       "      <td>72</td>\n",
       "      <td>9</td>\n",
       "      <td>58</td>\n",
       "      <td>89</td>\n",
       "      <td>16.0</td>\n",
       "      <td>79</td>\n",
       "      <td>25</td>\n",
       "      <td>12</td>\n",
       "      <td>119</td>\n",
       "      <td>120</td>\n",
       "    </tr>\n",
       "    <tr>\n",
       "      <th>2</th>\n",
       "      <td>1</td>\n",
       "      <td>5062</td>\n",
       "      <td>1323</td>\n",
       "      <td>7</td>\n",
       "      <td>22</td>\n",
       "      <td>111</td>\n",
       "      <td>48</td>\n",
       "      <td>53</td>\n",
       "      <td>101</td>\n",
       "      <td>26.0</td>\n",
       "      <td>31</td>\n",
       "      <td>41</td>\n",
       "      <td>10</td>\n",
       "      <td>88</td>\n",
       "      <td>62</td>\n",
       "    </tr>\n",
       "    <tr>\n",
       "      <th>3</th>\n",
       "      <td>1</td>\n",
       "      <td>3943</td>\n",
       "      <td>1956</td>\n",
       "      <td>7</td>\n",
       "      <td>22</td>\n",
       "      <td>41</td>\n",
       "      <td>83</td>\n",
       "      <td>74</td>\n",
       "      <td>123</td>\n",
       "      <td>114.0</td>\n",
       "      <td>109</td>\n",
       "      <td>22</td>\n",
       "      <td>98</td>\n",
       "      <td>107</td>\n",
       "      <td>30</td>\n",
       "    </tr>\n",
       "    <tr>\n",
       "      <th>4</th>\n",
       "      <td>0</td>\n",
       "      <td>3515</td>\n",
       "      <td>2087</td>\n",
       "      <td>7</td>\n",
       "      <td>3</td>\n",
       "      <td>59</td>\n",
       "      <td>112</td>\n",
       "      <td>4</td>\n",
       "      <td>41</td>\n",
       "      <td>31.0</td>\n",
       "      <td>88</td>\n",
       "      <td>11</td>\n",
       "      <td>96</td>\n",
       "      <td>110</td>\n",
       "      <td>10</td>\n",
       "    </tr>\n",
       "    <tr>\n",
       "      <th>...</th>\n",
       "      <td>...</td>\n",
       "      <td>...</td>\n",
       "      <td>...</td>\n",
       "      <td>...</td>\n",
       "      <td>...</td>\n",
       "      <td>...</td>\n",
       "      <td>...</td>\n",
       "      <td>...</td>\n",
       "      <td>...</td>\n",
       "      <td>...</td>\n",
       "      <td>...</td>\n",
       "      <td>...</td>\n",
       "      <td>...</td>\n",
       "      <td>...</td>\n",
       "      <td>...</td>\n",
       "    </tr>\n",
       "    <tr>\n",
       "      <th>113395</th>\n",
       "      <td>0</td>\n",
       "      <td>3719</td>\n",
       "      <td>1979</td>\n",
       "      <td>7</td>\n",
       "      <td>3</td>\n",
       "      <td>97</td>\n",
       "      <td>101</td>\n",
       "      <td>62</td>\n",
       "      <td>1</td>\n",
       "      <td>110.0</td>\n",
       "      <td>112</td>\n",
       "      <td>17</td>\n",
       "      <td>70</td>\n",
       "      <td>16</td>\n",
       "      <td>119</td>\n",
       "    </tr>\n",
       "    <tr>\n",
       "      <th>113396</th>\n",
       "      <td>0</td>\n",
       "      <td>3976</td>\n",
       "      <td>822</td>\n",
       "      <td>0</td>\n",
       "      <td>22</td>\n",
       "      <td>7</td>\n",
       "      <td>63</td>\n",
       "      <td>22</td>\n",
       "      <td>64</td>\n",
       "      <td>10.0</td>\n",
       "      <td>86</td>\n",
       "      <td>11</td>\n",
       "      <td>87</td>\n",
       "      <td>3</td>\n",
       "      <td>54</td>\n",
       "    </tr>\n",
       "    <tr>\n",
       "      <th>113397</th>\n",
       "      <td>0</td>\n",
       "      <td>3699</td>\n",
       "      <td>2124</td>\n",
       "      <td>7</td>\n",
       "      <td>22</td>\n",
       "      <td>108</td>\n",
       "      <td>32</td>\n",
       "      <td>112</td>\n",
       "      <td>7</td>\n",
       "      <td>74.0</td>\n",
       "      <td>48</td>\n",
       "      <td>71</td>\n",
       "      <td>20</td>\n",
       "      <td>10</td>\n",
       "      <td>111</td>\n",
       "    </tr>\n",
       "    <tr>\n",
       "      <th>113398</th>\n",
       "      <td>0</td>\n",
       "      <td>3757</td>\n",
       "      <td>1670</td>\n",
       "      <td>7</td>\n",
       "      <td>22</td>\n",
       "      <td>14</td>\n",
       "      <td>27</td>\n",
       "      <td>28</td>\n",
       "      <td>1</td>\n",
       "      <td>113.0</td>\n",
       "      <td>3</td>\n",
       "      <td>73</td>\n",
       "      <td>9</td>\n",
       "      <td>87</td>\n",
       "      <td>129</td>\n",
       "    </tr>\n",
       "    <tr>\n",
       "      <th>113399</th>\n",
       "      <td>1</td>\n",
       "      <td>3765</td>\n",
       "      <td>2631</td>\n",
       "      <td>7</td>\n",
       "      <td>22</td>\n",
       "      <td>67</td>\n",
       "      <td>3</td>\n",
       "      <td>40</td>\n",
       "      <td>23</td>\n",
       "      <td>9.0</td>\n",
       "      <td>28</td>\n",
       "      <td>41</td>\n",
       "      <td>86</td>\n",
       "      <td>7</td>\n",
       "      <td>46</td>\n",
       "    </tr>\n",
       "  </tbody>\n",
       "</table>\n",
       "<p>113400 rows × 15 columns</p>\n",
       "</div>"
      ],
      "text/plain": [
       "        radiant_win  avg_mmr  duration  lobby_type  game_mode  Radiant 1  \\\n",
       "0                 0     4104      2147           7         22         94   \n",
       "1                 0     6421      1526           7         22         72   \n",
       "2                 1     5062      1323           7         22        111   \n",
       "3                 1     3943      1956           7         22         41   \n",
       "4                 0     3515      2087           7          3         59   \n",
       "...             ...      ...       ...         ...        ...        ...   \n",
       "113395            0     3719      1979           7          3         97   \n",
       "113396            0     3976       822           0         22          7   \n",
       "113397            0     3699      2124           7         22        108   \n",
       "113398            0     3757      1670           7         22         14   \n",
       "113399            1     3765      2631           7         22         67   \n",
       "\n",
       "        Radiant 2  Radiant 3  Radiant 4  Radiant 5  Dire 1  Dire 2  Dire 3  \\\n",
       "0              67        112          5       16.0      14      90      52   \n",
       "1               9         58         89       16.0      79      25      12   \n",
       "2              48         53        101       26.0      31      41      10   \n",
       "3              83         74        123      114.0     109      22      98   \n",
       "4             112          4         41       31.0      88      11      96   \n",
       "...           ...        ...        ...        ...     ...     ...     ...   \n",
       "113395        101         62          1      110.0     112      17      70   \n",
       "113396         63         22         64       10.0      86      11      87   \n",
       "113397         32        112          7       74.0      48      71      20   \n",
       "113398         27         28          1      113.0       3      73       9   \n",
       "113399          3         40         23        9.0      28      41      86   \n",
       "\n",
       "        Dire 4  Dire 5  \n",
       "0            1     121  \n",
       "1          119     120  \n",
       "2           88      62  \n",
       "3          107      30  \n",
       "4          110      10  \n",
       "...        ...     ...  \n",
       "113395      16     119  \n",
       "113396       3      54  \n",
       "113397      10     111  \n",
       "113398      87     129  \n",
       "113399       7      46  \n",
       "\n",
       "[113400 rows x 15 columns]"
      ]
     },
     "execution_count": 8,
     "metadata": {},
     "output_type": "execute_result"
    }
   ],
   "source": [
    "final_df"
   ]
  },
  {
   "cell_type": "markdown",
   "id": "f6a59952",
   "metadata": {},
   "source": [
    "**Saving data frame on 'working data' folder**"
   ]
  },
  {
   "cell_type": "code",
   "execution_count": 9,
   "id": "7d29c413",
   "metadata": {},
   "outputs": [],
   "source": [
    "working_data_path = '../data/working_data/'\n",
    "start_file = datetime.now().strftime(\"%Y-%m-%d\")\n",
    "output_file = working_data_path + start_file + '_working_data.csv'\n",
    "\n",
    "final_df.to_csv(output_file, index=False)"
   ]
  }
 ],
 "metadata": {
  "kernelspec": {
   "display_name": "Python 3",
   "language": "python",
   "name": "python3"
  },
  "language_info": {
   "codemirror_mode": {
    "name": "ipython",
    "version": 3
   },
   "file_extension": ".py",
   "mimetype": "text/x-python",
   "name": "python",
   "nbconvert_exporter": "python",
   "pygments_lexer": "ipython3",
   "version": "3.8.8"
  },
  "latex_envs": {
   "LaTeX_envs_menu_present": true,
   "autoclose": false,
   "autocomplete": true,
   "bibliofile": "biblio.bib",
   "cite_by": "apalike",
   "current_citInitial": 1,
   "eqLabelWithNumbers": true,
   "eqNumInitial": 1,
   "hotkeys": {
    "equation": "Ctrl-E",
    "itemize": "Ctrl-I"
   },
   "labels_anchors": false,
   "latex_user_defs": false,
   "report_style_numbering": false,
   "user_envs_cfg": false
  },
  "toc": {
   "base_numbering": 1,
   "nav_menu": {},
   "number_sections": true,
   "sideBar": true,
   "skip_h1_title": false,
   "title_cell": "Table of Contents",
   "title_sidebar": "Contents",
   "toc_cell": false,
   "toc_position": {},
   "toc_section_display": true,
   "toc_window_display": false
  }
 },
 "nbformat": 4,
 "nbformat_minor": 5
}
