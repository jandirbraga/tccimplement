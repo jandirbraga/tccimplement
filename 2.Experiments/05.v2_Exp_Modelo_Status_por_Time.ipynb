{
 "cells": [
  {
   "cell_type": "markdown",
   "id": "507cf337",
   "metadata": {
    "toc": true
   },
   "source": [
    "<h1>Table of Contents<span class=\"tocSkip\"></span></h1>\n",
    "<div class=\"toc\"><ul class=\"toc-item\"><li><span><a href=\"#Dataset-utilizado\" data-toc-modified-id=\"Dataset-utilizado-1\"><span class=\"toc-item-num\">1&nbsp;&nbsp;</span>Dataset utilizado</a></span><ul class=\"toc-item\"><li><span><a href=\"#Número-de-amostras-e-colunas\" data-toc-modified-id=\"Número-de-amostras-e-colunas-1.1\"><span class=\"toc-item-num\">1.1&nbsp;&nbsp;</span>Número de amostras e colunas</a></span></li><li><span><a href=\"#Vitórias-por-time\" data-toc-modified-id=\"Vitórias-por-time-1.2\"><span class=\"toc-item-num\">1.2&nbsp;&nbsp;</span>Vitórias por time</a></span></li><li><span><a href=\"#Filtrando-colunas-de-atributo-principal\" data-toc-modified-id=\"Filtrando-colunas-de-atributo-principal-1.3\"><span class=\"toc-item-num\">1.3&nbsp;&nbsp;</span>Filtrando colunas de atributo principal</a></span></li></ul></li><li><span><a href=\"#Separar-dados-para-treinamento\" data-toc-modified-id=\"Separar-dados-para-treinamento-2\"><span class=\"toc-item-num\">2&nbsp;&nbsp;</span>Separar dados para treinamento</a></span></li><li><span><a href=\"#Treinar-modelos-de-classificação\" data-toc-modified-id=\"Treinar-modelos-de-classificação-3\"><span class=\"toc-item-num\">3&nbsp;&nbsp;</span>Treinar modelos de classificação</a></span><ul class=\"toc-item\"><li><span><a href=\"#Declarando-modelos\" data-toc-modified-id=\"Declarando-modelos-3.1\"><span class=\"toc-item-num\">3.1&nbsp;&nbsp;</span>Declarando modelos</a></span></li><li><span><a href=\"#Treinamento\" data-toc-modified-id=\"Treinamento-3.2\"><span class=\"toc-item-num\">3.2&nbsp;&nbsp;</span>Treinamento</a></span></li></ul></li><li><span><a href=\"#Mostrando-e-salvando-Resultados\" data-toc-modified-id=\"Mostrando-e-salvando-Resultados-4\"><span class=\"toc-item-num\">4&nbsp;&nbsp;</span>Mostrando e salvando Resultados</a></span><ul class=\"toc-item\"><li><span><a href=\"#Salvando-resultados-dos-modelos\" data-toc-modified-id=\"Salvando-resultados-dos-modelos-4.1\"><span class=\"toc-item-num\">4.1&nbsp;&nbsp;</span>Salvando resultados dos modelos</a></span></li><li><span><a href=\"#Gráfico-de-comparação\" data-toc-modified-id=\"Gráfico-de-comparação-4.2\"><span class=\"toc-item-num\">4.2&nbsp;&nbsp;</span>Gráfico de comparação</a></span></li></ul></li><li><span><a href=\"#Conclusão-e-próximos-passos\" data-toc-modified-id=\"Conclusão-e-próximos-passos-5\"><span class=\"toc-item-num\">5&nbsp;&nbsp;</span>Conclusão e próximos passos</a></span></li></ul></div>"
   ]
  },
  {
   "cell_type": "markdown",
   "id": "9f41da0d",
   "metadata": {},
   "source": [
    "---\n",
    "# Experimento 5: Modelo com status por time \n",
    "\n",
    "**Objetivo do experimento:** Treinar diferentes modelos com status sumarizados por time.\n",
    "\n",
    "\n",
    "**Formato do experimento:** Serão utilizadas todas as variáveis do arquivo ``2_TRA_v2_2021-07-16_working_data.csv``. Dados já estão filtrados por game_mode e lobby_type.\n",
    "\n",
    "1. Os dados serão divididos em 5 conjuntos, onde será aplicada uma validação cruzada;\n",
    "2. O passo 1 será repetido 3 vezes com os dados sendo separados aleatoriamente em cada uma das vezes;\n",
    "3. Será calculada a acurácia média destes 15 conjuntos de teste;\n",
    "\n",
    "**Os seguintes modelos serão usados:**\n",
    "\n",
    "- Regressão Logística\n",
    "- KNN\n",
    "- Random Forest\n",
    "- Rede Neural\n",
    "- XGBoost\n",
    "- Naive Bayes\n",
    "\n",
    "**Métrica de avaliação:** Acurácia média dos dados de testes nos 15 conjuntos de dados: 3 validações cruzadas, onde cada validação possui 1 conjunto de teste."
   ]
  },
  {
   "cell_type": "markdown",
   "id": "e6987954",
   "metadata": {
    "hide_input": false
   },
   "source": [
    "---\n",
    "**Importing libraries**"
   ]
  },
  {
   "cell_type": "code",
   "execution_count": 1,
   "id": "036b5750",
   "metadata": {},
   "outputs": [],
   "source": [
    "import pandas as pd\n",
    "import numpy as np\n",
    "from matplotlib import pyplot as plt\n",
    "\n",
    "from sklearn.model_selection import RepeatedStratifiedKFold\n",
    "from sklearn.model_selection import cross_val_score\n",
    "\n",
    "from sklearn.linear_model import LogisticRegression\n",
    "from sklearn.neighbors import KNeighborsClassifier\n",
    "from sklearn.ensemble import RandomForestClassifier\n",
    "from sklearn.neural_network import MLPClassifier\n",
    "from sklearn.svm import SVC\n",
    "from xgboost import XGBClassifier\n",
    "from sklearn.naive_bayes import GaussianNB"
   ]
  },
  {
   "cell_type": "markdown",
   "id": "1cb442e0",
   "metadata": {},
   "source": [
    "**Loading data**"
   ]
  },
  {
   "cell_type": "code",
   "execution_count": 2,
   "id": "7e483686",
   "metadata": {},
   "outputs": [],
   "source": [
    "raw_data_path = '../data/raw_data/'\n",
    "data_path = '../data/working_data/'\n",
    "\n",
    "\n",
    "file = '2_TRA_v2_2021-07-16_working_data.csv'\n",
    "df_original = pd.read_csv(data_path+file)"
   ]
  },
  {
   "cell_type": "markdown",
   "id": "10fb5e79",
   "metadata": {},
   "source": [
    "**Setting output path**"
   ]
  },
  {
   "cell_type": "code",
   "execution_count": 3,
   "id": "782c75f2",
   "metadata": {},
   "outputs": [],
   "source": [
    "output_savepath = '../3.Experiments_output/05.v2_Exp_Modelo_Status_por_Time/'"
   ]
  },
  {
   "cell_type": "markdown",
   "id": "8e7bf399",
   "metadata": {},
   "source": [
    "---\n",
    "## Dataset utilizado\n",
    "\n",
    "Por se tratar do modelo de baseline os dados referentes à lobby_type e game_mode não foram removidos. \n",
    "\n",
    "\n",
    "### Número de amostras e colunas"
   ]
  },
  {
   "cell_type": "code",
   "execution_count": 4,
   "id": "6379212c",
   "metadata": {},
   "outputs": [
    {
     "name": "stdout",
     "output_type": "stream",
     "text": [
      "Número total de amostras: (46000, 32)\n",
      "Colunas:\n",
      " Index(['Radiant_is_Melle', 'Radiant_primary_attr_agi',\n",
      "       'Radiant_primary_attr_int', 'Radiant_primary_attr_str', 'Radiant_Nuker',\n",
      "       'Radiant_Disabler', 'Radiant_Initiator', 'Radiant_Durable',\n",
      "       'Radiant_Support', 'Radiant_Jungler', 'Radiant_Carry', 'Radiant_Pusher',\n",
      "       'Radiant_Escape', 'Dire_is_Melle', 'Dire_primary_attr_agi',\n",
      "       'Dire_primary_attr_int', 'Dire_primary_attr_str', 'Dire_Nuker',\n",
      "       'Dire_Disabler', 'Dire_Initiator', 'Dire_Durable', 'Dire_Support',\n",
      "       'Dire_Jungler', 'Dire_Carry', 'Dire_Pusher', 'Dire_Escape', 'match_id',\n",
      "       'radiant_win', 'avg_mmr', 'duration', 'lobby_type', 'game_mode'],\n",
      "      dtype='object')\n"
     ]
    },
    {
     "data": {
      "text/html": [
       "<div>\n",
       "<style scoped>\n",
       "    .dataframe tbody tr th:only-of-type {\n",
       "        vertical-align: middle;\n",
       "    }\n",
       "\n",
       "    .dataframe tbody tr th {\n",
       "        vertical-align: top;\n",
       "    }\n",
       "\n",
       "    .dataframe thead th {\n",
       "        text-align: right;\n",
       "    }\n",
       "</style>\n",
       "<table border=\"1\" class=\"dataframe\">\n",
       "  <thead>\n",
       "    <tr style=\"text-align: right;\">\n",
       "      <th></th>\n",
       "      <th>Radiant_is_Melle</th>\n",
       "      <th>Radiant_primary_attr_agi</th>\n",
       "      <th>Radiant_primary_attr_int</th>\n",
       "      <th>Radiant_primary_attr_str</th>\n",
       "      <th>Radiant_Nuker</th>\n",
       "      <th>Radiant_Disabler</th>\n",
       "      <th>Radiant_Initiator</th>\n",
       "      <th>Radiant_Durable</th>\n",
       "      <th>Radiant_Support</th>\n",
       "      <th>Radiant_Jungler</th>\n",
       "      <th>...</th>\n",
       "      <th>Dire_Jungler</th>\n",
       "      <th>Dire_Carry</th>\n",
       "      <th>Dire_Pusher</th>\n",
       "      <th>Dire_Escape</th>\n",
       "      <th>match_id</th>\n",
       "      <th>radiant_win</th>\n",
       "      <th>avg_mmr</th>\n",
       "      <th>duration</th>\n",
       "      <th>lobby_type</th>\n",
       "      <th>game_mode</th>\n",
       "    </tr>\n",
       "  </thead>\n",
       "  <tbody>\n",
       "    <tr>\n",
       "      <th>0</th>\n",
       "      <td>2.0</td>\n",
       "      <td>1.0</td>\n",
       "      <td>3.0</td>\n",
       "      <td>1.0</td>\n",
       "      <td>3.0</td>\n",
       "      <td>5.0</td>\n",
       "      <td>2.0</td>\n",
       "      <td>2.0</td>\n",
       "      <td>2.0</td>\n",
       "      <td>2.0</td>\n",
       "      <td>...</td>\n",
       "      <td>1.0</td>\n",
       "      <td>3.0</td>\n",
       "      <td>1.0</td>\n",
       "      <td>2.0</td>\n",
       "      <td>5963069008</td>\n",
       "      <td>1</td>\n",
       "      <td>3439</td>\n",
       "      <td>1649</td>\n",
       "      <td>7</td>\n",
       "      <td>22</td>\n",
       "    </tr>\n",
       "    <tr>\n",
       "      <th>1</th>\n",
       "      <td>3.0</td>\n",
       "      <td>2.0</td>\n",
       "      <td>1.0</td>\n",
       "      <td>2.0</td>\n",
       "      <td>5.0</td>\n",
       "      <td>4.0</td>\n",
       "      <td>1.0</td>\n",
       "      <td>3.0</td>\n",
       "      <td>3.0</td>\n",
       "      <td>0.0</td>\n",
       "      <td>...</td>\n",
       "      <td>0.0</td>\n",
       "      <td>4.0</td>\n",
       "      <td>0.0</td>\n",
       "      <td>3.0</td>\n",
       "      <td>5963069009</td>\n",
       "      <td>1</td>\n",
       "      <td>3774</td>\n",
       "      <td>1848</td>\n",
       "      <td>0</td>\n",
       "      <td>22</td>\n",
       "    </tr>\n",
       "    <tr>\n",
       "      <th>2</th>\n",
       "      <td>3.0</td>\n",
       "      <td>2.0</td>\n",
       "      <td>1.0</td>\n",
       "      <td>2.0</td>\n",
       "      <td>3.0</td>\n",
       "      <td>4.0</td>\n",
       "      <td>3.0</td>\n",
       "      <td>2.0</td>\n",
       "      <td>1.0</td>\n",
       "      <td>1.0</td>\n",
       "      <td>...</td>\n",
       "      <td>0.0</td>\n",
       "      <td>3.0</td>\n",
       "      <td>0.0</td>\n",
       "      <td>3.0</td>\n",
       "      <td>5963069012</td>\n",
       "      <td>1</td>\n",
       "      <td>3311</td>\n",
       "      <td>1951</td>\n",
       "      <td>7</td>\n",
       "      <td>22</td>\n",
       "    </tr>\n",
       "    <tr>\n",
       "      <th>3</th>\n",
       "      <td>2.0</td>\n",
       "      <td>3.0</td>\n",
       "      <td>1.0</td>\n",
       "      <td>1.0</td>\n",
       "      <td>3.0</td>\n",
       "      <td>3.0</td>\n",
       "      <td>2.0</td>\n",
       "      <td>1.0</td>\n",
       "      <td>2.0</td>\n",
       "      <td>0.0</td>\n",
       "      <td>...</td>\n",
       "      <td>0.0</td>\n",
       "      <td>3.0</td>\n",
       "      <td>1.0</td>\n",
       "      <td>1.0</td>\n",
       "      <td>5963069204</td>\n",
       "      <td>1</td>\n",
       "      <td>3408</td>\n",
       "      <td>995</td>\n",
       "      <td>0</td>\n",
       "      <td>22</td>\n",
       "    </tr>\n",
       "    <tr>\n",
       "      <th>4</th>\n",
       "      <td>3.0</td>\n",
       "      <td>2.0</td>\n",
       "      <td>1.0</td>\n",
       "      <td>2.0</td>\n",
       "      <td>3.0</td>\n",
       "      <td>3.0</td>\n",
       "      <td>3.0</td>\n",
       "      <td>1.0</td>\n",
       "      <td>1.0</td>\n",
       "      <td>1.0</td>\n",
       "      <td>...</td>\n",
       "      <td>0.0</td>\n",
       "      <td>4.0</td>\n",
       "      <td>1.0</td>\n",
       "      <td>1.0</td>\n",
       "      <td>5963069208</td>\n",
       "      <td>0</td>\n",
       "      <td>4621</td>\n",
       "      <td>1818</td>\n",
       "      <td>7</td>\n",
       "      <td>22</td>\n",
       "    </tr>\n",
       "  </tbody>\n",
       "</table>\n",
       "<p>5 rows × 32 columns</p>\n",
       "</div>"
      ],
      "text/plain": [
       "   Radiant_is_Melle  Radiant_primary_attr_agi  Radiant_primary_attr_int  \\\n",
       "0               2.0                       1.0                       3.0   \n",
       "1               3.0                       2.0                       1.0   \n",
       "2               3.0                       2.0                       1.0   \n",
       "3               2.0                       3.0                       1.0   \n",
       "4               3.0                       2.0                       1.0   \n",
       "\n",
       "   Radiant_primary_attr_str  Radiant_Nuker  Radiant_Disabler  \\\n",
       "0                       1.0            3.0               5.0   \n",
       "1                       2.0            5.0               4.0   \n",
       "2                       2.0            3.0               4.0   \n",
       "3                       1.0            3.0               3.0   \n",
       "4                       2.0            3.0               3.0   \n",
       "\n",
       "   Radiant_Initiator  Radiant_Durable  Radiant_Support  Radiant_Jungler  ...  \\\n",
       "0                2.0              2.0              2.0              2.0  ...   \n",
       "1                1.0              3.0              3.0              0.0  ...   \n",
       "2                3.0              2.0              1.0              1.0  ...   \n",
       "3                2.0              1.0              2.0              0.0  ...   \n",
       "4                3.0              1.0              1.0              1.0  ...   \n",
       "\n",
       "   Dire_Jungler  Dire_Carry  Dire_Pusher  Dire_Escape    match_id  \\\n",
       "0           1.0         3.0          1.0          2.0  5963069008   \n",
       "1           0.0         4.0          0.0          3.0  5963069009   \n",
       "2           0.0         3.0          0.0          3.0  5963069012   \n",
       "3           0.0         3.0          1.0          1.0  5963069204   \n",
       "4           0.0         4.0          1.0          1.0  5963069208   \n",
       "\n",
       "   radiant_win  avg_mmr  duration  lobby_type  game_mode  \n",
       "0            1     3439      1649           7         22  \n",
       "1            1     3774      1848           0         22  \n",
       "2            1     3311      1951           7         22  \n",
       "3            1     3408       995           0         22  \n",
       "4            0     4621      1818           7         22  \n",
       "\n",
       "[5 rows x 32 columns]"
      ]
     },
     "execution_count": 4,
     "metadata": {},
     "output_type": "execute_result"
    }
   ],
   "source": [
    "print('Número total de amostras:', df_original.shape)\n",
    "print('Colunas:\\n', df_original.columns)\n",
    "df_original.head()"
   ]
  },
  {
   "cell_type": "markdown",
   "id": "ccd22685",
   "metadata": {},
   "source": [
    "## Filtragem de dados\n",
    "- Somente partidas rankeadas: ``lobby_type = 7``\n",
    "- Somente modo game_mode_all_draft: ``game_mode = 22``\n",
    "- Remover colunas"
   ]
  },
  {
   "cell_type": "code",
   "execution_count": 5,
   "id": "ccf976ee",
   "metadata": {},
   "outputs": [
    {
     "data": {
      "text/plain": [
       "(32293, 32)"
      ]
     },
     "execution_count": 5,
     "metadata": {},
     "output_type": "execute_result"
    }
   ],
   "source": [
    "df = df_original.copy()\n",
    "df = df.query(\"lobby_type == 7\")\n",
    "df = df.query(\"game_mode == 22\")\n",
    "df.shape"
   ]
  },
  {
   "cell_type": "markdown",
   "id": "afa60bea",
   "metadata": {},
   "source": [
    "### Remover colunas\n",
    "- match_id\n",
    "- avg_mmr\n",
    "- duration\n",
    "- lobby_type\n",
    "- game_mode"
   ]
  },
  {
   "cell_type": "code",
   "execution_count": 6,
   "id": "90c95615",
   "metadata": {},
   "outputs": [
    {
     "data": {
      "text/plain": [
       "(32293, 27)"
      ]
     },
     "execution_count": 6,
     "metadata": {},
     "output_type": "execute_result"
    }
   ],
   "source": [
    "drop_cols = ['match_id', 'avg_mmr', 'duration',\n",
    "             'lobby_type', 'game_mode']\n",
    "\n",
    "df = df.drop(columns=drop_cols)\n",
    "df.shape"
   ]
  },
  {
   "cell_type": "code",
   "execution_count": 7,
   "id": "ee4dd3d5",
   "metadata": {},
   "outputs": [],
   "source": [
    "df.to_csv('example_data.csv',index=False)"
   ]
  },
  {
   "cell_type": "markdown",
   "id": "f3addd05",
   "metadata": {},
   "source": [
    "### Vitórias por time"
   ]
  },
  {
   "cell_type": "code",
   "execution_count": 8,
   "id": "e49db6e0",
   "metadata": {},
   "outputs": [
    {
     "data": {
      "image/png": "[encoded data removed]",
      "text/plain": [
       "<Figure size 432x288 with 1 Axes>"
      ]
     },
     "metadata": {
      "needs_background": "light"
     },
     "output_type": "display_data"
    },
    {
     "name": "stdout",
     "output_type": "stream",
     "text": [
      "Percentual:\n"
     ]
    },
    {
     "data": {
      "text/plain": [
       "1    0.529588\n",
       "0    0.470412\n",
       "Name: radiant_win, dtype: float64"
      ]
     },
     "execution_count": 8,
     "metadata": {},
     "output_type": "execute_result"
    }
   ],
   "source": [
    "df['radiant_win'].hist()\n",
    "plt.title('Comparação de vitórias por time')\n",
    "plt.xticks([0,1],['Dire Win', 'Radiant Win'])\n",
    "plt.show()\n",
    "\n",
    "print('Percentual:')\n",
    "df['radiant_win'].value_counts(normalize=True)"
   ]
  },
  {
   "cell_type": "markdown",
   "id": "8772ccc1",
   "metadata": {},
   "source": [
    "### Filtrando colunas de atributo principal"
   ]
  },
  {
   "cell_type": "code",
   "execution_count": 9,
   "id": "05d9d335",
   "metadata": {},
   "outputs": [
    {
     "data": {
      "text/html": [
       "<div>\n",
       "<style scoped>\n",
       "    .dataframe tbody tr th:only-of-type {\n",
       "        vertical-align: middle;\n",
       "    }\n",
       "\n",
       "    .dataframe tbody tr th {\n",
       "        vertical-align: top;\n",
       "    }\n",
       "\n",
       "    .dataframe thead th {\n",
       "        text-align: right;\n",
       "    }\n",
       "</style>\n",
       "<table border=\"1\" class=\"dataframe\">\n",
       "  <thead>\n",
       "    <tr style=\"text-align: right;\">\n",
       "      <th></th>\n",
       "      <th>Radiant_is_Melle</th>\n",
       "      <th>Radiant_Nuker</th>\n",
       "      <th>Radiant_Disabler</th>\n",
       "      <th>Radiant_Initiator</th>\n",
       "      <th>Radiant_Durable</th>\n",
       "      <th>Radiant_Support</th>\n",
       "      <th>Radiant_Jungler</th>\n",
       "      <th>Radiant_Carry</th>\n",
       "      <th>Radiant_Pusher</th>\n",
       "      <th>Radiant_Escape</th>\n",
       "      <th>...</th>\n",
       "      <th>Dire_Nuker</th>\n",
       "      <th>Dire_Disabler</th>\n",
       "      <th>Dire_Initiator</th>\n",
       "      <th>Dire_Durable</th>\n",
       "      <th>Dire_Support</th>\n",
       "      <th>Dire_Jungler</th>\n",
       "      <th>Dire_Carry</th>\n",
       "      <th>Dire_Pusher</th>\n",
       "      <th>Dire_Escape</th>\n",
       "      <th>radiant_win</th>\n",
       "    </tr>\n",
       "  </thead>\n",
       "  <tbody>\n",
       "    <tr>\n",
       "      <th>0</th>\n",
       "      <td>2.0</td>\n",
       "      <td>3.0</td>\n",
       "      <td>5.0</td>\n",
       "      <td>2.0</td>\n",
       "      <td>2.0</td>\n",
       "      <td>2.0</td>\n",
       "      <td>2.0</td>\n",
       "      <td>2.0</td>\n",
       "      <td>0.0</td>\n",
       "      <td>3.0</td>\n",
       "      <td>...</td>\n",
       "      <td>1.0</td>\n",
       "      <td>3.0</td>\n",
       "      <td>2.0</td>\n",
       "      <td>3.0</td>\n",
       "      <td>2.0</td>\n",
       "      <td>1.0</td>\n",
       "      <td>3.0</td>\n",
       "      <td>1.0</td>\n",
       "      <td>2.0</td>\n",
       "      <td>1</td>\n",
       "    </tr>\n",
       "    <tr>\n",
       "      <th>2</th>\n",
       "      <td>3.0</td>\n",
       "      <td>3.0</td>\n",
       "      <td>4.0</td>\n",
       "      <td>3.0</td>\n",
       "      <td>2.0</td>\n",
       "      <td>1.0</td>\n",
       "      <td>1.0</td>\n",
       "      <td>3.0</td>\n",
       "      <td>1.0</td>\n",
       "      <td>1.0</td>\n",
       "      <td>...</td>\n",
       "      <td>2.0</td>\n",
       "      <td>4.0</td>\n",
       "      <td>1.0</td>\n",
       "      <td>1.0</td>\n",
       "      <td>2.0</td>\n",
       "      <td>0.0</td>\n",
       "      <td>3.0</td>\n",
       "      <td>0.0</td>\n",
       "      <td>3.0</td>\n",
       "      <td>1</td>\n",
       "    </tr>\n",
       "    <tr>\n",
       "      <th>4</th>\n",
       "      <td>3.0</td>\n",
       "      <td>3.0</td>\n",
       "      <td>3.0</td>\n",
       "      <td>3.0</td>\n",
       "      <td>1.0</td>\n",
       "      <td>1.0</td>\n",
       "      <td>1.0</td>\n",
       "      <td>3.0</td>\n",
       "      <td>0.0</td>\n",
       "      <td>1.0</td>\n",
       "      <td>...</td>\n",
       "      <td>3.0</td>\n",
       "      <td>4.0</td>\n",
       "      <td>1.0</td>\n",
       "      <td>2.0</td>\n",
       "      <td>3.0</td>\n",
       "      <td>0.0</td>\n",
       "      <td>4.0</td>\n",
       "      <td>1.0</td>\n",
       "      <td>1.0</td>\n",
       "      <td>0</td>\n",
       "    </tr>\n",
       "    <tr>\n",
       "      <th>6</th>\n",
       "      <td>2.0</td>\n",
       "      <td>4.0</td>\n",
       "      <td>4.0</td>\n",
       "      <td>2.0</td>\n",
       "      <td>1.0</td>\n",
       "      <td>2.0</td>\n",
       "      <td>0.0</td>\n",
       "      <td>3.0</td>\n",
       "      <td>0.0</td>\n",
       "      <td>4.0</td>\n",
       "      <td>...</td>\n",
       "      <td>4.0</td>\n",
       "      <td>4.0</td>\n",
       "      <td>2.0</td>\n",
       "      <td>2.0</td>\n",
       "      <td>3.0</td>\n",
       "      <td>0.0</td>\n",
       "      <td>3.0</td>\n",
       "      <td>1.0</td>\n",
       "      <td>1.0</td>\n",
       "      <td>0</td>\n",
       "    </tr>\n",
       "    <tr>\n",
       "      <th>7</th>\n",
       "      <td>4.0</td>\n",
       "      <td>5.0</td>\n",
       "      <td>5.0</td>\n",
       "      <td>4.0</td>\n",
       "      <td>3.0</td>\n",
       "      <td>2.0</td>\n",
       "      <td>0.0</td>\n",
       "      <td>3.0</td>\n",
       "      <td>0.0</td>\n",
       "      <td>2.0</td>\n",
       "      <td>...</td>\n",
       "      <td>3.0</td>\n",
       "      <td>4.0</td>\n",
       "      <td>2.0</td>\n",
       "      <td>1.0</td>\n",
       "      <td>2.0</td>\n",
       "      <td>0.0</td>\n",
       "      <td>3.0</td>\n",
       "      <td>3.0</td>\n",
       "      <td>3.0</td>\n",
       "      <td>0</td>\n",
       "    </tr>\n",
       "  </tbody>\n",
       "</table>\n",
       "<p>5 rows × 21 columns</p>\n",
       "</div>"
      ],
      "text/plain": [
       "   Radiant_is_Melle  Radiant_Nuker  Radiant_Disabler  Radiant_Initiator  \\\n",
       "0               2.0            3.0               5.0                2.0   \n",
       "2               3.0            3.0               4.0                3.0   \n",
       "4               3.0            3.0               3.0                3.0   \n",
       "6               2.0            4.0               4.0                2.0   \n",
       "7               4.0            5.0               5.0                4.0   \n",
       "\n",
       "   Radiant_Durable  Radiant_Support  Radiant_Jungler  Radiant_Carry  \\\n",
       "0              2.0              2.0              2.0            2.0   \n",
       "2              2.0              1.0              1.0            3.0   \n",
       "4              1.0              1.0              1.0            3.0   \n",
       "6              1.0              2.0              0.0            3.0   \n",
       "7              3.0              2.0              0.0            3.0   \n",
       "\n",
       "   Radiant_Pusher  Radiant_Escape  ...  Dire_Nuker  Dire_Disabler  \\\n",
       "0             0.0             3.0  ...         1.0            3.0   \n",
       "2             1.0             1.0  ...         2.0            4.0   \n",
       "4             0.0             1.0  ...         3.0            4.0   \n",
       "6             0.0             4.0  ...         4.0            4.0   \n",
       "7             0.0             2.0  ...         3.0            4.0   \n",
       "\n",
       "   Dire_Initiator  Dire_Durable  Dire_Support  Dire_Jungler  Dire_Carry  \\\n",
       "0             2.0           3.0           2.0           1.0         3.0   \n",
       "2             1.0           1.0           2.0           0.0         3.0   \n",
       "4             1.0           2.0           3.0           0.0         4.0   \n",
       "6             2.0           2.0           3.0           0.0         3.0   \n",
       "7             2.0           1.0           2.0           0.0         3.0   \n",
       "\n",
       "   Dire_Pusher  Dire_Escape  radiant_win  \n",
       "0          1.0          2.0            1  \n",
       "2          0.0          3.0            1  \n",
       "4          1.0          1.0            0  \n",
       "6          1.0          1.0            0  \n",
       "7          3.0          3.0            0  \n",
       "\n",
       "[5 rows x 21 columns]"
      ]
     },
     "execution_count": 9,
     "metadata": {},
     "output_type": "execute_result"
    }
   ],
   "source": [
    "drop_primary_attr = ['Radiant_primary_attr_agi', 'Radiant_primary_attr_int', 'Radiant_primary_attr_str',\n",
    "'Dire_primary_attr_agi', 'Dire_primary_attr_int', 'Dire_primary_attr_str']\n",
    "df.drop(columns=drop_primary_attr,inplace=True)\n",
    "df.head()"
   ]
  },
  {
   "cell_type": "markdown",
   "id": "75d3c2ff",
   "metadata": {},
   "source": [
    "---\n",
    "## Separar dados para treinamento"
   ]
  },
  {
   "cell_type": "code",
   "execution_count": 10,
   "id": "08555624",
   "metadata": {},
   "outputs": [],
   "source": [
    "colum_names = df.columns\n",
    "\n",
    "y_column = ['radiant_win']\n",
    "X_columns = set(colum_names) - set(y_column)\n",
    "\n",
    "X = df[X_columns]\n",
    "y = df[y_column[0]].values\n"
   ]
  },
  {
   "cell_type": "markdown",
   "id": "9e5083f1",
   "metadata": {},
   "source": [
    "**Configurar os folds para a validação cruzada**"
   ]
  },
  {
   "cell_type": "code",
   "execution_count": 11,
   "id": "9b2226f1",
   "metadata": {},
   "outputs": [],
   "source": [
    "n_folds = 5\n",
    "repeated_cv = 3\n",
    "cv = RepeatedStratifiedKFold(n_splits=n_folds, n_repeats=repeated_cv, random_state=1)"
   ]
  },
  {
   "cell_type": "markdown",
   "id": "6c52ad93",
   "metadata": {},
   "source": [
    "---\n",
    "## Treinar modelos de classificação"
   ]
  },
  {
   "cell_type": "markdown",
   "id": "60a88e43",
   "metadata": {},
   "source": [
    "### Declarando modelos"
   ]
  },
  {
   "cell_type": "code",
   "execution_count": 12,
   "id": "2cc0a639",
   "metadata": {},
   "outputs": [],
   "source": [
    "model_names = ['Logistic Regression', 'KNN', 'Random Forest', 'Rede Neural', 'XGBoost', 'Naive Bayes']\n",
    "scores = [None] * len(model_names)\n",
    "\n",
    "# Declaring models\n",
    "Logistic_model = LogisticRegression()\n",
    "KNN_model = KNeighborsClassifier(n_neighbors=5)\n",
    "RdnForest_model = RandomForestClassifier(n_estimators=400)\n",
    "RNN_model = MLPClassifier()\n",
    "XGB_model = XGBClassifier(n_estimators=400)\n",
    "Naive_model = GaussianNB()\n",
    "\n",
    "models_lst = [Logistic_model, KNN_model, RdnForest_model, RNN_model, XGB_model, Naive_model]"
   ]
  },
  {
   "cell_type": "markdown",
   "id": "085ab22d",
   "metadata": {},
   "source": [
    "### Treinamento"
   ]
  },
  {
   "cell_type": "code",
   "execution_count": 13,
   "id": "9780cf00",
   "metadata": {},
   "outputs": [
    {
     "name": "stdout",
     "output_type": "stream",
     "text": [
      "---------\n",
      "Training model:  Logistic Regression\n",
      "Model Logistic Regression mean score: 0.53\n",
      "---------\n",
      "Training model:  KNN\n",
      "Model KNN mean score: 0.5\n",
      "---------\n",
      "Training model:  Random Forest\n",
      "Model Random Forest mean score: 0.52\n",
      "---------\n",
      "Training model:  Rede Neural\n",
      "Model Rede Neural mean score: 0.52\n",
      "---------\n",
      "Training model:  XGBoost\n",
      "Model XGBoost mean score: 0.52\n",
      "---------\n",
      "Training model:  Naive Bayes\n",
      "Model Naive Bayes mean score: 0.53\n"
     ]
    }
   ],
   "source": [
    "for i, model in enumerate(models_lst):\n",
    "    print('---------\\nTraining model: ', model_names[i])\n",
    "    scores[i] = cross_val_score(model, X, y, scoring='accuracy', cv=cv, n_jobs=-1)\n",
    "    print('Model '+model_names[i]+ ' mean score:', round(np.mean(scores[i]),2))"
   ]
  },
  {
   "cell_type": "markdown",
   "id": "5fb76b7c",
   "metadata": {},
   "source": [
    "---\n",
    "## Mostrando e salvando Resultados"
   ]
  },
  {
   "cell_type": "markdown",
   "id": "7b225735",
   "metadata": {},
   "source": [
    "### Salvando resultados dos modelos"
   ]
  },
  {
   "cell_type": "code",
   "execution_count": 14,
   "id": "d0ad01ff",
   "metadata": {},
   "outputs": [
    {
     "data": {
      "text/html": [
       "<div>\n",
       "<style scoped>\n",
       "    .dataframe tbody tr th:only-of-type {\n",
       "        vertical-align: middle;\n",
       "    }\n",
       "\n",
       "    .dataframe tbody tr th {\n",
       "        vertical-align: top;\n",
       "    }\n",
       "\n",
       "    .dataframe thead th {\n",
       "        text-align: right;\n",
       "    }\n",
       "</style>\n",
       "<table border=\"1\" class=\"dataframe\">\n",
       "  <thead>\n",
       "    <tr style=\"text-align: right;\">\n",
       "      <th></th>\n",
       "      <th>Logistic Regression</th>\n",
       "      <th>KNN</th>\n",
       "      <th>Random Forest</th>\n",
       "      <th>Rede Neural</th>\n",
       "      <th>XGBoost</th>\n",
       "      <th>Naive Bayes</th>\n",
       "    </tr>\n",
       "  </thead>\n",
       "  <tbody>\n",
       "    <tr>\n",
       "      <th>0</th>\n",
       "      <td>0.533984</td>\n",
       "      <td>0.498994</td>\n",
       "      <td>0.525004</td>\n",
       "      <td>0.515405</td>\n",
       "      <td>0.516798</td>\n",
       "      <td>0.538473</td>\n",
       "    </tr>\n",
       "    <tr>\n",
       "      <th>1</th>\n",
       "      <td>0.543737</td>\n",
       "      <td>0.510451</td>\n",
       "      <td>0.529184</td>\n",
       "      <td>0.521907</td>\n",
       "      <td>0.519895</td>\n",
       "      <td>0.538783</td>\n",
       "    </tr>\n",
       "    <tr>\n",
       "      <th>2</th>\n",
       "      <td>0.534758</td>\n",
       "      <td>0.506580</td>\n",
       "      <td>0.524385</td>\n",
       "      <td>0.523301</td>\n",
       "      <td>0.510605</td>\n",
       "      <td>0.538473</td>\n",
       "    </tr>\n",
       "    <tr>\n",
       "      <th>3</th>\n",
       "      <td>0.527563</td>\n",
       "      <td>0.502168</td>\n",
       "      <td>0.525395</td>\n",
       "      <td>0.514710</td>\n",
       "      <td>0.518272</td>\n",
       "      <td>0.521679</td>\n",
       "    </tr>\n",
       "    <tr>\n",
       "      <th>4</th>\n",
       "      <td>0.528647</td>\n",
       "      <td>0.487457</td>\n",
       "      <td>0.521524</td>\n",
       "      <td>0.519820</td>\n",
       "      <td>0.508052</td>\n",
       "      <td>0.513472</td>\n",
       "    </tr>\n",
       "    <tr>\n",
       "      <th>5</th>\n",
       "      <td>0.528255</td>\n",
       "      <td>0.511379</td>\n",
       "      <td>0.519430</td>\n",
       "      <td>0.515715</td>\n",
       "      <td>0.509986</td>\n",
       "      <td>0.524230</td>\n",
       "    </tr>\n",
       "    <tr>\n",
       "      <th>6</th>\n",
       "      <td>0.533055</td>\n",
       "      <td>0.505961</td>\n",
       "      <td>0.524849</td>\n",
       "      <td>0.531971</td>\n",
       "      <td>0.521443</td>\n",
       "      <td>0.533055</td>\n",
       "    </tr>\n",
       "    <tr>\n",
       "      <th>7</th>\n",
       "      <td>0.533364</td>\n",
       "      <td>0.505341</td>\n",
       "      <td>0.512928</td>\n",
       "      <td>0.529494</td>\n",
       "      <td>0.517882</td>\n",
       "      <td>0.538164</td>\n",
       "    </tr>\n",
       "    <tr>\n",
       "      <th>8</th>\n",
       "      <td>0.537937</td>\n",
       "      <td>0.501394</td>\n",
       "      <td>0.526014</td>\n",
       "      <td>0.514401</td>\n",
       "      <td>0.516569</td>\n",
       "      <td>0.532363</td>\n",
       "    </tr>\n",
       "    <tr>\n",
       "      <th>9</th>\n",
       "      <td>0.528182</td>\n",
       "      <td>0.501858</td>\n",
       "      <td>0.520440</td>\n",
       "      <td>0.519666</td>\n",
       "      <td>0.505574</td>\n",
       "      <td>0.532828</td>\n",
       "    </tr>\n",
       "    <tr>\n",
       "      <th>10</th>\n",
       "      <td>0.532745</td>\n",
       "      <td>0.507973</td>\n",
       "      <td>0.523456</td>\n",
       "      <td>0.520824</td>\n",
       "      <td>0.521907</td>\n",
       "      <td>0.531816</td>\n",
       "    </tr>\n",
       "    <tr>\n",
       "      <th>11</th>\n",
       "      <td>0.534293</td>\n",
       "      <td>0.500387</td>\n",
       "      <td>0.523920</td>\n",
       "      <td>0.514166</td>\n",
       "      <td>0.511844</td>\n",
       "      <td>0.524075</td>\n",
       "    </tr>\n",
       "    <tr>\n",
       "      <th>12</th>\n",
       "      <td>0.534913</td>\n",
       "      <td>0.499923</td>\n",
       "      <td>0.524075</td>\n",
       "      <td>0.532435</td>\n",
       "      <td>0.524849</td>\n",
       "      <td>0.535067</td>\n",
       "    </tr>\n",
       "    <tr>\n",
       "      <th>13</th>\n",
       "      <td>0.525550</td>\n",
       "      <td>0.496439</td>\n",
       "      <td>0.520904</td>\n",
       "      <td>0.512852</td>\n",
       "      <td>0.513472</td>\n",
       "      <td>0.524156</td>\n",
       "    </tr>\n",
       "    <tr>\n",
       "      <th>14</th>\n",
       "      <td>0.536079</td>\n",
       "      <td>0.504955</td>\n",
       "      <td>0.516878</td>\n",
       "      <td>0.512388</td>\n",
       "      <td>0.510065</td>\n",
       "      <td>0.530660</td>\n",
       "    </tr>\n",
       "  </tbody>\n",
       "</table>\n",
       "</div>"
      ],
      "text/plain": [
       "    Logistic Regression       KNN  Random Forest  Rede Neural   XGBoost  \\\n",
       "0              0.533984  0.498994       0.525004     0.515405  0.516798   \n",
       "1              0.543737  0.510451       0.529184     0.521907  0.519895   \n",
       "2              0.534758  0.506580       0.524385     0.523301  0.510605   \n",
       "3              0.527563  0.502168       0.525395     0.514710  0.518272   \n",
       "4              0.528647  0.487457       0.521524     0.519820  0.508052   \n",
       "5              0.528255  0.511379       0.519430     0.515715  0.509986   \n",
       "6              0.533055  0.505961       0.524849     0.531971  0.521443   \n",
       "7              0.533364  0.505341       0.512928     0.529494  0.517882   \n",
       "8              0.537937  0.501394       0.526014     0.514401  0.516569   \n",
       "9              0.528182  0.501858       0.520440     0.519666  0.505574   \n",
       "10             0.532745  0.507973       0.523456     0.520824  0.521907   \n",
       "11             0.534293  0.500387       0.523920     0.514166  0.511844   \n",
       "12             0.534913  0.499923       0.524075     0.532435  0.524849   \n",
       "13             0.525550  0.496439       0.520904     0.512852  0.513472   \n",
       "14             0.536079  0.504955       0.516878     0.512388  0.510065   \n",
       "\n",
       "    Naive Bayes  \n",
       "0      0.538473  \n",
       "1      0.538783  \n",
       "2      0.538473  \n",
       "3      0.521679  \n",
       "4      0.513472  \n",
       "5      0.524230  \n",
       "6      0.533055  \n",
       "7      0.538164  \n",
       "8      0.532363  \n",
       "9      0.532828  \n",
       "10     0.531816  \n",
       "11     0.524075  \n",
       "12     0.535067  \n",
       "13     0.524156  \n",
       "14     0.530660  "
      ]
     },
     "metadata": {},
     "output_type": "display_data"
    }
   ],
   "source": [
    "result_df = pd.DataFrame()\n",
    "for i, name in enumerate(model_names):\n",
    "    series_result = pd.DataFrame(scores[i], columns=[name])\n",
    "    result_df = pd.concat([result_df, series_result], axis=1)\n",
    "    \n",
    "display(result_df)\n",
    "result_df.to_csv(output_savepath+'v2_score_exp05.csv', index=False)"
   ]
  },
  {
   "cell_type": "markdown",
   "id": "8bfd9783",
   "metadata": {},
   "source": [
    "### Gráfico de comparação"
   ]
  },
  {
   "cell_type": "code",
   "execution_count": 15,
   "id": "85e65ac7",
   "metadata": {},
   "outputs": [
    {
     "data": {
      "image/png": "[encoded data removed]",
      "text/plain": [
       "<Figure size 432x288 with 1 Axes>"
      ]
     },
     "metadata": {
      "needs_background": "light"
     },
     "output_type": "display_data"
    }
   ],
   "source": [
    "width_plot = result_df.mean().sort_values(ascending=False)\n",
    "\n",
    "x_plot = width_plot.index.values\n",
    "\n",
    "plt.barh(y=x_plot, width=width_plot)\n",
    "plt.title('Comparação da Acurácia Média de cada Algoritmo')\n",
    "plt.xlabel('Acurácia média')\n",
    "plt.tight_layout()\n",
    "\n",
    "plt.savefig(output_savepath+'comparacao_acuracia_modelos_exp05')"
   ]
  },
  {
   "cell_type": "markdown",
   "id": "5c94798f",
   "metadata": {},
   "source": [
    "---\n",
    "## Conclusão e próximos passos\n",
    "\n",
    "A sumarização de dados por time não surtiu resultados expressivos na acurácia."
   ]
  },
  {
   "cell_type": "code",
   "execution_count": null,
   "id": "129e86f2",
   "metadata": {},
   "outputs": [],
   "source": []
  }
 ],
 "metadata": {
  "kernelspec": {
   "display_name": "Python 3",
   "language": "python",
   "name": "python3"
  },
  "language_info": {
   "codemirror_mode": {
    "name": "ipython",
    "version": 3
   },
   "file_extension": ".py",
   "mimetype": "text/x-python",
   "name": "python",
   "nbconvert_exporter": "python",
   "pygments_lexer": "ipython3",
   "version": "3.8.8"
  },
  "latex_envs": {
   "LaTeX_envs_menu_present": true,
   "autoclose": false,
   "autocomplete": true,
   "bibliofile": "biblio.bib",
   "cite_by": "apalike",
   "current_citInitial": 1,
   "eqLabelWithNumbers": true,
   "eqNumInitial": 1,
   "hotkeys": {
    "equation": "Ctrl-E",
    "itemize": "Ctrl-I"
   },
   "labels_anchors": false,
   "latex_user_defs": false,
   "report_style_numbering": false,
   "user_envs_cfg": false
  },
  "toc": {
   "base_numbering": 1,
   "nav_menu": {},
   "number_sections": true,
   "sideBar": true,
   "skip_h1_title": true,
   "title_cell": "Table of Contents",
   "title_sidebar": "Contents",
   "toc_cell": true,
   "toc_position": {
    "height": "757px",
    "left": "1536px",
    "top": "134px",
    "width": "384px"
   },
   "toc_section_display": true,
   "toc_window_display": false
  }
 },
 "nbformat": 4,
 "nbformat_minor": 5
}
