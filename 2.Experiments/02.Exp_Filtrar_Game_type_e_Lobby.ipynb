{
 "cells": [
  {
   "cell_type": "markdown",
   "id": "1743f5a9",
   "metadata": {
    "toc": true
   },
   "source": [
    "<h1>Table of Contents<span class=\"tocSkip\"></span></h1>\n",
    "<div class=\"toc\"><ul class=\"toc-item\"><li><span><a href=\"#Dataset-utilizado\" data-toc-modified-id=\"Dataset-utilizado-1\"><span class=\"toc-item-num\">1&nbsp;&nbsp;</span>Dataset utilizado</a></span><ul class=\"toc-item\"><li><span><a href=\"#Número-de-amostras-e-colunas\" data-toc-modified-id=\"Número-de-amostras-e-colunas-1.1\"><span class=\"toc-item-num\">1.1&nbsp;&nbsp;</span>Número de amostras e colunas</a></span></li></ul></li><li><span><a href=\"#Filtrando-o-game_mode-e-lobby_type\" data-toc-modified-id=\"Filtrando-o-game_mode-e-lobby_type-2\"><span class=\"toc-item-num\">2&nbsp;&nbsp;</span>Filtrando o <code>game_mode</code> e <code>lobby_type</code></a></span><ul class=\"toc-item\"><li><span><a href=\"#Entendendo-as-distribuições\" data-toc-modified-id=\"Entendendo-as-distribuições-2.1\"><span class=\"toc-item-num\">2.1&nbsp;&nbsp;</span>Entendendo as distribuições</a></span></li><li><span><a href=\"#Análise\" data-toc-modified-id=\"Análise-2.2\"><span class=\"toc-item-num\">2.2&nbsp;&nbsp;</span>Análise</a></span></li><li><span><a href=\"#Vitórias-por-time\" data-toc-modified-id=\"Vitórias-por-time-2.3\"><span class=\"toc-item-num\">2.3&nbsp;&nbsp;</span>Vitórias por time</a></span></li></ul></li><li><span><a href=\"#Transformar-dados-para-o-treinamento\" data-toc-modified-id=\"Transformar-dados-para-o-treinamento-3\"><span class=\"toc-item-num\">3&nbsp;&nbsp;</span>Transformar dados para o treinamento</a></span></li><li><span><a href=\"#Separar-dados-para-treinamento\" data-toc-modified-id=\"Separar-dados-para-treinamento-4\"><span class=\"toc-item-num\">4&nbsp;&nbsp;</span>Separar dados para treinamento</a></span></li><li><span><a href=\"#Treinar-modelos-de-classificação\" data-toc-modified-id=\"Treinar-modelos-de-classificação-5\"><span class=\"toc-item-num\">5&nbsp;&nbsp;</span>Treinar modelos de classificação</a></span><ul class=\"toc-item\"><li><span><a href=\"#Declarando-modelos\" data-toc-modified-id=\"Declarando-modelos-5.1\"><span class=\"toc-item-num\">5.1&nbsp;&nbsp;</span>Declarando modelos</a></span></li><li><span><a href=\"#Treinamento\" data-toc-modified-id=\"Treinamento-5.2\"><span class=\"toc-item-num\">5.2&nbsp;&nbsp;</span>Treinamento</a></span></li></ul></li><li><span><a href=\"#Mostrando-e-salvando-Resultados\" data-toc-modified-id=\"Mostrando-e-salvando-Resultados-6\"><span class=\"toc-item-num\">6&nbsp;&nbsp;</span>Mostrando e salvando Resultados</a></span><ul class=\"toc-item\"><li><span><a href=\"#Salvando-resultados-dos-modelos\" data-toc-modified-id=\"Salvando-resultados-dos-modelos-6.1\"><span class=\"toc-item-num\">6.1&nbsp;&nbsp;</span>Salvando resultados dos modelos</a></span></li><li><span><a href=\"#Gráfico-de-comparação\" data-toc-modified-id=\"Gráfico-de-comparação-6.2\"><span class=\"toc-item-num\">6.2&nbsp;&nbsp;</span>Gráfico de comparação</a></span></li></ul></li><li><span><a href=\"#Conclusão-e-próximos-passos\" data-toc-modified-id=\"Conclusão-e-próximos-passos-7\"><span class=\"toc-item-num\">7&nbsp;&nbsp;</span>Conclusão e próximos passos</a></span></li></ul></div>"
   ]
  },
  {
   "cell_type": "markdown",
   "id": "bc2ae772",
   "metadata": {},
   "source": [
    "---\n",
    "# Experimento 2: Filtrar game mode e lobby type nos modelos \n",
    "\n",
    "**Objetivo do experimento:** Treinar diferentes modelos, filtrando apenas alguns tipos de `game_mode` e `lobby_type` para entender se são relevantes para a predição final. \n",
    "\n",
    "\n",
    "**Formato do experimento:** Serão utilizadas todas as variáveis do arquivo ``2021-08-03_working_data.csv``. \n",
    "1. Os dados serão divididos em 5 conjuntos, onde será aplicada uma validação cruzada;\n",
    "2. O passo 1 será repetido 3 vezes com os dados sendo separados aleatoriamente em cada uma das vezes;\n",
    "3. Será calculada a acurácia média destes 15 conjuntos de teste;\n",
    "\n",
    "**Os seguintes modelos serão usados:**\n",
    "\n",
    "- KNN\n",
    "- Random Forest\n",
    "- Rede Neural\n",
    "- XGBoost\n",
    "- Naive Bayes\n",
    "\n",
    "**Métrica de avaliação:** Acurácia média dos dados de testes nos 15 conjuntos de dados: 3 validações cruzadas, onde cada validação possui 1 conjunto de teste."
   ]
  },
  {
   "cell_type": "markdown",
   "id": "3c847750",
   "metadata": {
    "hide_input": false
   },
   "source": [
    "---\n",
    "**Importing libraries**"
   ]
  },
  {
   "cell_type": "code",
   "execution_count": 1,
   "id": "a4ff1988",
   "metadata": {},
   "outputs": [],
   "source": [
    "import pandas as pd\n",
    "import numpy as np\n",
    "from matplotlib import pyplot as plt\n",
    "\n",
    "from sklearn.model_selection import RepeatedStratifiedKFold\n",
    "from sklearn.model_selection import cross_val_score\n",
    "\n",
    "\n",
    "from sklearn.neighbors import KNeighborsClassifier\n",
    "from sklearn.ensemble import RandomForestClassifier\n",
    "from sklearn.neural_network import MLPClassifier\n",
    "from sklearn.svm import SVC\n",
    "from xgboost import XGBClassifier\n",
    "from sklearn.naive_bayes import GaussianNB"
   ]
  },
  {
   "cell_type": "markdown",
   "id": "5066d5b2",
   "metadata": {},
   "source": [
    "**Loading data**"
   ]
  },
  {
   "cell_type": "code",
   "execution_count": 2,
   "id": "32cd1c50",
   "metadata": {},
   "outputs": [],
   "source": [
    "raw_data_path = '../data/raw_data/'\n",
    "data_path = '../data/working_data/'\n",
    "\n",
    "\n",
    "file = '2021-08-03_working_data.csv'\n",
    "df_original = pd.read_csv(data_path+file)\n",
    "\n",
    "game_mode_df = pd.read_json(raw_data_path+'game_mode.json').T\n",
    "lobby_type_df = pd.read_json(raw_data_path+'lobby_type.json').T"
   ]
  },
  {
   "cell_type": "markdown",
   "id": "bcebc371",
   "metadata": {},
   "source": [
    "**Setting output path**"
   ]
  },
  {
   "cell_type": "code",
   "execution_count": 3,
   "id": "c2831519",
   "metadata": {},
   "outputs": [],
   "source": [
    "output_savepath = '../3.Experiments_output/02.Exp_Filtrar_Game_type_e_Lobby/'"
   ]
  },
  {
   "cell_type": "markdown",
   "id": "cc7aaa6f",
   "metadata": {},
   "source": [
    "---\n",
    "## Dataset utilizado\n",
    "\n",
    "Por se tratar do modelo de baseline os dados referentes à lobby_type e game_mode não foram removidos. \n",
    "\n",
    "\n",
    "### Número de amostras e colunas"
   ]
  },
  {
   "cell_type": "code",
   "execution_count": 4,
   "id": "b3765e8b",
   "metadata": {},
   "outputs": [
    {
     "name": "stdout",
     "output_type": "stream",
     "text": [
      "Número total de amostras: (113400, 15)\n",
      "Colunas:\n",
      " Index(['radiant_win', 'avg_mmr', 'duration', 'lobby_type', 'game_mode',\n",
      "       'Radiant 1', 'Radiant 2', 'Radiant 3', 'Radiant 4', 'Radiant 5',\n",
      "       'Dire 1', 'Dire 2', 'Dire 3', 'Dire 4', 'Dire 5'],\n",
      "      dtype='object')\n"
     ]
    },
    {
     "data": {
      "text/html": [
       "<div>\n",
       "<style scoped>\n",
       "    .dataframe tbody tr th:only-of-type {\n",
       "        vertical-align: middle;\n",
       "    }\n",
       "\n",
       "    .dataframe tbody tr th {\n",
       "        vertical-align: top;\n",
       "    }\n",
       "\n",
       "    .dataframe thead th {\n",
       "        text-align: right;\n",
       "    }\n",
       "</style>\n",
       "<table border=\"1\" class=\"dataframe\">\n",
       "  <thead>\n",
       "    <tr style=\"text-align: right;\">\n",
       "      <th></th>\n",
       "      <th>radiant_win</th>\n",
       "      <th>avg_mmr</th>\n",
       "      <th>duration</th>\n",
       "      <th>lobby_type</th>\n",
       "      <th>game_mode</th>\n",
       "      <th>Radiant 1</th>\n",
       "      <th>Radiant 2</th>\n",
       "      <th>Radiant 3</th>\n",
       "      <th>Radiant 4</th>\n",
       "      <th>Radiant 5</th>\n",
       "      <th>Dire 1</th>\n",
       "      <th>Dire 2</th>\n",
       "      <th>Dire 3</th>\n",
       "      <th>Dire 4</th>\n",
       "      <th>Dire 5</th>\n",
       "    </tr>\n",
       "  </thead>\n",
       "  <tbody>\n",
       "    <tr>\n",
       "      <th>0</th>\n",
       "      <td>0</td>\n",
       "      <td>4104</td>\n",
       "      <td>2147</td>\n",
       "      <td>7</td>\n",
       "      <td>22</td>\n",
       "      <td>94</td>\n",
       "      <td>67</td>\n",
       "      <td>112</td>\n",
       "      <td>5</td>\n",
       "      <td>16.0</td>\n",
       "      <td>14</td>\n",
       "      <td>90</td>\n",
       "      <td>52</td>\n",
       "      <td>1</td>\n",
       "      <td>121</td>\n",
       "    </tr>\n",
       "    <tr>\n",
       "      <th>1</th>\n",
       "      <td>0</td>\n",
       "      <td>6421</td>\n",
       "      <td>1526</td>\n",
       "      <td>7</td>\n",
       "      <td>22</td>\n",
       "      <td>72</td>\n",
       "      <td>9</td>\n",
       "      <td>58</td>\n",
       "      <td>89</td>\n",
       "      <td>16.0</td>\n",
       "      <td>79</td>\n",
       "      <td>25</td>\n",
       "      <td>12</td>\n",
       "      <td>119</td>\n",
       "      <td>120</td>\n",
       "    </tr>\n",
       "    <tr>\n",
       "      <th>2</th>\n",
       "      <td>1</td>\n",
       "      <td>5062</td>\n",
       "      <td>1323</td>\n",
       "      <td>7</td>\n",
       "      <td>22</td>\n",
       "      <td>111</td>\n",
       "      <td>48</td>\n",
       "      <td>53</td>\n",
       "      <td>101</td>\n",
       "      <td>26.0</td>\n",
       "      <td>31</td>\n",
       "      <td>41</td>\n",
       "      <td>10</td>\n",
       "      <td>88</td>\n",
       "      <td>62</td>\n",
       "    </tr>\n",
       "    <tr>\n",
       "      <th>3</th>\n",
       "      <td>1</td>\n",
       "      <td>3943</td>\n",
       "      <td>1956</td>\n",
       "      <td>7</td>\n",
       "      <td>22</td>\n",
       "      <td>41</td>\n",
       "      <td>83</td>\n",
       "      <td>74</td>\n",
       "      <td>123</td>\n",
       "      <td>114.0</td>\n",
       "      <td>109</td>\n",
       "      <td>22</td>\n",
       "      <td>98</td>\n",
       "      <td>107</td>\n",
       "      <td>30</td>\n",
       "    </tr>\n",
       "    <tr>\n",
       "      <th>4</th>\n",
       "      <td>0</td>\n",
       "      <td>3515</td>\n",
       "      <td>2087</td>\n",
       "      <td>7</td>\n",
       "      <td>3</td>\n",
       "      <td>59</td>\n",
       "      <td>112</td>\n",
       "      <td>4</td>\n",
       "      <td>41</td>\n",
       "      <td>31.0</td>\n",
       "      <td>88</td>\n",
       "      <td>11</td>\n",
       "      <td>96</td>\n",
       "      <td>110</td>\n",
       "      <td>10</td>\n",
       "    </tr>\n",
       "  </tbody>\n",
       "</table>\n",
       "</div>"
      ],
      "text/plain": [
       "   radiant_win  avg_mmr  duration  lobby_type  game_mode  Radiant 1  \\\n",
       "0            0     4104      2147           7         22         94   \n",
       "1            0     6421      1526           7         22         72   \n",
       "2            1     5062      1323           7         22        111   \n",
       "3            1     3943      1956           7         22         41   \n",
       "4            0     3515      2087           7          3         59   \n",
       "\n",
       "   Radiant 2  Radiant 3  Radiant 4  Radiant 5  Dire 1  Dire 2  Dire 3  Dire 4  \\\n",
       "0         67        112          5       16.0      14      90      52       1   \n",
       "1          9         58         89       16.0      79      25      12     119   \n",
       "2         48         53        101       26.0      31      41      10      88   \n",
       "3         83         74        123      114.0     109      22      98     107   \n",
       "4        112          4         41       31.0      88      11      96     110   \n",
       "\n",
       "   Dire 5  \n",
       "0     121  \n",
       "1     120  \n",
       "2      62  \n",
       "3      30  \n",
       "4      10  "
      ]
     },
     "execution_count": 4,
     "metadata": {},
     "output_type": "execute_result"
    }
   ],
   "source": [
    "print('Número total de amostras:', df_original.shape)\n",
    "print('Colunas:\\n', df_original.columns)\n",
    "df_original.head()"
   ]
  },
  {
   "cell_type": "markdown",
   "id": "8343cb02",
   "metadata": {},
   "source": [
    "**Informações gerais**"
   ]
  },
  {
   "cell_type": "code",
   "execution_count": 5,
   "id": "8d5111bc",
   "metadata": {},
   "outputs": [
    {
     "data": {
      "text/html": [
       "<div>\n",
       "<style scoped>\n",
       "    .dataframe tbody tr th:only-of-type {\n",
       "        vertical-align: middle;\n",
       "    }\n",
       "\n",
       "    .dataframe tbody tr th {\n",
       "        vertical-align: top;\n",
       "    }\n",
       "\n",
       "    .dataframe thead th {\n",
       "        text-align: right;\n",
       "    }\n",
       "</style>\n",
       "<table border=\"1\" class=\"dataframe\">\n",
       "  <thead>\n",
       "    <tr style=\"text-align: right;\">\n",
       "      <th></th>\n",
       "      <th>count</th>\n",
       "      <th>mean</th>\n",
       "      <th>std</th>\n",
       "      <th>min</th>\n",
       "      <th>25%</th>\n",
       "      <th>50%</th>\n",
       "      <th>75%</th>\n",
       "      <th>max</th>\n",
       "    </tr>\n",
       "  </thead>\n",
       "  <tbody>\n",
       "    <tr>\n",
       "      <th>radiant_win</th>\n",
       "      <td>113400.0</td>\n",
       "      <td>0.525688</td>\n",
       "      <td>0.499342</td>\n",
       "      <td>0.0</td>\n",
       "      <td>0.0</td>\n",
       "      <td>1.0</td>\n",
       "      <td>1.0</td>\n",
       "      <td>1.0</td>\n",
       "    </tr>\n",
       "    <tr>\n",
       "      <th>avg_mmr</th>\n",
       "      <td>113400.0</td>\n",
       "      <td>4040.530159</td>\n",
       "      <td>474.736865</td>\n",
       "      <td>3500.0</td>\n",
       "      <td>3693.0</td>\n",
       "      <td>3932.0</td>\n",
       "      <td>4247.0</td>\n",
       "      <td>8494.0</td>\n",
       "    </tr>\n",
       "    <tr>\n",
       "      <th>duration</th>\n",
       "      <td>113400.0</td>\n",
       "      <td>2329.575855</td>\n",
       "      <td>580.650954</td>\n",
       "      <td>362.0</td>\n",
       "      <td>1956.0</td>\n",
       "      <td>2273.0</td>\n",
       "      <td>2650.0</td>\n",
       "      <td>7408.0</td>\n",
       "    </tr>\n",
       "    <tr>\n",
       "      <th>lobby_type</th>\n",
       "      <td>113400.0</td>\n",
       "      <td>5.457910</td>\n",
       "      <td>2.903710</td>\n",
       "      <td>0.0</td>\n",
       "      <td>7.0</td>\n",
       "      <td>7.0</td>\n",
       "      <td>7.0</td>\n",
       "      <td>9.0</td>\n",
       "    </tr>\n",
       "    <tr>\n",
       "      <th>game_mode</th>\n",
       "      <td>113400.0</td>\n",
       "      <td>19.296825</td>\n",
       "      <td>6.618990</td>\n",
       "      <td>1.0</td>\n",
       "      <td>22.0</td>\n",
       "      <td>22.0</td>\n",
       "      <td>22.0</td>\n",
       "      <td>22.0</td>\n",
       "    </tr>\n",
       "    <tr>\n",
       "      <th>Radiant 1</th>\n",
       "      <td>113400.0</td>\n",
       "      <td>57.951605</td>\n",
       "      <td>37.693319</td>\n",
       "      <td>1.0</td>\n",
       "      <td>25.0</td>\n",
       "      <td>52.0</td>\n",
       "      <td>90.0</td>\n",
       "      <td>135.0</td>\n",
       "    </tr>\n",
       "    <tr>\n",
       "      <th>Radiant 2</th>\n",
       "      <td>113400.0</td>\n",
       "      <td>57.736561</td>\n",
       "      <td>37.661342</td>\n",
       "      <td>1.0</td>\n",
       "      <td>25.0</td>\n",
       "      <td>52.0</td>\n",
       "      <td>90.0</td>\n",
       "      <td>135.0</td>\n",
       "    </tr>\n",
       "    <tr>\n",
       "      <th>Radiant 3</th>\n",
       "      <td>113400.0</td>\n",
       "      <td>57.960388</td>\n",
       "      <td>37.783283</td>\n",
       "      <td>1.0</td>\n",
       "      <td>25.0</td>\n",
       "      <td>52.0</td>\n",
       "      <td>90.0</td>\n",
       "      <td>135.0</td>\n",
       "    </tr>\n",
       "    <tr>\n",
       "      <th>Radiant 4</th>\n",
       "      <td>113400.0</td>\n",
       "      <td>57.856984</td>\n",
       "      <td>37.768054</td>\n",
       "      <td>1.0</td>\n",
       "      <td>25.0</td>\n",
       "      <td>52.0</td>\n",
       "      <td>90.0</td>\n",
       "      <td>135.0</td>\n",
       "    </tr>\n",
       "    <tr>\n",
       "      <th>Radiant 5</th>\n",
       "      <td>113399.0</td>\n",
       "      <td>57.733410</td>\n",
       "      <td>37.694819</td>\n",
       "      <td>1.0</td>\n",
       "      <td>25.0</td>\n",
       "      <td>52.0</td>\n",
       "      <td>90.0</td>\n",
       "      <td>135.0</td>\n",
       "    </tr>\n",
       "    <tr>\n",
       "      <th>Dire 1</th>\n",
       "      <td>113400.0</td>\n",
       "      <td>58.038730</td>\n",
       "      <td>37.709646</td>\n",
       "      <td>1.0</td>\n",
       "      <td>25.0</td>\n",
       "      <td>53.0</td>\n",
       "      <td>90.0</td>\n",
       "      <td>135.0</td>\n",
       "    </tr>\n",
       "    <tr>\n",
       "      <th>Dire 2</th>\n",
       "      <td>113400.0</td>\n",
       "      <td>57.933139</td>\n",
       "      <td>37.613491</td>\n",
       "      <td>1.0</td>\n",
       "      <td>25.0</td>\n",
       "      <td>53.0</td>\n",
       "      <td>90.0</td>\n",
       "      <td>135.0</td>\n",
       "    </tr>\n",
       "    <tr>\n",
       "      <th>Dire 3</th>\n",
       "      <td>113400.0</td>\n",
       "      <td>58.061728</td>\n",
       "      <td>37.694620</td>\n",
       "      <td>1.0</td>\n",
       "      <td>25.0</td>\n",
       "      <td>52.0</td>\n",
       "      <td>90.0</td>\n",
       "      <td>135.0</td>\n",
       "    </tr>\n",
       "    <tr>\n",
       "      <th>Dire 4</th>\n",
       "      <td>113400.0</td>\n",
       "      <td>57.946076</td>\n",
       "      <td>37.713291</td>\n",
       "      <td>1.0</td>\n",
       "      <td>25.0</td>\n",
       "      <td>52.0</td>\n",
       "      <td>90.0</td>\n",
       "      <td>135.0</td>\n",
       "    </tr>\n",
       "    <tr>\n",
       "      <th>Dire 5</th>\n",
       "      <td>113400.0</td>\n",
       "      <td>57.941693</td>\n",
       "      <td>37.585701</td>\n",
       "      <td>1.0</td>\n",
       "      <td>25.0</td>\n",
       "      <td>53.0</td>\n",
       "      <td>90.0</td>\n",
       "      <td>135.0</td>\n",
       "    </tr>\n",
       "  </tbody>\n",
       "</table>\n",
       "</div>"
      ],
      "text/plain": [
       "                count         mean         std     min     25%     50%  \\\n",
       "radiant_win  113400.0     0.525688    0.499342     0.0     0.0     1.0   \n",
       "avg_mmr      113400.0  4040.530159  474.736865  3500.0  3693.0  3932.0   \n",
       "duration     113400.0  2329.575855  580.650954   362.0  1956.0  2273.0   \n",
       "lobby_type   113400.0     5.457910    2.903710     0.0     7.0     7.0   \n",
       "game_mode    113400.0    19.296825    6.618990     1.0    22.0    22.0   \n",
       "Radiant 1    113400.0    57.951605   37.693319     1.0    25.0    52.0   \n",
       "Radiant 2    113400.0    57.736561   37.661342     1.0    25.0    52.0   \n",
       "Radiant 3    113400.0    57.960388   37.783283     1.0    25.0    52.0   \n",
       "Radiant 4    113400.0    57.856984   37.768054     1.0    25.0    52.0   \n",
       "Radiant 5    113399.0    57.733410   37.694819     1.0    25.0    52.0   \n",
       "Dire 1       113400.0    58.038730   37.709646     1.0    25.0    53.0   \n",
       "Dire 2       113400.0    57.933139   37.613491     1.0    25.0    53.0   \n",
       "Dire 3       113400.0    58.061728   37.694620     1.0    25.0    52.0   \n",
       "Dire 4       113400.0    57.946076   37.713291     1.0    25.0    52.0   \n",
       "Dire 5       113400.0    57.941693   37.585701     1.0    25.0    53.0   \n",
       "\n",
       "                75%     max  \n",
       "radiant_win     1.0     1.0  \n",
       "avg_mmr      4247.0  8494.0  \n",
       "duration     2650.0  7408.0  \n",
       "lobby_type      7.0     9.0  \n",
       "game_mode      22.0    22.0  \n",
       "Radiant 1      90.0   135.0  \n",
       "Radiant 2      90.0   135.0  \n",
       "Radiant 3      90.0   135.0  \n",
       "Radiant 4      90.0   135.0  \n",
       "Radiant 5      90.0   135.0  \n",
       "Dire 1         90.0   135.0  \n",
       "Dire 2         90.0   135.0  \n",
       "Dire 3         90.0   135.0  \n",
       "Dire 4         90.0   135.0  \n",
       "Dire 5         90.0   135.0  "
      ]
     },
     "execution_count": 5,
     "metadata": {},
     "output_type": "execute_result"
    }
   ],
   "source": [
    "df_original.describe().T"
   ]
  },
  {
   "cell_type": "markdown",
   "id": "ec13006f",
   "metadata": {},
   "source": [
    "---\n",
    "## Filtrando o `game_mode` e `lobby_type`\n",
    "**Ajustando Data Frame**"
   ]
  },
  {
   "cell_type": "code",
   "execution_count": 6,
   "id": "af274634",
   "metadata": {},
   "outputs": [],
   "source": [
    "df = df_original.copy()\n",
    "\n",
    "dict_game_mode = dict(zip(game_mode_df['id'], game_mode_df['name']))\n",
    "dict_lobby_type = dict(zip(lobby_type_df['id'], lobby_type_df['name']))\n",
    "df['game_mode'].replace(dict_game_mode, inplace=True)\n",
    "df['lobby_type'].replace(dict_lobby_type, inplace=True)"
   ]
  },
  {
   "cell_type": "markdown",
   "id": "35793a24",
   "metadata": {},
   "source": [
    "### Entendendo as distribuições"
   ]
  },
  {
   "cell_type": "code",
   "execution_count": 7,
   "id": "9d21d635",
   "metadata": {},
   "outputs": [
    {
     "data": {
      "text/html": [
       "<div>\n",
       "<style scoped>\n",
       "    .dataframe tbody tr th:only-of-type {\n",
       "        vertical-align: middle;\n",
       "    }\n",
       "\n",
       "    .dataframe tbody tr th {\n",
       "        vertical-align: top;\n",
       "    }\n",
       "\n",
       "    .dataframe thead th {\n",
       "        text-align: right;\n",
       "    }\n",
       "</style>\n",
       "<table border=\"1\" class=\"dataframe\">\n",
       "  <thead>\n",
       "    <tr style=\"text-align: right;\">\n",
       "      <th></th>\n",
       "      <th>game_mode</th>\n",
       "    </tr>\n",
       "  </thead>\n",
       "  <tbody>\n",
       "    <tr>\n",
       "      <th>game_mode_all_draft</th>\n",
       "      <td>97184</td>\n",
       "    </tr>\n",
       "    <tr>\n",
       "      <th>game_mode_random_draft</th>\n",
       "      <td>14011</td>\n",
       "    </tr>\n",
       "    <tr>\n",
       "      <th>game_mode_single_draft</th>\n",
       "      <td>1886</td>\n",
       "    </tr>\n",
       "    <tr>\n",
       "      <th>game_mode_captains_mode</th>\n",
       "      <td>316</td>\n",
       "    </tr>\n",
       "    <tr>\n",
       "      <th>game_mode_all_pick</th>\n",
       "      <td>3</td>\n",
       "    </tr>\n",
       "  </tbody>\n",
       "</table>\n",
       "</div>"
      ],
      "text/plain": [
       "                         game_mode\n",
       "game_mode_all_draft          97184\n",
       "game_mode_random_draft       14011\n",
       "game_mode_single_draft        1886\n",
       "game_mode_captains_mode        316\n",
       "game_mode_all_pick               3"
      ]
     },
     "metadata": {},
     "output_type": "display_data"
    },
    {
     "data": {
      "image/png": "[encoded data removed]",
      "text/plain": [
       "<Figure size 432x288 with 1 Axes>"
      ]
     },
     "metadata": {
      "needs_background": "light"
     },
     "output_type": "display_data"
    }
   ],
   "source": [
    "g_mode = df['game_mode'].value_counts()\n",
    "plt.barh(y=g_mode.index, width=g_mode)\n",
    "display(pd.DataFrame(g_mode))"
   ]
  },
  {
   "cell_type": "code",
   "execution_count": 8,
   "id": "d85338ba",
   "metadata": {},
   "outputs": [
    {
     "data": {
      "text/html": [
       "<div>\n",
       "<style scoped>\n",
       "    .dataframe tbody tr th:only-of-type {\n",
       "        vertical-align: middle;\n",
       "    }\n",
       "\n",
       "    .dataframe tbody tr th {\n",
       "        vertical-align: top;\n",
       "    }\n",
       "\n",
       "    .dataframe thead th {\n",
       "        text-align: right;\n",
       "    }\n",
       "</style>\n",
       "<table border=\"1\" class=\"dataframe\">\n",
       "  <thead>\n",
       "    <tr style=\"text-align: right;\">\n",
       "      <th></th>\n",
       "      <th>lobby_type</th>\n",
       "    </tr>\n",
       "  </thead>\n",
       "  <tbody>\n",
       "    <tr>\n",
       "      <th>lobby_type_ranked</th>\n",
       "      <td>88208</td>\n",
       "    </tr>\n",
       "    <tr>\n",
       "      <th>lobby_type_normal</th>\n",
       "      <td>24889</td>\n",
       "    </tr>\n",
       "    <tr>\n",
       "      <th>lobby_type_practice</th>\n",
       "      <td>157</td>\n",
       "    </tr>\n",
       "    <tr>\n",
       "      <th>lobby_type_battle_cup</th>\n",
       "      <td>146</td>\n",
       "    </tr>\n",
       "  </tbody>\n",
       "</table>\n",
       "</div>"
      ],
      "text/plain": [
       "                       lobby_type\n",
       "lobby_type_ranked           88208\n",
       "lobby_type_normal           24889\n",
       "lobby_type_practice           157\n",
       "lobby_type_battle_cup         146"
      ]
     },
     "metadata": {},
     "output_type": "display_data"
    },
    {
     "data": {
      "image/png": "[encoded data removed]",
      "text/plain": [
       "<Figure size 432x288 with 1 Axes>"
      ]
     },
     "metadata": {
      "needs_background": "light"
     },
     "output_type": "display_data"
    }
   ],
   "source": [
    "l_type = df['lobby_type'].value_counts()\n",
    "plt.barh(y=l_type.index, width=l_type)\n",
    "display(pd.DataFrame(l_type))"
   ]
  },
  {
   "cell_type": "markdown",
   "id": "d279690e",
   "metadata": {},
   "source": [
    "### Análise\n",
    "\n",
    "Devido ao alto número de amostras, selecionarei apenas partidas com:\n",
    "- `game_mode`: game_mode_all_draft\t\n",
    "- `lobby_type`: lobby_type_ranked\t"
   ]
  },
  {
   "cell_type": "code",
   "execution_count": 9,
   "id": "d67af94a",
   "metadata": {},
   "outputs": [
    {
     "name": "stdout",
     "output_type": "stream",
     "text": [
      "Formato do dataframe: (113400, 15)\n",
      "Formato do dataframe após remoção: (77244, 15)\n"
     ]
    }
   ],
   "source": [
    "print('Formato do dataframe:', df.shape)\n",
    "df = df[df['game_mode'] == 'game_mode_all_draft']\n",
    "df = df[df['lobby_type'] == 'lobby_type_ranked']\n",
    "print('Formato do dataframe após remoção:', df.shape)"
   ]
  },
  {
   "cell_type": "markdown",
   "id": "12f6d831",
   "metadata": {},
   "source": [
    "### Vitórias por time"
   ]
  },
  {
   "cell_type": "code",
   "execution_count": 10,
   "id": "d8a5969d",
   "metadata": {},
   "outputs": [
    {
     "data": {
      "image/png": "[encoded data removed]",
      "text/plain": [
       "<Figure size 432x288 with 1 Axes>"
      ]
     },
     "metadata": {
      "needs_background": "light"
     },
     "output_type": "display_data"
    },
    {
     "name": "stdout",
     "output_type": "stream",
     "text": [
      "Percentual:\n"
     ]
    },
    {
     "data": {
      "text/plain": [
       "1    0.522798\n",
       "0    0.477202\n",
       "Name: radiant_win, dtype: float64"
      ]
     },
     "execution_count": 10,
     "metadata": {},
     "output_type": "execute_result"
    }
   ],
   "source": [
    "df['radiant_win'].hist()\n",
    "plt.title('Comparação de vitórias por time')\n",
    "plt.xticks([0,1],['Dire Win', 'Radiant Win'])\n",
    "plt.show()\n",
    "\n",
    "print('Percentual:')\n",
    "df['radiant_win'].value_counts(normalize=True)"
   ]
  },
  {
   "cell_type": "markdown",
   "id": "5bde8a0b",
   "metadata": {},
   "source": [
    "---\n",
    "## Transformar dados para o treinamento\n",
    "\n",
    "As seguintes colunas serão removidas:\n",
    "- `game_mode`\n",
    "- `lobby_type`"
   ]
  },
  {
   "cell_type": "code",
   "execution_count": 11,
   "id": "cc4c52db",
   "metadata": {},
   "outputs": [
    {
     "name": "stdout",
     "output_type": "stream",
     "text": [
      "Formato do dataframe: (77244, 15)\n",
      "Formato do dataframe após remover colunas: (77244, 13)\n"
     ]
    }
   ],
   "source": [
    "print('Formato do dataframe:', df.shape)\n",
    "columns_to_drop = ['game_mode','lobby_type']\n",
    "df.drop(columns=columns_to_drop, inplace=True)\n",
    "print('Formato do dataframe após remover colunas:', df.shape)"
   ]
  },
  {
   "cell_type": "markdown",
   "id": "10b54a2f",
   "metadata": {},
   "source": [
    "---\n",
    "## Separar dados para treinamento"
   ]
  },
  {
   "cell_type": "code",
   "execution_count": 12,
   "id": "726f0d68",
   "metadata": {},
   "outputs": [],
   "source": [
    "colum_names = df.columns\n",
    "\n",
    "y_column = ['radiant_win']\n",
    "X_columns = set(colum_names) - set(y_column)\n",
    "\n",
    "X = df[X_columns]\n",
    "y = df[y_column[0]].values\n"
   ]
  },
  {
   "cell_type": "markdown",
   "id": "04427683",
   "metadata": {},
   "source": [
    "**Configurar os folds para a validação cruzada**"
   ]
  },
  {
   "cell_type": "code",
   "execution_count": 13,
   "id": "8f509006",
   "metadata": {},
   "outputs": [],
   "source": [
    "n_folds = 5\n",
    "repeated_cv = 3\n",
    "cv = RepeatedStratifiedKFold(n_splits=n_folds, n_repeats=repeated_cv, random_state=1)"
   ]
  },
  {
   "cell_type": "markdown",
   "id": "9d3c2290",
   "metadata": {},
   "source": [
    "---\n",
    "## Treinar modelos de classificação"
   ]
  },
  {
   "cell_type": "markdown",
   "id": "317ca38c",
   "metadata": {},
   "source": [
    "### Declarando modelos"
   ]
  },
  {
   "cell_type": "code",
   "execution_count": 14,
   "id": "fe1cb490",
   "metadata": {},
   "outputs": [],
   "source": [
    "model_names = ['KNN', 'Random Forest', 'Rede Neural', 'XGBoost', 'Naive Bayes']\n",
    "scores = [None] * len(model_names)\n",
    "\n",
    "# Declaring models\n",
    "KNN_model = KNeighborsClassifier(n_neighbors=5)\n",
    "RdnForest_model = RandomForestClassifier(n_estimators=300)\n",
    "RNN_model = MLPClassifier()\n",
    "XGB_model = XGBClassifier(n_estimators=300)\n",
    "Naive_model = GaussianNB()\n",
    "\n",
    "models_lst = [KNN_model, RdnForest_model, RNN_model, XGB_model, Naive_model]"
   ]
  },
  {
   "cell_type": "markdown",
   "id": "0fce3c54",
   "metadata": {},
   "source": [
    "### Treinamento"
   ]
  },
  {
   "cell_type": "code",
   "execution_count": 15,
   "id": "1cbbdf16",
   "metadata": {},
   "outputs": [
    {
     "name": "stdout",
     "output_type": "stream",
     "text": [
      "---------\n",
      "Training model:  KNN\n",
      "Model KNN mean score: 0.51\n",
      "---------\n",
      "Training model:  Random Forest\n",
      "Model Random Forest mean score: 0.53\n",
      "---------\n",
      "Training model:  Rede Neural\n",
      "Model Rede Neural mean score: 0.51\n",
      "---------\n",
      "Training model:  XGBoost\n",
      "Model XGBoost mean score: 0.54\n",
      "---------\n",
      "Training model:  Naive Bayes\n",
      "Model Naive Bayes mean score: 0.53\n"
     ]
    }
   ],
   "source": [
    "for i, model in enumerate(models_lst):\n",
    "    print('---------\\nTraining model: ', model_names[i])\n",
    "    scores[i] = cross_val_score(model, X, y, scoring='accuracy', cv=cv, n_jobs=-1)\n",
    "    print('Model '+model_names[i]+ ' mean score:', round(np.mean(scores[i]),2))"
   ]
  },
  {
   "cell_type": "markdown",
   "id": "760d9c9a",
   "metadata": {},
   "source": [
    "---\n",
    "## Mostrando e salvando Resultados"
   ]
  },
  {
   "cell_type": "markdown",
   "id": "6e71142d",
   "metadata": {},
   "source": [
    "### Salvando resultados dos modelos"
   ]
  },
  {
   "cell_type": "code",
   "execution_count": 16,
   "id": "d4c711d3",
   "metadata": {},
   "outputs": [
    {
     "data": {
      "text/html": [
       "<div>\n",
       "<style scoped>\n",
       "    .dataframe tbody tr th:only-of-type {\n",
       "        vertical-align: middle;\n",
       "    }\n",
       "\n",
       "    .dataframe tbody tr th {\n",
       "        vertical-align: top;\n",
       "    }\n",
       "\n",
       "    .dataframe thead th {\n",
       "        text-align: right;\n",
       "    }\n",
       "</style>\n",
       "<table border=\"1\" class=\"dataframe\">\n",
       "  <thead>\n",
       "    <tr style=\"text-align: right;\">\n",
       "      <th></th>\n",
       "      <th>KNN</th>\n",
       "      <th>Random Forest</th>\n",
       "      <th>Rede Neural</th>\n",
       "      <th>XGBoost</th>\n",
       "      <th>Naive Bayes</th>\n",
       "    </tr>\n",
       "  </thead>\n",
       "  <tbody>\n",
       "    <tr>\n",
       "      <th>0</th>\n",
       "      <td>0.508382</td>\n",
       "      <td>0.529484</td>\n",
       "      <td>0.485015</td>\n",
       "      <td>0.530973</td>\n",
       "      <td>0.526053</td>\n",
       "    </tr>\n",
       "    <tr>\n",
       "      <th>1</th>\n",
       "      <td>0.517898</td>\n",
       "      <td>0.529225</td>\n",
       "      <td>0.524694</td>\n",
       "      <td>0.534404</td>\n",
       "      <td>0.532979</td>\n",
       "    </tr>\n",
       "    <tr>\n",
       "      <th>2</th>\n",
       "      <td>0.510454</td>\n",
       "      <td>0.528254</td>\n",
       "      <td>0.519063</td>\n",
       "      <td>0.533303</td>\n",
       "      <td>0.535180</td>\n",
       "    </tr>\n",
       "    <tr>\n",
       "      <th>3</th>\n",
       "      <td>0.504110</td>\n",
       "      <td>0.524694</td>\n",
       "      <td>0.522688</td>\n",
       "      <td>0.523400</td>\n",
       "      <td>0.524824</td>\n",
       "    </tr>\n",
       "    <tr>\n",
       "      <th>4</th>\n",
       "      <td>0.508221</td>\n",
       "      <td>0.525117</td>\n",
       "      <td>0.523757</td>\n",
       "      <td>0.539811</td>\n",
       "      <td>0.526541</td>\n",
       "    </tr>\n",
       "    <tr>\n",
       "      <th>5</th>\n",
       "      <td>0.508577</td>\n",
       "      <td>0.532721</td>\n",
       "      <td>0.483332</td>\n",
       "      <td>0.540164</td>\n",
       "      <td>0.529419</td>\n",
       "    </tr>\n",
       "    <tr>\n",
       "      <th>6</th>\n",
       "      <td>0.508577</td>\n",
       "      <td>0.530520</td>\n",
       "      <td>0.522688</td>\n",
       "      <td>0.536216</td>\n",
       "      <td>0.531232</td>\n",
       "    </tr>\n",
       "    <tr>\n",
       "      <th>7</th>\n",
       "      <td>0.509806</td>\n",
       "      <td>0.526636</td>\n",
       "      <td>0.522752</td>\n",
       "      <td>0.539970</td>\n",
       "      <td>0.530455</td>\n",
       "    </tr>\n",
       "    <tr>\n",
       "      <th>8</th>\n",
       "      <td>0.511036</td>\n",
       "      <td>0.530067</td>\n",
       "      <td>0.491618</td>\n",
       "      <td>0.534598</td>\n",
       "      <td>0.528319</td>\n",
       "    </tr>\n",
       "    <tr>\n",
       "      <th>9</th>\n",
       "      <td>0.505761</td>\n",
       "      <td>0.531201</td>\n",
       "      <td>0.518902</td>\n",
       "      <td>0.535992</td>\n",
       "      <td>0.533143</td>\n",
       "    </tr>\n",
       "    <tr>\n",
       "      <th>10</th>\n",
       "      <td>0.509289</td>\n",
       "      <td>0.528837</td>\n",
       "      <td>0.522364</td>\n",
       "      <td>0.532138</td>\n",
       "      <td>0.534598</td>\n",
       "    </tr>\n",
       "    <tr>\n",
       "      <th>11</th>\n",
       "      <td>0.513496</td>\n",
       "      <td>0.529808</td>\n",
       "      <td>0.476600</td>\n",
       "      <td>0.532721</td>\n",
       "      <td>0.527478</td>\n",
       "    </tr>\n",
       "    <tr>\n",
       "      <th>12</th>\n",
       "      <td>0.508318</td>\n",
       "      <td>0.529484</td>\n",
       "      <td>0.517768</td>\n",
       "      <td>0.535633</td>\n",
       "      <td>0.532203</td>\n",
       "    </tr>\n",
       "    <tr>\n",
       "      <th>13</th>\n",
       "      <td>0.507735</td>\n",
       "      <td>0.534533</td>\n",
       "      <td>0.477183</td>\n",
       "      <td>0.534857</td>\n",
       "      <td>0.531361</td>\n",
       "    </tr>\n",
       "    <tr>\n",
       "      <th>14</th>\n",
       "      <td>0.509839</td>\n",
       "      <td>0.534827</td>\n",
       "      <td>0.511911</td>\n",
       "      <td>0.543824</td>\n",
       "      <td>0.523822</td>\n",
       "    </tr>\n",
       "  </tbody>\n",
       "</table>\n",
       "</div>"
      ],
      "text/plain": [
       "         KNN  Random Forest  Rede Neural   XGBoost  Naive Bayes\n",
       "0   0.508382       0.529484     0.485015  0.530973     0.526053\n",
       "1   0.517898       0.529225     0.524694  0.534404     0.532979\n",
       "2   0.510454       0.528254     0.519063  0.533303     0.535180\n",
       "3   0.504110       0.524694     0.522688  0.523400     0.524824\n",
       "4   0.508221       0.525117     0.523757  0.539811     0.526541\n",
       "5   0.508577       0.532721     0.483332  0.540164     0.529419\n",
       "6   0.508577       0.530520     0.522688  0.536216     0.531232\n",
       "7   0.509806       0.526636     0.522752  0.539970     0.530455\n",
       "8   0.511036       0.530067     0.491618  0.534598     0.528319\n",
       "9   0.505761       0.531201     0.518902  0.535992     0.533143\n",
       "10  0.509289       0.528837     0.522364  0.532138     0.534598\n",
       "11  0.513496       0.529808     0.476600  0.532721     0.527478\n",
       "12  0.508318       0.529484     0.517768  0.535633     0.532203\n",
       "13  0.507735       0.534533     0.477183  0.534857     0.531361\n",
       "14  0.509839       0.534827     0.511911  0.543824     0.523822"
      ]
     },
     "metadata": {},
     "output_type": "display_data"
    }
   ],
   "source": [
    "result_df = pd.DataFrame()\n",
    "for i, name in enumerate(model_names):\n",
    "    series_result = pd.DataFrame(scores[i], columns=[name])\n",
    "    result_df = pd.concat([result_df, series_result], axis=1)\n",
    "    \n",
    "display(result_df)\n",
    "result_df.to_csv(output_savepath+'score_exp02.csv', index=False)"
   ]
  },
  {
   "cell_type": "markdown",
   "id": "9ce03906",
   "metadata": {},
   "source": [
    "### Gráfico de comparação"
   ]
  },
  {
   "cell_type": "code",
   "execution_count": 17,
   "id": "a0d1f08d",
   "metadata": {},
   "outputs": [
    {
     "data": {
      "image/png": "[encoded data removed]",
      "text/plain": [
       "<Figure size 432x288 with 1 Axes>"
      ]
     },
     "metadata": {
      "needs_background": "light"
     },
     "output_type": "display_data"
    }
   ],
   "source": [
    "width_plot = result_df.mean().sort_values(ascending=False)\n",
    "\n",
    "x_plot = width_plot.index.values\n",
    "\n",
    "plt.barh(y=x_plot, width=width_plot)\n",
    "plt.title('Comparação da Acurácia Média de cada Algoritmo')\n",
    "plt.xlabel('Acurácia média')\n",
    "plt.tight_layout()\n",
    "\n",
    "plt.savefig(output_savepath+'comparacao_acuracia_modelos_exp02')"
   ]
  },
  {
   "cell_type": "markdown",
   "id": "156a9610",
   "metadata": {},
   "source": [
    "---\n",
    "## Conclusão e próximos passos\n",
    "\n",
    "Apenas o modelo Random Forest obteve uma acurácia média maior que 53%, isto indica que a seleção de um único modo de jogo e um único lobby_type não foi o suficiente para melhorar os resultados. Os próximos passos devem consistir de:\n",
    "\n",
    "- Fazer um modelo para cada 'tier' de jogadores, usando o mmr médio para esta filtragem."
   ]
  }
 ],
 "metadata": {
  "kernelspec": {
   "display_name": "Python 3",
   "language": "python",
   "name": "python3"
  },
  "language_info": {
   "codemirror_mode": {
    "name": "ipython",
    "version": 3
   },
   "file_extension": ".py",
   "mimetype": "text/x-python",
   "name": "python",
   "nbconvert_exporter": "python",
   "pygments_lexer": "ipython3",
   "version": "3.8.8"
  },
  "latex_envs": {
   "LaTeX_envs_menu_present": true,
   "autoclose": false,
   "autocomplete": true,
   "bibliofile": "biblio.bib",
   "cite_by": "apalike",
   "current_citInitial": 1,
   "eqLabelWithNumbers": true,
   "eqNumInitial": 1,
   "hotkeys": {
    "equation": "Ctrl-E",
    "itemize": "Ctrl-I"
   },
   "labels_anchors": false,
   "latex_user_defs": false,
   "report_style_numbering": false,
   "user_envs_cfg": false
  },
  "toc": {
   "base_numbering": 1,
   "nav_menu": {},
   "number_sections": true,
   "sideBar": true,
   "skip_h1_title": true,
   "title_cell": "Table of Contents",
   "title_sidebar": "Contents",
   "toc_cell": true,
   "toc_position": {
    "height": "757px",
    "left": "1536px",
    "top": "134px",
    "width": "384px"
   },
   "toc_section_display": true,
   "toc_window_display": true
  }
 },
 "nbformat": 4,
 "nbformat_minor": 5
}
