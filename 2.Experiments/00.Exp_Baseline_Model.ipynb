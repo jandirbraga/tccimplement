{
 "cells": [
  {
   "cell_type": "markdown",
   "id": "1743f5a9",
   "metadata": {
    "toc": true
   },
   "source": [
    "<h1>Table of Contents<span class=\"tocSkip\"></span></h1>\n",
    "<div class=\"toc\"><ul class=\"toc-item\"><li><span><a href=\"#Dataset-utilizado\" data-toc-modified-id=\"Dataset-utilizado-1\"><span class=\"toc-item-num\">1&nbsp;&nbsp;</span>Dataset utilizado</a></span><ul class=\"toc-item\"><li><span><a href=\"#Número-de-amostras-e-colunas\" data-toc-modified-id=\"Número-de-amostras-e-colunas-1.1\"><span class=\"toc-item-num\">1.1&nbsp;&nbsp;</span>Número de amostras e colunas</a></span></li><li><span><a href=\"#Vitórias-por-time\" data-toc-modified-id=\"Vitórias-por-time-1.2\"><span class=\"toc-item-num\">1.2&nbsp;&nbsp;</span>Vitórias por time</a></span></li></ul></li><li><span><a href=\"#Separar-dados-para-treinamento\" data-toc-modified-id=\"Separar-dados-para-treinamento-2\"><span class=\"toc-item-num\">2&nbsp;&nbsp;</span>Separar dados para treinamento</a></span></li><li><span><a href=\"#Treinar-modelo-de-regressão-logística\" data-toc-modified-id=\"Treinar-modelo-de-regressão-logística-3\"><span class=\"toc-item-num\">3&nbsp;&nbsp;</span>Treinar modelo de regressão logística</a></span></li><li><span><a href=\"#Mostrando-e-salvando-Resultados\" data-toc-modified-id=\"Mostrando-e-salvando-Resultados-4\"><span class=\"toc-item-num\">4&nbsp;&nbsp;</span>Mostrando e salvando Resultados</a></span></li><li><span><a href=\"#Conclusão-e-próximos-passos\" data-toc-modified-id=\"Conclusão-e-próximos-passos-5\"><span class=\"toc-item-num\">5&nbsp;&nbsp;</span>Conclusão e próximos passos</a></span></li></ul></div>"
   ]
  },
  {
   "cell_type": "markdown",
   "id": "bc2ae772",
   "metadata": {},
   "source": [
    "---\n",
    "# Experimento 0: Modelo Baseline\n",
    "\n",
    "**Objetivo do experimento:** Determinar um modelo base para comparar com os resultados de experimentos futuros. Será utilizado um algoritmo de regressão logística.\n",
    "\n",
    "**Formato do experimento:** Serão utilizadas todas as variáveis do arquivo ``2021-05-01_working_data.csv``. \n",
    "1. Os dados serão divididos em 5 conjuntos, onde será aplicada uma validação cruzada;\n",
    "2. O passo 1 será repetido 3 vezes com os dados sendo separados aleatoriamente em cada uma das vezes;\n",
    "3. Será calculada a acurácia média destes 15 conjuntos de teste;\n",
    "\n",
    "**Métrica de avaliação:** Acurácia média dos dados de testes nos 15 conjuntos de dados: 3 validações cruzadas, onde cada validação possui 1 conjunto de teste."
   ]
  },
  {
   "cell_type": "markdown",
   "id": "3c847750",
   "metadata": {
    "hide_input": false
   },
   "source": [
    "---\n",
    "**Importing libraries**"
   ]
  },
  {
   "cell_type": "code",
   "execution_count": 1,
   "id": "a4ff1988",
   "metadata": {},
   "outputs": [],
   "source": [
    "import pandas as pd\n",
    "import numpy as np\n",
    "from matplotlib import pyplot as plt\n",
    "\n",
    "from sklearn.model_selection import RepeatedStratifiedKFold\n",
    "from sklearn.model_selection import cross_val_score\n",
    "from sklearn.linear_model import LogisticRegression"
   ]
  },
  {
   "cell_type": "markdown",
   "id": "5066d5b2",
   "metadata": {},
   "source": [
    "**Loading data**"
   ]
  },
  {
   "cell_type": "code",
   "execution_count": 2,
   "id": "32cd1c50",
   "metadata": {},
   "outputs": [],
   "source": [
    "data_path = '../data/working_data/'\n",
    "file = '2021-05-01_working_data.csv'\n",
    "df_original = pd.read_csv(data_path+file)"
   ]
  },
  {
   "cell_type": "markdown",
   "id": "cc7aaa6f",
   "metadata": {},
   "source": [
    "---\n",
    "## Dataset utilizado\n",
    "\n",
    "Por se tratar do modelo de baseline os dados referentes à lobby_type e game_mode não foram removidos. \n",
    "\n",
    "\n",
    "### Número de amostras e colunas"
   ]
  },
  {
   "cell_type": "code",
   "execution_count": 3,
   "id": "b3765e8b",
   "metadata": {},
   "outputs": [
    {
     "name": "stdout",
     "output_type": "stream",
     "text": [
      "Número total de amostras: (46000, 15)\n",
      "Colunas:\n",
      " Index(['radiant_win', 'avg_mmr', 'duration', 'lobby_type', 'game_mode',\n",
      "       'Radiant 1', 'Radiant 2', 'Radiant 3', 'Radiant 4', 'Radiant 5',\n",
      "       'Dire 1', 'Dire 2', 'Dire 3', 'Dire 4', 'Dire 5'],\n",
      "      dtype='object')\n"
     ]
    },
    {
     "data": {
      "text/html": [
       "<div>\n",
       "<style scoped>\n",
       "    .dataframe tbody tr th:only-of-type {\n",
       "        vertical-align: middle;\n",
       "    }\n",
       "\n",
       "    .dataframe tbody tr th {\n",
       "        vertical-align: top;\n",
       "    }\n",
       "\n",
       "    .dataframe thead th {\n",
       "        text-align: right;\n",
       "    }\n",
       "</style>\n",
       "<table border=\"1\" class=\"dataframe\">\n",
       "  <thead>\n",
       "    <tr style=\"text-align: right;\">\n",
       "      <th></th>\n",
       "      <th>radiant_win</th>\n",
       "      <th>avg_mmr</th>\n",
       "      <th>duration</th>\n",
       "      <th>lobby_type</th>\n",
       "      <th>game_mode</th>\n",
       "      <th>Radiant 1</th>\n",
       "      <th>Radiant 2</th>\n",
       "      <th>Radiant 3</th>\n",
       "      <th>Radiant 4</th>\n",
       "      <th>Radiant 5</th>\n",
       "      <th>Dire 1</th>\n",
       "      <th>Dire 2</th>\n",
       "      <th>Dire 3</th>\n",
       "      <th>Dire 4</th>\n",
       "      <th>Dire 5</th>\n",
       "    </tr>\n",
       "  </thead>\n",
       "  <tbody>\n",
       "    <tr>\n",
       "      <th>0</th>\n",
       "      <td>1</td>\n",
       "      <td>3439</td>\n",
       "      <td>1649</td>\n",
       "      <td>7</td>\n",
       "      <td>22</td>\n",
       "      <td>121</td>\n",
       "      <td>119</td>\n",
       "      <td>2</td>\n",
       "      <td>13</td>\n",
       "      <td>70</td>\n",
       "      <td>129</td>\n",
       "      <td>83</td>\n",
       "      <td>80</td>\n",
       "      <td>63</td>\n",
       "      <td>30</td>\n",
       "    </tr>\n",
       "    <tr>\n",
       "      <th>1</th>\n",
       "      <td>1</td>\n",
       "      <td>3774</td>\n",
       "      <td>1848</td>\n",
       "      <td>0</td>\n",
       "      <td>22</td>\n",
       "      <td>109</td>\n",
       "      <td>10</td>\n",
       "      <td>108</td>\n",
       "      <td>128</td>\n",
       "      <td>84</td>\n",
       "      <td>123</td>\n",
       "      <td>69</td>\n",
       "      <td>67</td>\n",
       "      <td>73</td>\n",
       "      <td>71</td>\n",
       "    </tr>\n",
       "    <tr>\n",
       "      <th>2</th>\n",
       "      <td>1</td>\n",
       "      <td>3311</td>\n",
       "      <td>1951</td>\n",
       "      <td>7</td>\n",
       "      <td>22</td>\n",
       "      <td>129</td>\n",
       "      <td>81</td>\n",
       "      <td>35</td>\n",
       "      <td>88</td>\n",
       "      <td>5</td>\n",
       "      <td>32</td>\n",
       "      <td>135</td>\n",
       "      <td>37</td>\n",
       "      <td>121</td>\n",
       "      <td>126</td>\n",
       "    </tr>\n",
       "    <tr>\n",
       "      <th>3</th>\n",
       "      <td>1</td>\n",
       "      <td>3408</td>\n",
       "      <td>995</td>\n",
       "      <td>0</td>\n",
       "      <td>22</td>\n",
       "      <td>83</td>\n",
       "      <td>56</td>\n",
       "      <td>17</td>\n",
       "      <td>62</td>\n",
       "      <td>9</td>\n",
       "      <td>26</td>\n",
       "      <td>32</td>\n",
       "      <td>51</td>\n",
       "      <td>6</td>\n",
       "      <td>135</td>\n",
       "    </tr>\n",
       "    <tr>\n",
       "      <th>4</th>\n",
       "      <td>0</td>\n",
       "      <td>4621</td>\n",
       "      <td>1818</td>\n",
       "      <td>7</td>\n",
       "      <td>22</td>\n",
       "      <td>11</td>\n",
       "      <td>100</td>\n",
       "      <td>26</td>\n",
       "      <td>44</td>\n",
       "      <td>2</td>\n",
       "      <td>135</td>\n",
       "      <td>42</td>\n",
       "      <td>25</td>\n",
       "      <td>30</td>\n",
       "      <td>74</td>\n",
       "    </tr>\n",
       "  </tbody>\n",
       "</table>\n",
       "</div>"
      ],
      "text/plain": [
       "   radiant_win  avg_mmr  duration  lobby_type  game_mode  Radiant 1  \\\n",
       "0            1     3439      1649           7         22        121   \n",
       "1            1     3774      1848           0         22        109   \n",
       "2            1     3311      1951           7         22        129   \n",
       "3            1     3408       995           0         22         83   \n",
       "4            0     4621      1818           7         22         11   \n",
       "\n",
       "   Radiant 2  Radiant 3  Radiant 4  Radiant 5  Dire 1  Dire 2  Dire 3  Dire 4  \\\n",
       "0        119          2         13         70     129      83      80      63   \n",
       "1         10        108        128         84     123      69      67      73   \n",
       "2         81         35         88          5      32     135      37     121   \n",
       "3         56         17         62          9      26      32      51       6   \n",
       "4        100         26         44          2     135      42      25      30   \n",
       "\n",
       "   Dire 5  \n",
       "0      30  \n",
       "1      71  \n",
       "2     126  \n",
       "3     135  \n",
       "4      74  "
      ]
     },
     "execution_count": 3,
     "metadata": {},
     "output_type": "execute_result"
    }
   ],
   "source": [
    "print('Número total de amostras:', df_original.shape)\n",
    "print('Colunas:\\n', df_original.columns)\n",
    "df_original.head()"
   ]
  },
  {
   "cell_type": "markdown",
   "id": "8343cb02",
   "metadata": {},
   "source": [
    "**Informações gerais**"
   ]
  },
  {
   "cell_type": "code",
   "execution_count": 4,
   "id": "8d5111bc",
   "metadata": {},
   "outputs": [
    {
     "data": {
      "text/html": [
       "<div>\n",
       "<style scoped>\n",
       "    .dataframe tbody tr th:only-of-type {\n",
       "        vertical-align: middle;\n",
       "    }\n",
       "\n",
       "    .dataframe tbody tr th {\n",
       "        vertical-align: top;\n",
       "    }\n",
       "\n",
       "    .dataframe thead th {\n",
       "        text-align: right;\n",
       "    }\n",
       "</style>\n",
       "<table border=\"1\" class=\"dataframe\">\n",
       "  <thead>\n",
       "    <tr style=\"text-align: right;\">\n",
       "      <th></th>\n",
       "      <th>count</th>\n",
       "      <th>mean</th>\n",
       "      <th>std</th>\n",
       "      <th>min</th>\n",
       "      <th>25%</th>\n",
       "      <th>50%</th>\n",
       "      <th>75%</th>\n",
       "      <th>max</th>\n",
       "    </tr>\n",
       "  </thead>\n",
       "  <tbody>\n",
       "    <tr>\n",
       "      <th>radiant_win</th>\n",
       "      <td>46000.0</td>\n",
       "      <td>0.530957</td>\n",
       "      <td>0.499046</td>\n",
       "      <td>0.0</td>\n",
       "      <td>0.0</td>\n",
       "      <td>1.0</td>\n",
       "      <td>1.0</td>\n",
       "      <td>1.0</td>\n",
       "    </tr>\n",
       "    <tr>\n",
       "      <th>avg_mmr</th>\n",
       "      <td>46000.0</td>\n",
       "      <td>3822.560239</td>\n",
       "      <td>514.104856</td>\n",
       "      <td>3200.0</td>\n",
       "      <td>3439.0</td>\n",
       "      <td>3709.0</td>\n",
       "      <td>4071.0</td>\n",
       "      <td>8330.0</td>\n",
       "    </tr>\n",
       "    <tr>\n",
       "      <th>duration</th>\n",
       "      <td>46000.0</td>\n",
       "      <td>2350.531696</td>\n",
       "      <td>550.404877</td>\n",
       "      <td>368.0</td>\n",
       "      <td>1983.0</td>\n",
       "      <td>2297.0</td>\n",
       "      <td>2660.0</td>\n",
       "      <td>6327.0</td>\n",
       "    </tr>\n",
       "    <tr>\n",
       "      <th>lobby_type</th>\n",
       "      <td>46000.0</td>\n",
       "      <td>5.602370</td>\n",
       "      <td>2.805421</td>\n",
       "      <td>0.0</td>\n",
       "      <td>7.0</td>\n",
       "      <td>7.0</td>\n",
       "      <td>7.0</td>\n",
       "      <td>9.0</td>\n",
       "    </tr>\n",
       "    <tr>\n",
       "      <th>game_mode</th>\n",
       "      <td>46000.0</td>\n",
       "      <td>19.115022</td>\n",
       "      <td>6.796624</td>\n",
       "      <td>2.0</td>\n",
       "      <td>22.0</td>\n",
       "      <td>22.0</td>\n",
       "      <td>22.0</td>\n",
       "      <td>22.0</td>\n",
       "    </tr>\n",
       "    <tr>\n",
       "      <th>Radiant 1</th>\n",
       "      <td>46000.0</td>\n",
       "      <td>57.555478</td>\n",
       "      <td>38.856395</td>\n",
       "      <td>1.0</td>\n",
       "      <td>23.0</td>\n",
       "      <td>51.0</td>\n",
       "      <td>91.0</td>\n",
       "      <td>135.0</td>\n",
       "    </tr>\n",
       "    <tr>\n",
       "      <th>Radiant 2</th>\n",
       "      <td>46000.0</td>\n",
       "      <td>57.353152</td>\n",
       "      <td>39.040652</td>\n",
       "      <td>1.0</td>\n",
       "      <td>22.0</td>\n",
       "      <td>50.0</td>\n",
       "      <td>91.0</td>\n",
       "      <td>135.0</td>\n",
       "    </tr>\n",
       "    <tr>\n",
       "      <th>Radiant 3</th>\n",
       "      <td>46000.0</td>\n",
       "      <td>57.731457</td>\n",
       "      <td>38.984566</td>\n",
       "      <td>1.0</td>\n",
       "      <td>23.0</td>\n",
       "      <td>51.0</td>\n",
       "      <td>92.0</td>\n",
       "      <td>135.0</td>\n",
       "    </tr>\n",
       "    <tr>\n",
       "      <th>Radiant 4</th>\n",
       "      <td>46000.0</td>\n",
       "      <td>57.725739</td>\n",
       "      <td>39.052658</td>\n",
       "      <td>1.0</td>\n",
       "      <td>23.0</td>\n",
       "      <td>51.0</td>\n",
       "      <td>92.0</td>\n",
       "      <td>135.0</td>\n",
       "    </tr>\n",
       "    <tr>\n",
       "      <th>Radiant 5</th>\n",
       "      <td>46000.0</td>\n",
       "      <td>57.493348</td>\n",
       "      <td>38.943894</td>\n",
       "      <td>1.0</td>\n",
       "      <td>22.0</td>\n",
       "      <td>50.0</td>\n",
       "      <td>90.0</td>\n",
       "      <td>135.0</td>\n",
       "    </tr>\n",
       "    <tr>\n",
       "      <th>Dire 1</th>\n",
       "      <td>46000.0</td>\n",
       "      <td>57.862087</td>\n",
       "      <td>38.978716</td>\n",
       "      <td>1.0</td>\n",
       "      <td>23.0</td>\n",
       "      <td>51.0</td>\n",
       "      <td>92.0</td>\n",
       "      <td>135.0</td>\n",
       "    </tr>\n",
       "    <tr>\n",
       "      <th>Dire 2</th>\n",
       "      <td>46000.0</td>\n",
       "      <td>57.736913</td>\n",
       "      <td>38.929915</td>\n",
       "      <td>1.0</td>\n",
       "      <td>23.0</td>\n",
       "      <td>51.0</td>\n",
       "      <td>92.0</td>\n",
       "      <td>135.0</td>\n",
       "    </tr>\n",
       "    <tr>\n",
       "      <th>Dire 3</th>\n",
       "      <td>46000.0</td>\n",
       "      <td>57.867500</td>\n",
       "      <td>38.921456</td>\n",
       "      <td>1.0</td>\n",
       "      <td>23.0</td>\n",
       "      <td>51.0</td>\n",
       "      <td>92.0</td>\n",
       "      <td>135.0</td>\n",
       "    </tr>\n",
       "    <tr>\n",
       "      <th>Dire 4</th>\n",
       "      <td>46000.0</td>\n",
       "      <td>57.724804</td>\n",
       "      <td>38.953561</td>\n",
       "      <td>1.0</td>\n",
       "      <td>23.0</td>\n",
       "      <td>51.0</td>\n",
       "      <td>91.0</td>\n",
       "      <td>135.0</td>\n",
       "    </tr>\n",
       "    <tr>\n",
       "      <th>Dire 5</th>\n",
       "      <td>46000.0</td>\n",
       "      <td>57.687891</td>\n",
       "      <td>38.932279</td>\n",
       "      <td>1.0</td>\n",
       "      <td>23.0</td>\n",
       "      <td>51.0</td>\n",
       "      <td>90.0</td>\n",
       "      <td>135.0</td>\n",
       "    </tr>\n",
       "  </tbody>\n",
       "</table>\n",
       "</div>"
      ],
      "text/plain": [
       "               count         mean         std     min     25%     50%     75%  \\\n",
       "radiant_win  46000.0     0.530957    0.499046     0.0     0.0     1.0     1.0   \n",
       "avg_mmr      46000.0  3822.560239  514.104856  3200.0  3439.0  3709.0  4071.0   \n",
       "duration     46000.0  2350.531696  550.404877   368.0  1983.0  2297.0  2660.0   \n",
       "lobby_type   46000.0     5.602370    2.805421     0.0     7.0     7.0     7.0   \n",
       "game_mode    46000.0    19.115022    6.796624     2.0    22.0    22.0    22.0   \n",
       "Radiant 1    46000.0    57.555478   38.856395     1.0    23.0    51.0    91.0   \n",
       "Radiant 2    46000.0    57.353152   39.040652     1.0    22.0    50.0    91.0   \n",
       "Radiant 3    46000.0    57.731457   38.984566     1.0    23.0    51.0    92.0   \n",
       "Radiant 4    46000.0    57.725739   39.052658     1.0    23.0    51.0    92.0   \n",
       "Radiant 5    46000.0    57.493348   38.943894     1.0    22.0    50.0    90.0   \n",
       "Dire 1       46000.0    57.862087   38.978716     1.0    23.0    51.0    92.0   \n",
       "Dire 2       46000.0    57.736913   38.929915     1.0    23.0    51.0    92.0   \n",
       "Dire 3       46000.0    57.867500   38.921456     1.0    23.0    51.0    92.0   \n",
       "Dire 4       46000.0    57.724804   38.953561     1.0    23.0    51.0    91.0   \n",
       "Dire 5       46000.0    57.687891   38.932279     1.0    23.0    51.0    90.0   \n",
       "\n",
       "                max  \n",
       "radiant_win     1.0  \n",
       "avg_mmr      8330.0  \n",
       "duration     6327.0  \n",
       "lobby_type      9.0  \n",
       "game_mode      22.0  \n",
       "Radiant 1     135.0  \n",
       "Radiant 2     135.0  \n",
       "Radiant 3     135.0  \n",
       "Radiant 4     135.0  \n",
       "Radiant 5     135.0  \n",
       "Dire 1        135.0  \n",
       "Dire 2        135.0  \n",
       "Dire 3        135.0  \n",
       "Dire 4        135.0  \n",
       "Dire 5        135.0  "
      ]
     },
     "execution_count": 4,
     "metadata": {},
     "output_type": "execute_result"
    }
   ],
   "source": [
    "df_original.describe().T"
   ]
  },
  {
   "cell_type": "markdown",
   "id": "12f6d831",
   "metadata": {},
   "source": [
    "### Vitórias por time"
   ]
  },
  {
   "cell_type": "code",
   "execution_count": 5,
   "id": "d8a5969d",
   "metadata": {},
   "outputs": [
    {
     "data": {
      "image/png": "[encoded data removed]",
      "text/plain": [
       "<Figure size 432x288 with 1 Axes>"
      ]
     },
     "metadata": {
      "needs_background": "light"
     },
     "output_type": "display_data"
    },
    {
     "name": "stdout",
     "output_type": "stream",
     "text": [
      "Percentual:\n"
     ]
    },
    {
     "data": {
      "text/plain": [
       "1    0.530957\n",
       "0    0.469043\n",
       "Name: radiant_win, dtype: float64"
      ]
     },
     "execution_count": 5,
     "metadata": {},
     "output_type": "execute_result"
    }
   ],
   "source": [
    "df_original['radiant_win'].hist()\n",
    "plt.title('Comparação de vitórias por time')\n",
    "plt.xticks([0,1],['Dire Win', 'Radiant Win'])\n",
    "plt.show()\n",
    "\n",
    "print('Percentual:')\n",
    "df_original['radiant_win'].value_counts(normalize=True)"
   ]
  },
  {
   "cell_type": "markdown",
   "id": "10b54a2f",
   "metadata": {},
   "source": [
    "---\n",
    "## Separar dados para treinamento"
   ]
  },
  {
   "cell_type": "code",
   "execution_count": 6,
   "id": "726f0d68",
   "metadata": {},
   "outputs": [],
   "source": [
    "colum_names = df_original.columns\n",
    "\n",
    "y_column = ['radiant_win']\n",
    "X_columns = set(colum_names) - set(y_column)\n",
    "\n",
    "X = df_original[X_columns]\n",
    "y = df_original[y_column[0]].values\n"
   ]
  },
  {
   "cell_type": "markdown",
   "id": "9d3c2290",
   "metadata": {},
   "source": [
    "---\n",
    "## Treinar modelo de regressão logística"
   ]
  },
  {
   "cell_type": "code",
   "execution_count": 7,
   "id": "1cbbdf16",
   "metadata": {},
   "outputs": [
    {
     "data": {
      "text/plain": [
       "array([0.53684783, 0.53152174, 0.53065217, 0.53532609, 0.54076087,\n",
       "       0.53902174, 0.53608696, 0.53141304, 0.53413043, 0.5301087 ,\n",
       "       0.53173913, 0.53815217, 0.53336957, 0.53228261, 0.53826087])"
      ]
     },
     "execution_count": 7,
     "metadata": {},
     "output_type": "execute_result"
    }
   ],
   "source": [
    "model = LogisticRegression()\n",
    "n_folds = 5\n",
    "repeated_cv = 3\n",
    "\n",
    "\n",
    "\n",
    "\n",
    "cv = RepeatedStratifiedKFold(n_splits=n_folds, n_repeats=repeated_cv, random_state=1)\n",
    "scores = cross_val_score(model, X, y, scoring='accuracy', cv=cv, n_jobs=-1)\n",
    "\n",
    "scores"
   ]
  },
  {
   "cell_type": "markdown",
   "id": "760d9c9a",
   "metadata": {},
   "source": [
    "---\n",
    "## Mostrando e salvando Resultados"
   ]
  },
  {
   "cell_type": "code",
   "execution_count": 8,
   "id": "a0d1f08d",
   "metadata": {},
   "outputs": [
    {
     "name": "stdout",
     "output_type": "stream",
     "text": [
      "Acurácia Média Geral: 0.53464\n"
     ]
    }
   ],
   "source": [
    "output_savepath = '../3.Experiments_output/00.Exp_Baseline_Model/'\n",
    "print('Acurácia Média Geral: %.5f' % np.mean(scores))"
   ]
  },
  {
   "cell_type": "code",
   "execution_count": 9,
   "id": "6549cf35",
   "metadata": {},
   "outputs": [
    {
     "data": {
      "text/html": [
       "<div>\n",
       "<style scoped>\n",
       "    .dataframe tbody tr th:only-of-type {\n",
       "        vertical-align: middle;\n",
       "    }\n",
       "\n",
       "    .dataframe tbody tr th {\n",
       "        vertical-align: top;\n",
       "    }\n",
       "\n",
       "    .dataframe thead th {\n",
       "        text-align: right;\n",
       "    }\n",
       "</style>\n",
       "<table border=\"1\" class=\"dataframe\">\n",
       "  <thead>\n",
       "    <tr style=\"text-align: right;\">\n",
       "      <th></th>\n",
       "      <th>Fold-1</th>\n",
       "      <th>Fold-2</th>\n",
       "      <th>Fold-3</th>\n",
       "      <th>Fold-4</th>\n",
       "      <th>Fold-5</th>\n",
       "    </tr>\n",
       "  </thead>\n",
       "  <tbody>\n",
       "    <tr>\n",
       "      <th>1o Cross Validation</th>\n",
       "      <td>0.536848</td>\n",
       "      <td>0.531522</td>\n",
       "      <td>0.530652</td>\n",
       "      <td>0.535326</td>\n",
       "      <td>0.540761</td>\n",
       "    </tr>\n",
       "    <tr>\n",
       "      <th>2o Cross Validation</th>\n",
       "      <td>0.539022</td>\n",
       "      <td>0.536087</td>\n",
       "      <td>0.531413</td>\n",
       "      <td>0.534130</td>\n",
       "      <td>0.530109</td>\n",
       "    </tr>\n",
       "    <tr>\n",
       "      <th>3o Cross Validation</th>\n",
       "      <td>0.531739</td>\n",
       "      <td>0.538152</td>\n",
       "      <td>0.533370</td>\n",
       "      <td>0.532283</td>\n",
       "      <td>0.538261</td>\n",
       "    </tr>\n",
       "  </tbody>\n",
       "</table>\n",
       "</div>"
      ],
      "text/plain": [
       "                       Fold-1    Fold-2    Fold-3    Fold-4    Fold-5\n",
       "1o Cross Validation  0.536848  0.531522  0.530652  0.535326  0.540761\n",
       "2o Cross Validation  0.539022  0.536087  0.531413  0.534130  0.530109\n",
       "3o Cross Validation  0.531739  0.538152  0.533370  0.532283  0.538261"
      ]
     },
     "metadata": {},
     "output_type": "display_data"
    }
   ],
   "source": [
    "aux_mtx = np.reshape(scores, (repeated_cv, n_folds))\n",
    "\n",
    "col_fold_names = ['Fold-1', 'Fold-2', 'Fold-3', 'Fold-4', 'Fold-5']\n",
    "index_fold_names = ['1o Cross Validation', '2o Cross Validation', '3o Cross Validation']\n",
    "result_df_plt = pd.DataFrame(aux_mtx, columns=col_fold_names, index=index_fold_names)\n",
    "\n",
    "display(result_df_plt)\n",
    "\n",
    "# Saving\n",
    "result_df_plt.to_csv(output_savepath+'logistic_regression_result.csv')"
   ]
  },
  {
   "cell_type": "code",
   "execution_count": 10,
   "id": "90bf97bb",
   "metadata": {},
   "outputs": [
    {
     "data": {
      "image/png": "[encoded data removed]",
      "text/plain": [
       "<Figure size 432x288 with 1 Axes>"
      ]
     },
     "metadata": {
      "needs_background": "light"
     },
     "output_type": "display_data"
    }
   ],
   "source": [
    "plt.plot(result_df_plt.iloc[0,:], ls='-', marker='o',label='1° Cross Validation')\n",
    "plt.plot(result_df_plt.iloc[1,:], ls='--', marker='s', label='2° Cross Validation')\n",
    "plt.plot(result_df_plt.iloc[2,:], ls=':', marker='D', label='3° Cross Validation')\n",
    "plt.ylabel('Acurácia')\n",
    "plt.legend(loc='best')\n",
    "plt.xticks([0,1,2,3,4],col_fold_names)\n",
    "plt.title('Acurácia por fold e por Cross Validation')\n",
    "plt.tight_layout()\n",
    "\n",
    "plt.savefig(output_savepath+'reg_logistica_acuracia_por_CV')\n",
    "\n"
   ]
  },
  {
   "cell_type": "markdown",
   "id": "156a9610",
   "metadata": {},
   "source": [
    "---\n",
    "## Conclusão e próximos passos\n",
    "\n",
    "O modeo de regressão logística obteve uma acurácia geral de 53.46% que pode ser considerado um resultado muito próximo de uma decisão aleatória. Os próximos passos devem consistir de:\n",
    "\n",
    "1. Testar novos modelos com este mesmo conjunto de dados;\n",
    "2. Testar os diferentes modelos focando em um mesmo tipo de lobby_type e game_mode;"
   ]
  }
 ],
 "metadata": {
  "kernelspec": {
   "display_name": "Python 3",
   "language": "python",
   "name": "python3"
  },
  "language_info": {
   "codemirror_mode": {
    "name": "ipython",
    "version": 3
   },
   "file_extension": ".py",
   "mimetype": "text/x-python",
   "name": "python",
   "nbconvert_exporter": "python",
   "pygments_lexer": "ipython3",
   "version": "3.7.10"
  },
  "latex_envs": {
   "LaTeX_envs_menu_present": true,
   "autoclose": false,
   "autocomplete": true,
   "bibliofile": "biblio.bib",
   "cite_by": "apalike",
   "current_citInitial": 1,
   "eqLabelWithNumbers": true,
   "eqNumInitial": 1,
   "hotkeys": {
    "equation": "Ctrl-E",
    "itemize": "Ctrl-I"
   },
   "labels_anchors": false,
   "latex_user_defs": false,
   "report_style_numbering": false,
   "user_envs_cfg": false
  },
  "toc": {
   "base_numbering": 1,
   "nav_menu": {},
   "number_sections": true,
   "sideBar": true,
   "skip_h1_title": true,
   "title_cell": "Table of Contents",
   "title_sidebar": "Contents",
   "toc_cell": true,
   "toc_position": {},
   "toc_section_display": true,
   "toc_window_display": true
  }
 },
 "nbformat": 4,
 "nbformat_minor": 5
}
