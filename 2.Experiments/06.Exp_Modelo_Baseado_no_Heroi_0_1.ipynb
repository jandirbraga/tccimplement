{
 "cells": [
  {
   "cell_type": "markdown",
   "id": "030c7266",
   "metadata": {
    "toc": true
   },
   "source": [
    "<h1>Table of Contents<span class=\"tocSkip\"></span></h1>\n",
    "<div class=\"toc\"><ul class=\"toc-item\"><li><span><a href=\"#Dataset-utilizado\" data-toc-modified-id=\"Dataset-utilizado-1\"><span class=\"toc-item-num\">1&nbsp;&nbsp;</span>Dataset utilizado</a></span><ul class=\"toc-item\"><li><span><a href=\"#Número-de-amostras-e-colunas\" data-toc-modified-id=\"Número-de-amostras-e-colunas-1.1\"><span class=\"toc-item-num\">1.1&nbsp;&nbsp;</span>Número de amostras e colunas</a></span></li><li><span><a href=\"#Vitórias-por-time\" data-toc-modified-id=\"Vitórias-por-time-1.2\"><span class=\"toc-item-num\">1.2&nbsp;&nbsp;</span>Vitórias por time</a></span></li><li><span><a href=\"#Filtrando-colunas-de-atributo-principal\" data-toc-modified-id=\"Filtrando-colunas-de-atributo-principal-1.3\"><span class=\"toc-item-num\">1.3&nbsp;&nbsp;</span>Filtrando colunas de atributo principal</a></span></li></ul></li><li><span><a href=\"#Separar-dados-para-treinamento\" data-toc-modified-id=\"Separar-dados-para-treinamento-2\"><span class=\"toc-item-num\">2&nbsp;&nbsp;</span>Separar dados para treinamento</a></span></li><li><span><a href=\"#Treinar-modelos-de-classificação\" data-toc-modified-id=\"Treinar-modelos-de-classificação-3\"><span class=\"toc-item-num\">3&nbsp;&nbsp;</span>Treinar modelos de classificação</a></span><ul class=\"toc-item\"><li><span><a href=\"#Declarando-modelos\" data-toc-modified-id=\"Declarando-modelos-3.1\"><span class=\"toc-item-num\">3.1&nbsp;&nbsp;</span>Declarando modelos</a></span></li><li><span><a href=\"#Treinamento\" data-toc-modified-id=\"Treinamento-3.2\"><span class=\"toc-item-num\">3.2&nbsp;&nbsp;</span>Treinamento</a></span></li></ul></li><li><span><a href=\"#Mostrando-e-salvando-Resultados\" data-toc-modified-id=\"Mostrando-e-salvando-Resultados-4\"><span class=\"toc-item-num\">4&nbsp;&nbsp;</span>Mostrando e salvando Resultados</a></span><ul class=\"toc-item\"><li><span><a href=\"#Salvando-resultados-dos-modelos\" data-toc-modified-id=\"Salvando-resultados-dos-modelos-4.1\"><span class=\"toc-item-num\">4.1&nbsp;&nbsp;</span>Salvando resultados dos modelos</a></span></li><li><span><a href=\"#Gráfico-de-comparação\" data-toc-modified-id=\"Gráfico-de-comparação-4.2\"><span class=\"toc-item-num\">4.2&nbsp;&nbsp;</span>Gráfico de comparação</a></span></li></ul></li><li><span><a href=\"#Conclusão-e-próximos-passos\" data-toc-modified-id=\"Conclusão-e-próximos-passos-5\"><span class=\"toc-item-num\">5&nbsp;&nbsp;</span>Conclusão e próximos passos</a></span></li></ul></div>"
   ]
  },
  {
   "cell_type": "markdown",
   "id": "88d60d41",
   "metadata": {},
   "source": [
    "---\n",
    "# Experimento 6: Modelo com status por time \n",
    "\n",
    "**Objetivo do experimento:** Treinar diferentes modelos com status sumarizados por time.\n",
    "\n",
    "\n",
    "**Formato do experimento:** Serão utilizadas todas as variáveis do arquivo ``2_TRA_2021-05-08_working_data.csv``. Dados já estão filtrados por game_mode e lobby_type.\n",
    "\n",
    "1. Os dados serão divididos em 5 conjuntos, onde será aplicada uma validação cruzada;\n",
    "2. O passo 1 será repetido 3 vezes com os dados sendo separados aleatoriamente em cada uma das vezes;\n",
    "3. Será calculada a acurácia média destes 15 conjuntos de teste;\n",
    "\n",
    "**Os seguintes modelos serão usados:**\n",
    "\n",
    "- Regressão Logística\n",
    "- KNN\n",
    "- Random Forest\n",
    "- Rede Neural\n",
    "- XGBoost\n",
    "- Naive Bayes\n",
    "\n",
    "**Métrica de avaliação:** Acurácia média dos dados de testes nos 15 conjuntos de dados: 3 validações cruzadas, onde cada validação possui 1 conjunto de teste."
   ]
  },
  {
   "cell_type": "markdown",
   "id": "106613a9",
   "metadata": {
    "hide_input": false
   },
   "source": [
    "---\n",
    "**Importing libraries**"
   ]
  },
  {
   "cell_type": "code",
   "execution_count": 2,
   "id": "1e00b50e",
   "metadata": {},
   "outputs": [],
   "source": [
    "import pandas as pd\n",
    "import numpy as np\n",
    "from matplotlib import pyplot as plt\n",
    "\n",
    "from sklearn.model_selection import RepeatedStratifiedKFold\n",
    "from sklearn.model_selection import cross_val_score\n",
    "\n",
    "from sklearn.linear_model import LogisticRegression\n",
    "from sklearn.neighbors import KNeighborsClassifier\n",
    "from sklearn.ensemble import RandomForestClassifier\n",
    "from sklearn.neural_network import MLPClassifier\n",
    "from sklearn.svm import SVC\n",
    "from xgboost import XGBClassifier\n",
    "from sklearn.naive_bayes import GaussianNB"
   ]
  },
  {
   "cell_type": "markdown",
   "id": "135a51d0",
   "metadata": {},
   "source": [
    "**Loading data**"
   ]
  },
  {
   "cell_type": "code",
   "execution_count": 4,
   "id": "dc1caa47",
   "metadata": {},
   "outputs": [],
   "source": [
    "raw_data_path = '../data/raw_data/'\n",
    "data_path = '../data/working_data/'\n",
    "\n",
    "\n",
    "file = '3_TRA_2021-07-25_working_data.csv'\n",
    "df_original = pd.read_csv(data_path+file)"
   ]
  },
  {
   "cell_type": "markdown",
   "id": "9dfd0dfb",
   "metadata": {},
   "source": [
    "**Setting output path**"
   ]
  },
  {
   "cell_type": "code",
   "execution_count": 5,
   "id": "5879c6eb",
   "metadata": {},
   "outputs": [],
   "source": [
    "output_savepath = '../3.Experiments_output/06.Exp_Modelo_Heroi_0_1/exp'"
   ]
  },
  {
   "cell_type": "markdown",
   "id": "5fa8bf21",
   "metadata": {},
   "source": [
    "---\n",
    "## Dataset utilizado\n",
    "\n",
    "Por se tratar do modelo de baseline os dados referentes à lobby_type e game_mode não foram removidos. \n",
    "\n",
    "\n",
    "### Número de amostras e colunas"
   ]
  },
  {
   "cell_type": "code",
   "execution_count": 6,
   "id": "31080dbe",
   "metadata": {},
   "outputs": [
    {
     "name": "stdout",
     "output_type": "stream",
     "text": [
      "Número total de amostras: (113400, 126)\n",
      "Colunas:\n",
      " Index(['1', '2', '3', '4', '5', '6', '7', '8', '9', '10',\n",
      "       ...\n",
      "       '123', '126', '128', '129', '135', 'radiant_win', 'avg_mmr', 'duration',\n",
      "       'lobby_type', 'game_mode'],\n",
      "      dtype='object', length=126)\n"
     ]
    },
    {
     "data": {
      "text/html": [
       "<div>\n",
       "<style scoped>\n",
       "    .dataframe tbody tr th:only-of-type {\n",
       "        vertical-align: middle;\n",
       "    }\n",
       "\n",
       "    .dataframe tbody tr th {\n",
       "        vertical-align: top;\n",
       "    }\n",
       "\n",
       "    .dataframe thead th {\n",
       "        text-align: right;\n",
       "    }\n",
       "</style>\n",
       "<table border=\"1\" class=\"dataframe\">\n",
       "  <thead>\n",
       "    <tr style=\"text-align: right;\">\n",
       "      <th></th>\n",
       "      <th>1</th>\n",
       "      <th>2</th>\n",
       "      <th>3</th>\n",
       "      <th>4</th>\n",
       "      <th>5</th>\n",
       "      <th>6</th>\n",
       "      <th>7</th>\n",
       "      <th>8</th>\n",
       "      <th>9</th>\n",
       "      <th>10</th>\n",
       "      <th>...</th>\n",
       "      <th>123</th>\n",
       "      <th>126</th>\n",
       "      <th>128</th>\n",
       "      <th>129</th>\n",
       "      <th>135</th>\n",
       "      <th>radiant_win</th>\n",
       "      <th>avg_mmr</th>\n",
       "      <th>duration</th>\n",
       "      <th>lobby_type</th>\n",
       "      <th>game_mode</th>\n",
       "    </tr>\n",
       "  </thead>\n",
       "  <tbody>\n",
       "    <tr>\n",
       "      <th>0</th>\n",
       "      <td>-1</td>\n",
       "      <td>0</td>\n",
       "      <td>0</td>\n",
       "      <td>0</td>\n",
       "      <td>1</td>\n",
       "      <td>0</td>\n",
       "      <td>0</td>\n",
       "      <td>0</td>\n",
       "      <td>0</td>\n",
       "      <td>0</td>\n",
       "      <td>...</td>\n",
       "      <td>0</td>\n",
       "      <td>0</td>\n",
       "      <td>0</td>\n",
       "      <td>0</td>\n",
       "      <td>0</td>\n",
       "      <td>0</td>\n",
       "      <td>4104</td>\n",
       "      <td>2147</td>\n",
       "      <td>7</td>\n",
       "      <td>22</td>\n",
       "    </tr>\n",
       "    <tr>\n",
       "      <th>1</th>\n",
       "      <td>0</td>\n",
       "      <td>0</td>\n",
       "      <td>0</td>\n",
       "      <td>0</td>\n",
       "      <td>0</td>\n",
       "      <td>0</td>\n",
       "      <td>0</td>\n",
       "      <td>0</td>\n",
       "      <td>1</td>\n",
       "      <td>0</td>\n",
       "      <td>...</td>\n",
       "      <td>0</td>\n",
       "      <td>0</td>\n",
       "      <td>0</td>\n",
       "      <td>0</td>\n",
       "      <td>0</td>\n",
       "      <td>0</td>\n",
       "      <td>6421</td>\n",
       "      <td>1526</td>\n",
       "      <td>7</td>\n",
       "      <td>22</td>\n",
       "    </tr>\n",
       "    <tr>\n",
       "      <th>2</th>\n",
       "      <td>0</td>\n",
       "      <td>0</td>\n",
       "      <td>0</td>\n",
       "      <td>0</td>\n",
       "      <td>0</td>\n",
       "      <td>0</td>\n",
       "      <td>0</td>\n",
       "      <td>0</td>\n",
       "      <td>0</td>\n",
       "      <td>-1</td>\n",
       "      <td>...</td>\n",
       "      <td>0</td>\n",
       "      <td>0</td>\n",
       "      <td>0</td>\n",
       "      <td>0</td>\n",
       "      <td>0</td>\n",
       "      <td>1</td>\n",
       "      <td>5062</td>\n",
       "      <td>1323</td>\n",
       "      <td>7</td>\n",
       "      <td>22</td>\n",
       "    </tr>\n",
       "    <tr>\n",
       "      <th>3</th>\n",
       "      <td>0</td>\n",
       "      <td>0</td>\n",
       "      <td>0</td>\n",
       "      <td>0</td>\n",
       "      <td>0</td>\n",
       "      <td>0</td>\n",
       "      <td>0</td>\n",
       "      <td>0</td>\n",
       "      <td>0</td>\n",
       "      <td>0</td>\n",
       "      <td>...</td>\n",
       "      <td>1</td>\n",
       "      <td>0</td>\n",
       "      <td>0</td>\n",
       "      <td>0</td>\n",
       "      <td>0</td>\n",
       "      <td>1</td>\n",
       "      <td>3943</td>\n",
       "      <td>1956</td>\n",
       "      <td>7</td>\n",
       "      <td>22</td>\n",
       "    </tr>\n",
       "    <tr>\n",
       "      <th>4</th>\n",
       "      <td>0</td>\n",
       "      <td>0</td>\n",
       "      <td>0</td>\n",
       "      <td>1</td>\n",
       "      <td>0</td>\n",
       "      <td>0</td>\n",
       "      <td>0</td>\n",
       "      <td>0</td>\n",
       "      <td>0</td>\n",
       "      <td>-1</td>\n",
       "      <td>...</td>\n",
       "      <td>0</td>\n",
       "      <td>0</td>\n",
       "      <td>0</td>\n",
       "      <td>0</td>\n",
       "      <td>0</td>\n",
       "      <td>0</td>\n",
       "      <td>3515</td>\n",
       "      <td>2087</td>\n",
       "      <td>7</td>\n",
       "      <td>3</td>\n",
       "    </tr>\n",
       "  </tbody>\n",
       "</table>\n",
       "<p>5 rows × 126 columns</p>\n",
       "</div>"
      ],
      "text/plain": [
       "   1  2  3  4  5  6  7  8  9  10  ...  123  126  128  129  135  radiant_win  \\\n",
       "0 -1  0  0  0  1  0  0  0  0   0  ...    0    0    0    0    0            0   \n",
       "1  0  0  0  0  0  0  0  0  1   0  ...    0    0    0    0    0            0   \n",
       "2  0  0  0  0  0  0  0  0  0  -1  ...    0    0    0    0    0            1   \n",
       "3  0  0  0  0  0  0  0  0  0   0  ...    1    0    0    0    0            1   \n",
       "4  0  0  0  1  0  0  0  0  0  -1  ...    0    0    0    0    0            0   \n",
       "\n",
       "   avg_mmr  duration  lobby_type  game_mode  \n",
       "0     4104      2147           7         22  \n",
       "1     6421      1526           7         22  \n",
       "2     5062      1323           7         22  \n",
       "3     3943      1956           7         22  \n",
       "4     3515      2087           7          3  \n",
       "\n",
       "[5 rows x 126 columns]"
      ]
     },
     "execution_count": 6,
     "metadata": {},
     "output_type": "execute_result"
    }
   ],
   "source": [
    "print('Número total de amostras:', df_original.shape)\n",
    "print('Colunas:\\n', df_original.columns)\n",
    "df_original.head()"
   ]
  },
  {
   "cell_type": "markdown",
   "id": "b80bb802",
   "metadata": {},
   "source": [
    "## Filtragem de dados\n",
    "- Somente partidas rankeadas: ``lobby_type = 7``\n",
    "- Somente modo game_mode_all_draft: ``game_mode = 22``\n",
    "- Remover colunas"
   ]
  },
  {
   "cell_type": "code",
   "execution_count": 7,
   "id": "c5c45588",
   "metadata": {},
   "outputs": [
    {
     "data": {
      "text/plain": [
       "(113400, 126)"
      ]
     },
     "execution_count": 7,
     "metadata": {},
     "output_type": "execute_result"
    }
   ],
   "source": [
    "df = df_original.copy()\n",
    "df.shape"
   ]
  },
  {
   "cell_type": "markdown",
   "id": "9c2b054f",
   "metadata": {},
   "source": [
    "### Remover colunas\n",
    "- match_id\n",
    "- avg_mmr\n",
    "- duration\n",
    "- lobby_type\n",
    "- game_mode"
   ]
  },
  {
   "cell_type": "code",
   "execution_count": 9,
   "id": "d2e7b49f",
   "metadata": {},
   "outputs": [
    {
     "data": {
      "text/plain": [
       "(113400, 123)"
      ]
     },
     "execution_count": 9,
     "metadata": {},
     "output_type": "execute_result"
    }
   ],
   "source": [
    "drop_cols = ['avg_mmr',\n",
    "             'lobby_type', 'game_mode']\n",
    "\n",
    "df = df.drop(columns=drop_cols)\n",
    "df.shape"
   ]
  },
  {
   "cell_type": "markdown",
   "id": "ab636f2a",
   "metadata": {},
   "source": [
    "### Vitórias por time"
   ]
  },
  {
   "cell_type": "code",
   "execution_count": 11,
   "id": "688b89c7",
   "metadata": {},
   "outputs": [
    {
     "data": {
      "image/png": "[encoded data removed]",
      "text/plain": [
       "<Figure size 432x288 with 1 Axes>"
      ]
     },
     "metadata": {
      "needs_background": "light"
     },
     "output_type": "display_data"
    },
    {
     "name": "stdout",
     "output_type": "stream",
     "text": [
      "Percentual:\n"
     ]
    },
    {
     "data": {
      "text/plain": [
       "1    0.525688\n",
       "0    0.474312\n",
       "Name: radiant_win, dtype: float64"
      ]
     },
     "execution_count": 11,
     "metadata": {},
     "output_type": "execute_result"
    }
   ],
   "source": [
    "df['radiant_win'].hist()\n",
    "plt.title('Comparação de vitórias por time')\n",
    "plt.xticks([0,1],['Dire Win', 'Radiant Win'])\n",
    "plt.show()\n",
    "\n",
    "print('Percentual:')\n",
    "df['radiant_win'].value_counts(normalize=True)"
   ]
  },
  {
   "cell_type": "markdown",
   "id": "4e66fe0b",
   "metadata": {},
   "source": [
    "---\n",
    "## Separar dados para treinamento"
   ]
  },
  {
   "cell_type": "code",
   "execution_count": 12,
   "id": "deb3853a",
   "metadata": {},
   "outputs": [],
   "source": [
    "colum_names = df.columns\n",
    "\n",
    "y_column = ['radiant_win']\n",
    "X_columns = set(colum_names) - set(y_column)\n",
    "\n",
    "X = df[X_columns]\n",
    "y = df[y_column[0]].values\n"
   ]
  },
  {
   "cell_type": "markdown",
   "id": "fe1177ef",
   "metadata": {},
   "source": [
    "**Configurar os folds para a validação cruzada**"
   ]
  },
  {
   "cell_type": "code",
   "execution_count": 13,
   "id": "424626b2",
   "metadata": {},
   "outputs": [],
   "source": [
    "n_folds = 5\n",
    "repeated_cv = 3\n",
    "cv = RepeatedStratifiedKFold(n_splits=n_folds, n_repeats=repeated_cv, random_state=1)"
   ]
  },
  {
   "cell_type": "markdown",
   "id": "da865ddb",
   "metadata": {},
   "source": [
    "---\n",
    "## Treinar modelos de classificação"
   ]
  },
  {
   "cell_type": "markdown",
   "id": "e30859f1",
   "metadata": {},
   "source": [
    "### Declarando modelos"
   ]
  },
  {
   "cell_type": "code",
   "execution_count": 14,
   "id": "c2b13008",
   "metadata": {},
   "outputs": [],
   "source": [
    "model_names = ['Logistic Regression', 'KNN', 'Random Forest', 'Rede Neural', 'XGBoost', 'Naive Bayes']\n",
    "scores = [None] * len(model_names)\n",
    "\n",
    "# Declaring models\n",
    "Logistic_model = LogisticRegression()\n",
    "KNN_model = KNeighborsClassifier(n_neighbors=50)\n",
    "RdnForest_model = RandomForestClassifier(n_estimators=500)\n",
    "\n",
    "RNN_model = MLPClassifier(activation='logistic', \n",
    "                          hidden_layer_sizes=300,\n",
    "                          max_iter=800,\n",
    "                          tol=1e-8,\n",
    "                          verbose=True)\n",
    "\n",
    "XGB_model = XGBClassifier(n_estimators=500)\n",
    "Naive_model = GaussianNB()\n",
    "\n",
    "models_lst = [Logistic_model, KNN_model, RdnForest_model, RNN_model, XGB_model, Naive_model]"
   ]
  },
  {
   "cell_type": "markdown",
   "id": "4250e947",
   "metadata": {},
   "source": [
    "### Treinamento"
   ]
  },
  {
   "cell_type": "code",
   "execution_count": 15,
   "id": "d55dea61",
   "metadata": {},
   "outputs": [
    {
     "name": "stdout",
     "output_type": "stream",
     "text": [
      "---------\n",
      "Training model:  Logistic Regression\n",
      "Model Logistic Regression mean score: 0.53\n",
      "---------\n",
      "Training model:  KNN\n",
      "Model KNN mean score: 0.54\n",
      "---------\n",
      "Training model:  Random Forest\n",
      "Model Random Forest mean score: 0.58\n",
      "---------\n",
      "Training model:  Rede Neural\n",
      "Model Rede Neural mean score: 0.52\n",
      "---------\n",
      "Training model:  XGBoost\n",
      "Model XGBoost mean score: 0.57\n",
      "---------\n",
      "Training model:  Naive Bayes\n",
      "Model Naive Bayes mean score: 0.53\n"
     ]
    }
   ],
   "source": [
    "for i, model in enumerate(models_lst):\n",
    "    print('---------\\nTraining model: ', model_names[i])\n",
    "    scores[i] = cross_val_score(model, X, y, scoring='accuracy', cv=cv, n_jobs=-1)\n",
    "    print('Model '+model_names[i]+ ' mean score:', round(np.mean(scores[i]),2))"
   ]
  },
  {
   "cell_type": "markdown",
   "id": "035f4ce9",
   "metadata": {},
   "source": [
    "---\n",
    "## Mostrando e salvando Resultados"
   ]
  },
  {
   "cell_type": "markdown",
   "id": "51c13f0b",
   "metadata": {},
   "source": [
    "### Salvando resultados dos modelos"
   ]
  },
  {
   "cell_type": "code",
   "execution_count": 16,
   "id": "ea4b38f2",
   "metadata": {},
   "outputs": [
    {
     "data": {
      "text/html": [
       "<div>\n",
       "<style scoped>\n",
       "    .dataframe tbody tr th:only-of-type {\n",
       "        vertical-align: middle;\n",
       "    }\n",
       "\n",
       "    .dataframe tbody tr th {\n",
       "        vertical-align: top;\n",
       "    }\n",
       "\n",
       "    .dataframe thead th {\n",
       "        text-align: right;\n",
       "    }\n",
       "</style>\n",
       "<table border=\"1\" class=\"dataframe\">\n",
       "  <thead>\n",
       "    <tr style=\"text-align: right;\">\n",
       "      <th></th>\n",
       "      <th>Logistic Regression</th>\n",
       "      <th>KNN</th>\n",
       "      <th>Random Forest</th>\n",
       "      <th>Rede Neural</th>\n",
       "      <th>XGBoost</th>\n",
       "      <th>Naive Bayes</th>\n",
       "    </tr>\n",
       "  </thead>\n",
       "  <tbody>\n",
       "    <tr>\n",
       "      <th>0</th>\n",
       "      <td>0.525661</td>\n",
       "      <td>0.539859</td>\n",
       "      <td>0.574295</td>\n",
       "      <td>0.525661</td>\n",
       "      <td>0.576146</td>\n",
       "      <td>0.524206</td>\n",
       "    </tr>\n",
       "    <tr>\n",
       "      <th>1</th>\n",
       "      <td>0.525661</td>\n",
       "      <td>0.534656</td>\n",
       "      <td>0.573942</td>\n",
       "      <td>0.474339</td>\n",
       "      <td>0.574735</td>\n",
       "      <td>0.533333</td>\n",
       "    </tr>\n",
       "    <tr>\n",
       "      <th>2</th>\n",
       "      <td>0.525705</td>\n",
       "      <td>0.545194</td>\n",
       "      <td>0.574339</td>\n",
       "      <td>0.525705</td>\n",
       "      <td>0.579277</td>\n",
       "      <td>0.531834</td>\n",
       "    </tr>\n",
       "    <tr>\n",
       "      <th>3</th>\n",
       "      <td>0.525705</td>\n",
       "      <td>0.539594</td>\n",
       "      <td>0.575661</td>\n",
       "      <td>0.476323</td>\n",
       "      <td>0.572178</td>\n",
       "      <td>0.533774</td>\n",
       "    </tr>\n",
       "    <tr>\n",
       "      <th>4</th>\n",
       "      <td>0.525705</td>\n",
       "      <td>0.534083</td>\n",
       "      <td>0.576852</td>\n",
       "      <td>0.525705</td>\n",
       "      <td>0.574295</td>\n",
       "      <td>0.528483</td>\n",
       "    </tr>\n",
       "    <tr>\n",
       "      <th>5</th>\n",
       "      <td>0.525661</td>\n",
       "      <td>0.540697</td>\n",
       "      <td>0.574295</td>\n",
       "      <td>0.525661</td>\n",
       "      <td>0.571649</td>\n",
       "      <td>0.536420</td>\n",
       "    </tr>\n",
       "    <tr>\n",
       "      <th>6</th>\n",
       "      <td>0.525661</td>\n",
       "      <td>0.535935</td>\n",
       "      <td>0.574206</td>\n",
       "      <td>0.525661</td>\n",
       "      <td>0.575485</td>\n",
       "      <td>0.528483</td>\n",
       "    </tr>\n",
       "    <tr>\n",
       "      <th>7</th>\n",
       "      <td>0.525705</td>\n",
       "      <td>0.536376</td>\n",
       "      <td>0.572531</td>\n",
       "      <td>0.525705</td>\n",
       "      <td>0.577425</td>\n",
       "      <td>0.527601</td>\n",
       "    </tr>\n",
       "    <tr>\n",
       "      <th>8</th>\n",
       "      <td>0.525705</td>\n",
       "      <td>0.538713</td>\n",
       "      <td>0.574515</td>\n",
       "      <td>0.525750</td>\n",
       "      <td>0.574074</td>\n",
       "      <td>0.528968</td>\n",
       "    </tr>\n",
       "    <tr>\n",
       "      <th>9</th>\n",
       "      <td>0.525705</td>\n",
       "      <td>0.543254</td>\n",
       "      <td>0.575088</td>\n",
       "      <td>0.525705</td>\n",
       "      <td>0.575044</td>\n",
       "      <td>0.525750</td>\n",
       "    </tr>\n",
       "    <tr>\n",
       "      <th>10</th>\n",
       "      <td>0.525661</td>\n",
       "      <td>0.537522</td>\n",
       "      <td>0.574868</td>\n",
       "      <td>0.525661</td>\n",
       "      <td>0.576455</td>\n",
       "      <td>0.533201</td>\n",
       "    </tr>\n",
       "    <tr>\n",
       "      <th>11</th>\n",
       "      <td>0.525661</td>\n",
       "      <td>0.540123</td>\n",
       "      <td>0.571164</td>\n",
       "      <td>0.525661</td>\n",
       "      <td>0.577646</td>\n",
       "      <td>0.531614</td>\n",
       "    </tr>\n",
       "    <tr>\n",
       "      <th>12</th>\n",
       "      <td>0.525705</td>\n",
       "      <td>0.541049</td>\n",
       "      <td>0.577116</td>\n",
       "      <td>0.525705</td>\n",
       "      <td>0.572046</td>\n",
       "      <td>0.523765</td>\n",
       "    </tr>\n",
       "    <tr>\n",
       "      <th>13</th>\n",
       "      <td>0.525705</td>\n",
       "      <td>0.538757</td>\n",
       "      <td>0.579101</td>\n",
       "      <td>0.525705</td>\n",
       "      <td>0.568474</td>\n",
       "      <td>0.529101</td>\n",
       "    </tr>\n",
       "    <tr>\n",
       "      <th>14</th>\n",
       "      <td>0.525705</td>\n",
       "      <td>0.542681</td>\n",
       "      <td>0.577116</td>\n",
       "      <td>0.525705</td>\n",
       "      <td>0.577072</td>\n",
       "      <td>0.532892</td>\n",
       "    </tr>\n",
       "  </tbody>\n",
       "</table>\n",
       "</div>"
      ],
      "text/plain": [
       "    Logistic Regression       KNN  Random Forest  Rede Neural   XGBoost  \\\n",
       "0              0.525661  0.539859       0.574295     0.525661  0.576146   \n",
       "1              0.525661  0.534656       0.573942     0.474339  0.574735   \n",
       "2              0.525705  0.545194       0.574339     0.525705  0.579277   \n",
       "3              0.525705  0.539594       0.575661     0.476323  0.572178   \n",
       "4              0.525705  0.534083       0.576852     0.525705  0.574295   \n",
       "5              0.525661  0.540697       0.574295     0.525661  0.571649   \n",
       "6              0.525661  0.535935       0.574206     0.525661  0.575485   \n",
       "7              0.525705  0.536376       0.572531     0.525705  0.577425   \n",
       "8              0.525705  0.538713       0.574515     0.525750  0.574074   \n",
       "9              0.525705  0.543254       0.575088     0.525705  0.575044   \n",
       "10             0.525661  0.537522       0.574868     0.525661  0.576455   \n",
       "11             0.525661  0.540123       0.571164     0.525661  0.577646   \n",
       "12             0.525705  0.541049       0.577116     0.525705  0.572046   \n",
       "13             0.525705  0.538757       0.579101     0.525705  0.568474   \n",
       "14             0.525705  0.542681       0.577116     0.525705  0.577072   \n",
       "\n",
       "    Naive Bayes  \n",
       "0      0.524206  \n",
       "1      0.533333  \n",
       "2      0.531834  \n",
       "3      0.533774  \n",
       "4      0.528483  \n",
       "5      0.536420  \n",
       "6      0.528483  \n",
       "7      0.527601  \n",
       "8      0.528968  \n",
       "9      0.525750  \n",
       "10     0.533201  \n",
       "11     0.531614  \n",
       "12     0.523765  \n",
       "13     0.529101  \n",
       "14     0.532892  "
      ]
     },
     "metadata": {},
     "output_type": "display_data"
    }
   ],
   "source": [
    "result_df = pd.DataFrame()\n",
    "for i, name in enumerate(model_names):\n",
    "    series_result = pd.DataFrame(scores[i], columns=[name])\n",
    "    result_df = pd.concat([result_df, series_result], axis=1)\n",
    "    \n",
    "display(result_df)\n",
    "result_df.to_csv(output_savepath+'score_exp06.csv', index=False)"
   ]
  },
  {
   "cell_type": "markdown",
   "id": "c49906aa",
   "metadata": {},
   "source": [
    "### Gráfico de comparação"
   ]
  },
  {
   "cell_type": "code",
   "execution_count": 17,
   "id": "c36be65c",
   "metadata": {},
   "outputs": [
    {
     "data": {
      "image/png": "[encoded data removed]",
      "text/plain": [
       "<Figure size 432x288 with 1 Axes>"
      ]
     },
     "metadata": {
      "needs_background": "light"
     },
     "output_type": "display_data"
    }
   ],
   "source": [
    "width_plot = result_df.mean().sort_values(ascending=False)\n",
    "\n",
    "x_plot = width_plot.index.values\n",
    "\n",
    "plt.barh(y=x_plot, width=width_plot)\n",
    "plt.title('Comparação da Acurácia Média de cada Algoritmo')\n",
    "plt.xlabel('Acurácia média')\n",
    "plt.tight_layout()\n",
    "\n",
    "plt.savefig(output_savepath+'comparacao_acuracia_modelos_exp06')"
   ]
  },
  {
   "cell_type": "markdown",
   "id": "10f5d66e",
   "metadata": {},
   "source": [
    "---\n",
    "## Conclusão e próximos passos\n",
    "\n",
    "A adição de status por herói não contribuiu para a evolução do modelo. O próximo passo será realizar uma sumarização de status por time."
   ]
  },
  {
   "cell_type": "code",
   "execution_count": null,
   "id": "1aa8f849",
   "metadata": {},
   "outputs": [],
   "source": []
  }
 ],
 "metadata": {
  "kernelspec": {
   "display_name": "Python 3",
   "language": "python",
   "name": "python3"
  },
  "language_info": {
   "codemirror_mode": {
    "name": "ipython",
    "version": 3
   },
   "file_extension": ".py",
   "mimetype": "text/x-python",
   "name": "python",
   "nbconvert_exporter": "python",
   "pygments_lexer": "ipython3",
   "version": "3.8.8"
  },
  "latex_envs": {
   "LaTeX_envs_menu_present": true,
   "autoclose": false,
   "autocomplete": true,
   "bibliofile": "biblio.bib",
   "cite_by": "apalike",
   "current_citInitial": 1,
   "eqLabelWithNumbers": true,
   "eqNumInitial": 1,
   "hotkeys": {
    "equation": "Ctrl-E",
    "itemize": "Ctrl-I"
   },
   "labels_anchors": false,
   "latex_user_defs": false,
   "report_style_numbering": false,
   "user_envs_cfg": false
  },
  "toc": {
   "base_numbering": 1,
   "nav_menu": {},
   "number_sections": true,
   "sideBar": true,
   "skip_h1_title": true,
   "title_cell": "Table of Contents",
   "title_sidebar": "Contents",
   "toc_cell": true,
   "toc_position": {
    "height": "757px",
    "left": "1536px",
    "top": "134px",
    "width": "384px"
   },
   "toc_section_display": true,
   "toc_window_display": false
  }
 },
 "nbformat": 4,
 "nbformat_minor": 5
}
