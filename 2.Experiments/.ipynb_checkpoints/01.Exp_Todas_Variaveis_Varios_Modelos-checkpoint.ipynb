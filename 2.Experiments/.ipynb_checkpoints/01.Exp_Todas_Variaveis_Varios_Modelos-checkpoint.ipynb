{
 "cells": [
  {
   "cell_type": "markdown",
   "id": "1743f5a9",
   "metadata": {
    "toc": true
   },
   "source": [
    "<h1>Table of Contents<span class=\"tocSkip\"></span></h1>\n",
    "<div class=\"toc\"><ul class=\"toc-item\"><li><span><a href=\"#Dataset-utilizado\" data-toc-modified-id=\"Dataset-utilizado-1\"><span class=\"toc-item-num\">1&nbsp;&nbsp;</span>Dataset utilizado</a></span><ul class=\"toc-item\"><li><span><a href=\"#Número-de-amostras-e-colunas\" data-toc-modified-id=\"Número-de-amostras-e-colunas-1.1\"><span class=\"toc-item-num\">1.1&nbsp;&nbsp;</span>Número de amostras e colunas</a></span></li><li><span><a href=\"#Vitórias-por-time\" data-toc-modified-id=\"Vitórias-por-time-1.2\"><span class=\"toc-item-num\">1.2&nbsp;&nbsp;</span>Vitórias por time</a></span></li></ul></li><li><span><a href=\"#Separar-dados-para-treinamento\" data-toc-modified-id=\"Separar-dados-para-treinamento-2\"><span class=\"toc-item-num\">2&nbsp;&nbsp;</span>Separar dados para treinamento</a></span></li><li><span><a href=\"#Treinar-modelos-de-classificação\" data-toc-modified-id=\"Treinar-modelos-de-classificação-3\"><span class=\"toc-item-num\">3&nbsp;&nbsp;</span>Treinar modelos de classificação</a></span><ul class=\"toc-item\"><li><span><a href=\"#Declarando-modelos\" data-toc-modified-id=\"Declarando-modelos-3.1\"><span class=\"toc-item-num\">3.1&nbsp;&nbsp;</span>Declarando modelos</a></span></li><li><span><a href=\"#Treinamento\" data-toc-modified-id=\"Treinamento-3.2\"><span class=\"toc-item-num\">3.2&nbsp;&nbsp;</span>Treinamento</a></span></li></ul></li><li><span><a href=\"#Mostrando-e-salvando-Resultados\" data-toc-modified-id=\"Mostrando-e-salvando-Resultados-4\"><span class=\"toc-item-num\">4&nbsp;&nbsp;</span>Mostrando e salvando Resultados</a></span><ul class=\"toc-item\"><li><span><a href=\"#Salvando-resultados-dos-modelos\" data-toc-modified-id=\"Salvando-resultados-dos-modelos-4.1\"><span class=\"toc-item-num\">4.1&nbsp;&nbsp;</span>Salvando resultados dos modelos</a></span></li><li><span><a href=\"#Gráfico-de-comparação\" data-toc-modified-id=\"Gráfico-de-comparação-4.2\"><span class=\"toc-item-num\">4.2&nbsp;&nbsp;</span>Gráfico de comparação</a></span></li></ul></li><li><span><a href=\"#Conclusão-e-próximos-passos\" data-toc-modified-id=\"Conclusão-e-próximos-passos-5\"><span class=\"toc-item-num\">5&nbsp;&nbsp;</span>Conclusão e próximos passos</a></span></li></ul></div>"
   ]
  },
  {
   "cell_type": "markdown",
   "id": "bc2ae772",
   "metadata": {},
   "source": [
    "---\n",
    "# Experimento 1: Diferentes modelos com todas as variáveis\n",
    "\n",
    "**Objetivo do experimento:** Comparar o modelo _baseline_ com diferentes modelos utilizando as mesmas variáveis\n",
    "\n",
    "\n",
    "**Formato do experimento:** Serão utilizadas todas as variáveis do arquivo ``2021-08-03_working_data.csv``. \n",
    "1. Os dados serão divididos em 5 conjuntos, onde será aplicada uma validação cruzada;\n",
    "2. O passo 1 será repetido 3 vezes com os dados sendo separados aleatoriamente em cada uma das vezes;\n",
    "3. Será calculada a acurácia média destes 15 conjuntos de teste;\n",
    "\n",
    "**Os seguintes modelos serão usados:**\n",
    "\n",
    "- KNN\n",
    "- Random Forest\n",
    "- Rede Neural\n",
    "- XGBoost\n",
    "- Naive Bayes\n",
    "\n",
    "**Métrica de avaliação:** Acurácia média dos dados de testes nos 15 conjuntos de dados: 3 validações cruzadas, onde cada validação possui 1 conjunto de teste."
   ]
  },
  {
   "cell_type": "markdown",
   "id": "3c847750",
   "metadata": {
    "hide_input": false
   },
   "source": [
    "---\n",
    "**Importing libraries**"
   ]
  },
  {
   "cell_type": "code",
   "execution_count": null,
   "id": "a4ff1988",
   "metadata": {},
   "outputs": [],
   "source": [
    "import pandas as pd\n",
    "import numpy as np\n",
    "from matplotlib import pyplot as plt\n",
    "\n",
    "from sklearn.model_selection import RepeatedStratifiedKFold\n",
    "from sklearn.model_selection import cross_val_score\n",
    "\n",
    "\n",
    "from sklearn.neighbors import KNeighborsClassifier\n",
    "from sklearn.ensemble import RandomForestClassifier\n",
    "from sklearn.neural_network import MLPClassifier\n",
    "from sklearn.svm import SVC\n",
    "from xgboost import XGBClassifier\n",
    "from sklearn.naive_bayes import GaussianNB"
   ]
  },
  {
   "cell_type": "markdown",
   "id": "5066d5b2",
   "metadata": {},
   "source": [
    "**Loading data**"
   ]
  },
  {
   "cell_type": "code",
   "execution_count": null,
   "id": "32cd1c50",
   "metadata": {},
   "outputs": [],
   "source": [
    "data_path = '../data/working_data/'\n",
    "file = '2021-08-03_working_data.csv'\n",
    "df_original = pd.read_csv(data_path+file)"
   ]
  },
  {
   "cell_type": "markdown",
   "id": "bcebc371",
   "metadata": {},
   "source": [
    "**Setting output path**"
   ]
  },
  {
   "cell_type": "code",
   "execution_count": null,
   "id": "c2831519",
   "metadata": {},
   "outputs": [],
   "source": [
    "output_savepath = '../3.Experiments_output/01.Exp_Todas_Variaveis_Varios_Modelos/'"
   ]
  },
  {
   "cell_type": "markdown",
   "id": "cc7aaa6f",
   "metadata": {},
   "source": [
    "---\n",
    "## Dataset utilizado\n",
    "\n",
    "Por se tratar do modelo de baseline os dados referentes à lobby_type e game_mode não foram removidos. \n",
    "\n",
    "\n",
    "### Número de amostras e colunas"
   ]
  },
  {
   "cell_type": "code",
   "execution_count": null,
   "id": "b3765e8b",
   "metadata": {},
   "outputs": [],
   "source": [
    "print('Número total de amostras:', df_original.shape)\n",
    "print('Colunas:\\n', df_original.columns)\n",
    "df_original.head()"
   ]
  },
  {
   "cell_type": "markdown",
   "id": "8343cb02",
   "metadata": {},
   "source": [
    "**Informações gerais**"
   ]
  },
  {
   "cell_type": "code",
   "execution_count": null,
   "id": "8d5111bc",
   "metadata": {},
   "outputs": [],
   "source": [
    "df_original.describe().T"
   ]
  },
  {
   "cell_type": "markdown",
   "id": "12f6d831",
   "metadata": {},
   "source": [
    "### Vitórias por time"
   ]
  },
  {
   "cell_type": "code",
   "execution_count": null,
   "id": "d8a5969d",
   "metadata": {},
   "outputs": [],
   "source": [
    "df_original['radiant_win'].hist()\n",
    "plt.title('Comparação de vitórias por time')\n",
    "plt.xticks([0,1],['Dire Win', 'Radiant Win'])\n",
    "plt.show()\n",
    "\n",
    "print('Percentual:')\n",
    "df_original['radiant_win'].value_counts(normalize=True)"
   ]
  },
  {
   "cell_type": "markdown",
   "id": "10b54a2f",
   "metadata": {},
   "source": [
    "---\n",
    "## Separar dados para treinamento"
   ]
  },
  {
   "cell_type": "code",
   "execution_count": null,
   "id": "726f0d68",
   "metadata": {},
   "outputs": [],
   "source": [
    "colum_names = df_original.columns\n",
    "\n",
    "df_original.dropna(inplace=True)\n",
    "\n",
    "y_column = ['radiant_win']\n",
    "X_columns = set(colum_names) - set(y_column)\n",
    "\n",
    "X = df_original[X_columns]\n",
    "y = df_original[y_column[0]].values\n"
   ]
  },
  {
   "cell_type": "markdown",
   "id": "04427683",
   "metadata": {},
   "source": [
    "**Configurar os folds para a validação cruzada**"
   ]
  },
  {
   "cell_type": "code",
   "execution_count": null,
   "id": "8f509006",
   "metadata": {},
   "outputs": [],
   "source": [
    "n_folds = 5\n",
    "repeated_cv = 3\n",
    "cv = RepeatedStratifiedKFold(n_splits=n_folds, n_repeats=repeated_cv, random_state=1)"
   ]
  },
  {
   "cell_type": "markdown",
   "id": "9d3c2290",
   "metadata": {},
   "source": [
    "---\n",
    "## Treinar modelos de classificação"
   ]
  },
  {
   "cell_type": "markdown",
   "id": "317ca38c",
   "metadata": {},
   "source": [
    "### Declarando modelos"
   ]
  },
  {
   "cell_type": "code",
   "execution_count": null,
   "id": "fe1cb490",
   "metadata": {},
   "outputs": [],
   "source": [
    "model_names = ['KNN', 'Random Forest', 'Rede Neural', 'XGBoost', 'Naive Bayes']\n",
    "scores = [None] * len(model_names)\n",
    "\n",
    "# Declaring models\n",
    "KNN_model = KNeighborsClassifier(n_neighbors=5)\n",
    "RdnForest_model = RandomForestClassifier(n_estimators=300)\n",
    "RNN_model = MLPClassifier()\n",
    "XGB_model = XGBClassifier(n_estimators=300)\n",
    "Naive_model = GaussianNB()\n",
    "\n",
    "models_lst = [KNN_model, RdnForest_model, RNN_model, XGB_model, Naive_model]"
   ]
  },
  {
   "cell_type": "markdown",
   "id": "0fce3c54",
   "metadata": {},
   "source": [
    "### Treinamento"
   ]
  },
  {
   "cell_type": "code",
   "execution_count": null,
   "id": "1cbbdf16",
   "metadata": {},
   "outputs": [],
   "source": [
    "for i, model in enumerate(models_lst):\n",
    "    print('---------\\nTraining model: ', model_names[i])\n",
    "    scores[i] = cross_val_score(model, X, y, scoring='accuracy', cv=cv, n_jobs=-1)\n",
    "    print('Model '+model_names[i]+ ' mean score:', round(np.mean(scores[i]),2))"
   ]
  },
  {
   "cell_type": "markdown",
   "id": "760d9c9a",
   "metadata": {},
   "source": [
    "---\n",
    "## Mostrando e salvando Resultados"
   ]
  },
  {
   "cell_type": "markdown",
   "id": "6e71142d",
   "metadata": {},
   "source": [
    "### Salvando resultados dos modelos"
   ]
  },
  {
   "cell_type": "code",
   "execution_count": null,
   "id": "d4c711d3",
   "metadata": {},
   "outputs": [],
   "source": [
    "result_df = pd.DataFrame()\n",
    "for i, name in enumerate(model_names):\n",
    "    series_result = pd.DataFrame(scores[i], columns=[name])\n",
    "    result_df = pd.concat([result_df, series_result], axis=1)\n",
    "    \n",
    "display(result_df)\n",
    "result_df.to_csv(output_savepath+'score_exp01.csv', index=False)"
   ]
  },
  {
   "cell_type": "markdown",
   "id": "9ce03906",
   "metadata": {},
   "source": [
    "### Gráfico de comparação"
   ]
  },
  {
   "cell_type": "code",
   "execution_count": null,
   "id": "a0d1f08d",
   "metadata": {},
   "outputs": [],
   "source": [
    "width_plot = result_df.mean().sort_values(ascending=False)\n",
    "\n",
    "x_plot = width_plot.index.values\n",
    "\n",
    "plt.barh(y=x_plot, width=width_plot)\n",
    "plt.title('Comparação da Acurácia Média de cada Algoritmo')\n",
    "plt.xlabel('Acurácia média')\n",
    "plt.tight_layout()\n",
    "\n",
    "plt.savefig(output_savepath+'comparacao_acuracia_modelos_exp01')"
   ]
  },
  {
   "cell_type": "markdown",
   "id": "156a9610",
   "metadata": {},
   "source": [
    "---\n",
    "## Conclusão e próximos passos\n",
    "\n",
    "Os modelos Random Forest, XGBoost e Naive Bayes tiveram uma acurácia média próximo de 53%, um resultado próximo da acurácia do modelo baseline de 53.46%. Estes resultados ainda indicam uma decisão muito próxima de uma decisão aleatória. Os próximos passos devem consistir de:\n",
    "\n",
    "1. Testar estes diferentes modelos focando em um mesmo tipo de lobby_type e game_mode;\n",
    "2. Fazer um modelo para cada 'tier' de jogadores, usando o mmr médio para esta filtragem."
   ]
  }
 ],
 "metadata": {
  "kernelspec": {
   "display_name": "Python 3",
   "language": "python",
   "name": "python3"
  },
  "language_info": {
   "codemirror_mode": {
    "name": "ipython",
    "version": 3
   },
   "file_extension": ".py",
   "mimetype": "text/x-python",
   "name": "python",
   "nbconvert_exporter": "python",
   "pygments_lexer": "ipython3",
   "version": "3.8.8"
  },
  "latex_envs": {
   "LaTeX_envs_menu_present": true,
   "autoclose": false,
   "autocomplete": true,
   "bibliofile": "biblio.bib",
   "cite_by": "apalike",
   "current_citInitial": 1,
   "eqLabelWithNumbers": true,
   "eqNumInitial": 1,
   "hotkeys": {
    "equation": "Ctrl-E",
    "itemize": "Ctrl-I"
   },
   "labels_anchors": false,
   "latex_user_defs": false,
   "report_style_numbering": false,
   "user_envs_cfg": false
  },
  "toc": {
   "base_numbering": 1,
   "nav_menu": {},
   "number_sections": true,
   "sideBar": true,
   "skip_h1_title": true,
   "title_cell": "Table of Contents",
   "title_sidebar": "Contents",
   "toc_cell": true,
   "toc_position": {
    "height": "757px",
    "left": "1536px",
    "top": "134px",
    "width": "384px"
   },
   "toc_section_display": true,
   "toc_window_display": true
  }
 },
 "nbformat": 4,
 "nbformat_minor": 5
}
