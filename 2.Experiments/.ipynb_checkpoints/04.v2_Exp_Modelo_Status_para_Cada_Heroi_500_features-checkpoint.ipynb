{
 "cells": [
  {
   "cell_type": "markdown",
   "id": "1743f5a9",
   "metadata": {
    "toc": true
   },
   "source": [
    "<h1>Table of Contents<span class=\"tocSkip\"></span></h1>\n",
    "<div class=\"toc\"><ul class=\"toc-item\"><li><span><a href=\"#Dataset-utilizado\" data-toc-modified-id=\"Dataset-utilizado-1\"><span class=\"toc-item-num\">1&nbsp;&nbsp;</span>Dataset utilizado</a></span><ul class=\"toc-item\"><li><span><a href=\"#Número-de-amostras-e-colunas\" data-toc-modified-id=\"Número-de-amostras-e-colunas-1.1\"><span class=\"toc-item-num\">1.1&nbsp;&nbsp;</span>Número de amostras e colunas</a></span></li><li><span><a href=\"#Vitórias-por-time\" data-toc-modified-id=\"Vitórias-por-time-1.2\"><span class=\"toc-item-num\">1.2&nbsp;&nbsp;</span>Vitórias por time</a></span></li></ul></li><li><span><a href=\"#Separar-dados-para-treinamento\" data-toc-modified-id=\"Separar-dados-para-treinamento-2\"><span class=\"toc-item-num\">2&nbsp;&nbsp;</span>Separar dados para treinamento</a></span></li><li><span><a href=\"#Treinar-modelos-de-classificação\" data-toc-modified-id=\"Treinar-modelos-de-classificação-3\"><span class=\"toc-item-num\">3&nbsp;&nbsp;</span>Treinar modelos de classificação</a></span><ul class=\"toc-item\"><li><span><a href=\"#Declarando-modelos\" data-toc-modified-id=\"Declarando-modelos-3.1\"><span class=\"toc-item-num\">3.1&nbsp;&nbsp;</span>Declarando modelos</a></span></li><li><span><a href=\"#Treinamento\" data-toc-modified-id=\"Treinamento-3.2\"><span class=\"toc-item-num\">3.2&nbsp;&nbsp;</span>Treinamento</a></span></li></ul></li><li><span><a href=\"#Mostrando-e-salvando-Resultados\" data-toc-modified-id=\"Mostrando-e-salvando-Resultados-4\"><span class=\"toc-item-num\">4&nbsp;&nbsp;</span>Mostrando e salvando Resultados</a></span><ul class=\"toc-item\"><li><span><a href=\"#Salvando-resultados-dos-modelos\" data-toc-modified-id=\"Salvando-resultados-dos-modelos-4.1\"><span class=\"toc-item-num\">4.1&nbsp;&nbsp;</span>Salvando resultados dos modelos</a></span></li><li><span><a href=\"#Gráfico-de-comparação\" data-toc-modified-id=\"Gráfico-de-comparação-4.2\"><span class=\"toc-item-num\">4.2&nbsp;&nbsp;</span>Gráfico de comparação</a></span></li></ul></li><li><span><a href=\"#Conclusão-e-próximos-passos\" data-toc-modified-id=\"Conclusão-e-próximos-passos-5\"><span class=\"toc-item-num\">5&nbsp;&nbsp;</span>Conclusão e próximos passos</a></span></li></ul></div>"
   ]
  },
  {
   "cell_type": "markdown",
   "id": "bc2ae772",
   "metadata": {},
   "source": [
    "---\n",
    "# Experimento 4: Modelo com status por herói do time \n",
    "\n",
    "**Objetivo do experimento:** Treinar diferentes modelos com status de cada herói para para entender se a adição das novas variáveis foram relevantes para a predição final. \n",
    "\n",
    "\n",
    "**Formato do experimento:** Serão utilizadas todas as variáveis do arquivo ``1_TRA_v2_2021-07-16_working_data.csv``. Dados já estão filtrados por game_mode e lobby_type.\n",
    "\n",
    "1. Os dados serão divididos em 5 conjuntos, onde será aplicada uma validação cruzada;\n",
    "2. O passo 1 será repetido 3 vezes com os dados sendo separados aleatoriamente em cada uma das vezes;\n",
    "3. Será calculada a acurácia média destes 15 conjuntos de teste;\n",
    "\n",
    "**Os seguintes modelos serão usados:**\n",
    "\n",
    "- Regressão Logística\n",
    "- KNN\n",
    "- Random Forest\n",
    "- Rede Neural\n",
    "- XGBoost\n",
    "- Naive Bayes\n",
    "\n",
    "**Métrica de avaliação:** Acurácia média dos dados de testes nos 15 conjuntos de dados: 3 validações cruzadas, onde cada validação possui 1 conjunto de teste."
   ]
  },
  {
   "cell_type": "markdown",
   "id": "3c847750",
   "metadata": {
    "hide_input": false
   },
   "source": [
    "---\n",
    "**Importing libraries**"
   ]
  },
  {
   "cell_type": "code",
   "execution_count": 1,
   "id": "a4ff1988",
   "metadata": {},
   "outputs": [],
   "source": [
    "import pandas as pd\n",
    "import numpy as np\n",
    "from matplotlib import pyplot as plt\n",
    "\n",
    "from sklearn.model_selection import RepeatedStratifiedKFold\n",
    "from sklearn.model_selection import cross_val_score\n",
    "\n",
    "from sklearn.linear_model import LogisticRegression\n",
    "from sklearn.neighbors import KNeighborsClassifier\n",
    "from sklearn.ensemble import RandomForestClassifier\n",
    "from sklearn.neural_network import MLPClassifier\n",
    "from sklearn.svm import SVC\n",
    "from xgboost import XGBClassifier\n",
    "from sklearn.naive_bayes import GaussianNB"
   ]
  },
  {
   "cell_type": "markdown",
   "id": "5066d5b2",
   "metadata": {},
   "source": [
    "**Loading data**"
   ]
  },
  {
   "cell_type": "code",
   "execution_count": 2,
   "id": "32cd1c50",
   "metadata": {},
   "outputs": [],
   "source": [
    "raw_data_path = '../data/raw_data/'\n",
    "data_path = '../data/working_data/'\n",
    "\n",
    "\n",
    "file = '1_TRA_v2_2021-07-16_working_data.csv'\n",
    "df_original = pd.read_csv(data_path+file)"
   ]
  },
  {
   "cell_type": "markdown",
   "id": "bcebc371",
   "metadata": {},
   "source": [
    "**Setting output path**"
   ]
  },
  {
   "cell_type": "code",
   "execution_count": 3,
   "id": "c2831519",
   "metadata": {},
   "outputs": [],
   "source": [
    "output_savepath = '../3.Experiments_output/04.v2_Exp_Modelo_Status_para_Cada_Heroi_500_features/'"
   ]
  },
  {
   "cell_type": "markdown",
   "id": "cc7aaa6f",
   "metadata": {},
   "source": [
    "---\n",
    "## Dataset utilizado\n",
    "\n",
    "Por se tratar do modelo de baseline os dados referentes à lobby_type e game_mode não foram removidos. \n",
    "\n",
    "\n",
    "### Número de amostras e colunas"
   ]
  },
  {
   "cell_type": "code",
   "execution_count": 4,
   "id": "b3765e8b",
   "metadata": {},
   "outputs": [
    {
     "name": "stdout",
     "output_type": "stream",
     "text": [
      "Número total de amostras: (46000, 506)\n",
      "Colunas:\n",
      " Index(['Radiant_1_is_Melle', 'Radiant_1_base_mana_regen',\n",
      "       'Radiant_1_base_armor', 'Radiant_1_base_attack_min',\n",
      "       'Radiant_1_base_attack_max', 'Radiant_1_base_str', 'Radiant_1_base_agi',\n",
      "       'Radiant_1_base_int', 'Radiant_1_str_gain', 'Radiant_1_agi_gain',\n",
      "       ...\n",
      "       'Dire_5_Jungler', 'Dire_5_Carry', 'Dire_5_Pusher', 'Dire_5_Escape',\n",
      "       'match_id', 'radiant_win', 'avg_mmr', 'duration', 'lobby_type',\n",
      "       'game_mode'],\n",
      "      dtype='object', length=506)\n"
     ]
    },
    {
     "data": {
      "text/html": [
       "<div>\n",
       "<style scoped>\n",
       "    .dataframe tbody tr th:only-of-type {\n",
       "        vertical-align: middle;\n",
       "    }\n",
       "\n",
       "    .dataframe tbody tr th {\n",
       "        vertical-align: top;\n",
       "    }\n",
       "\n",
       "    .dataframe thead th {\n",
       "        text-align: right;\n",
       "    }\n",
       "</style>\n",
       "<table border=\"1\" class=\"dataframe\">\n",
       "  <thead>\n",
       "    <tr style=\"text-align: right;\">\n",
       "      <th></th>\n",
       "      <th>Radiant_1_is_Melle</th>\n",
       "      <th>Radiant_1_base_mana_regen</th>\n",
       "      <th>Radiant_1_base_armor</th>\n",
       "      <th>Radiant_1_base_attack_min</th>\n",
       "      <th>Radiant_1_base_attack_max</th>\n",
       "      <th>Radiant_1_base_str</th>\n",
       "      <th>Radiant_1_base_agi</th>\n",
       "      <th>Radiant_1_base_int</th>\n",
       "      <th>Radiant_1_str_gain</th>\n",
       "      <th>Radiant_1_agi_gain</th>\n",
       "      <th>...</th>\n",
       "      <th>Dire_5_Jungler</th>\n",
       "      <th>Dire_5_Carry</th>\n",
       "      <th>Dire_5_Pusher</th>\n",
       "      <th>Dire_5_Escape</th>\n",
       "      <th>match_id</th>\n",
       "      <th>radiant_win</th>\n",
       "      <th>avg_mmr</th>\n",
       "      <th>duration</th>\n",
       "      <th>lobby_type</th>\n",
       "      <th>game_mode</th>\n",
       "    </tr>\n",
       "  </thead>\n",
       "  <tbody>\n",
       "    <tr>\n",
       "      <th>0</th>\n",
       "      <td>1.0</td>\n",
       "      <td>0.0</td>\n",
       "      <td>-1.0</td>\n",
       "      <td>27.0</td>\n",
       "      <td>31.0</td>\n",
       "      <td>25.0</td>\n",
       "      <td>20.0</td>\n",
       "      <td>18.0</td>\n",
       "      <td>3.4</td>\n",
       "      <td>2.2</td>\n",
       "      <td>...</td>\n",
       "      <td>0.0</td>\n",
       "      <td>1.0</td>\n",
       "      <td>0.0</td>\n",
       "      <td>0.0</td>\n",
       "      <td>5963069008</td>\n",
       "      <td>1</td>\n",
       "      <td>3439</td>\n",
       "      <td>1649</td>\n",
       "      <td>7</td>\n",
       "      <td>22</td>\n",
       "    </tr>\n",
       "    <tr>\n",
       "      <th>1</th>\n",
       "      <td>0.0</td>\n",
       "      <td>0.0</td>\n",
       "      <td>-2.0</td>\n",
       "      <td>9.0</td>\n",
       "      <td>18.0</td>\n",
       "      <td>22.0</td>\n",
       "      <td>24.0</td>\n",
       "      <td>19.0</td>\n",
       "      <td>3.0</td>\n",
       "      <td>4.3</td>\n",
       "      <td>...</td>\n",
       "      <td>0.0</td>\n",
       "      <td>0.0</td>\n",
       "      <td>0.0</td>\n",
       "      <td>1.0</td>\n",
       "      <td>5963069009</td>\n",
       "      <td>1</td>\n",
       "      <td>3774</td>\n",
       "      <td>1848</td>\n",
       "      <td>0</td>\n",
       "      <td>22</td>\n",
       "    </tr>\n",
       "    <tr>\n",
       "      <th>2</th>\n",
       "      <td>0.0</td>\n",
       "      <td>1.0</td>\n",
       "      <td>-1.0</td>\n",
       "      <td>28.0</td>\n",
       "      <td>34.0</td>\n",
       "      <td>18.0</td>\n",
       "      <td>16.0</td>\n",
       "      <td>16.0</td>\n",
       "      <td>2.2</td>\n",
       "      <td>1.6</td>\n",
       "      <td>...</td>\n",
       "      <td>0.0</td>\n",
       "      <td>1.0</td>\n",
       "      <td>0.0</td>\n",
       "      <td>0.0</td>\n",
       "      <td>5963069012</td>\n",
       "      <td>1</td>\n",
       "      <td>3311</td>\n",
       "      <td>1951</td>\n",
       "      <td>7</td>\n",
       "      <td>22</td>\n",
       "    </tr>\n",
       "    <tr>\n",
       "      <th>3</th>\n",
       "      <td>0.0</td>\n",
       "      <td>0.4</td>\n",
       "      <td>-1.0</td>\n",
       "      <td>27.0</td>\n",
       "      <td>32.0</td>\n",
       "      <td>18.0</td>\n",
       "      <td>18.0</td>\n",
       "      <td>22.0</td>\n",
       "      <td>2.2</td>\n",
       "      <td>3.7</td>\n",
       "      <td>...</td>\n",
       "      <td>0.0</td>\n",
       "      <td>1.0</td>\n",
       "      <td>0.0</td>\n",
       "      <td>0.0</td>\n",
       "      <td>5963069204</td>\n",
       "      <td>1</td>\n",
       "      <td>3408</td>\n",
       "      <td>995</td>\n",
       "      <td>0</td>\n",
       "      <td>22</td>\n",
       "    </tr>\n",
       "    <tr>\n",
       "      <th>4</th>\n",
       "      <td>1.0</td>\n",
       "      <td>0.0</td>\n",
       "      <td>-1.0</td>\n",
       "      <td>27.0</td>\n",
       "      <td>31.0</td>\n",
       "      <td>25.0</td>\n",
       "      <td>20.0</td>\n",
       "      <td>18.0</td>\n",
       "      <td>3.4</td>\n",
       "      <td>2.2</td>\n",
       "      <td>...</td>\n",
       "      <td>0.0</td>\n",
       "      <td>1.0</td>\n",
       "      <td>0.0</td>\n",
       "      <td>0.0</td>\n",
       "      <td>5963069208</td>\n",
       "      <td>0</td>\n",
       "      <td>4621</td>\n",
       "      <td>1818</td>\n",
       "      <td>7</td>\n",
       "      <td>22</td>\n",
       "    </tr>\n",
       "  </tbody>\n",
       "</table>\n",
       "<p>5 rows × 506 columns</p>\n",
       "</div>"
      ],
      "text/plain": [
       "   Radiant_1_is_Melle  Radiant_1_base_mana_regen  Radiant_1_base_armor  \\\n",
       "0                 1.0                        0.0                  -1.0   \n",
       "1                 0.0                        0.0                  -2.0   \n",
       "2                 0.0                        1.0                  -1.0   \n",
       "3                 0.0                        0.4                  -1.0   \n",
       "4                 1.0                        0.0                  -1.0   \n",
       "\n",
       "   Radiant_1_base_attack_min  Radiant_1_base_attack_max  Radiant_1_base_str  \\\n",
       "0                       27.0                       31.0                25.0   \n",
       "1                        9.0                       18.0                22.0   \n",
       "2                       28.0                       34.0                18.0   \n",
       "3                       27.0                       32.0                18.0   \n",
       "4                       27.0                       31.0                25.0   \n",
       "\n",
       "   Radiant_1_base_agi  Radiant_1_base_int  Radiant_1_str_gain  \\\n",
       "0                20.0                18.0                 3.4   \n",
       "1                24.0                19.0                 3.0   \n",
       "2                16.0                16.0                 2.2   \n",
       "3                18.0                22.0                 2.2   \n",
       "4                20.0                18.0                 3.4   \n",
       "\n",
       "   Radiant_1_agi_gain  ...  Dire_5_Jungler  Dire_5_Carry  Dire_5_Pusher  \\\n",
       "0                 2.2  ...             0.0           1.0            0.0   \n",
       "1                 4.3  ...             0.0           0.0            0.0   \n",
       "2                 1.6  ...             0.0           1.0            0.0   \n",
       "3                 3.7  ...             0.0           1.0            0.0   \n",
       "4                 2.2  ...             0.0           1.0            0.0   \n",
       "\n",
       "   Dire_5_Escape    match_id  radiant_win  avg_mmr  duration  lobby_type  \\\n",
       "0            0.0  5963069008            1     3439      1649           7   \n",
       "1            1.0  5963069009            1     3774      1848           0   \n",
       "2            0.0  5963069012            1     3311      1951           7   \n",
       "3            0.0  5963069204            1     3408       995           0   \n",
       "4            0.0  5963069208            0     4621      1818           7   \n",
       "\n",
       "   game_mode  \n",
       "0         22  \n",
       "1         22  \n",
       "2         22  \n",
       "3         22  \n",
       "4         22  \n",
       "\n",
       "[5 rows x 506 columns]"
      ]
     },
     "execution_count": 4,
     "metadata": {},
     "output_type": "execute_result"
    }
   ],
   "source": [
    "print('Número total de amostras:', df_original.shape)\n",
    "print('Colunas:\\n', df_original.columns)\n",
    "df_original.head()"
   ]
  },
  {
   "cell_type": "markdown",
   "id": "12f6d831",
   "metadata": {},
   "source": [
    "### Vitórias por time"
   ]
  },
  {
   "cell_type": "code",
   "execution_count": 5,
   "id": "d8a5969d",
   "metadata": {},
   "outputs": [
    {
     "data": {
      "image/png": "[encoded data removed]",
      "text/plain": [
       "<Figure size 432x288 with 1 Axes>"
      ]
     },
     "metadata": {
      "needs_background": "light"
     },
     "output_type": "display_data"
    },
    {
     "name": "stdout",
     "output_type": "stream",
     "text": [
      "Percentual:\n"
     ]
    },
    {
     "data": {
      "text/plain": [
       "1    0.530957\n",
       "0    0.469043\n",
       "Name: radiant_win, dtype: float64"
      ]
     },
     "execution_count": 5,
     "metadata": {},
     "output_type": "execute_result"
    }
   ],
   "source": [
    "df = df_original\n",
    "df['radiant_win'].hist()\n",
    "plt.title('Comparação de vitórias por time')\n",
    "plt.xticks([0,1],['Dire Win', 'Radiant Win'])\n",
    "plt.show()\n",
    "\n",
    "print('Percentual:')\n",
    "df['radiant_win'].value_counts(normalize=True)"
   ]
  },
  {
   "cell_type": "markdown",
   "id": "44bd8704",
   "metadata": {},
   "source": [
    "---\n",
    "## Filtragem de dados\n",
    "- Somente partidas rankeadas: ``lobby_type = 7``\n",
    "- Somente modo game_mode_all_draft: ``game_mode = 22``\n",
    "- Remover colunas"
   ]
  },
  {
   "cell_type": "code",
   "execution_count": 6,
   "id": "ddd43ad6",
   "metadata": {},
   "outputs": [
    {
     "data": {
      "text/plain": [
       "(32293, 506)"
      ]
     },
     "execution_count": 6,
     "metadata": {},
     "output_type": "execute_result"
    }
   ],
   "source": [
    "df = df_original.copy()\n",
    "df = df.query(\"lobby_type == 7\")\n",
    "df = df.query(\"game_mode == 22\")\n",
    "df.shape"
   ]
  },
  {
   "cell_type": "markdown",
   "id": "e27d67df",
   "metadata": {},
   "source": [
    "### Remover colunas\n",
    "- match_id\n",
    "- avg_mmr\n",
    "- duration\n",
    "- lobby_type\n",
    "- game_mode"
   ]
  },
  {
   "cell_type": "code",
   "execution_count": 7,
   "id": "fcfa9932",
   "metadata": {},
   "outputs": [
    {
     "data": {
      "text/plain": [
       "(32293, 501)"
      ]
     },
     "execution_count": 7,
     "metadata": {},
     "output_type": "execute_result"
    }
   ],
   "source": [
    "drop_cols = ['match_id', 'avg_mmr', 'duration',\n",
    "             'lobby_type', 'game_mode']\n",
    "\n",
    "df = df.drop(columns=drop_cols)\n",
    "df.shape"
   ]
  },
  {
   "cell_type": "markdown",
   "id": "10b54a2f",
   "metadata": {},
   "source": [
    "---\n",
    "## Separar dados para treinamento"
   ]
  },
  {
   "cell_type": "code",
   "execution_count": 8,
   "id": "726f0d68",
   "metadata": {},
   "outputs": [],
   "source": [
    "colum_names = df.columns\n",
    "\n",
    "y_column = ['radiant_win']\n",
    "X_columns = set(colum_names) - set(y_column)\n",
    "\n",
    "X = df[X_columns]\n",
    "y = df[y_column[0]].values\n"
   ]
  },
  {
   "cell_type": "markdown",
   "id": "04427683",
   "metadata": {},
   "source": [
    "**Configurar os folds para a validação cruzada**"
   ]
  },
  {
   "cell_type": "code",
   "execution_count": 9,
   "id": "8f509006",
   "metadata": {},
   "outputs": [],
   "source": [
    "n_folds = 5\n",
    "repeated_cv = 3\n",
    "cv = RepeatedStratifiedKFold(n_splits=n_folds, n_repeats=repeated_cv, random_state=1)"
   ]
  },
  {
   "cell_type": "markdown",
   "id": "9d3c2290",
   "metadata": {},
   "source": [
    "---\n",
    "## Treinar modelos de classificação"
   ]
  },
  {
   "cell_type": "markdown",
   "id": "317ca38c",
   "metadata": {},
   "source": [
    "### Declarando modelos"
   ]
  },
  {
   "cell_type": "code",
   "execution_count": 10,
   "id": "fe1cb490",
   "metadata": {},
   "outputs": [],
   "source": [
    "model_names = ['Logistic Regression', 'KNN', 'Random Forest', 'Rede Neural', 'XGBoost', 'Naive Bayes']\n",
    "scores = [None] * len(model_names)\n",
    "\n",
    "# Declaring models\n",
    "Logistic_model = LogisticRegression()\n",
    "KNN_model = KNeighborsClassifier(n_neighbors=5)\n",
    "RdnForest_model = RandomForestClassifier(n_estimators=300)\n",
    "RNN_model = MLPClassifier()\n",
    "XGB_model = XGBClassifier(n_estimators=300)\n",
    "Naive_model = GaussianNB()\n",
    "\n",
    "models_lst = [Logistic_model, KNN_model, RdnForest_model, RNN_model, XGB_model, Naive_model]"
   ]
  },
  {
   "cell_type": "markdown",
   "id": "0fce3c54",
   "metadata": {},
   "source": [
    "### Treinamento"
   ]
  },
  {
   "cell_type": "code",
   "execution_count": 11,
   "id": "1cbbdf16",
   "metadata": {},
   "outputs": [
    {
     "name": "stdout",
     "output_type": "stream",
     "text": [
      "---------\n",
      "Training model:  Logistic Regression\n",
      "Model Logistic Regression mean score: 0.54\n",
      "---------\n",
      "Training model:  KNN\n",
      "Model KNN mean score: 0.5\n",
      "---------\n",
      "Training model:  Random Forest\n",
      "Model Random Forest mean score: 0.53\n",
      "---------\n",
      "Training model:  Rede Neural\n",
      "Model Rede Neural mean score: 0.51\n",
      "---------\n",
      "Training model:  XGBoost\n",
      "Model XGBoost mean score: 0.52\n",
      "---------\n",
      "Training model:  Naive Bayes\n",
      "Model Naive Bayes mean score: 0.52\n"
     ]
    }
   ],
   "source": [
    "for i, model in enumerate(models_lst):\n",
    "    print('---------\\nTraining model: ', model_names[i])\n",
    "    scores[i] = cross_val_score(model, X, y, scoring='accuracy', cv=cv, n_jobs=-1)\n",
    "    print('Model '+model_names[i]+ ' mean score:', round(np.mean(scores[i]),2))"
   ]
  },
  {
   "cell_type": "markdown",
   "id": "760d9c9a",
   "metadata": {},
   "source": [
    "---\n",
    "## Mostrando e salvando Resultados"
   ]
  },
  {
   "cell_type": "markdown",
   "id": "6e71142d",
   "metadata": {},
   "source": [
    "### Salvando resultados dos modelos"
   ]
  },
  {
   "cell_type": "code",
   "execution_count": 12,
   "id": "d4c711d3",
   "metadata": {},
   "outputs": [
    {
     "data": {
      "text/html": [
       "<div>\n",
       "<style scoped>\n",
       "    .dataframe tbody tr th:only-of-type {\n",
       "        vertical-align: middle;\n",
       "    }\n",
       "\n",
       "    .dataframe tbody tr th {\n",
       "        vertical-align: top;\n",
       "    }\n",
       "\n",
       "    .dataframe thead th {\n",
       "        text-align: right;\n",
       "    }\n",
       "</style>\n",
       "<table border=\"1\" class=\"dataframe\">\n",
       "  <thead>\n",
       "    <tr style=\"text-align: right;\">\n",
       "      <th></th>\n",
       "      <th>Logistic Regression</th>\n",
       "      <th>KNN</th>\n",
       "      <th>Random Forest</th>\n",
       "      <th>Rede Neural</th>\n",
       "      <th>XGBoost</th>\n",
       "      <th>Naive Bayes</th>\n",
       "    </tr>\n",
       "  </thead>\n",
       "  <tbody>\n",
       "    <tr>\n",
       "      <th>0</th>\n",
       "      <td>0.547144</td>\n",
       "      <td>0.508902</td>\n",
       "      <td>0.534603</td>\n",
       "      <td>0.529803</td>\n",
       "      <td>0.539402</td>\n",
       "      <td>0.515715</td>\n",
       "    </tr>\n",
       "    <tr>\n",
       "      <th>1</th>\n",
       "      <td>0.527791</td>\n",
       "      <td>0.505187</td>\n",
       "      <td>0.526552</td>\n",
       "      <td>0.530577</td>\n",
       "      <td>0.514631</td>\n",
       "      <td>0.522372</td>\n",
       "    </tr>\n",
       "    <tr>\n",
       "      <th>2</th>\n",
       "      <td>0.537080</td>\n",
       "      <td>0.501780</td>\n",
       "      <td>0.537080</td>\n",
       "      <td>0.470351</td>\n",
       "      <td>0.511534</td>\n",
       "      <td>0.517263</td>\n",
       "    </tr>\n",
       "    <tr>\n",
       "      <th>3</th>\n",
       "      <td>0.536854</td>\n",
       "      <td>0.514401</td>\n",
       "      <td>0.532518</td>\n",
       "      <td>0.472437</td>\n",
       "      <td>0.526014</td>\n",
       "      <td>0.524311</td>\n",
       "    </tr>\n",
       "    <tr>\n",
       "      <th>4</th>\n",
       "      <td>0.532208</td>\n",
       "      <td>0.495200</td>\n",
       "      <td>0.544286</td>\n",
       "      <td>0.529421</td>\n",
       "      <td>0.528956</td>\n",
       "      <td>0.515020</td>\n",
       "    </tr>\n",
       "    <tr>\n",
       "      <th>5</th>\n",
       "      <td>0.545750</td>\n",
       "      <td>0.517882</td>\n",
       "      <td>0.528100</td>\n",
       "      <td>0.528255</td>\n",
       "      <td>0.531971</td>\n",
       "      <td>0.523456</td>\n",
       "    </tr>\n",
       "    <tr>\n",
       "      <th>6</th>\n",
       "      <td>0.532745</td>\n",
       "      <td>0.503948</td>\n",
       "      <td>0.519275</td>\n",
       "      <td>0.470042</td>\n",
       "      <td>0.524539</td>\n",
       "      <td>0.509831</td>\n",
       "    </tr>\n",
       "    <tr>\n",
       "      <th>7</th>\n",
       "      <td>0.537699</td>\n",
       "      <td>0.496826</td>\n",
       "      <td>0.536151</td>\n",
       "      <td>0.503174</td>\n",
       "      <td>0.528410</td>\n",
       "      <td>0.520204</td>\n",
       "    </tr>\n",
       "    <tr>\n",
       "      <th>8</th>\n",
       "      <td>0.538402</td>\n",
       "      <td>0.504800</td>\n",
       "      <td>0.538247</td>\n",
       "      <td>0.530195</td>\n",
       "      <td>0.523692</td>\n",
       "      <td>0.518117</td>\n",
       "    </tr>\n",
       "    <tr>\n",
       "      <th>9</th>\n",
       "      <td>0.537937</td>\n",
       "      <td>0.502323</td>\n",
       "      <td>0.542273</td>\n",
       "      <td>0.538557</td>\n",
       "      <td>0.522453</td>\n",
       "      <td>0.524621</td>\n",
       "    </tr>\n",
       "    <tr>\n",
       "      <th>10</th>\n",
       "      <td>0.545595</td>\n",
       "      <td>0.500387</td>\n",
       "      <td>0.530732</td>\n",
       "      <td>0.528874</td>\n",
       "      <td>0.519275</td>\n",
       "      <td>0.527326</td>\n",
       "    </tr>\n",
       "    <tr>\n",
       "      <th>11</th>\n",
       "      <td>0.534138</td>\n",
       "      <td>0.495897</td>\n",
       "      <td>0.535532</td>\n",
       "      <td>0.530268</td>\n",
       "      <td>0.531971</td>\n",
       "      <td>0.518501</td>\n",
       "    </tr>\n",
       "    <tr>\n",
       "      <th>12</th>\n",
       "      <td>0.538783</td>\n",
       "      <td>0.502864</td>\n",
       "      <td>0.539557</td>\n",
       "      <td>0.530423</td>\n",
       "      <td>0.522217</td>\n",
       "      <td>0.522527</td>\n",
       "    </tr>\n",
       "    <tr>\n",
       "      <th>13</th>\n",
       "      <td>0.532673</td>\n",
       "      <td>0.508517</td>\n",
       "      <td>0.531589</td>\n",
       "      <td>0.471353</td>\n",
       "      <td>0.525395</td>\n",
       "      <td>0.516878</td>\n",
       "    </tr>\n",
       "    <tr>\n",
       "      <th>14</th>\n",
       "      <td>0.535305</td>\n",
       "      <td>0.513472</td>\n",
       "      <td>0.535460</td>\n",
       "      <td>0.528027</td>\n",
       "      <td>0.522298</td>\n",
       "      <td>0.510375</td>\n",
       "    </tr>\n",
       "  </tbody>\n",
       "</table>\n",
       "</div>"
      ],
      "text/plain": [
       "    Logistic Regression       KNN  Random Forest  Rede Neural   XGBoost  \\\n",
       "0              0.547144  0.508902       0.534603     0.529803  0.539402   \n",
       "1              0.527791  0.505187       0.526552     0.530577  0.514631   \n",
       "2              0.537080  0.501780       0.537080     0.470351  0.511534   \n",
       "3              0.536854  0.514401       0.532518     0.472437  0.526014   \n",
       "4              0.532208  0.495200       0.544286     0.529421  0.528956   \n",
       "5              0.545750  0.517882       0.528100     0.528255  0.531971   \n",
       "6              0.532745  0.503948       0.519275     0.470042  0.524539   \n",
       "7              0.537699  0.496826       0.536151     0.503174  0.528410   \n",
       "8              0.538402  0.504800       0.538247     0.530195  0.523692   \n",
       "9              0.537937  0.502323       0.542273     0.538557  0.522453   \n",
       "10             0.545595  0.500387       0.530732     0.528874  0.519275   \n",
       "11             0.534138  0.495897       0.535532     0.530268  0.531971   \n",
       "12             0.538783  0.502864       0.539557     0.530423  0.522217   \n",
       "13             0.532673  0.508517       0.531589     0.471353  0.525395   \n",
       "14             0.535305  0.513472       0.535460     0.528027  0.522298   \n",
       "\n",
       "    Naive Bayes  \n",
       "0      0.515715  \n",
       "1      0.522372  \n",
       "2      0.517263  \n",
       "3      0.524311  \n",
       "4      0.515020  \n",
       "5      0.523456  \n",
       "6      0.509831  \n",
       "7      0.520204  \n",
       "8      0.518117  \n",
       "9      0.524621  \n",
       "10     0.527326  \n",
       "11     0.518501  \n",
       "12     0.522527  \n",
       "13     0.516878  \n",
       "14     0.510375  "
      ]
     },
     "metadata": {},
     "output_type": "display_data"
    }
   ],
   "source": [
    "result_df = pd.DataFrame()\n",
    "for i, name in enumerate(model_names):\n",
    "    series_result = pd.DataFrame(scores[i], columns=[name])\n",
    "    result_df = pd.concat([result_df, series_result], axis=1)\n",
    "    \n",
    "display(result_df)\n",
    "result_df.to_csv(output_savepath+'score_exp04.csv', index=False)"
   ]
  },
  {
   "cell_type": "markdown",
   "id": "9ce03906",
   "metadata": {},
   "source": [
    "### Gráfico de comparação"
   ]
  },
  {
   "cell_type": "code",
   "execution_count": 13,
   "id": "a0d1f08d",
   "metadata": {},
   "outputs": [
    {
     "data": {
      "image/png": "[encoded data removed]",
      "text/plain": [
       "<Figure size 432x288 with 1 Axes>"
      ]
     },
     "metadata": {
      "needs_background": "light"
     },
     "output_type": "display_data"
    }
   ],
   "source": [
    "width_plot = result_df.mean().sort_values(ascending=False)\n",
    "\n",
    "x_plot = width_plot.index.values\n",
    "\n",
    "plt.barh(y=x_plot, width=width_plot)\n",
    "plt.title('Comparação da Acurácia Média de cada Algoritmo')\n",
    "plt.xlabel('Acurácia média')\n",
    "plt.tight_layout()\n",
    "\n",
    "plt.savefig(output_savepath+'comparacao_acuracia_modelos_exp04')"
   ]
  },
  {
   "cell_type": "markdown",
   "id": "156a9610",
   "metadata": {},
   "source": [
    "---\n",
    "## Conclusão e próximos passos\n",
    "\n",
    "A adição de status por herói não contribuiu para a evolução do modelo. O próximo passo será realizar uma sumarização de status por time."
   ]
  },
  {
   "cell_type": "code",
   "execution_count": null,
   "id": "f65bef64",
   "metadata": {},
   "outputs": [],
   "source": []
  }
 ],
 "metadata": {
  "kernelspec": {
   "display_name": "Python 3",
   "language": "python",
   "name": "python3"
  },
  "language_info": {
   "codemirror_mode": {
    "name": "ipython",
    "version": 3
   },
   "file_extension": ".py",
   "mimetype": "text/x-python",
   "name": "python",
   "nbconvert_exporter": "python",
   "pygments_lexer": "ipython3",
   "version": "3.8.8"
  },
  "latex_envs": {
   "LaTeX_envs_menu_present": true,
   "autoclose": false,
   "autocomplete": true,
   "bibliofile": "biblio.bib",
   "cite_by": "apalike",
   "current_citInitial": 1,
   "eqLabelWithNumbers": true,
   "eqNumInitial": 1,
   "hotkeys": {
    "equation": "Ctrl-E",
    "itemize": "Ctrl-I"
   },
   "labels_anchors": false,
   "latex_user_defs": false,
   "report_style_numbering": false,
   "user_envs_cfg": false
  },
  "toc": {
   "base_numbering": 1,
   "nav_menu": {},
   "number_sections": true,
   "sideBar": true,
   "skip_h1_title": true,
   "title_cell": "Table of Contents",
   "title_sidebar": "Contents",
   "toc_cell": true,
   "toc_position": {
    "height": "757px",
    "left": "1536px",
    "top": "134px",
    "width": "384px"
   },
   "toc_section_display": true,
   "toc_window_display": true
  }
 },
 "nbformat": 4,
 "nbformat_minor": 5
}
