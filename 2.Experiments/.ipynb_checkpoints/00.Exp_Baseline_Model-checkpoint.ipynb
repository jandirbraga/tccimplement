{
 "cells": [
  {
   "cell_type": "markdown",
   "id": "1743f5a9",
   "metadata": {
    "toc": true
   },
   "source": [
    "<h1>Table of Contents<span class=\"tocSkip\"></span></h1>\n",
    "<div class=\"toc\"><ul class=\"toc-item\"><li><span><a href=\"#Dataset-utilizado\" data-toc-modified-id=\"Dataset-utilizado-1\"><span class=\"toc-item-num\">1&nbsp;&nbsp;</span>Dataset utilizado</a></span><ul class=\"toc-item\"><li><span><a href=\"#Número-de-amostras-e-colunas\" data-toc-modified-id=\"Número-de-amostras-e-colunas-1.1\"><span class=\"toc-item-num\">1.1&nbsp;&nbsp;</span>Número de amostras e colunas</a></span></li><li><span><a href=\"#Vitórias-por-time\" data-toc-modified-id=\"Vitórias-por-time-1.2\"><span class=\"toc-item-num\">1.2&nbsp;&nbsp;</span>Vitórias por time</a></span></li></ul></li><li><span><a href=\"#Separar-dados-para-treinamento\" data-toc-modified-id=\"Separar-dados-para-treinamento-2\"><span class=\"toc-item-num\">2&nbsp;&nbsp;</span>Separar dados para treinamento</a></span></li><li><span><a href=\"#Treinar-modelo-de-regressão-logística\" data-toc-modified-id=\"Treinar-modelo-de-regressão-logística-3\"><span class=\"toc-item-num\">3&nbsp;&nbsp;</span>Treinar modelo de regressão logística</a></span></li><li><span><a href=\"#Mostrando-e-salvando-Resultados\" data-toc-modified-id=\"Mostrando-e-salvando-Resultados-4\"><span class=\"toc-item-num\">4&nbsp;&nbsp;</span>Mostrando e salvando Resultados</a></span></li><li><span><a href=\"#Conclusão-e-próximos-passos\" data-toc-modified-id=\"Conclusão-e-próximos-passos-5\"><span class=\"toc-item-num\">5&nbsp;&nbsp;</span>Conclusão e próximos passos</a></span></li></ul></div>"
   ]
  },
  {
   "cell_type": "markdown",
   "id": "bc2ae772",
   "metadata": {},
   "source": [
    "---\n",
    "# Experimento 0: Modelo Baseline\n",
    "\n",
    "**Objetivo do experimento:** Determinar um modelo base para comparar com os resultados de experimentos futuros. Será utilizado um algoritmo de regressão logística.\n",
    "\n",
    "**Formato do experimento:** Serão utilizadas todas as variáveis do arquivo ``2021-08-03_working_data.csv``. \n",
    "1. Os dados serão divididos em 5 conjuntos, onde será aplicada uma validação cruzada;\n",
    "2. O passo 1 será repetido 3 vezes com os dados sendo separados aleatoriamente em cada uma das vezes;\n",
    "3. Será calculada a acurácia média destes 15 conjuntos de teste;\n",
    "\n",
    "**Métrica de avaliação:** Acurácia média dos dados de testes nos 15 conjuntos de dados: 3 validações cruzadas, onde cada validação possui 1 conjunto de teste."
   ]
  },
  {
   "cell_type": "markdown",
   "id": "3c847750",
   "metadata": {
    "hide_input": false
   },
   "source": [
    "---\n",
    "**Importing libraries**"
   ]
  },
  {
   "cell_type": "code",
   "execution_count": 1,
   "id": "a4ff1988",
   "metadata": {},
   "outputs": [],
   "source": [
    "import pandas as pd\n",
    "import numpy as np\n",
    "from matplotlib import pyplot as plt\n",
    "\n",
    "from sklearn.model_selection import RepeatedStratifiedKFold\n",
    "from sklearn.model_selection import cross_val_score\n",
    "from sklearn.linear_model import LogisticRegression"
   ]
  },
  {
   "cell_type": "markdown",
   "id": "5066d5b2",
   "metadata": {},
   "source": [
    "**Loading data**"
   ]
  },
  {
   "cell_type": "code",
   "execution_count": 2,
   "id": "32cd1c50",
   "metadata": {},
   "outputs": [],
   "source": [
    "data_path = '../data/working_data/'\n",
    "file = '2021-08-03_working_data.csv'\n",
    "df_original = pd.read_csv(data_path+file)"
   ]
  },
  {
   "cell_type": "markdown",
   "id": "cc7aaa6f",
   "metadata": {},
   "source": [
    "---\n",
    "## Dataset utilizado\n",
    "\n",
    "Por se tratar do modelo de baseline os dados referentes à lobby_type e game_mode não foram removidos. \n",
    "\n",
    "\n",
    "### Número de amostras e colunas"
   ]
  },
  {
   "cell_type": "code",
   "execution_count": 3,
   "id": "b3765e8b",
   "metadata": {},
   "outputs": [
    {
     "name": "stdout",
     "output_type": "stream",
     "text": [
      "Número total de amostras: (113400, 15)\n",
      "Colunas:\n",
      " Index(['radiant_win', 'avg_mmr', 'duration', 'lobby_type', 'game_mode',\n",
      "       'Radiant 1', 'Radiant 2', 'Radiant 3', 'Radiant 4', 'Radiant 5',\n",
      "       'Dire 1', 'Dire 2', 'Dire 3', 'Dire 4', 'Dire 5'],\n",
      "      dtype='object')\n"
     ]
    },
    {
     "data": {
      "text/html": [
       "<div>\n",
       "<style scoped>\n",
       "    .dataframe tbody tr th:only-of-type {\n",
       "        vertical-align: middle;\n",
       "    }\n",
       "\n",
       "    .dataframe tbody tr th {\n",
       "        vertical-align: top;\n",
       "    }\n",
       "\n",
       "    .dataframe thead th {\n",
       "        text-align: right;\n",
       "    }\n",
       "</style>\n",
       "<table border=\"1\" class=\"dataframe\">\n",
       "  <thead>\n",
       "    <tr style=\"text-align: right;\">\n",
       "      <th></th>\n",
       "      <th>radiant_win</th>\n",
       "      <th>avg_mmr</th>\n",
       "      <th>duration</th>\n",
       "      <th>lobby_type</th>\n",
       "      <th>game_mode</th>\n",
       "      <th>Radiant 1</th>\n",
       "      <th>Radiant 2</th>\n",
       "      <th>Radiant 3</th>\n",
       "      <th>Radiant 4</th>\n",
       "      <th>Radiant 5</th>\n",
       "      <th>Dire 1</th>\n",
       "      <th>Dire 2</th>\n",
       "      <th>Dire 3</th>\n",
       "      <th>Dire 4</th>\n",
       "      <th>Dire 5</th>\n",
       "    </tr>\n",
       "  </thead>\n",
       "  <tbody>\n",
       "    <tr>\n",
       "      <th>0</th>\n",
       "      <td>0</td>\n",
       "      <td>4104</td>\n",
       "      <td>2147</td>\n",
       "      <td>7</td>\n",
       "      <td>22</td>\n",
       "      <td>94</td>\n",
       "      <td>67</td>\n",
       "      <td>112</td>\n",
       "      <td>5</td>\n",
       "      <td>16.0</td>\n",
       "      <td>14</td>\n",
       "      <td>90</td>\n",
       "      <td>52</td>\n",
       "      <td>1</td>\n",
       "      <td>121</td>\n",
       "    </tr>\n",
       "    <tr>\n",
       "      <th>1</th>\n",
       "      <td>0</td>\n",
       "      <td>6421</td>\n",
       "      <td>1526</td>\n",
       "      <td>7</td>\n",
       "      <td>22</td>\n",
       "      <td>72</td>\n",
       "      <td>9</td>\n",
       "      <td>58</td>\n",
       "      <td>89</td>\n",
       "      <td>16.0</td>\n",
       "      <td>79</td>\n",
       "      <td>25</td>\n",
       "      <td>12</td>\n",
       "      <td>119</td>\n",
       "      <td>120</td>\n",
       "    </tr>\n",
       "    <tr>\n",
       "      <th>2</th>\n",
       "      <td>1</td>\n",
       "      <td>5062</td>\n",
       "      <td>1323</td>\n",
       "      <td>7</td>\n",
       "      <td>22</td>\n",
       "      <td>111</td>\n",
       "      <td>48</td>\n",
       "      <td>53</td>\n",
       "      <td>101</td>\n",
       "      <td>26.0</td>\n",
       "      <td>31</td>\n",
       "      <td>41</td>\n",
       "      <td>10</td>\n",
       "      <td>88</td>\n",
       "      <td>62</td>\n",
       "    </tr>\n",
       "    <tr>\n",
       "      <th>3</th>\n",
       "      <td>1</td>\n",
       "      <td>3943</td>\n",
       "      <td>1956</td>\n",
       "      <td>7</td>\n",
       "      <td>22</td>\n",
       "      <td>41</td>\n",
       "      <td>83</td>\n",
       "      <td>74</td>\n",
       "      <td>123</td>\n",
       "      <td>114.0</td>\n",
       "      <td>109</td>\n",
       "      <td>22</td>\n",
       "      <td>98</td>\n",
       "      <td>107</td>\n",
       "      <td>30</td>\n",
       "    </tr>\n",
       "    <tr>\n",
       "      <th>4</th>\n",
       "      <td>0</td>\n",
       "      <td>3515</td>\n",
       "      <td>2087</td>\n",
       "      <td>7</td>\n",
       "      <td>3</td>\n",
       "      <td>59</td>\n",
       "      <td>112</td>\n",
       "      <td>4</td>\n",
       "      <td>41</td>\n",
       "      <td>31.0</td>\n",
       "      <td>88</td>\n",
       "      <td>11</td>\n",
       "      <td>96</td>\n",
       "      <td>110</td>\n",
       "      <td>10</td>\n",
       "    </tr>\n",
       "  </tbody>\n",
       "</table>\n",
       "</div>"
      ],
      "text/plain": [
       "   radiant_win  avg_mmr  duration  lobby_type  game_mode  Radiant 1  \\\n",
       "0            0     4104      2147           7         22         94   \n",
       "1            0     6421      1526           7         22         72   \n",
       "2            1     5062      1323           7         22        111   \n",
       "3            1     3943      1956           7         22         41   \n",
       "4            0     3515      2087           7          3         59   \n",
       "\n",
       "   Radiant 2  Radiant 3  Radiant 4  Radiant 5  Dire 1  Dire 2  Dire 3  Dire 4  \\\n",
       "0         67        112          5       16.0      14      90      52       1   \n",
       "1          9         58         89       16.0      79      25      12     119   \n",
       "2         48         53        101       26.0      31      41      10      88   \n",
       "3         83         74        123      114.0     109      22      98     107   \n",
       "4        112          4         41       31.0      88      11      96     110   \n",
       "\n",
       "   Dire 5  \n",
       "0     121  \n",
       "1     120  \n",
       "2      62  \n",
       "3      30  \n",
       "4      10  "
      ]
     },
     "execution_count": 3,
     "metadata": {},
     "output_type": "execute_result"
    }
   ],
   "source": [
    "print('Número total de amostras:', df_original.shape)\n",
    "print('Colunas:\\n', df_original.columns)\n",
    "df_original.head()"
   ]
  },
  {
   "cell_type": "markdown",
   "id": "8343cb02",
   "metadata": {},
   "source": [
    "**Informações gerais**"
   ]
  },
  {
   "cell_type": "code",
   "execution_count": 4,
   "id": "8d5111bc",
   "metadata": {},
   "outputs": [
    {
     "data": {
      "text/html": [
       "<div>\n",
       "<style scoped>\n",
       "    .dataframe tbody tr th:only-of-type {\n",
       "        vertical-align: middle;\n",
       "    }\n",
       "\n",
       "    .dataframe tbody tr th {\n",
       "        vertical-align: top;\n",
       "    }\n",
       "\n",
       "    .dataframe thead th {\n",
       "        text-align: right;\n",
       "    }\n",
       "</style>\n",
       "<table border=\"1\" class=\"dataframe\">\n",
       "  <thead>\n",
       "    <tr style=\"text-align: right;\">\n",
       "      <th></th>\n",
       "      <th>count</th>\n",
       "      <th>mean</th>\n",
       "      <th>std</th>\n",
       "      <th>min</th>\n",
       "      <th>25%</th>\n",
       "      <th>50%</th>\n",
       "      <th>75%</th>\n",
       "      <th>max</th>\n",
       "    </tr>\n",
       "  </thead>\n",
       "  <tbody>\n",
       "    <tr>\n",
       "      <th>radiant_win</th>\n",
       "      <td>113400.0</td>\n",
       "      <td>0.525688</td>\n",
       "      <td>0.499342</td>\n",
       "      <td>0.0</td>\n",
       "      <td>0.0</td>\n",
       "      <td>1.0</td>\n",
       "      <td>1.0</td>\n",
       "      <td>1.0</td>\n",
       "    </tr>\n",
       "    <tr>\n",
       "      <th>avg_mmr</th>\n",
       "      <td>113400.0</td>\n",
       "      <td>4040.530159</td>\n",
       "      <td>474.736865</td>\n",
       "      <td>3500.0</td>\n",
       "      <td>3693.0</td>\n",
       "      <td>3932.0</td>\n",
       "      <td>4247.0</td>\n",
       "      <td>8494.0</td>\n",
       "    </tr>\n",
       "    <tr>\n",
       "      <th>duration</th>\n",
       "      <td>113400.0</td>\n",
       "      <td>2329.575855</td>\n",
       "      <td>580.650954</td>\n",
       "      <td>362.0</td>\n",
       "      <td>1956.0</td>\n",
       "      <td>2273.0</td>\n",
       "      <td>2650.0</td>\n",
       "      <td>7408.0</td>\n",
       "    </tr>\n",
       "    <tr>\n",
       "      <th>lobby_type</th>\n",
       "      <td>113400.0</td>\n",
       "      <td>5.457910</td>\n",
       "      <td>2.903710</td>\n",
       "      <td>0.0</td>\n",
       "      <td>7.0</td>\n",
       "      <td>7.0</td>\n",
       "      <td>7.0</td>\n",
       "      <td>9.0</td>\n",
       "    </tr>\n",
       "    <tr>\n",
       "      <th>game_mode</th>\n",
       "      <td>113400.0</td>\n",
       "      <td>19.296825</td>\n",
       "      <td>6.618990</td>\n",
       "      <td>1.0</td>\n",
       "      <td>22.0</td>\n",
       "      <td>22.0</td>\n",
       "      <td>22.0</td>\n",
       "      <td>22.0</td>\n",
       "    </tr>\n",
       "    <tr>\n",
       "      <th>Radiant 1</th>\n",
       "      <td>113400.0</td>\n",
       "      <td>57.951605</td>\n",
       "      <td>37.693319</td>\n",
       "      <td>1.0</td>\n",
       "      <td>25.0</td>\n",
       "      <td>52.0</td>\n",
       "      <td>90.0</td>\n",
       "      <td>135.0</td>\n",
       "    </tr>\n",
       "    <tr>\n",
       "      <th>Radiant 2</th>\n",
       "      <td>113400.0</td>\n",
       "      <td>57.736561</td>\n",
       "      <td>37.661342</td>\n",
       "      <td>1.0</td>\n",
       "      <td>25.0</td>\n",
       "      <td>52.0</td>\n",
       "      <td>90.0</td>\n",
       "      <td>135.0</td>\n",
       "    </tr>\n",
       "    <tr>\n",
       "      <th>Radiant 3</th>\n",
       "      <td>113400.0</td>\n",
       "      <td>57.960388</td>\n",
       "      <td>37.783283</td>\n",
       "      <td>1.0</td>\n",
       "      <td>25.0</td>\n",
       "      <td>52.0</td>\n",
       "      <td>90.0</td>\n",
       "      <td>135.0</td>\n",
       "    </tr>\n",
       "    <tr>\n",
       "      <th>Radiant 4</th>\n",
       "      <td>113400.0</td>\n",
       "      <td>57.856984</td>\n",
       "      <td>37.768054</td>\n",
       "      <td>1.0</td>\n",
       "      <td>25.0</td>\n",
       "      <td>52.0</td>\n",
       "      <td>90.0</td>\n",
       "      <td>135.0</td>\n",
       "    </tr>\n",
       "    <tr>\n",
       "      <th>Radiant 5</th>\n",
       "      <td>113399.0</td>\n",
       "      <td>57.733410</td>\n",
       "      <td>37.694819</td>\n",
       "      <td>1.0</td>\n",
       "      <td>25.0</td>\n",
       "      <td>52.0</td>\n",
       "      <td>90.0</td>\n",
       "      <td>135.0</td>\n",
       "    </tr>\n",
       "    <tr>\n",
       "      <th>Dire 1</th>\n",
       "      <td>113400.0</td>\n",
       "      <td>58.038730</td>\n",
       "      <td>37.709646</td>\n",
       "      <td>1.0</td>\n",
       "      <td>25.0</td>\n",
       "      <td>53.0</td>\n",
       "      <td>90.0</td>\n",
       "      <td>135.0</td>\n",
       "    </tr>\n",
       "    <tr>\n",
       "      <th>Dire 2</th>\n",
       "      <td>113400.0</td>\n",
       "      <td>57.933139</td>\n",
       "      <td>37.613491</td>\n",
       "      <td>1.0</td>\n",
       "      <td>25.0</td>\n",
       "      <td>53.0</td>\n",
       "      <td>90.0</td>\n",
       "      <td>135.0</td>\n",
       "    </tr>\n",
       "    <tr>\n",
       "      <th>Dire 3</th>\n",
       "      <td>113400.0</td>\n",
       "      <td>58.061728</td>\n",
       "      <td>37.694620</td>\n",
       "      <td>1.0</td>\n",
       "      <td>25.0</td>\n",
       "      <td>52.0</td>\n",
       "      <td>90.0</td>\n",
       "      <td>135.0</td>\n",
       "    </tr>\n",
       "    <tr>\n",
       "      <th>Dire 4</th>\n",
       "      <td>113400.0</td>\n",
       "      <td>57.946076</td>\n",
       "      <td>37.713291</td>\n",
       "      <td>1.0</td>\n",
       "      <td>25.0</td>\n",
       "      <td>52.0</td>\n",
       "      <td>90.0</td>\n",
       "      <td>135.0</td>\n",
       "    </tr>\n",
       "    <tr>\n",
       "      <th>Dire 5</th>\n",
       "      <td>113400.0</td>\n",
       "      <td>57.941693</td>\n",
       "      <td>37.585701</td>\n",
       "      <td>1.0</td>\n",
       "      <td>25.0</td>\n",
       "      <td>53.0</td>\n",
       "      <td>90.0</td>\n",
       "      <td>135.0</td>\n",
       "    </tr>\n",
       "  </tbody>\n",
       "</table>\n",
       "</div>"
      ],
      "text/plain": [
       "                count         mean         std     min     25%     50%  \\\n",
       "radiant_win  113400.0     0.525688    0.499342     0.0     0.0     1.0   \n",
       "avg_mmr      113400.0  4040.530159  474.736865  3500.0  3693.0  3932.0   \n",
       "duration     113400.0  2329.575855  580.650954   362.0  1956.0  2273.0   \n",
       "lobby_type   113400.0     5.457910    2.903710     0.0     7.0     7.0   \n",
       "game_mode    113400.0    19.296825    6.618990     1.0    22.0    22.0   \n",
       "Radiant 1    113400.0    57.951605   37.693319     1.0    25.0    52.0   \n",
       "Radiant 2    113400.0    57.736561   37.661342     1.0    25.0    52.0   \n",
       "Radiant 3    113400.0    57.960388   37.783283     1.0    25.0    52.0   \n",
       "Radiant 4    113400.0    57.856984   37.768054     1.0    25.0    52.0   \n",
       "Radiant 5    113399.0    57.733410   37.694819     1.0    25.0    52.0   \n",
       "Dire 1       113400.0    58.038730   37.709646     1.0    25.0    53.0   \n",
       "Dire 2       113400.0    57.933139   37.613491     1.0    25.0    53.0   \n",
       "Dire 3       113400.0    58.061728   37.694620     1.0    25.0    52.0   \n",
       "Dire 4       113400.0    57.946076   37.713291     1.0    25.0    52.0   \n",
       "Dire 5       113400.0    57.941693   37.585701     1.0    25.0    53.0   \n",
       "\n",
       "                75%     max  \n",
       "radiant_win     1.0     1.0  \n",
       "avg_mmr      4247.0  8494.0  \n",
       "duration     2650.0  7408.0  \n",
       "lobby_type      7.0     9.0  \n",
       "game_mode      22.0    22.0  \n",
       "Radiant 1      90.0   135.0  \n",
       "Radiant 2      90.0   135.0  \n",
       "Radiant 3      90.0   135.0  \n",
       "Radiant 4      90.0   135.0  \n",
       "Radiant 5      90.0   135.0  \n",
       "Dire 1         90.0   135.0  \n",
       "Dire 2         90.0   135.0  \n",
       "Dire 3         90.0   135.0  \n",
       "Dire 4         90.0   135.0  \n",
       "Dire 5         90.0   135.0  "
      ]
     },
     "execution_count": 4,
     "metadata": {},
     "output_type": "execute_result"
    }
   ],
   "source": [
    "df_original.describe().T"
   ]
  },
  {
   "cell_type": "markdown",
   "id": "12f6d831",
   "metadata": {},
   "source": [
    "### Vitórias por time"
   ]
  },
  {
   "cell_type": "code",
   "execution_count": 5,
   "id": "d8a5969d",
   "metadata": {},
   "outputs": [
    {
     "data": {
      "image/png": "[encoded data removed]",
      "text/plain": [
       "<Figure size 432x288 with 1 Axes>"
      ]
     },
     "metadata": {
      "needs_background": "light"
     },
     "output_type": "display_data"
    },
    {
     "name": "stdout",
     "output_type": "stream",
     "text": [
      "Percentual:\n"
     ]
    },
    {
     "data": {
      "text/plain": [
       "1    0.525692\n",
       "0    0.474308\n",
       "Name: radiant_win, dtype: float64"
      ]
     },
     "execution_count": 5,
     "metadata": {},
     "output_type": "execute_result"
    }
   ],
   "source": [
    "df_original['radiant_win'].hist()\n",
    "plt.title('Comparação de vitórias por time')\n",
    "plt.xticks([0,1],['Dire Win', 'Radiant Win'])\n",
    "plt.show()\n",
    "\n",
    "df_original.dropna(inplace=True)\n",
    "print('Percentual:')\n",
    "df_original['radiant_win'].value_counts(normalize=True)"
   ]
  },
  {
   "cell_type": "markdown",
   "id": "10b54a2f",
   "metadata": {},
   "source": [
    "---\n",
    "## Separar dados para treinamento"
   ]
  },
  {
   "cell_type": "code",
   "execution_count": 6,
   "id": "726f0d68",
   "metadata": {},
   "outputs": [],
   "source": [
    "colum_names = df_original.columns\n",
    "\n",
    "y_column = ['radiant_win']\n",
    "X_columns = set(colum_names) - set(y_column)\n",
    "\n",
    "X = df_original[X_columns]\n",
    "y = df_original[y_column[0]].values\n"
   ]
  },
  {
   "cell_type": "markdown",
   "id": "9d3c2290",
   "metadata": {},
   "source": [
    "---\n",
    "## Treinar modelo de regressão logística"
   ]
  },
  {
   "cell_type": "code",
   "execution_count": 7,
   "id": "1cbbdf16",
   "metadata": {},
   "outputs": [
    {
     "data": {
      "text/plain": [
       "array([0.5366843 , 0.53346561, 0.53289242, 0.53201058, 0.5288593 ,\n",
       "       0.53571429, 0.53522928, 0.53104056, 0.53377425, 0.53137264,\n",
       "       0.53694885, 0.53399471, 0.53390653, 0.53156966, 0.52938842])"
      ]
     },
     "execution_count": 7,
     "metadata": {},
     "output_type": "execute_result"
    }
   ],
   "source": [
    "model = LogisticRegression()\n",
    "n_folds = 5\n",
    "repeated_cv = 3\n",
    "\n",
    "\n",
    "\n",
    "\n",
    "cv = RepeatedStratifiedKFold(n_splits=n_folds, n_repeats=repeated_cv, random_state=1)\n",
    "scores = cross_val_score(model, X, y, scoring='accuracy', cv=cv, n_jobs=-1)\n",
    "\n",
    "scores"
   ]
  },
  {
   "cell_type": "markdown",
   "id": "760d9c9a",
   "metadata": {},
   "source": [
    "---\n",
    "## Mostrando e salvando Resultados"
   ]
  },
  {
   "cell_type": "code",
   "execution_count": 8,
   "id": "a0d1f08d",
   "metadata": {},
   "outputs": [
    {
     "name": "stdout",
     "output_type": "stream",
     "text": [
      "Acurácia Média Geral: 0.53312\n"
     ]
    }
   ],
   "source": [
    "output_savepath = '../3.Experiments_output/00.Exp_Baseline_Model/'\n",
    "print('Acurácia Média Geral: %.5f' % np.mean(scores))"
   ]
  },
  {
   "cell_type": "code",
   "execution_count": 9,
   "id": "6549cf35",
   "metadata": {},
   "outputs": [
    {
     "data": {
      "text/html": [
       "<div>\n",
       "<style scoped>\n",
       "    .dataframe tbody tr th:only-of-type {\n",
       "        vertical-align: middle;\n",
       "    }\n",
       "\n",
       "    .dataframe tbody tr th {\n",
       "        vertical-align: top;\n",
       "    }\n",
       "\n",
       "    .dataframe thead th {\n",
       "        text-align: right;\n",
       "    }\n",
       "</style>\n",
       "<table border=\"1\" class=\"dataframe\">\n",
       "  <thead>\n",
       "    <tr style=\"text-align: right;\">\n",
       "      <th></th>\n",
       "      <th>Fold-1</th>\n",
       "      <th>Fold-2</th>\n",
       "      <th>Fold-3</th>\n",
       "      <th>Fold-4</th>\n",
       "      <th>Fold-5</th>\n",
       "    </tr>\n",
       "  </thead>\n",
       "  <tbody>\n",
       "    <tr>\n",
       "      <th>1o Cross Validation</th>\n",
       "      <td>0.536684</td>\n",
       "      <td>0.533466</td>\n",
       "      <td>0.532892</td>\n",
       "      <td>0.532011</td>\n",
       "      <td>0.528859</td>\n",
       "    </tr>\n",
       "    <tr>\n",
       "      <th>2o Cross Validation</th>\n",
       "      <td>0.535714</td>\n",
       "      <td>0.535229</td>\n",
       "      <td>0.531041</td>\n",
       "      <td>0.533774</td>\n",
       "      <td>0.531373</td>\n",
       "    </tr>\n",
       "    <tr>\n",
       "      <th>3o Cross Validation</th>\n",
       "      <td>0.536949</td>\n",
       "      <td>0.533995</td>\n",
       "      <td>0.533907</td>\n",
       "      <td>0.531570</td>\n",
       "      <td>0.529388</td>\n",
       "    </tr>\n",
       "  </tbody>\n",
       "</table>\n",
       "</div>"
      ],
      "text/plain": [
       "                       Fold-1    Fold-2    Fold-3    Fold-4    Fold-5\n",
       "1o Cross Validation  0.536684  0.533466  0.532892  0.532011  0.528859\n",
       "2o Cross Validation  0.535714  0.535229  0.531041  0.533774  0.531373\n",
       "3o Cross Validation  0.536949  0.533995  0.533907  0.531570  0.529388"
      ]
     },
     "metadata": {},
     "output_type": "display_data"
    }
   ],
   "source": [
    "aux_mtx = np.reshape(scores, (repeated_cv, n_folds))\n",
    "\n",
    "col_fold_names = ['Partition-1', 'Partition-2', 'Partition-3', 'Partition-4', 'Partition-5']\n",
    "index_fold_names = ['1o Cross Validation', '2o Cross Validation', '3o Cross Validation']\n",
    "result_df_plt = pd.DataFrame(aux_mtx, columns=col_fold_names, index=index_fold_names)\n",
    "\n",
    "display(result_df_plt)\n",
    "\n",
    "# Saving\n",
    "result_df_plt.to_csv(output_savepath+'logistic_regression_result.csv')"
   ]
  },
  {
   "cell_type": "code",
   "execution_count": 10,
   "id": "90bf97bb",
   "metadata": {},
   "outputs": [
    {
     "data": {
      "image/png": "[encoded data removed]",
      "text/plain": [
       "<Figure size 432x288 with 1 Axes>"
      ]
     },
     "metadata": {
      "needs_background": "light"
     },
     "output_type": "display_data"
    }
   ],
   "source": [
    "plt.plot(result_df_plt.iloc[0,:], ls='-', marker='o',label='1° Cross Validation')\n",
    "plt.plot(result_df_plt.iloc[1,:], ls='--', marker='s', label='2° Cross Validation')\n",
    "plt.plot(result_df_plt.iloc[2,:], ls=':', marker='D', label='3° Cross Validation')\n",
    "plt.ylabel('Acurácia')\n",
    "plt.legend(loc='best')\n",
    "plt.xticks([0,1,2,3,4],col_fold_names)\n",
    "plt.title('Acurácia por fold e por Cross Validation')\n",
    "plt.tight_layout()\n",
    "\n",
    "plt.savefig(output_savepath+'reg_logistica_acuracia_por_CV')\n",
    "\n"
   ]
  },
  {
   "cell_type": "markdown",
   "id": "156a9610",
   "metadata": {},
   "source": [
    "---\n",
    "## Conclusão e próximos passos\n",
    "\n",
    "O modelo de regressão logística obteve uma acurácia geral de 53.31% que pode ser considerado um resultado muito próximo de uma decisão aleatória. Os próximos passos devem consistir de:\n",
    "\n",
    "1. Testar novos modelos com este mesmo conjunto de dados;\n",
    "2. Testar os diferentes modelos focando em um mesmo tipo de lobby_type e game_mode;"
   ]
  }
 ],
 "metadata": {
  "kernelspec": {
   "display_name": "Python 3",
   "language": "python",
   "name": "python3"
  },
  "language_info": {
   "codemirror_mode": {
    "name": "ipython",
    "version": 3
   },
   "file_extension": ".py",
   "mimetype": "text/x-python",
   "name": "python",
   "nbconvert_exporter": "python",
   "pygments_lexer": "ipython3",
   "version": "3.8.8"
  },
  "latex_envs": {
   "LaTeX_envs_menu_present": true,
   "autoclose": false,
   "autocomplete": true,
   "bibliofile": "biblio.bib",
   "cite_by": "apalike",
   "current_citInitial": 1,
   "eqLabelWithNumbers": true,
   "eqNumInitial": 1,
   "hotkeys": {
    "equation": "Ctrl-E",
    "itemize": "Ctrl-I"
   },
   "labels_anchors": false,
   "latex_user_defs": false,
   "report_style_numbering": false,
   "user_envs_cfg": false
  },
  "toc": {
   "base_numbering": 1,
   "nav_menu": {},
   "number_sections": true,
   "sideBar": true,
   "skip_h1_title": true,
   "title_cell": "Table of Contents",
   "title_sidebar": "Contents",
   "toc_cell": true,
   "toc_position": {},
   "toc_section_display": true,
   "toc_window_display": true
  }
 },
 "nbformat": 4,
 "nbformat_minor": 5
}
