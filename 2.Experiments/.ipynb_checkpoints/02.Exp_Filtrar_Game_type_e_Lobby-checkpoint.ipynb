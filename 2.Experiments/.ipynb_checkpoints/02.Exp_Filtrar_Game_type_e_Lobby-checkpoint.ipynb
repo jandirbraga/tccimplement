{
 "cells": [
  {
   "cell_type": "markdown",
   "id": "1743f5a9",
   "metadata": {
    "toc": true
   },
   "source": [
    "<h1>Table of Contents<span class=\"tocSkip\"></span></h1>\n",
    "<div class=\"toc\"><ul class=\"toc-item\"><li><span><a href=\"#Dataset-utilizado\" data-toc-modified-id=\"Dataset-utilizado-1\"><span class=\"toc-item-num\">1&nbsp;&nbsp;</span>Dataset utilizado</a></span><ul class=\"toc-item\"><li><span><a href=\"#Número-de-amostras-e-colunas\" data-toc-modified-id=\"Número-de-amostras-e-colunas-1.1\"><span class=\"toc-item-num\">1.1&nbsp;&nbsp;</span>Número de amostras e colunas</a></span></li></ul></li><li><span><a href=\"#Filtrando-o-game_mode-e-lobby_type\" data-toc-modified-id=\"Filtrando-o-game_mode-e-lobby_type-2\"><span class=\"toc-item-num\">2&nbsp;&nbsp;</span>Filtrando o <code>game_mode</code> e <code>lobby_type</code></a></span><ul class=\"toc-item\"><li><span><a href=\"#Entendendo-as-distribuições\" data-toc-modified-id=\"Entendendo-as-distribuições-2.1\"><span class=\"toc-item-num\">2.1&nbsp;&nbsp;</span>Entendendo as distribuições</a></span></li><li><span><a href=\"#Análise\" data-toc-modified-id=\"Análise-2.2\"><span class=\"toc-item-num\">2.2&nbsp;&nbsp;</span>Análise</a></span></li><li><span><a href=\"#Vitórias-por-time\" data-toc-modified-id=\"Vitórias-por-time-2.3\"><span class=\"toc-item-num\">2.3&nbsp;&nbsp;</span>Vitórias por time</a></span></li></ul></li><li><span><a href=\"#Transformar-dados-para-o-treinamento\" data-toc-modified-id=\"Transformar-dados-para-o-treinamento-3\"><span class=\"toc-item-num\">3&nbsp;&nbsp;</span>Transformar dados para o treinamento</a></span></li><li><span><a href=\"#Separar-dados-para-treinamento\" data-toc-modified-id=\"Separar-dados-para-treinamento-4\"><span class=\"toc-item-num\">4&nbsp;&nbsp;</span>Separar dados para treinamento</a></span></li><li><span><a href=\"#Treinar-modelos-de-classificação\" data-toc-modified-id=\"Treinar-modelos-de-classificação-5\"><span class=\"toc-item-num\">5&nbsp;&nbsp;</span>Treinar modelos de classificação</a></span><ul class=\"toc-item\"><li><span><a href=\"#Declarando-modelos\" data-toc-modified-id=\"Declarando-modelos-5.1\"><span class=\"toc-item-num\">5.1&nbsp;&nbsp;</span>Declarando modelos</a></span></li><li><span><a href=\"#Treinamento\" data-toc-modified-id=\"Treinamento-5.2\"><span class=\"toc-item-num\">5.2&nbsp;&nbsp;</span>Treinamento</a></span></li></ul></li><li><span><a href=\"#Mostrando-e-salvando-Resultados\" data-toc-modified-id=\"Mostrando-e-salvando-Resultados-6\"><span class=\"toc-item-num\">6&nbsp;&nbsp;</span>Mostrando e salvando Resultados</a></span><ul class=\"toc-item\"><li><span><a href=\"#Salvando-resultados-dos-modelos\" data-toc-modified-id=\"Salvando-resultados-dos-modelos-6.1\"><span class=\"toc-item-num\">6.1&nbsp;&nbsp;</span>Salvando resultados dos modelos</a></span></li><li><span><a href=\"#Gráfico-de-comparação\" data-toc-modified-id=\"Gráfico-de-comparação-6.2\"><span class=\"toc-item-num\">6.2&nbsp;&nbsp;</span>Gráfico de comparação</a></span></li></ul></li><li><span><a href=\"#Conclusão-e-próximos-passos\" data-toc-modified-id=\"Conclusão-e-próximos-passos-7\"><span class=\"toc-item-num\">7&nbsp;&nbsp;</span>Conclusão e próximos passos</a></span></li></ul></div>"
   ]
  },
  {
   "cell_type": "markdown",
   "id": "bc2ae772",
   "metadata": {},
   "source": [
    "---\n",
    "# Experimento 2: Filtrar game mode e lobby type nos modelos \n",
    "\n",
    "**Objetivo do experimento:** Treinar diferentes modelos, filtrando apenas alguns tipos de `game_mode` e `lobby_type` para entender se são relevantes para a predição final. \n",
    "\n",
    "\n",
    "**Formato do experimento:** Serão utilizadas todas as variáveis do arquivo ``2021-08-03_working_data.csv``. \n",
    "1. Os dados serão divididos em 5 conjuntos, onde será aplicada uma validação cruzada;\n",
    "2. O passo 1 será repetido 3 vezes com os dados sendo separados aleatoriamente em cada uma das vezes;\n",
    "3. Será calculada a acurácia média destes 15 conjuntos de teste;\n",
    "\n",
    "**Os seguintes modelos serão usados:**\n",
    "\n",
    "- KNN\n",
    "- Random Forest\n",
    "- Rede Neural\n",
    "- XGBoost\n",
    "- Naive Bayes\n",
    "\n",
    "**Métrica de avaliação:** Acurácia média dos dados de testes nos 15 conjuntos de dados: 3 validações cruzadas, onde cada validação possui 1 conjunto de teste."
   ]
  },
  {
   "cell_type": "markdown",
   "id": "3c847750",
   "metadata": {
    "hide_input": false
   },
   "source": [
    "---\n",
    "**Importing libraries**"
   ]
  },
  {
   "cell_type": "code",
   "execution_count": 1,
   "id": "a4ff1988",
   "metadata": {},
   "outputs": [],
   "source": [
    "import pandas as pd\n",
    "import numpy as np\n",
    "from matplotlib import pyplot as plt\n",
    "\n",
    "from sklearn.model_selection import RepeatedStratifiedKFold\n",
    "from sklearn.model_selection import cross_val_score\n",
    "\n",
    "\n",
    "from sklearn.neighbors import KNeighborsClassifier\n",
    "from sklearn.ensemble import RandomForestClassifier\n",
    "from sklearn.neural_network import MLPClassifier\n",
    "from sklearn.svm import SVC\n",
    "from xgboost import XGBClassifier\n",
    "from sklearn.naive_bayes import GaussianNB"
   ]
  },
  {
   "cell_type": "markdown",
   "id": "5066d5b2",
   "metadata": {},
   "source": [
    "**Loading data**"
   ]
  },
  {
   "cell_type": "code",
   "execution_count": 2,
   "id": "32cd1c50",
   "metadata": {},
   "outputs": [],
   "source": [
    "raw_data_path = '../data/raw_data/'\n",
    "data_path = '../data/working_data/'\n",
    "\n",
    "\n",
    "file = '2021-05-01_working_data.csv'\n",
    "df_original = pd.read_csv(data_path+file)\n",
    "\n",
    "game_mode_df = pd.read_json(raw_data_path+'game_mode.json').T\n",
    "lobby_type_df = pd.read_json(raw_data_path+'lobby_type.json').T"
   ]
  },
  {
   "cell_type": "markdown",
   "id": "bcebc371",
   "metadata": {},
   "source": [
    "**Setting output path**"
   ]
  },
  {
   "cell_type": "code",
   "execution_count": 3,
   "id": "c2831519",
   "metadata": {},
   "outputs": [],
   "source": [
    "output_savepath = '../3.Experiments_output/02.Exp_Filtrar_Game_type_e_Lobby/'"
   ]
  },
  {
   "cell_type": "markdown",
   "id": "cc7aaa6f",
   "metadata": {},
   "source": [
    "---\n",
    "## Dataset utilizado\n",
    "\n",
    "Por se tratar do modelo de baseline os dados referentes à lobby_type e game_mode não foram removidos. \n",
    "\n",
    "\n",
    "### Número de amostras e colunas"
   ]
  },
  {
   "cell_type": "code",
   "execution_count": 4,
   "id": "b3765e8b",
   "metadata": {},
   "outputs": [
    {
     "name": "stdout",
     "output_type": "stream",
     "text": [
      "Número total de amostras: (46000, 15)\n",
      "Colunas:\n",
      " Index(['radiant_win', 'avg_mmr', 'duration', 'lobby_type', 'game_mode',\n",
      "       'Radiant 1', 'Radiant 2', 'Radiant 3', 'Radiant 4', 'Radiant 5',\n",
      "       'Dire 1', 'Dire 2', 'Dire 3', 'Dire 4', 'Dire 5'],\n",
      "      dtype='object')\n"
     ]
    },
    {
     "data": {
      "text/html": [
       "<div>\n",
       "<style scoped>\n",
       "    .dataframe tbody tr th:only-of-type {\n",
       "        vertical-align: middle;\n",
       "    }\n",
       "\n",
       "    .dataframe tbody tr th {\n",
       "        vertical-align: top;\n",
       "    }\n",
       "\n",
       "    .dataframe thead th {\n",
       "        text-align: right;\n",
       "    }\n",
       "</style>\n",
       "<table border=\"1\" class=\"dataframe\">\n",
       "  <thead>\n",
       "    <tr style=\"text-align: right;\">\n",
       "      <th></th>\n",
       "      <th>radiant_win</th>\n",
       "      <th>avg_mmr</th>\n",
       "      <th>duration</th>\n",
       "      <th>lobby_type</th>\n",
       "      <th>game_mode</th>\n",
       "      <th>Radiant 1</th>\n",
       "      <th>Radiant 2</th>\n",
       "      <th>Radiant 3</th>\n",
       "      <th>Radiant 4</th>\n",
       "      <th>Radiant 5</th>\n",
       "      <th>Dire 1</th>\n",
       "      <th>Dire 2</th>\n",
       "      <th>Dire 3</th>\n",
       "      <th>Dire 4</th>\n",
       "      <th>Dire 5</th>\n",
       "    </tr>\n",
       "  </thead>\n",
       "  <tbody>\n",
       "    <tr>\n",
       "      <th>0</th>\n",
       "      <td>1</td>\n",
       "      <td>3439</td>\n",
       "      <td>1649</td>\n",
       "      <td>7</td>\n",
       "      <td>22</td>\n",
       "      <td>121</td>\n",
       "      <td>119</td>\n",
       "      <td>2</td>\n",
       "      <td>13</td>\n",
       "      <td>70</td>\n",
       "      <td>129</td>\n",
       "      <td>83</td>\n",
       "      <td>80</td>\n",
       "      <td>63</td>\n",
       "      <td>30</td>\n",
       "    </tr>\n",
       "    <tr>\n",
       "      <th>1</th>\n",
       "      <td>1</td>\n",
       "      <td>3774</td>\n",
       "      <td>1848</td>\n",
       "      <td>0</td>\n",
       "      <td>22</td>\n",
       "      <td>109</td>\n",
       "      <td>10</td>\n",
       "      <td>108</td>\n",
       "      <td>128</td>\n",
       "      <td>84</td>\n",
       "      <td>123</td>\n",
       "      <td>69</td>\n",
       "      <td>67</td>\n",
       "      <td>73</td>\n",
       "      <td>71</td>\n",
       "    </tr>\n",
       "    <tr>\n",
       "      <th>2</th>\n",
       "      <td>1</td>\n",
       "      <td>3311</td>\n",
       "      <td>1951</td>\n",
       "      <td>7</td>\n",
       "      <td>22</td>\n",
       "      <td>129</td>\n",
       "      <td>81</td>\n",
       "      <td>35</td>\n",
       "      <td>88</td>\n",
       "      <td>5</td>\n",
       "      <td>32</td>\n",
       "      <td>135</td>\n",
       "      <td>37</td>\n",
       "      <td>121</td>\n",
       "      <td>126</td>\n",
       "    </tr>\n",
       "    <tr>\n",
       "      <th>3</th>\n",
       "      <td>1</td>\n",
       "      <td>3408</td>\n",
       "      <td>995</td>\n",
       "      <td>0</td>\n",
       "      <td>22</td>\n",
       "      <td>83</td>\n",
       "      <td>56</td>\n",
       "      <td>17</td>\n",
       "      <td>62</td>\n",
       "      <td>9</td>\n",
       "      <td>26</td>\n",
       "      <td>32</td>\n",
       "      <td>51</td>\n",
       "      <td>6</td>\n",
       "      <td>135</td>\n",
       "    </tr>\n",
       "    <tr>\n",
       "      <th>4</th>\n",
       "      <td>0</td>\n",
       "      <td>4621</td>\n",
       "      <td>1818</td>\n",
       "      <td>7</td>\n",
       "      <td>22</td>\n",
       "      <td>11</td>\n",
       "      <td>100</td>\n",
       "      <td>26</td>\n",
       "      <td>44</td>\n",
       "      <td>2</td>\n",
       "      <td>135</td>\n",
       "      <td>42</td>\n",
       "      <td>25</td>\n",
       "      <td>30</td>\n",
       "      <td>74</td>\n",
       "    </tr>\n",
       "  </tbody>\n",
       "</table>\n",
       "</div>"
      ],
      "text/plain": [
       "   radiant_win  avg_mmr  duration  lobby_type  game_mode  Radiant 1  \\\n",
       "0            1     3439      1649           7         22        121   \n",
       "1            1     3774      1848           0         22        109   \n",
       "2            1     3311      1951           7         22        129   \n",
       "3            1     3408       995           0         22         83   \n",
       "4            0     4621      1818           7         22         11   \n",
       "\n",
       "   Radiant 2  Radiant 3  Radiant 4  Radiant 5  Dire 1  Dire 2  Dire 3  Dire 4  \\\n",
       "0        119          2         13         70     129      83      80      63   \n",
       "1         10        108        128         84     123      69      67      73   \n",
       "2         81         35         88          5      32     135      37     121   \n",
       "3         56         17         62          9      26      32      51       6   \n",
       "4        100         26         44          2     135      42      25      30   \n",
       "\n",
       "   Dire 5  \n",
       "0      30  \n",
       "1      71  \n",
       "2     126  \n",
       "3     135  \n",
       "4      74  "
      ]
     },
     "execution_count": 4,
     "metadata": {},
     "output_type": "execute_result"
    }
   ],
   "source": [
    "print('Número total de amostras:', df_original.shape)\n",
    "print('Colunas:\\n', df_original.columns)\n",
    "df_original.head()"
   ]
  },
  {
   "cell_type": "markdown",
   "id": "8343cb02",
   "metadata": {},
   "source": [
    "**Informações gerais**"
   ]
  },
  {
   "cell_type": "code",
   "execution_count": 5,
   "id": "8d5111bc",
   "metadata": {},
   "outputs": [
    {
     "data": {
      "text/html": [
       "<div>\n",
       "<style scoped>\n",
       "    .dataframe tbody tr th:only-of-type {\n",
       "        vertical-align: middle;\n",
       "    }\n",
       "\n",
       "    .dataframe tbody tr th {\n",
       "        vertical-align: top;\n",
       "    }\n",
       "\n",
       "    .dataframe thead th {\n",
       "        text-align: right;\n",
       "    }\n",
       "</style>\n",
       "<table border=\"1\" class=\"dataframe\">\n",
       "  <thead>\n",
       "    <tr style=\"text-align: right;\">\n",
       "      <th></th>\n",
       "      <th>count</th>\n",
       "      <th>mean</th>\n",
       "      <th>std</th>\n",
       "      <th>min</th>\n",
       "      <th>25%</th>\n",
       "      <th>50%</th>\n",
       "      <th>75%</th>\n",
       "      <th>max</th>\n",
       "    </tr>\n",
       "  </thead>\n",
       "  <tbody>\n",
       "    <tr>\n",
       "      <th>radiant_win</th>\n",
       "      <td>46000.0</td>\n",
       "      <td>0.530957</td>\n",
       "      <td>0.499046</td>\n",
       "      <td>0.0</td>\n",
       "      <td>0.0</td>\n",
       "      <td>1.0</td>\n",
       "      <td>1.0</td>\n",
       "      <td>1.0</td>\n",
       "    </tr>\n",
       "    <tr>\n",
       "      <th>avg_mmr</th>\n",
       "      <td>46000.0</td>\n",
       "      <td>3822.560239</td>\n",
       "      <td>514.104856</td>\n",
       "      <td>3200.0</td>\n",
       "      <td>3439.0</td>\n",
       "      <td>3709.0</td>\n",
       "      <td>4071.0</td>\n",
       "      <td>8330.0</td>\n",
       "    </tr>\n",
       "    <tr>\n",
       "      <th>duration</th>\n",
       "      <td>46000.0</td>\n",
       "      <td>2350.531696</td>\n",
       "      <td>550.404877</td>\n",
       "      <td>368.0</td>\n",
       "      <td>1983.0</td>\n",
       "      <td>2297.0</td>\n",
       "      <td>2660.0</td>\n",
       "      <td>6327.0</td>\n",
       "    </tr>\n",
       "    <tr>\n",
       "      <th>lobby_type</th>\n",
       "      <td>46000.0</td>\n",
       "      <td>5.602370</td>\n",
       "      <td>2.805421</td>\n",
       "      <td>0.0</td>\n",
       "      <td>7.0</td>\n",
       "      <td>7.0</td>\n",
       "      <td>7.0</td>\n",
       "      <td>9.0</td>\n",
       "    </tr>\n",
       "    <tr>\n",
       "      <th>game_mode</th>\n",
       "      <td>46000.0</td>\n",
       "      <td>19.115022</td>\n",
       "      <td>6.796624</td>\n",
       "      <td>2.0</td>\n",
       "      <td>22.0</td>\n",
       "      <td>22.0</td>\n",
       "      <td>22.0</td>\n",
       "      <td>22.0</td>\n",
       "    </tr>\n",
       "    <tr>\n",
       "      <th>Radiant 1</th>\n",
       "      <td>46000.0</td>\n",
       "      <td>57.555478</td>\n",
       "      <td>38.856395</td>\n",
       "      <td>1.0</td>\n",
       "      <td>23.0</td>\n",
       "      <td>51.0</td>\n",
       "      <td>91.0</td>\n",
       "      <td>135.0</td>\n",
       "    </tr>\n",
       "    <tr>\n",
       "      <th>Radiant 2</th>\n",
       "      <td>46000.0</td>\n",
       "      <td>57.353152</td>\n",
       "      <td>39.040652</td>\n",
       "      <td>1.0</td>\n",
       "      <td>22.0</td>\n",
       "      <td>50.0</td>\n",
       "      <td>91.0</td>\n",
       "      <td>135.0</td>\n",
       "    </tr>\n",
       "    <tr>\n",
       "      <th>Radiant 3</th>\n",
       "      <td>46000.0</td>\n",
       "      <td>57.731457</td>\n",
       "      <td>38.984566</td>\n",
       "      <td>1.0</td>\n",
       "      <td>23.0</td>\n",
       "      <td>51.0</td>\n",
       "      <td>92.0</td>\n",
       "      <td>135.0</td>\n",
       "    </tr>\n",
       "    <tr>\n",
       "      <th>Radiant 4</th>\n",
       "      <td>46000.0</td>\n",
       "      <td>57.725739</td>\n",
       "      <td>39.052658</td>\n",
       "      <td>1.0</td>\n",
       "      <td>23.0</td>\n",
       "      <td>51.0</td>\n",
       "      <td>92.0</td>\n",
       "      <td>135.0</td>\n",
       "    </tr>\n",
       "    <tr>\n",
       "      <th>Radiant 5</th>\n",
       "      <td>46000.0</td>\n",
       "      <td>57.493348</td>\n",
       "      <td>38.943894</td>\n",
       "      <td>1.0</td>\n",
       "      <td>22.0</td>\n",
       "      <td>50.0</td>\n",
       "      <td>90.0</td>\n",
       "      <td>135.0</td>\n",
       "    </tr>\n",
       "    <tr>\n",
       "      <th>Dire 1</th>\n",
       "      <td>46000.0</td>\n",
       "      <td>57.862087</td>\n",
       "      <td>38.978716</td>\n",
       "      <td>1.0</td>\n",
       "      <td>23.0</td>\n",
       "      <td>51.0</td>\n",
       "      <td>92.0</td>\n",
       "      <td>135.0</td>\n",
       "    </tr>\n",
       "    <tr>\n",
       "      <th>Dire 2</th>\n",
       "      <td>46000.0</td>\n",
       "      <td>57.736913</td>\n",
       "      <td>38.929915</td>\n",
       "      <td>1.0</td>\n",
       "      <td>23.0</td>\n",
       "      <td>51.0</td>\n",
       "      <td>92.0</td>\n",
       "      <td>135.0</td>\n",
       "    </tr>\n",
       "    <tr>\n",
       "      <th>Dire 3</th>\n",
       "      <td>46000.0</td>\n",
       "      <td>57.867500</td>\n",
       "      <td>38.921456</td>\n",
       "      <td>1.0</td>\n",
       "      <td>23.0</td>\n",
       "      <td>51.0</td>\n",
       "      <td>92.0</td>\n",
       "      <td>135.0</td>\n",
       "    </tr>\n",
       "    <tr>\n",
       "      <th>Dire 4</th>\n",
       "      <td>46000.0</td>\n",
       "      <td>57.724804</td>\n",
       "      <td>38.953561</td>\n",
       "      <td>1.0</td>\n",
       "      <td>23.0</td>\n",
       "      <td>51.0</td>\n",
       "      <td>91.0</td>\n",
       "      <td>135.0</td>\n",
       "    </tr>\n",
       "    <tr>\n",
       "      <th>Dire 5</th>\n",
       "      <td>46000.0</td>\n",
       "      <td>57.687891</td>\n",
       "      <td>38.932279</td>\n",
       "      <td>1.0</td>\n",
       "      <td>23.0</td>\n",
       "      <td>51.0</td>\n",
       "      <td>90.0</td>\n",
       "      <td>135.0</td>\n",
       "    </tr>\n",
       "  </tbody>\n",
       "</table>\n",
       "</div>"
      ],
      "text/plain": [
       "               count         mean         std     min     25%     50%     75%  \\\n",
       "radiant_win  46000.0     0.530957    0.499046     0.0     0.0     1.0     1.0   \n",
       "avg_mmr      46000.0  3822.560239  514.104856  3200.0  3439.0  3709.0  4071.0   \n",
       "duration     46000.0  2350.531696  550.404877   368.0  1983.0  2297.0  2660.0   \n",
       "lobby_type   46000.0     5.602370    2.805421     0.0     7.0     7.0     7.0   \n",
       "game_mode    46000.0    19.115022    6.796624     2.0    22.0    22.0    22.0   \n",
       "Radiant 1    46000.0    57.555478   38.856395     1.0    23.0    51.0    91.0   \n",
       "Radiant 2    46000.0    57.353152   39.040652     1.0    22.0    50.0    91.0   \n",
       "Radiant 3    46000.0    57.731457   38.984566     1.0    23.0    51.0    92.0   \n",
       "Radiant 4    46000.0    57.725739   39.052658     1.0    23.0    51.0    92.0   \n",
       "Radiant 5    46000.0    57.493348   38.943894     1.0    22.0    50.0    90.0   \n",
       "Dire 1       46000.0    57.862087   38.978716     1.0    23.0    51.0    92.0   \n",
       "Dire 2       46000.0    57.736913   38.929915     1.0    23.0    51.0    92.0   \n",
       "Dire 3       46000.0    57.867500   38.921456     1.0    23.0    51.0    92.0   \n",
       "Dire 4       46000.0    57.724804   38.953561     1.0    23.0    51.0    91.0   \n",
       "Dire 5       46000.0    57.687891   38.932279     1.0    23.0    51.0    90.0   \n",
       "\n",
       "                max  \n",
       "radiant_win     1.0  \n",
       "avg_mmr      8330.0  \n",
       "duration     6327.0  \n",
       "lobby_type      9.0  \n",
       "game_mode      22.0  \n",
       "Radiant 1     135.0  \n",
       "Radiant 2     135.0  \n",
       "Radiant 3     135.0  \n",
       "Radiant 4     135.0  \n",
       "Radiant 5     135.0  \n",
       "Dire 1        135.0  \n",
       "Dire 2        135.0  \n",
       "Dire 3        135.0  \n",
       "Dire 4        135.0  \n",
       "Dire 5        135.0  "
      ]
     },
     "execution_count": 5,
     "metadata": {},
     "output_type": "execute_result"
    }
   ],
   "source": [
    "df_original.describe().T"
   ]
  },
  {
   "cell_type": "markdown",
   "id": "ec13006f",
   "metadata": {},
   "source": [
    "---\n",
    "## Filtrando o `game_mode` e `lobby_type`\n",
    "**Ajustando Data Frame**"
   ]
  },
  {
   "cell_type": "code",
   "execution_count": 6,
   "id": "af274634",
   "metadata": {},
   "outputs": [],
   "source": [
    "df = df_original.copy()\n",
    "\n",
    "dict_game_mode = dict(zip(game_mode_df['id'], game_mode_df['name']))\n",
    "dict_lobby_type = dict(zip(lobby_type_df['id'], lobby_type_df['name']))\n",
    "df['game_mode'].replace(dict_game_mode, inplace=True)\n",
    "df['lobby_type'].replace(dict_lobby_type, inplace=True)"
   ]
  },
  {
   "cell_type": "markdown",
   "id": "35793a24",
   "metadata": {},
   "source": [
    "### Entendendo as distribuições"
   ]
  },
  {
   "cell_type": "code",
   "execution_count": 7,
   "id": "9d21d635",
   "metadata": {},
   "outputs": [
    {
     "data": {
      "text/html": [
       "<div>\n",
       "<style scoped>\n",
       "    .dataframe tbody tr th:only-of-type {\n",
       "        vertical-align: middle;\n",
       "    }\n",
       "\n",
       "    .dataframe tbody tr th {\n",
       "        vertical-align: top;\n",
       "    }\n",
       "\n",
       "    .dataframe thead th {\n",
       "        text-align: right;\n",
       "    }\n",
       "</style>\n",
       "<table border=\"1\" class=\"dataframe\">\n",
       "  <thead>\n",
       "    <tr style=\"text-align: right;\">\n",
       "      <th></th>\n",
       "      <th>game_mode</th>\n",
       "    </tr>\n",
       "  </thead>\n",
       "  <tbody>\n",
       "    <tr>\n",
       "      <th>game_mode_all_draft</th>\n",
       "      <td>38974</td>\n",
       "    </tr>\n",
       "    <tr>\n",
       "      <th>game_mode_random_draft</th>\n",
       "      <td>5837</td>\n",
       "    </tr>\n",
       "    <tr>\n",
       "      <th>game_mode_single_draft</th>\n",
       "      <td>987</td>\n",
       "    </tr>\n",
       "    <tr>\n",
       "      <th>game_mode_captains_mode</th>\n",
       "      <td>202</td>\n",
       "    </tr>\n",
       "  </tbody>\n",
       "</table>\n",
       "</div>"
      ],
      "text/plain": [
       "                         game_mode\n",
       "game_mode_all_draft          38974\n",
       "game_mode_random_draft        5837\n",
       "game_mode_single_draft         987\n",
       "game_mode_captains_mode        202"
      ]
     },
     "metadata": {},
     "output_type": "display_data"
    },
    {
     "data": {
      "image/png": "[encoded data removed]",
      "text/plain": [
       "<Figure size 432x288 with 1 Axes>"
      ]
     },
     "metadata": {
      "needs_background": "light"
     },
     "output_type": "display_data"
    }
   ],
   "source": [
    "g_mode = df['game_mode'].value_counts()\n",
    "plt.barh(y=g_mode.index, width=g_mode)\n",
    "display(pd.DataFrame(g_mode))"
   ]
  },
  {
   "cell_type": "code",
   "execution_count": 8,
   "id": "d85338ba",
   "metadata": {},
   "outputs": [
    {
     "data": {
      "text/html": [
       "<div>\n",
       "<style scoped>\n",
       "    .dataframe tbody tr th:only-of-type {\n",
       "        vertical-align: middle;\n",
       "    }\n",
       "\n",
       "    .dataframe tbody tr th {\n",
       "        vertical-align: top;\n",
       "    }\n",
       "\n",
       "    .dataframe thead th {\n",
       "        text-align: right;\n",
       "    }\n",
       "</style>\n",
       "<table border=\"1\" class=\"dataframe\">\n",
       "  <thead>\n",
       "    <tr style=\"text-align: right;\">\n",
       "      <th></th>\n",
       "      <th>lobby_type</th>\n",
       "    </tr>\n",
       "  </thead>\n",
       "  <tbody>\n",
       "    <tr>\n",
       "      <th>lobby_type_ranked</th>\n",
       "      <td>36647</td>\n",
       "    </tr>\n",
       "    <tr>\n",
       "      <th>lobby_type_normal</th>\n",
       "      <td>9165</td>\n",
       "    </tr>\n",
       "    <tr>\n",
       "      <th>lobby_type_battle_cup</th>\n",
       "      <td>124</td>\n",
       "    </tr>\n",
       "    <tr>\n",
       "      <th>lobby_type_practice</th>\n",
       "      <td>64</td>\n",
       "    </tr>\n",
       "  </tbody>\n",
       "</table>\n",
       "</div>"
      ],
      "text/plain": [
       "                       lobby_type\n",
       "lobby_type_ranked           36647\n",
       "lobby_type_normal            9165\n",
       "lobby_type_battle_cup         124\n",
       "lobby_type_practice            64"
      ]
     },
     "metadata": {},
     "output_type": "display_data"
    },
    {
     "data": {
      "image/png": "[encoded data removed]",
      "text/plain": [
       "<Figure size 432x288 with 1 Axes>"
      ]
     },
     "metadata": {
      "needs_background": "light"
     },
     "output_type": "display_data"
    }
   ],
   "source": [
    "l_type = df['lobby_type'].value_counts()\n",
    "plt.barh(y=l_type.index, width=l_type)\n",
    "display(pd.DataFrame(l_type))"
   ]
  },
  {
   "cell_type": "markdown",
   "id": "d279690e",
   "metadata": {},
   "source": [
    "### Análise\n",
    "\n",
    "Devido ao alto número de amostras, selecionarei apenas partidas com:\n",
    "- `game_mode`: game_mode_all_draft\t\n",
    "- `lobby_type`: lobby_type_ranked\t"
   ]
  },
  {
   "cell_type": "code",
   "execution_count": 9,
   "id": "d67af94a",
   "metadata": {},
   "outputs": [
    {
     "name": "stdout",
     "output_type": "stream",
     "text": [
      "Formato do dataframe: (46000, 15)\n",
      "Formato do dataframe após remoção: (32293, 15)\n"
     ]
    }
   ],
   "source": [
    "print('Formato do dataframe:', df.shape)\n",
    "df = df[df['game_mode'] == 'game_mode_all_draft']\n",
    "df = df[df['lobby_type'] == 'lobby_type_ranked']\n",
    "print('Formato do dataframe após remoção:', df.shape)"
   ]
  },
  {
   "cell_type": "markdown",
   "id": "12f6d831",
   "metadata": {},
   "source": [
    "### Vitórias por time"
   ]
  },
  {
   "cell_type": "code",
   "execution_count": 10,
   "id": "d8a5969d",
   "metadata": {},
   "outputs": [
    {
     "data": {
      "image/png": "[encoded data removed]",
      "text/plain": [
       "<Figure size 432x288 with 1 Axes>"
      ]
     },
     "metadata": {
      "needs_background": "light"
     },
     "output_type": "display_data"
    },
    {
     "name": "stdout",
     "output_type": "stream",
     "text": [
      "Percentual:\n"
     ]
    },
    {
     "data": {
      "text/plain": [
       "1    0.529588\n",
       "0    0.470412\n",
       "Name: radiant_win, dtype: float64"
      ]
     },
     "execution_count": 10,
     "metadata": {},
     "output_type": "execute_result"
    }
   ],
   "source": [
    "df['radiant_win'].hist()\n",
    "plt.title('Comparação de vitórias por time')\n",
    "plt.xticks([0,1],['Dire Win', 'Radiant Win'])\n",
    "plt.show()\n",
    "\n",
    "print('Percentual:')\n",
    "df['radiant_win'].value_counts(normalize=True)"
   ]
  },
  {
   "cell_type": "markdown",
   "id": "5bde8a0b",
   "metadata": {},
   "source": [
    "---\n",
    "## Transformar dados para o treinamento\n",
    "\n",
    "As seguintes colunas serão removidas:\n",
    "- `game_mode`\n",
    "- `lobby_type`"
   ]
  },
  {
   "cell_type": "code",
   "execution_count": 11,
   "id": "cc4c52db",
   "metadata": {},
   "outputs": [
    {
     "name": "stdout",
     "output_type": "stream",
     "text": [
      "Formato do dataframe: (32293, 15)\n",
      "Formato do dataframe após remover colunas: (32293, 13)\n"
     ]
    }
   ],
   "source": [
    "print('Formato do dataframe:', df.shape)\n",
    "columns_to_drop = ['game_mode','lobby_type']\n",
    "df.drop(columns=columns_to_drop, inplace=True)\n",
    "print('Formato do dataframe após remover colunas:', df.shape)"
   ]
  },
  {
   "cell_type": "markdown",
   "id": "10b54a2f",
   "metadata": {},
   "source": [
    "---\n",
    "## Separar dados para treinamento"
   ]
  },
  {
   "cell_type": "code",
   "execution_count": 16,
   "id": "726f0d68",
   "metadata": {},
   "outputs": [],
   "source": [
    "colum_names = df.columns\n",
    "\n",
    "y_column = ['radiant_win']\n",
    "X_columns = set(colum_names) - set(y_column)\n",
    "\n",
    "X = df[X_columns]\n",
    "y = df[y_column[0]].values\n"
   ]
  },
  {
   "cell_type": "markdown",
   "id": "04427683",
   "metadata": {},
   "source": [
    "**Configurar os folds para a validação cruzada**"
   ]
  },
  {
   "cell_type": "code",
   "execution_count": 17,
   "id": "8f509006",
   "metadata": {},
   "outputs": [],
   "source": [
    "n_folds = 5\n",
    "repeated_cv = 3\n",
    "cv = RepeatedStratifiedKFold(n_splits=n_folds, n_repeats=repeated_cv, random_state=1)"
   ]
  },
  {
   "cell_type": "markdown",
   "id": "9d3c2290",
   "metadata": {},
   "source": [
    "---\n",
    "## Treinar modelos de classificação"
   ]
  },
  {
   "cell_type": "markdown",
   "id": "317ca38c",
   "metadata": {},
   "source": [
    "### Declarando modelos"
   ]
  },
  {
   "cell_type": "code",
   "execution_count": 18,
   "id": "fe1cb490",
   "metadata": {},
   "outputs": [],
   "source": [
    "model_names = ['KNN', 'Random Forest', 'Rede Neural', 'XGBoost', 'Naive Bayes']\n",
    "scores = [None] * len(model_names)\n",
    "\n",
    "# Declaring models\n",
    "KNN_model = KNeighborsClassifier(n_neighbors=5)\n",
    "RdnForest_model = RandomForestClassifier(n_estimators=300)\n",
    "RNN_model = MLPClassifier()\n",
    "XGB_model = XGBClassifier(n_estimators=300)\n",
    "Naive_model = GaussianNB()\n",
    "\n",
    "models_lst = [KNN_model, RdnForest_model, RNN_model, XGB_model, Naive_model]"
   ]
  },
  {
   "cell_type": "markdown",
   "id": "0fce3c54",
   "metadata": {},
   "source": [
    "### Treinamento"
   ]
  },
  {
   "cell_type": "code",
   "execution_count": 19,
   "id": "1cbbdf16",
   "metadata": {},
   "outputs": [
    {
     "name": "stdout",
     "output_type": "stream",
     "text": [
      "---------\n",
      "Training model:  KNN\n",
      "Model KNN mean score: 0.52\n",
      "---------\n",
      "Training model:  Random Forest\n",
      "Model Random Forest mean score: 0.54\n",
      "---------\n",
      "Training model:  Rede Neural\n",
      "Model Rede Neural mean score: 0.49\n",
      "---------\n",
      "Training model:  XGBoost\n",
      "Model XGBoost mean score: 0.53\n",
      "---------\n",
      "Training model:  Naive Bayes\n",
      "Model Naive Bayes mean score: 0.53\n"
     ]
    }
   ],
   "source": [
    "for i, model in enumerate(models_lst):\n",
    "    print('---------\\nTraining model: ', model_names[i])\n",
    "    scores[i] = cross_val_score(model, X, y, scoring='accuracy', cv=cv, n_jobs=-1)\n",
    "    print('Model '+model_names[i]+ ' mean score:', round(np.mean(scores[i]),2))"
   ]
  },
  {
   "cell_type": "markdown",
   "id": "760d9c9a",
   "metadata": {},
   "source": [
    "---\n",
    "## Mostrando e salvando Resultados"
   ]
  },
  {
   "cell_type": "markdown",
   "id": "6e71142d",
   "metadata": {},
   "source": [
    "### Salvando resultados dos modelos"
   ]
  },
  {
   "cell_type": "code",
   "execution_count": 20,
   "id": "d4c711d3",
   "metadata": {},
   "outputs": [
    {
     "data": {
      "text/html": [
       "<div>\n",
       "<style scoped>\n",
       "    .dataframe tbody tr th:only-of-type {\n",
       "        vertical-align: middle;\n",
       "    }\n",
       "\n",
       "    .dataframe tbody tr th {\n",
       "        vertical-align: top;\n",
       "    }\n",
       "\n",
       "    .dataframe thead th {\n",
       "        text-align: right;\n",
       "    }\n",
       "</style>\n",
       "<table border=\"1\" class=\"dataframe\">\n",
       "  <thead>\n",
       "    <tr style=\"text-align: right;\">\n",
       "      <th></th>\n",
       "      <th>KNN</th>\n",
       "      <th>Random Forest</th>\n",
       "      <th>Rede Neural</th>\n",
       "      <th>XGBoost</th>\n",
       "      <th>Naive Bayes</th>\n",
       "    </tr>\n",
       "  </thead>\n",
       "  <tbody>\n",
       "    <tr>\n",
       "      <th>0</th>\n",
       "      <td>0.509212</td>\n",
       "      <td>0.532900</td>\n",
       "      <td>0.527946</td>\n",
       "      <td>0.530423</td>\n",
       "      <td>0.529494</td>\n",
       "    </tr>\n",
       "    <tr>\n",
       "      <th>1</th>\n",
       "      <td>0.503948</td>\n",
       "      <td>0.537545</td>\n",
       "      <td>0.491872</td>\n",
       "      <td>0.525314</td>\n",
       "      <td>0.541725</td>\n",
       "    </tr>\n",
       "    <tr>\n",
       "      <th>2</th>\n",
       "      <td>0.511999</td>\n",
       "      <td>0.523765</td>\n",
       "      <td>0.470042</td>\n",
       "      <td>0.541880</td>\n",
       "      <td>0.524849</td>\n",
       "    </tr>\n",
       "    <tr>\n",
       "      <th>3</th>\n",
       "      <td>0.504491</td>\n",
       "      <td>0.542583</td>\n",
       "      <td>0.470889</td>\n",
       "      <td>0.525550</td>\n",
       "      <td>0.536699</td>\n",
       "    </tr>\n",
       "    <tr>\n",
       "      <th>4</th>\n",
       "      <td>0.528182</td>\n",
       "      <td>0.543822</td>\n",
       "      <td>0.470889</td>\n",
       "      <td>0.527718</td>\n",
       "      <td>0.537008</td>\n",
       "    </tr>\n",
       "    <tr>\n",
       "      <th>5</th>\n",
       "      <td>0.511534</td>\n",
       "      <td>0.541415</td>\n",
       "      <td>0.470506</td>\n",
       "      <td>0.530732</td>\n",
       "      <td>0.535532</td>\n",
       "    </tr>\n",
       "    <tr>\n",
       "      <th>6</th>\n",
       "      <td>0.522836</td>\n",
       "      <td>0.538783</td>\n",
       "      <td>0.487846</td>\n",
       "      <td>0.534603</td>\n",
       "      <td>0.536151</td>\n",
       "    </tr>\n",
       "    <tr>\n",
       "      <th>7</th>\n",
       "      <td>0.518346</td>\n",
       "      <td>0.530113</td>\n",
       "      <td>0.470351</td>\n",
       "      <td>0.528255</td>\n",
       "      <td>0.531816</td>\n",
       "    </tr>\n",
       "    <tr>\n",
       "      <th>8</th>\n",
       "      <td>0.518582</td>\n",
       "      <td>0.526479</td>\n",
       "      <td>0.471199</td>\n",
       "      <td>0.527253</td>\n",
       "      <td>0.530040</td>\n",
       "    </tr>\n",
       "    <tr>\n",
       "      <th>9</th>\n",
       "      <td>0.517498</td>\n",
       "      <td>0.537628</td>\n",
       "      <td>0.526788</td>\n",
       "      <td>0.529111</td>\n",
       "      <td>0.540260</td>\n",
       "    </tr>\n",
       "    <tr>\n",
       "      <th>10</th>\n",
       "      <td>0.512308</td>\n",
       "      <td>0.529803</td>\n",
       "      <td>0.529649</td>\n",
       "      <td>0.533984</td>\n",
       "      <td>0.530113</td>\n",
       "    </tr>\n",
       "    <tr>\n",
       "      <th>11</th>\n",
       "      <td>0.518966</td>\n",
       "      <td>0.551479</td>\n",
       "      <td>0.472364</td>\n",
       "      <td>0.540176</td>\n",
       "      <td>0.536306</td>\n",
       "    </tr>\n",
       "    <tr>\n",
       "      <th>12</th>\n",
       "      <td>0.525159</td>\n",
       "      <td>0.529339</td>\n",
       "      <td>0.529184</td>\n",
       "      <td>0.526707</td>\n",
       "      <td>0.534293</td>\n",
       "    </tr>\n",
       "    <tr>\n",
       "      <th>13</th>\n",
       "      <td>0.519046</td>\n",
       "      <td>0.530969</td>\n",
       "      <td>0.528492</td>\n",
       "      <td>0.530969</td>\n",
       "      <td>0.537163</td>\n",
       "    </tr>\n",
       "    <tr>\n",
       "      <th>14</th>\n",
       "      <td>0.513781</td>\n",
       "      <td>0.533292</td>\n",
       "      <td>0.478786</td>\n",
       "      <td>0.524775</td>\n",
       "      <td>0.542583</td>\n",
       "    </tr>\n",
       "  </tbody>\n",
       "</table>\n",
       "</div>"
      ],
      "text/plain": [
       "         KNN  Random Forest  Rede Neural   XGBoost  Naive Bayes\n",
       "0   0.509212       0.532900     0.527946  0.530423     0.529494\n",
       "1   0.503948       0.537545     0.491872  0.525314     0.541725\n",
       "2   0.511999       0.523765     0.470042  0.541880     0.524849\n",
       "3   0.504491       0.542583     0.470889  0.525550     0.536699\n",
       "4   0.528182       0.543822     0.470889  0.527718     0.537008\n",
       "5   0.511534       0.541415     0.470506  0.530732     0.535532\n",
       "6   0.522836       0.538783     0.487846  0.534603     0.536151\n",
       "7   0.518346       0.530113     0.470351  0.528255     0.531816\n",
       "8   0.518582       0.526479     0.471199  0.527253     0.530040\n",
       "9   0.517498       0.537628     0.526788  0.529111     0.540260\n",
       "10  0.512308       0.529803     0.529649  0.533984     0.530113\n",
       "11  0.518966       0.551479     0.472364  0.540176     0.536306\n",
       "12  0.525159       0.529339     0.529184  0.526707     0.534293\n",
       "13  0.519046       0.530969     0.528492  0.530969     0.537163\n",
       "14  0.513781       0.533292     0.478786  0.524775     0.542583"
      ]
     },
     "metadata": {},
     "output_type": "display_data"
    }
   ],
   "source": [
    "result_df = pd.DataFrame()\n",
    "for i, name in enumerate(model_names):\n",
    "    series_result = pd.DataFrame(scores[i], columns=[name])\n",
    "    result_df = pd.concat([result_df, series_result], axis=1)\n",
    "    \n",
    "display(result_df)\n",
    "result_df.to_csv(output_savepath+'score_exp02.csv', index=False)"
   ]
  },
  {
   "cell_type": "markdown",
   "id": "9ce03906",
   "metadata": {},
   "source": [
    "### Gráfico de comparação"
   ]
  },
  {
   "cell_type": "code",
   "execution_count": 21,
   "id": "a0d1f08d",
   "metadata": {},
   "outputs": [
    {
     "data": {
      "image/png": "[encoded data removed]",
      "text/plain": [
       "<Figure size 432x288 with 1 Axes>"
      ]
     },
     "metadata": {
      "needs_background": "light"
     },
     "output_type": "display_data"
    }
   ],
   "source": [
    "width_plot = result_df.mean().sort_values(ascending=False)\n",
    "\n",
    "x_plot = width_plot.index.values\n",
    "\n",
    "plt.barh(y=x_plot, width=width_plot)\n",
    "plt.title('Comparação da Acurácia Média de cada Algoritmo')\n",
    "plt.xlabel('Acurácia média')\n",
    "plt.tight_layout()\n",
    "\n",
    "plt.savefig(output_savepath+'comparacao_acuracia_modelos_exp02')"
   ]
  },
  {
   "cell_type": "markdown",
   "id": "156a9610",
   "metadata": {},
   "source": [
    "---\n",
    "## Conclusão e próximos passos\n",
    "\n",
    "Apenas o modelo Random Forest obteve uma acurácia média maior que 53%, isto indica que a seleção de um único modo de jogo e um único lobby_type não foi o suficiente para melhorar os resultados. Os próximos passos devem consistir de:\n",
    "\n",
    "- Fazer um modelo para cada 'tier' de jogadores, usando o mmr médio para esta filtragem."
   ]
  }
 ],
 "metadata": {
  "kernelspec": {
   "display_name": "Python 3",
   "language": "python",
   "name": "python3"
  },
  "language_info": {
   "codemirror_mode": {
    "name": "ipython",
    "version": 3
   },
   "file_extension": ".py",
   "mimetype": "text/x-python",
   "name": "python",
   "nbconvert_exporter": "python",
   "pygments_lexer": "ipython3",
   "version": "3.8.8"
  },
  "latex_envs": {
   "LaTeX_envs_menu_present": true,
   "autoclose": false,
   "autocomplete": true,
   "bibliofile": "biblio.bib",
   "cite_by": "apalike",
   "current_citInitial": 1,
   "eqLabelWithNumbers": true,
   "eqNumInitial": 1,
   "hotkeys": {
    "equation": "Ctrl-E",
    "itemize": "Ctrl-I"
   },
   "labels_anchors": false,
   "latex_user_defs": false,
   "report_style_numbering": false,
   "user_envs_cfg": false
  },
  "toc": {
   "base_numbering": 1,
   "nav_menu": {},
   "number_sections": true,
   "sideBar": true,
   "skip_h1_title": true,
   "title_cell": "Table of Contents",
   "title_sidebar": "Contents",
   "toc_cell": true,
   "toc_position": {
    "height": "757px",
    "left": "1536px",
    "top": "134px",
    "width": "384px"
   },
   "toc_section_display": true,
   "toc_window_display": true
  }
 },
 "nbformat": 4,
 "nbformat_minor": 5
}
